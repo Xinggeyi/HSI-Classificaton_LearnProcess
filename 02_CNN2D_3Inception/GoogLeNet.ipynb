{
 "metadata": {
  "language_info": {
   "codemirror_mode": {
    "name": "ipython",
    "version": 3
   },
   "file_extension": ".py",
   "mimetype": "text/x-python",
   "name": "python",
   "nbconvert_exporter": "python",
   "pygments_lexer": "ipython3",
   "version": "3.8.6-final"
  },
  "orig_nbformat": 2,
  "kernelspec": {
   "name": "python3",
   "display_name": "Python 3"
  }
 },
 "nbformat": 4,
 "nbformat_minor": 2,
 "cells": [
  {
   "cell_type": "code",
   "execution_count": null,
   "metadata": {},
   "outputs": [],
   "source": [
    "# 暂时放弃，十分复杂，效果也不是最好的\n",
    "\n",
    "# 参考\n",
    "https://github.com/WZMIAOMIAO/deep-learning-for-image-processing"
   ]
  }
 ]
}