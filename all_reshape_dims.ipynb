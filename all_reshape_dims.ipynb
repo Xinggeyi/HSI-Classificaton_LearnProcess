{
 "metadata": {
  "language_info": {
   "codemirror_mode": {
    "name": "ipython",
    "version": 3
   },
   "file_extension": ".py",
   "mimetype": "text/x-python",
   "name": "python",
   "nbconvert_exporter": "python",
   "pygments_lexer": "ipython3",
   "version": "3.7.9-final"
  },
  "orig_nbformat": 2,
  "kernelspec": {
   "name": "tensorflow",
   "display_name": "tensorflow"
  }
 },
 "nbformat": 4,
 "nbformat_minor": 2,
 "cells": [
  {
   "source": [
    "# 总结一下numpy中所有有关与改变array形状的操作\n",
    "- reshape   ---   resize  # 改变形状\n",
    "- 元祖\n",
    "- expand_dim   # 增加一个轴\n",
    "- np.newaxis   # 增加一个轴\n",
    "\n",
    "- ravel   ---   flatten  # 展平\n",
    "- squeeze -- 压缩维度为一的轴\n",
    "- transpose  # 转置"
   ],
   "cell_type": "markdown",
   "metadata": {}
  },
  {
   "source": [],
   "cell_type": "markdown",
   "metadata": {}
  },
  {
   "cell_type": "code",
   "execution_count": 3,
   "metadata": {},
   "outputs": [],
   "source": [
    "import numpy as np"
   ]
  },
  {
   "cell_type": "code",
   "execution_count": 35,
   "metadata": {},
   "outputs": [
    {
     "output_type": "execute_result",
     "data": {
      "text/plain": [
       "(12,)"
      ]
     },
     "metadata": {},
     "execution_count": 35
    }
   ],
   "source": [
    "a = np.arange(12)\n",
    "a.shape   # 1 维"
   ]
  },
  {
   "cell_type": "code",
   "execution_count": 36,
   "metadata": {},
   "outputs": [
    {
     "output_type": "execute_result",
     "data": {
      "text/plain": [
       "array([[[ 0]],\n",
       "\n",
       "       [[ 1]],\n",
       "\n",
       "       [[ 2]],\n",
       "\n",
       "       [[ 3]],\n",
       "\n",
       "       [[ 4]],\n",
       "\n",
       "       [[ 5]],\n",
       "\n",
       "       [[ 6]],\n",
       "\n",
       "       [[ 7]],\n",
       "\n",
       "       [[ 8]],\n",
       "\n",
       "       [[ 9]],\n",
       "\n",
       "       [[10]],\n",
       "\n",
       "       [[11]]])"
      ]
     },
     "metadata": {},
     "execution_count": 36
    }
   ],
   "source": [
    "# 第一种 reshape\n",
    "\n",
    "# 不管列数，行位为3\n",
    "a.reshape(3,-1)   # 3维\n",
    "a.reshape(12, 1) # 2 维\n",
    "a.reshape(12,1,1) # 3 维"
   ]
  },
  {
   "cell_type": "code",
   "execution_count": 37,
   "metadata": {},
   "outputs": [
    {
     "output_type": "stream",
     "name": "stdout",
     "text": [
      "(1, 12)\n(12, 1)\n(12, 1)\n(3, 1, 4)\n"
     ]
    }
   ],
   "source": [
    "# 如果需要在数组上增加维度,输入需要增添维度的轴即可\n",
    "# axis=0代表扩展列, axis=-1代表扩展最后一个参数\n",
    "a_add_dimension = np.expand_dims(a,axis=0)\n",
    "print(a_add_dimension.shape)   # 2 维\n",
    "\n",
    "a_add_dimension = np.expand_dims(a,axis=1)\n",
    "print(a_add_dimension.shape)   # 2 维\n",
    "\n",
    "a_add_dimension = np.expand_dims(a,axis=-1)\n",
    "print(a_add_dimension.shape)   # 2 维\n",
    "\n",
    "# 不管列数，行位为3\n",
    "a_add_dimension = a.reshape(3,-1)   # 3维\n",
    "a_add_dimension = np.expand_dims(a_add_dimension,axis=1)\n",
    "print(a_add_dimension.shape)"
   ]
  },
  {
   "cell_type": "code",
   "execution_count": 38,
   "metadata": {},
   "outputs": [
    {
     "output_type": "execute_result",
     "data": {
      "text/plain": [
       "(12, 1)"
      ]
     },
     "metadata": {},
     "execution_count": 38
    }
   ],
   "source": [
    "a_new = a[:,np.newaxis]\n",
    "a_new.shape"
   ]
  },
  {
   "cell_type": "code",
   "execution_count": 39,
   "metadata": {},
   "outputs": [
    {
     "output_type": "execute_result",
     "data": {
      "text/plain": [
       "(1, 12)"
      ]
     },
     "metadata": {},
     "execution_count": 39
    }
   ],
   "source": [
    "a_new = a[np.newaxis, :]\n",
    "a_new.shape"
   ]
  },
  {
   "cell_type": "code",
   "execution_count": 40,
   "metadata": {},
   "outputs": [
    {
     "output_type": "execute_result",
     "data": {
      "text/plain": [
       "(12,)"
      ]
     },
     "metadata": {},
     "execution_count": 40
    }
   ],
   "source": [
    "a = np.arange(12).reshape(3,4)\n",
    "a.ravel().shape  # "
   ]
  },
  {
   "cell_type": "code",
   "execution_count": 41,
   "metadata": {},
   "outputs": [
    {
     "output_type": "execute_result",
     "data": {
      "text/plain": [
       "(12,)"
      ]
     },
     "metadata": {},
     "execution_count": 41
    }
   ],
   "source": [
    "# flatten函数 也是将多维数组展平，与ravel函数的功能相同，\n",
    "# 不过flatten函数会请求分配内存来保存结果，而ravel函数只是返回数组的一个视图(view)\n",
    "a = np.arange(12).reshape(3,4)\n",
    "a.flatten().shape  # "
   ]
  },
  {
   "cell_type": "code",
   "execution_count": 5,
   "metadata": {},
   "outputs": [
    {
     "output_type": "stream",
     "name": "stdout",
     "text": [
      "[[ 0  1  2  3]\n [ 4  5  6  7]\n [ 8  9 10 11]]\n"
     ]
    }
   ],
   "source": [
    "a = np.arange(12).reshape(3,4)\n",
    "a.shape = (3,4)\n",
    "print(a)"
   ]
  },
  {
   "cell_type": "code",
   "execution_count": 7,
   "metadata": {},
   "outputs": [
    {
     "output_type": "stream",
     "name": "stdout",
     "text": [
      "[[ 0  4  8]\n [ 1  5  9]\n [ 2  6 10]\n [ 3  7 11]]\n"
     ]
    }
   ],
   "source": [
    "a = np.arange(12).reshape(3,4)\n",
    "d = a.transpose()   # 转置\n",
    "print(d)"
   ]
  },
  {
   "cell_type": "code",
   "execution_count": 12,
   "metadata": {},
   "outputs": [
    {
     "output_type": "stream",
     "name": "stdout",
     "text": [
      "[ 0  1  2  3  4  5  6  7  8  9 10 11]\n"
     ]
    }
   ],
   "source": [
    "# resize函数 和reshape函数的功能一样，但resize会直接修改所操作的数组\n",
    "a = np.arange(12).reshape(3,4)\n",
    "a.resize((12,))\n",
    "print(a)"
   ]
  },
  {
   "cell_type": "code",
   "execution_count": 15,
   "metadata": {},
   "outputs": [
    {
     "output_type": "execute_result",
     "data": {
      "text/plain": [
       "(3, 4)"
      ]
     },
     "metadata": {},
     "execution_count": 15
    }
   ],
   "source": [
    "# 压缩维度移除轴，默认压缩所有为1的维度\n",
    "a = np.arange(12).reshape(3,4,1,1,1)\n",
    "b = a.squeeze()\n",
    "b.shape"
   ]
  },
  {
   "cell_type": "code",
   "execution_count": 18,
   "metadata": {},
   "outputs": [
    {
     "output_type": "execute_result",
     "data": {
      "text/plain": [
       "(3, 4, 1, 1)"
      ]
     },
     "metadata": {},
     "execution_count": 18
    }
   ],
   "source": [
    "# 只压缩某一个维度为一的轴\n",
    "a = np.arange(12).reshape(3,4,1,1,1)\n",
    "b = a.squeeze(axis=2)\n",
    "b.shape"
   ]
  },
  {
   "source": [
    "# tensorflow常用的张量tensor操作的总结\n",
    "- tf.concat(data,concat_dim)  # 连接\n",
    "- tf.squeeze(input, squeeze_dims=None, name=None)  # 降维\n",
    "- tf.expand_dims(input, axis=None, name=None, dim=None)  # 升维\n",
    "- tf.pad(\n",
    "    tensor,\n",
    "    paddings,\n",
    "    mode='CONSTANT',\n",
    "    name=None,\n",
    "    constant_values=0\n",
    ")   # 在某个轴的周围增加0"
   ],
   "cell_type": "markdown",
   "metadata": {}
  },
  {
   "cell_type": "code",
   "execution_count": 19,
   "metadata": {},
   "outputs": [],
   "source": [
    "import tensorflow as tf"
   ]
  },
  {
   "cell_type": "code",
   "execution_count": 21,
   "metadata": {},
   "outputs": [
    {
     "output_type": "execute_result",
     "data": {
      "text/plain": [
       "TensorShape([2, 6, 3])"
      ]
     },
     "metadata": {},
     "execution_count": 21
    }
   ],
   "source": [
    "# data:[d1,d2..]是一个列表，把d1,d2..的数据按照concat_dim合并起来，不增加也不减少维度\n",
    "# 合并的前提是：这些数据除了concat_dim这一个维度外，其他维度都要完全相等才可以。\n",
    "\n",
    "t1=tf.ones([2,2,3])\n",
    "t2=tf.zeros([2,3,3])\n",
    "t3=tf.ones([2,1,3])\n",
    "\n",
    "a=tf.concat([t1, t2,t3],1)  # 在1维拼接\n",
    "a.shape"
   ]
  },
  {
   "cell_type": "code",
   "execution_count": 35,
   "metadata": {},
   "outputs": [
    {
     "output_type": "stream",
     "name": "stdout",
     "text": [
      "tf.Tensor(\n[[[1.]\n  [1.]\n  [1.]\n  [1.]]\n\n [[1.]\n  [1.]\n  [1.]\n  [1.]]\n\n [[1.]\n  [1.]\n  [1.]\n  [1.]]], shape=(3, 4, 1), dtype=float32)\n"
     ]
    },
    {
     "output_type": "execute_result",
     "data": {
      "text/plain": [
       "<tf.Tensor: shape=(3, 4), dtype=float32, numpy=\n",
       "array([[1., 1., 1., 1.],\n",
       "       [1., 1., 1., 1.],\n",
       "       [1., 1., 1., 1.]], dtype=float32)>"
      ]
     },
     "metadata": {},
     "execution_count": 35
    }
   ],
   "source": [
    "# 这个是一个降维操作，当squeeze_dims=None时，会把所有大小是1的维度，删除。当squeeze_dims不为空时，删除相应axis对应的维度（但这个axis的大小必须为1，否则会报错。）\n",
    "\n",
    "# 与numpy相同\n",
    "a = tf.ones([3, 4, 1])\n",
    "print(a)\n",
    "b = tf.squeeze(a)\n",
    "b"
   ]
  },
  {
   "cell_type": "code",
   "execution_count": 43,
   "metadata": {},
   "outputs": [
    {
     "output_type": "stream",
     "name": "stdout",
     "text": [
      "tf.Tensor(\n[[[[1.]\n   [1.]\n   [1.]\n   [1.]]\n\n  [[1.]\n   [1.]\n   [1.]\n   [1.]]\n\n  [[1.]\n   [1.]\n   [1.]\n   [1.]]]], shape=(1, 3, 4, 1), dtype=float32)\ntf.Tensor(\n[[[[1.]\n   [1.]\n   [1.]\n   [1.]]\n\n  [[1.]\n   [1.]\n   [1.]\n   [1.]]\n\n  [[1.]\n   [1.]\n   [1.]\n   [1.]]]], shape=(1, 3, 4, 1), dtype=float32)\n"
     ]
    },
    {
     "output_type": "execute_result",
     "data": {
      "text/plain": [
       "<tf.Tensor: shape=(2, 3, 4, 2), dtype=float32, numpy=\n",
       "array([[[[2., 2.],\n",
       "         [2., 2.],\n",
       "         [2., 2.],\n",
       "         [2., 2.]],\n",
       "\n",
       "        [[2., 2.],\n",
       "         [2., 2.],\n",
       "         [2., 2.],\n",
       "         [2., 2.]],\n",
       "\n",
       "        [[2., 2.],\n",
       "         [2., 2.],\n",
       "         [2., 2.],\n",
       "         [2., 2.]]],\n",
       "\n",
       "\n",
       "       [[[2., 2.],\n",
       "         [2., 2.],\n",
       "         [2., 2.],\n",
       "         [2., 2.]],\n",
       "\n",
       "        [[2., 2.],\n",
       "         [2., 2.],\n",
       "         [2., 2.],\n",
       "         [2., 2.]],\n",
       "\n",
       "        [[2., 2.],\n",
       "         [2., 2.],\n",
       "         [2., 2.],\n",
       "         [2., 2.]]]], dtype=float32)>"
      ]
     },
     "metadata": {},
     "execution_count": 43
    }
   ],
   "source": [
    "# 在axis位置，增加一个大小为1的维度\n",
    "# 这个在做广播时非常有用，比如想让维度是[2,3,4,2]和[3,4]的张量相加，由于维度不匹配，没有办法广播。[3,4]应该扩充维度至[1,3,4,1]。\n",
    "\n",
    "t1 = tf.ones([3,4])\n",
    "t2 = tf.ones([2,3,4,2])\n",
    "\n",
    "t1 = tf.expand_dims(t1, axis=0)  # 只能一个一个加\n",
    "print(t3)\n",
    "t1 = tf.expand_dims(t1, axis=3)\n",
    "print(t3)\n",
    "t = t1 + t2\n",
    "t"
   ]
  },
  {
   "cell_type": "code",
   "execution_count": 26,
   "metadata": {},
   "outputs": [
    {
     "output_type": "execute_result",
     "data": {
      "text/plain": [
       "<tf.Tensor: shape=(14,), dtype=float32, numpy=\n",
       "array([0., 1., 1., 1., 1., 1., 1., 1., 1., 1., 1., 1., 1., 0.],\n",
       "      dtype=float32)>"
      ]
     },
     "metadata": {},
     "execution_count": 26
    }
   ],
   "source": [
    "# 对一个一维向量padding时，padding = [[U, D]],其中U头填充的个数，D为尾填充的个数。\n",
    "t1 = tf.ones(12)\n",
    "tf.pad(t1, [[1,1]])  # 后面必须是二维的"
   ]
  },
  {
   "cell_type": "code",
   "execution_count": null,
   "metadata": {},
   "outputs": [],
   "source": []
  }
 ]
}