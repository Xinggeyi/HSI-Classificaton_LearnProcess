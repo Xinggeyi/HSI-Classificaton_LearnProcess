{
 "metadata": {
  "language_info": {
   "codemirror_mode": {
    "name": "ipython",
    "version": 3
   },
   "file_extension": ".py",
   "mimetype": "text/x-python",
   "name": "python",
   "nbconvert_exporter": "python",
   "pygments_lexer": "ipython3",
   "version": 3
  },
  "orig_nbformat": 2
 },
 "nbformat": 4,
 "nbformat_minor": 2,
 "cells": [
  {
   "cell_type": "code",
   "execution_count": null,
   "metadata": {},
   "outputs": [],
   "source": [
    "import time"
   ]
  },
  {
   "cell_type": "code",
   "execution_count": null,
   "metadata": {},
   "outputs": [],
   "source": [
    "starttime = time.time()\n",
    "\n",
    "height = 100\n",
    "width = 100\n",
    "k = 0\n",
    "outputs = np.zeros((height,width))\n",
    "for i in range(height):\n",
    "    for j in range(width): \n",
    "        for k in range(10000):\n",
    "            outputs[i][j] = 1\n",
    "\n",
    "endtime = time.time()\n",
    "dtime = endtime - starttime\n",
    "print(\"程序运行时间：%.8s s\" % dtime)  #显示到微秒"
   ]
  },
  {
   "cell_type": "code",
   "execution_count": null,
   "metadata": {},
   "outputs": [],
   "source": [
    "outputs"
   ]
  },
  {
   "cell_type": "code",
   "execution_count": null,
   "metadata": {},
   "outputs": [],
   "source": [
    "starttime = time.time()\n",
    "\n",
    "outputs = list()\n",
    "for i in range(height):\n",
    "    for j in range(width): \n",
    "        outputs.append(2)\n",
    "outputs = np.array(outputs).reshape((height,width))\n",
    "endtime = time.time()\n",
    "dtime = endtime - starttime\n",
    "print(\"程序运行时间：%.8s s\" % dtime)  #显示到微秒"
   ]
  },
  {
   "cell_type": "code",
   "execution_count": null,
   "metadata": {},
   "outputs": [],
   "source": [
    "outputs"
   ]
  }
 ]
}