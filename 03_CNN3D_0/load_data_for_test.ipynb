{
 "metadata": {
  "language_info": {
   "codemirror_mode": {
    "name": "ipython",
    "version": 3
   },
   "file_extension": ".py",
   "mimetype": "text/x-python",
   "name": "python",
   "nbconvert_exporter": "python",
   "pygments_lexer": "ipython3",
   "version": "3.8.6-final"
  },
  "orig_nbformat": 2,
  "kernelspec": {
   "name": "python3",
   "display_name": "Python 3"
  }
 },
 "nbformat": 4,
 "nbformat_minor": 2,
 "cells": [
  {
   "cell_type": "code",
   "execution_count": 1,
   "metadata": {},
   "outputs": [],
   "source": [
    "import numpy as np\n",
    "import tensorflow as tf\n",
    "import scipy.io as sio\n",
    "import os"
   ]
  },
  {
   "cell_type": "code",
   "execution_count": 2,
   "metadata": {},
   "outputs": [],
   "source": [
    "data_path = os.path.join('E:\\Eric_HSI\\hyperspectral_datasets')\n",
    "data = sio.loadmat(os.path.join(data_path, 'Indian_pines_corrected.mat'))\n",
    "labels = sio.loadmat(os.path.join(data_path, 'Indian_pines_gt.mat'))\n",
    "\n",
    "window_size=19\n",
    "input_size=200"
   ]
  },
  {
   "cell_type": "code",
   "execution_count": 3,
   "metadata": {},
   "outputs": [
    {
     "output_type": "stream",
     "name": "stdout",
     "text": [
      "(145, 145, 200)\n"
     ]
    },
    {
     "output_type": "execute_result",
     "data": {
      "text/plain": [
       "(21025, 1)"
      ]
     },
     "metadata": {},
     "execution_count": 3
    }
   ],
   "source": [
    "features = data['data']\n",
    "print(features.shape)\n",
    "# 标签\n",
    "labels = labels['groundT']\n",
    "labels = np.reshape(labels, (-1, 1))   # 把标签变为2维， (21025, 1)\n",
    "labels.shape"
   ]
  },
  {
   "cell_type": "code",
   "execution_count": 4,
   "metadata": {},
   "outputs": [],
   "source": [
    "# 创建一个 (21025, 19, 19, 200) 的数组装数据\n",
    "dataset = np.zeros((labels.shape[0], window_size, window_size, input_size), dtype='float32')\n",
    "\n",
    "# parameter？？\n",
    "parameter_b = np.array([i - window_size // 2 for i in range(window_size)])"
   ]
  },
  {
   "cell_type": "code",
   "execution_count": 5,
   "metadata": {},
   "outputs": [],
   "source": [
    "for i in range(features_shape[0]):\n",
    "    for j in range(features_shape[1]):\n",
    "        index = i * features_shape[1] + j\n",
    "        for p in range(window_size):\n",
    "            for q in range(window_size):\n",
    "                dataset[index][p][q] = \\\n",
    "                    features[(i + parameter_b[p]) % features_shape[0]][(j + parameter_b[q]) % features_shape[1]]"
   ]
  },
  {
   "cell_type": "code",
   "execution_count": 6,
   "metadata": {},
   "outputs": [
    {
     "output_type": "stream",
     "name": "stdout",
     "text": [
      "(21025, 1)\n(10249, 1)\n"
     ]
    }
   ],
   "source": [
    "# 删除所有没有标签的像素\n",
    "print(labels.shape)\n",
    "index = np.where(np.reshape(labels, (-1)) == 0)   # 返回坐标tuple(ndarray)\n",
    "labels = np.delete(labels, index, axis=0)\n",
    "print(labels.shape)"
   ]
  },
  {
   "cell_type": "code",
   "execution_count": 7,
   "metadata": {},
   "outputs": [],
   "source": [
    "tmp = np.unique(labels)   # array([ 0,  1,  2,  3,  4,  5,  6,  7,  8,  9, 10, 11, 12, 13, 14, 15])\n",
    "for i in range(len(labels)):\n",
    "    labels[i][0] = np.where(tmp == labels[i][0])[0][0]  # (array([1], dtype=int64),) 第一个[0]索引出元祖中的ndarray，第二[0]索引出ndarray中的int值,处理后，所有的标签值-1 ，因为本来中标签没用0，但是经过Len(labels)，np.where 定位索引位置，又从0开始，所以标签值-1"
   ]
  },
  {
   "cell_type": "code",
   "execution_count": 8,
   "metadata": {},
   "outputs": [],
   "source": [
    "dataset = np.delete(dataset, index, axis=0)\n",
    "labels = np.reshape(labels, (-1))  # 降维"
   ]
  },
  {
   "cell_type": "code",
   "execution_count": 9,
   "metadata": {},
   "outputs": [
    {
     "output_type": "stream",
     "name": "stdout",
     "text": [
      "dataset_shape:  (10249, 200, 19, 19)\ndataset_shape:  (10249, 200, 19, 19, 1)\n"
     ]
    }
   ],
   "source": [
    "dataset = dataset.swapaxes(1, 3)      # 交换轴\n",
    "print('dataset_shape: ', dataset.shape)\n",
    "\n",
    "\n",
    "dataset = dataset[:, :, :, :, np.newaxis]     # 添加轴channels\n",
    "print('dataset_shape: ', dataset.shape)\n",
    "\n",
    "# before dataset_shape:  (10249, 200, 19, 19)\n",
    "# after dataset_shape:  (10249, 200, 19, 19, 1)\n",
    "# print(Y.shape)  # (10249,)"
   ]
  },
  {
   "cell_type": "code",
   "execution_count": 10,
   "metadata": {},
   "outputs": [],
   "source": [
    "# 标准化\n",
    "dataset = dataset.astype('float32')\n",
    "dataset -= np.mean(dataset)\n",
    "dataset /= np.max(dataset)"
   ]
  },
  {
   "cell_type": "code",
   "execution_count": 11,
   "metadata": {},
   "outputs": [
    {
     "output_type": "execute_result",
     "data": {
      "text/plain": [
       "((10249, 200, 19, 19, 1), (10249,))"
      ]
     },
     "metadata": {},
     "execution_count": 11
    }
   ],
   "source": [
    "dataset.shape, labels.shape"
   ]
  },
  {
   "cell_type": "code",
   "execution_count": 12,
   "metadata": {},
   "outputs": [
    {
     "output_type": "execute_result",
     "data": {
      "text/plain": [
       "(10249,)"
      ]
     },
     "metadata": {},
     "execution_count": 12
    }
   ],
   "source": [
    "labels = np.reshape(labels, (-1))  # 降维\n",
    "labels.shape"
   ]
  },
  {
   "cell_type": "code",
   "execution_count": 13,
   "metadata": {},
   "outputs": [],
   "source": [
    "path_x_all = r\"E:\\Eric_HSI\\excise2\\np_data\\x_all\" + \".npy\"\n",
    "path_y_all = r\"E:\\Eric_HSI\\excise2\\np_data\\y_all\" + \".npy\"\n",
    "\n",
    "np.save(path_x_all, dataset)\n",
    "np.save(path_y_all, labels)"
   ]
  }
 ]
}