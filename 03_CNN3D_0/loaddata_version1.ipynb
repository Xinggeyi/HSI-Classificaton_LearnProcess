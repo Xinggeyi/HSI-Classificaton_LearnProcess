{
 "metadata": {
  "language_info": {
   "codemirror_mode": {
    "name": "ipython",
    "version": 3
   },
   "file_extension": ".py",
   "mimetype": "text/x-python",
   "name": "python",
   "nbconvert_exporter": "python",
   "pygments_lexer": "ipython3",
   "version": "3.8.6-final"
  },
  "orig_nbformat": 2,
  "kernelspec": {
   "name": "python3",
   "display_name": "Python 3.8.6 64-bit ('tensorflow2': conda)",
   "metadata": {
    "interpreter": {
     "hash": "9ecbc95d31df1b277e5ec566a835865c3a9a253da4266404bdbc6ee7e31406f4"
    }
   }
  }
 },
 "nbformat": 4,
 "nbformat_minor": 2,
 "cells": [
  {
   "source": [
    "# 构造用于三维卷积神经网络的数据集\n",
    "- 用周围19个像素的值取预测一个值，貌似太大了"
   ],
   "cell_type": "markdown",
   "metadata": {}
  },
  {
   "cell_type": "code",
   "execution_count": 1,
   "metadata": {},
   "outputs": [],
   "source": [
    "import numpy as np\n",
    "import tensorflow as tf\n",
    "import scipy.io as sio\n",
    "from sklearn.model_selection import train_test_split"
   ]
  },
  {
   "cell_type": "code",
   "execution_count": 2,
   "metadata": {},
   "outputs": [],
   "source": [
    "data_path = os.path.join('E:\\Eric_HSI\\hyperspectral_datasets')\n",
    "data = sio.loadmat(os.path.join(data_path, 'Indian_pines_corrected.mat'))\n",
    "labels = sio.loadmat(os.path.join(data_path, 'Indian_pines_gt.mat'))\n",
    "\n",
    "window_size=19\n",
    "input_size=200"
   ]
  },
  {
   "cell_type": "code",
   "execution_count": 3,
   "metadata": {},
   "outputs": [
    {
     "output_type": "stream",
     "name": "stdout",
     "text": [
      "(145, 145, 200)\n"
     ]
    }
   ],
   "source": [
    "# 数据\n",
    "# print(mat.keys())\n",
    "features = data['data']\n",
    "features_shape = features.shape\n",
    "print(features.shape)\n",
    "# 标签\n",
    "labels = labels['groundT']\n",
    "labels = np.reshape(labels, (-1, 1))   # 把标签变为2维, 总共21025"
   ]
  },
  {
   "cell_type": "code",
   "execution_count": 4,
   "metadata": {},
   "outputs": [],
   "source": [
    "# 创建一个 (21025, 19, 19, 200) 的数组装数据\n",
    "f2 = np.zeros((labels.shape[0], window_size, window_size, input_size), dtype='float32')\n",
    "\n",
    "# parameter？？\n",
    "parameter_b = np.array([i - window_size // 2 for i in range(window_size)])"
   ]
  },
  {
   "cell_type": "code",
   "execution_count": 5,
   "metadata": {},
   "outputs": [
    {
     "output_type": "execute_result",
     "data": {
      "text/plain": [
       "(array([-9, -8, -7, -6, -5, -4, -3, -2, -1,  0,  1,  2,  3,  4,  5,  6,  7,\n",
       "         8,  9]),\n",
       " (145, 145, 200),\n",
       " (21025, 19, 19, 200))"
      ]
     },
     "metadata": {},
     "execution_count": 5
    }
   ],
   "source": [
    "parameter_b, features_shape, f2.shape"
   ]
  },
  {
   "cell_type": "code",
   "execution_count": 6,
   "metadata": {},
   "outputs": [
    {
     "output_type": "execute_result",
     "data": {
      "text/plain": [
       "list"
      ]
     },
     "metadata": {},
     "execution_count": 6
    }
   ],
   "source": [
    "# np.append 的正确用法 \n",
    "num = []\n",
    "\n",
    "# num = num.append(parameter_b[0] % features_shape[0])  # 这样是不对的\n",
    "num.append(parameter_b[0] % features_shape[0])  # 这样才对\n",
    "type(num)"
   ]
  },
  {
   "cell_type": "code",
   "execution_count": 7,
   "metadata": {},
   "outputs": [
    {
     "output_type": "execute_result",
     "data": {
      "text/plain": [
       "(1, 2)"
      ]
     },
     "metadata": {},
     "execution_count": 7
    }
   ],
   "source": [
    "# 求余运算\n",
    "10 % 11 \n",
    "-1 % 10         #  10 - 1 = 9\n",
    "-2 % 10         #  1 - 2 = 8\n",
    "\n",
    "a = 3\n",
    "b = 5\n",
    "c = (a, b)\n",
    "type(c)\n",
    "\n",
    "arr1 = np.arange(10)\n",
    "arr2 = np.arange(10)\n",
    "\n",
    "c = (arr1[1], arr2[2])\n",
    "type(c)\n",
    "c"
   ]
  },
  {
   "cell_type": "code",
   "execution_count": 8,
   "metadata": {},
   "outputs": [
    {
     "output_type": "stream",
     "name": "stdout",
     "text": [
      "(1, 0)\n(1, 1)\n(1, 2)\n(1, 3)\n(1, 4)\n(1, 5)\n(1, 6)\n(1, 7)\n(1, 8)\n(1, 9)\n(1, 10)\n(1, 11)\n(1, 12)\n(1, 13)\n(1, 14)\n(1, 15)\n(1, 16)\n(1, 17)\n(1, 18)\n"
     ]
    }
   ],
   "source": [
    "# 对下面的理解过程，到第九个像素的时候才对，刚开始的时候得到的patchs都是四周的像素的拼合，并不对\n",
    "p = 0\n",
    "for q in range(19):\n",
    "    ind = (9 + parameter_b[1]) % features_shape[0], (9 + parameter_b[q]) % features_shape[0]\n",
    "    print(ind)"
   ]
  },
  {
   "cell_type": "code",
   "execution_count": 9,
   "metadata": {},
   "outputs": [],
   "source": [
    "# 将原始像素以每个像素周围的8行8列组成patch，填入到初始创建的数组中，得到融入光谱信息patch\n",
    "for i in range(features_shape[0]):\n",
    "    for j in range(features_shape[1]):\n",
    "        index = i * features_shape[1] + j\n",
    "        for p in range(window_size):\n",
    "            for q in range(window_size):\n",
    "                f2[index][p][q] = \\\n",
    "                    features[(i + parameter_b[p]) % features_shape[0]][(j + parameter_b[q]) % features_shape[1]]"
   ]
  },
  {
   "cell_type": "code",
   "execution_count": 10,
   "metadata": {},
   "outputs": [
    {
     "output_type": "stream",
     "name": "stdout",
     "text": [
      "(21025, 19, 19, 200)\n"
     ]
    },
    {
     "output_type": "execute_result",
     "data": {
      "text/plain": [
       "(200,)"
      ]
     },
     "metadata": {},
     "execution_count": 10
    }
   ],
   "source": [
    "print(f2.shape)\n",
    "f2[1][1][1].shape"
   ]
  },
  {
   "source": [
    "- 1、np.where(condition, x, y)，满足条件(condition)，输出x，不满足输出y。\n",
    "- 2、np.where(condition)，只有条件 (condition)，没有x和y，则输出满足条件 (即非0) 元素的坐标。以tuple的形式给出。\n",
    "\n",
    "- 3、np.delete(array,obj,axis)\n",
    "    - array:需要处理的矩阵\n",
    "    - obj:需要处理的位置，比如要删除的第一行或者第一行和第二行\n",
    "    - axis:\n",
    "    - 如果输入为None：array会先按行展开，然后按照obj，删除第obj-1(从0开始)位置的数，返回一个行矩阵。\n",
    "    - 如果输入为0：按行删除\n",
    "    - 如果输入为1：按列删除"
   ],
   "cell_type": "markdown",
   "metadata": {}
  },
  {
   "cell_type": "code",
   "execution_count": 11,
   "metadata": {},
   "outputs": [
    {
     "output_type": "stream",
     "name": "stdout",
     "text": [
      "(21025, 1)\n(10249, 1)\n"
     ]
    }
   ],
   "source": [
    "# 删除所有没有标签的像素\n",
    "print(labels.shape)\n",
    "index = np.where(np.reshape(labels, (-1)) == 0)   # 返回坐标tuple(ndarray)\n",
    "labels = np.delete(labels, index, axis=0)\n",
    "print(labels.shape)"
   ]
  },
  {
   "cell_type": "code",
   "execution_count": 12,
   "metadata": {},
   "outputs": [
    {
     "output_type": "execute_result",
     "data": {
      "text/plain": [
       "0"
      ]
     },
     "metadata": {},
     "execution_count": 12
    }
   ],
   "source": [
    "total = 0\n",
    "for i in labels:\n",
    "    if i == 0:\n",
    "        total += 1\n",
    "total"
   ]
  },
  {
   "cell_type": "code",
   "execution_count": 13,
   "metadata": {},
   "outputs": [
    {
     "output_type": "execute_result",
     "data": {
      "text/plain": [
       "(array([3], dtype=int64),)"
      ]
     },
     "metadata": {},
     "execution_count": 13
    }
   ],
   "source": [
    "np.unique(labels) == 1  # 这是一种判断，集合where输出满足条件元素的坐标，也就是某个类别\n",
    "np.where(np.array([ 0,  1,  2,  3,  4,  5,  6,  7,  8,  9, 10, 11, 12, 13, 14, 15]) == labels[0][0])"
   ]
  },
  {
   "cell_type": "code",
   "execution_count": 14,
   "metadata": {},
   "outputs": [],
   "source": [
    "# labels[:20]"
   ]
  },
  {
   "cell_type": "code",
   "execution_count": 29,
   "metadata": {},
   "outputs": [
    {
     "output_type": "execute_result",
     "data": {
      "text/plain": [
       "(array([0], dtype=int64),)"
      ]
     },
     "metadata": {},
     "execution_count": 29
    }
   ],
   "source": [
    "a = np.array([2,4,6,8,10])\n",
    "np.where(a == 2)\t\t\t\t# 返回索引\n",
    "# (array([2, 3, 4]),)   \n",
    "# (array([0], dtype=int64),)"
   ]
  },
  {
   "cell_type": "code",
   "execution_count": 36,
   "metadata": {},
   "outputs": [
    {
     "output_type": "stream",
     "name": "stdout",
     "text": [
      "(10, 1)\n[[ 1]\n [ 2]\n [ 3]\n [ 4]\n [ 5]\n [ 6]\n [ 7]\n [ 8]\n [ 9]\n [10]]\n(10, 1)\n"
     ]
    },
    {
     "output_type": "execute_result",
     "data": {
      "text/plain": [
       "array([[0],\n",
       "       [1],\n",
       "       [2],\n",
       "       [3],\n",
       "       [4],\n",
       "       [5],\n",
       "       [6],\n",
       "       [7],\n",
       "       [8],\n",
       "       [9]])"
      ]
     },
     "metadata": {},
     "execution_count": 36
    }
   ],
   "source": [
    "# 验证标签 - 1\n",
    "# 做一个实验验证下面的三行代码的作用\n",
    "# 实验np，delete\n",
    "\n",
    "# aa = np.delete(aa, [1,2], axis=0)\n",
    "aa = np.array([1,2,3,4,5,6,7,8,9,10]).reshape(10,-1)    # 标签值\n",
    "print(aa.shape)\n",
    "temp = aa    # 类别数\n",
    "print(temp)\n",
    "for i in range(len(aa)):    \n",
    "    aa[i][0] = np.where(temp == aa[i][0])[0][0]\n",
    "print(aa.shape)\n",
    "aa\n",
    "# np.where(temp == aa[4][0])"
   ]
  },
  {
   "cell_type": "code",
   "execution_count": 30,
   "metadata": {},
   "outputs": [
    {
     "output_type": "execute_result",
     "data": {
      "text/plain": [
       "array([ 1,  2,  3,  4,  5,  6,  7,  8,  9, 10, 11, 12, 13, 14, 15, 16],\n",
       "      dtype=uint8)"
      ]
     },
     "metadata": {},
     "execution_count": 30
    }
   ],
   "source": [
    "tmp = np.unique(labels) \n",
    "tmp"
   ]
  },
  {
   "cell_type": "code",
   "execution_count": 31,
   "metadata": {},
   "outputs": [],
   "source": [
    "tmp = np.unique(labels)   # array([1,  2,  3,  4,  5,  6,  7,  8,  9, 10, 11, 12, 13, 14, 16])\n",
    "for i in range(len(labels)):\n",
    "    labels[i][0] = np.where(tmp == labels[i][0])[0][0]  # (array([1], dtype=int64),) 第一个[0]索引出元祖中的ndarray，第二[0]索引出ndarray中的int值,处理后，所有的标签值减 1 ，因为本来中标签没用0，但是经过Len(labels)，np.where 定位索引位置，又从0开始，所以标签值-1"
   ]
  },
  {
   "cell_type": "code",
   "execution_count": 32,
   "metadata": {},
   "outputs": [
    {
     "output_type": "execute_result",
     "data": {
      "text/plain": [
       "array([ 0,  1,  2,  3,  4,  5,  6,  7,  8,  9, 10, 11, 12, 13, 14, 15],\n",
       "      dtype=uint8)"
      ]
     },
     "metadata": {},
     "execution_count": 32
    }
   ],
   "source": [
    "tmp = np.unique(labels) \n",
    "tmp"
   ]
  },
  {
   "cell_type": "code",
   "execution_count": 37,
   "metadata": {},
   "outputs": [],
   "source": [
    "# labels[:20]\n",
    "# labels.shape # (10249, 1)"
   ]
  },
  {
   "cell_type": "code",
   "execution_count": 38,
   "metadata": {},
   "outputs": [
    {
     "output_type": "execute_result",
     "data": {
      "text/plain": [
       "(10249,)"
      ]
     },
     "metadata": {},
     "execution_count": 38
    }
   ],
   "source": [
    "f2 = np.delete(f2, index, axis=0)\n",
    "labels = np.reshape(labels, (-1))  # 降维\n",
    "labels.shape"
   ]
  },
  {
   "cell_type": "code",
   "execution_count": 39,
   "metadata": {},
   "outputs": [
    {
     "output_type": "stream",
     "name": "stdout",
     "text": [
      "X_shape:  (10249, 200, 19, 19)\nTrainSet_shape:  (10249, 200, 19, 19, 1)\n"
     ]
    }
   ],
   "source": [
    "dataset = [f2, labels]    # 拼接\n",
    "(X, Y) = (dataset[0], dataset[1])  # -1,19,19,200\n",
    "X = X.swapaxes(1, 3)      # 交换轴\n",
    "print('X_shape: ', X.shape)\n",
    "train_set = X[:, :, :, :, np.newaxis]     # 添加轴\n",
    "print('TrainSet_shape: ', train_set.shape)\n"
   ]
  },
  {
   "cell_type": "code",
   "execution_count": 40,
   "metadata": {},
   "outputs": [
    {
     "output_type": "stream",
     "name": "stdout",
     "text": [
      "(10249,)\n"
     ]
    }
   ],
   "source": [
    "print(Y.shape)"
   ]
  },
  {
   "cell_type": "code",
   "execution_count": 41,
   "metadata": {},
   "outputs": [
    {
     "output_type": "stream",
     "name": "stdout",
     "text": [
      "(10249, 16)\n"
     ]
    }
   ],
   "source": [
    "# 转化为类别变量\n",
    "classes = 16\n",
    "Y = tf.keras.utils.to_categorical(Y, classes)\n",
    "print(Y.shape)"
   ]
  },
  {
   "cell_type": "code",
   "execution_count": 42,
   "metadata": {},
   "outputs": [],
   "source": [
    "# 标准化\n",
    "train_set = train_set.astype('float32')\n",
    "train_set -= np.mean(train_set)\n",
    "train_set /= np.max(train_set)"
   ]
  },
  {
   "cell_type": "code",
   "execution_count": 43,
   "metadata": {},
   "outputs": [],
   "source": [
    "# Split the data\n",
    "X_train_new, X_val_new, y_train_new, y_val_new = train_test_split(train_set, Y, test_size=0.8, random_state=4)"
   ]
  },
  {
   "cell_type": "code",
   "execution_count": 44,
   "metadata": {},
   "outputs": [
    {
     "output_type": "execute_result",
     "data": {
      "text/plain": [
       "((2049, 200, 19, 19, 1), (8200, 200, 19, 19, 1), (2049, 16), (8200, 16))"
      ]
     },
     "metadata": {},
     "execution_count": 44
    }
   ],
   "source": [
    "X_train_new.shape, X_val_new.shape, y_train_new.shape, y_val_new.shape"
   ]
  }
 ]
}