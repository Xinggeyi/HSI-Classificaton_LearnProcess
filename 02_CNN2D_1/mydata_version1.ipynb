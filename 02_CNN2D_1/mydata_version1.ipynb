{
 "cells": [
  {
   "cell_type": "markdown",
   "metadata": {},
   "source": [
    "## dataset.ipynb: preprocess the dataset "
   ]
  },
  {
   "cell_type": "code",
   "execution_count": 1,
   "metadata": {},
   "outputs": [],
   "source": [
    "# Import the necessary libraries\n",
    "import numpy as np\n",
    "from sklearn.decomposition import PCA\n",
    "import scipy.io as sio\n",
    "from sklearn.model_selection import train_test_split, StratifiedShuffleSplit\n",
    "from sklearn import preprocessing\n",
    "import os\n",
    "import random\n",
    "from random import shuffle\n",
    "# from skimage.transform import rotate\n",
    "import scipy.ndimage\n",
    "from spectral import *"
   ]
  },
  {
   "cell_type": "code",
   "execution_count": 2,
   "metadata": {},
   "outputs": [],
   "source": [
    "# Global Variables\n",
    "# The number of principal components to be retained in the PCA algorithm, \n",
    "# the number of retained features(dimensions)  n\n",
    "numComponents = 30\n",
    "# Patches windows size\n",
    "windowSize = 5\n",
    "# The proportion of Test sets\n",
    "testRatio = 0.80"
   ]
  },
  {
   "cell_type": "code",
   "execution_count": 3,
   "metadata": {},
   "outputs": [],
   "source": [
    "#  load the Indian pines dataset which is the .mat format\n",
    "def loadIndianPinesData():\n",
    "    data_path = 'E:\\Eric_HSI\\hyperspectral_datasets'\n",
    "    data = sio.loadmat(os.path.join(data_path, \n",
    "                      'Indian_pines_corrected.mat'))['data']\n",
    "    labels = sio.loadmat(os.path.join(data_path, \n",
    "                        'Indian_pines_gt.mat'))['groundT']\n",
    "    \n",
    "    return data, labels"
   ]
  },
  {
   "cell_type": "code",
   "execution_count": 4,
   "metadata": {},
   "outputs": [
    {
     "output_type": "execute_result",
     "data": {
      "text/plain": [
       "((145, 145, 200),\n",
       " (145, 145),\n",
       " array([ 0,  1,  2,  3,  4,  5,  6,  7,  8,  9, 10, 11, 12, 13, 14, 15, 16],\n",
       "       dtype=uint8),\n",
       " array([10776,    46,  1428,   830,   237,   483,   730,    28,   478,\n",
       "           20,   972,  2455,   593,   205,  1265,   386,    93],\n",
       "       dtype=int64))"
      ]
     },
     "metadata": {},
     "execution_count": 4
    }
   ],
   "source": [
    "X, y = loadIndianPinesData()\n",
    "uniqueLabels, labelCounts = np.unique(y, return_counts=True)\n",
    "X.shape, y.shape, uniqueLabels, labelCounts"
   ]
  },
  {
   "cell_type": "code",
   "execution_count": 5,
   "metadata": {},
   "outputs": [],
   "source": [
    "#  load the Indian pines dataset which is HSI format\n",
    "#  refered from http://www.spectralpython.net/fileio.html\n",
    "def loadHSIData():\n",
    "    data_path = os.path.join(os.getcwd(), 'HSI_data')\n",
    "    data = open_image(os.path.join(data_path, '92AV3C.lan')).load()\n",
    "    data = np.array(data).astype(np.int32)\n",
    "    labels = open_image(os.path.join(data_path, '92AV3GT.GIS')).load()\n",
    "    labels = np.array(labels).astype(np.uint8)\n",
    "    labels.shape = (145, 145)\n",
    "    return data, labels"
   ]
  },
  {
   "cell_type": "code",
   "execution_count": 6,
   "metadata": {},
   "outputs": [],
   "source": [
    "#  apply PCA preprocessing for data sets\n",
    "# print(X.shape)  # (145, 145, 30)\n",
    "# print(y.shape) # (145, 145)\n",
    "\n",
    "def applyPCA(X, numComponents=75):\n",
    "    newX = np.reshape(X, (-1, X.shape[2]))\n",
    "    pca = PCA(n_components=numComponents, whiten=True)\n",
    "    newX = pca.fit_transform(newX)\n",
    "    newX = np.reshape(newX, (X.shape[0],X.shape[1], numComponents))\n",
    "    return newX, pca"
   ]
  },
  {
   "cell_type": "code",
   "execution_count": 7,
   "metadata": {},
   "outputs": [],
   "source": [
    "# X, pca = applyPCA(X, numComponents=numComponents)\n",
    "# X.shape, pca"
   ]
  },
  {
   "cell_type": "code",
   "execution_count": 8,
   "metadata": {},
   "outputs": [],
   "source": [
    "#  pad zeros to dataset\n",
    "\n",
    "# X (145, 145, 30)\n",
    "def padWithZeros(X, margin=2):\n",
    "    newX = np.zeros((X.shape[0] + 2 * margin, X.shape[1] + 2* margin, X.shape[2]))\n",
    "    x_offset = margin\n",
    "    y_offset = margin\n",
    "    newX[x_offset : X.shape[0] + x_offset, y_offset : X.shape[1] + y_offset, :] = X\n",
    "    return newX"
   ]
  },
  {
   "cell_type": "code",
   "execution_count": 9,
   "metadata": {},
   "outputs": [],
   "source": [
    "# newX = padWithZeros(X, margin=2)\n",
    "# newX.shape   # (149, 149, 30)"
   ]
  },
  {
   "cell_type": "code",
   "execution_count": 10,
   "metadata": {},
   "outputs": [],
   "source": [
    "#  create Patches for dataset 顾名思义，将一整张图片划分成一个个小的patch。TotalPatNum，width，height，channels。((10366, 5, 5, 30), (10366,))\n",
    "# 老实说，这段代码，我不是很能理解。。。希望有大神带带我\n",
    "\n",
    "# Patches windows size\n",
    "# windowSize = 5\n",
    "# X (145, 145, 30)\n",
    "def createPatches(X, y, windowSize=5, removeZeroLabels = True):\n",
    "    margin = int((windowSize - 1) / 2)                                         # =>2\n",
    "    zeroPaddedX = padWithZeros(X, margin=margin)             # (149, 149, 30)\n",
    "    # split patches\n",
    "    patchesData = np.zeros((X.shape[0] * X.shape[1], windowSize, \n",
    "                            windowSize, X.shape[2]))                                                   # (21025, 5, 5, 30)\n",
    "    patchesLabels = np.zeros((X.shape[0] * X.shape[1]))                         # (21025,)\n",
    "    patchIndex = 0\n",
    "    for r in range(margin, zeroPaddedX.shape[0] - margin):\n",
    "        for c in range(margin, zeroPaddedX.shape[1] - margin):\n",
    "            patch = zeroPaddedX[r - margin:r + margin + 1, c - margin:c + margin + 1]\n",
    "            patchesData[patchIndex, :, :, :] = patch\n",
    "            patchesLabels[patchIndex] = y[r-margin, c-margin]\n",
    "            patchIndex = patchIndex + 1\n",
    "            \n",
    "    # 删除像素值为零的值\n",
    "    if removeZeroLabels:\n",
    "        patchesData = patchesData[patchesLabels>0, : , : , :]                     # ((10366, 5, 5, 30)\n",
    "        patchesLabels = patchesLabels[patchesLabels>0]                         # (10366,))\n",
    "        patchesLabels -= 1\n",
    "    return patchesData, patchesLabels"
   ]
  },
  {
   "cell_type": "code",
   "execution_count": 11,
   "metadata": {},
   "outputs": [],
   "source": [
    "# XPatches, yPatches = createPatches(X, y, windowSize=windowSize) \n",
    "# print(XPatches.shape, yPatches.shape)"
   ]
  },
  {
   "cell_type": "code",
   "execution_count": 12,
   "metadata": {},
   "outputs": [],
   "source": [
    "#  split data to Train and Test Set\n",
    "# print(X.shape)  # (145, 145, 220)\n",
    "# print(y.shape) # (145, 145)\n",
    "# X： ((10366, 5, 5, 30)\n",
    "# y：(10366,))\n",
    "# X_train:  ((5183, 5, 5, 30), y_train : ((5183,)\n",
    "# X_test : (5183, 5, 5, 30)), y_test ： (5183,)\n",
    "\n",
    "def splitTrainTestSet(X, y, classnum=15, testRatio=0.80):\n",
    "#     X_train, X_test, y_train, y_test = train_test_split(X, y, \n",
    "#                                test_size=testRatio, random_state=345, stratify=y)\n",
    "    ss=StratifiedShuffleSplit(n_splits=classnum, test_size=testRatio, \n",
    "                              train_size=1-testRatio, random_state=0)\n",
    "    \n",
    "    for train_index, test_index in ss.split(X, y):\n",
    "        # print(\"TRAIN:\", train_index, \"TEST:\", test_index)\n",
    "        X_train, X_test = X[train_index], X[test_index]\n",
    "        y_train, y_test = y[train_index], y[test_index]\n",
    "        \n",
    "    return X_train, X_test, y_train, y_test"
   ]
  },
  {
   "cell_type": "code",
   "execution_count": 13,
   "metadata": {},
   "outputs": [],
   "source": [
    "# X_train, X_test, y_train, y_test = splitTrainTestSet(XPatches, yPatches,        \n",
    "#                                                      y.max()-y.min(), testRatio)\n",
    "\n",
    "# print(X_train.shape, X_test.shape, y_train.shape, y_test.shape)"
   ]
  },
  {
   "cell_type": "code",
   "execution_count": 14,
   "metadata": {},
   "outputs": [],
   "source": [
    "#  over sample \n",
    "# 过采样，将比例比较少的例子重复几次，然后叠加到原始数据上\n",
    "# X_train:  ((5183, 5, 5, 30), y_train : ((5183,)\n",
    "# 变为\n",
    "# X_train : ((20110, 5, 5, 30), y_train : (20110,))\n",
    "\n",
    "def oversampleWeakClasses(X, y):\n",
    "    uniqueLabels, labelCounts = np.unique(y, return_counts=True)\n",
    "    maxCount = np.max(labelCounts)\n",
    "    labelInverseRatios = maxCount / labelCounts  \n",
    "    # repeat for every label and concat\n",
    "    newX = X[y == uniqueLabels[0], :, :, :].repeat(round(labelInverseRatios[0]), \n",
    "                                                   axis=0)\n",
    "    newY = y[y == uniqueLabels[0]].repeat(round(labelInverseRatios[0]), axis=0)\n",
    "    for label, labelInverseRatio in zip(uniqueLabels[1:], labelInverseRatios[1:]):\n",
    "        cX = X[y== label,:,:,:].repeat(round(labelInverseRatio), axis=0)\n",
    "        cY = y[y == label].repeat(round(labelInverseRatio), axis=0)\n",
    "        newX = np.concatenate((newX, cX))\n",
    "        newY = np.concatenate((newY, cY))\n",
    "    np.random.seed(seed=42)\n",
    "    rand_perm = np.random.permutation(newY.shape[0])\n",
    "    newX = newX[rand_perm, :, :, :]\n",
    "    newY = newY[rand_perm]\n",
    "    return newX, newY"
   ]
  },
  {
   "cell_type": "code",
   "execution_count": 15,
   "metadata": {},
   "outputs": [],
   "source": [
    "# X_train, y_train = oversampleWeakClasses(X_train, y_train)\n",
    "# X_train.shape, y_train.shape"
   ]
  },
  {
   "cell_type": "code",
   "execution_count": 16,
   "metadata": {},
   "outputs": [],
   "source": [
    "#  standartize\n",
    "def standartizeData(X):\n",
    "    newX = np.reshape(X, (-1, X.shape[3]))\n",
    "    scaler = preprocessing.StandardScaler().fit(newX)  \n",
    "    newX = scaler.transform(newX)\n",
    "    newX = np.reshape(newX, (X.shape[0], X.shape[1], X.shape[2], X.shape[3]))\n",
    "    return newX, scaler"
   ]
  },
  {
   "cell_type": "code",
   "execution_count": 17,
   "metadata": {},
   "outputs": [],
   "source": [
    "# X_train, scaler = standartizeData(X_train)\n",
    "# X_train.shape, scaler"
   ]
  },
  {
   "cell_type": "code",
   "execution_count": 18,
   "metadata": {},
   "outputs": [],
   "source": [
    "#  Augment Data\n",
    "def AugmentData(X_train):\n",
    "    for i in range(int(X_train.shape[0]/2)):\n",
    "        patch = X_train[i,:,:,:]\n",
    "        num = random.randint(0,2)\n",
    "        if (num == 0):\n",
    "            \n",
    "            flipped_patch = np.flipud(patch)\n",
    "        if (num == 1):\n",
    "            \n",
    "            flipped_patch = np.fliplr(patch)\n",
    "        if (num == 2):\n",
    "            \n",
    "            no = random.randrange(-180,180,30)\n",
    "            flipped_patch = scipy.ndimage.interpolation.rotate(patch, \n",
    "                            no,axes=(1, 0), reshape=False, output=None, \n",
    "                            order=3, mode='constant', cval=0.0, prefilter=False)\n",
    "        \n",
    "    patch2 = flipped_patch\n",
    "    X_train[i,:,:,:] = patch2\n",
    "    \n",
    "    return X_train"
   ]
  },
  {
   "cell_type": "code",
   "execution_count": 19,
   "metadata": {},
   "outputs": [],
   "source": [
    "# X_train = AugmentData(X_train)\n",
    "# X_train.shape"
   ]
  },
  {
   "cell_type": "code",
   "execution_count": 20,
   "metadata": {},
   "outputs": [],
   "source": [
    "# save Preprocessed Data to file\n",
    "def savePreprocessedData(path, X_trainPatches, X_testPatches, y_trainPatches, \n",
    "                         y_testPatches, X_all, y_all, windowSize, wasPCAapplied = False, \n",
    "                         numPCAComponents = 0, testRatio = 0.25):\n",
    "    \n",
    "    data_path = os.path.join(os.getcwd(), path)\n",
    "\n",
    "    if wasPCAapplied:\n",
    "        with open(os.path.join(data_path, \"X_train_WS_\") + str(windowSize) + \n",
    "                  \"_PCA_\" + str(numPCAComponents) + \"_testRatio_\" + str(testRatio) + \n",
    "                  \".npy\", 'bw') as outfile:\n",
    "            np.save(outfile, X_trainPatches)\n",
    "        with open(os.path.join(data_path, \"X_test_WS_\") + str(windowSize) + \n",
    "                  \"_PCA_\" + str(numPCAComponents) + \"_testRatio_\" + str(testRatio) + \n",
    "                  \".npy\", 'bw') as outfile:\n",
    "            np.save(outfile, X_testPatches)\n",
    "        with open(os.path.join(data_path, \"y_train_WS_\") + str(windowSize) + \n",
    "                  \"_PCA_\" + str(numPCAComponents) + \"_testRatio_\" + str(testRatio) + \n",
    "                  \".npy\", 'bw') as outfile:\n",
    "            np.save(outfile, y_trainPatches)\n",
    "        with open(os.path.join(data_path, \"y_test_WS_\") + str(windowSize) + \n",
    "                  \"_PCA_\" + str(numPCAComponents) + \"_testRatio_\" + str(testRatio) + \n",
    "                  \".npy\", 'bw') as outfile:\n",
    "            np.save(outfile, y_testPatches)\n",
    "        \n",
    "        with open(os.path.join(data_path, \"X_All_WS_\") + str(windowSize) + \n",
    "                  \"_PCA_\" + str(numPCAComponents) + \"_testRatio_\" + str(testRatio) + \n",
    "                  \".npy\", 'bw') as outfile:\n",
    "            np.save(outfile, X_all)\n",
    "        with open(os.path.join(data_path, \"y_All_WS_\") + str(windowSize) + \n",
    "                  \"_PCA_\" + str(numPCAComponents) + \"_testRatio_\" + str(testRatio) + \n",
    "                  \".npy\", 'bw') as outfile:\n",
    "            np.save(outfile, y_all)\n",
    "    else:\n",
    "        with open(os.path.join(data_path, \"preXtrainWindowSize\") + str(windowSize) + \n",
    "                  \".npy\", 'bw') as outfile:\n",
    "            np.save(outfile, X_trainPatches)\n",
    "        with open(os.path.join(data_path, \"preXtestWindowSize\") + str(windowSize) + \n",
    "                  \".npy\", 'bw') as outfile:\n",
    "            np.save(outfile, X_testPatches)\n",
    "        with open(os.path.join(data_path, \"preytrainWindowSize\") + str(windowSize) + \n",
    "                  \".npy\", 'bw') as outfile:\n",
    "            np.save(outfile, y_trainPatches)\n",
    "        with open(os.path.join(data_path, \"preytestWindowSize\") + str(windowSize) + \n",
    "                  \".npy\", 'bw') as outfile:\n",
    "            np.save(outfile, y_testPatches)\n",
    "            "
   ]
  },
  {
   "cell_type": "code",
   "execution_count": 21,
   "metadata": {},
   "outputs": [],
   "source": [
    "# Global Variables\n",
    "# The number of principal components to be retained in the PCA algorithm, \n",
    "# the number of retained features(dimensions)  n\n",
    "numComponents = 30\n",
    "# Patches windows size\n",
    "windowSize = 5\n",
    "# The proportion of Test sets\n",
    "testRatio = 0.80"
   ]
  },
  {
   "cell_type": "code",
   "execution_count": 22,
   "metadata": {},
   "outputs": [],
   "source": [
    "# Load dataset from file and apply PCA\n",
    "# X, y = loadHSIData()\n",
    "\n",
    "# print(X.shape)  # (145, 145, 220)\n",
    "# print(y.shape) # (145, 145)\n",
    "X, y = loadIndianPinesData()\n",
    "X, pca = applyPCA(X, numComponents=numComponents)\n",
    "# print(X.shape)  # (145, 145, 30)"
   ]
  },
  {
   "cell_type": "code",
   "execution_count": 23,
   "metadata": {},
   "outputs": [
    {
     "output_type": "display_data",
     "data": {
      "text/plain": "<Figure size 432x432 with 1 Axes>",
      "image/svg+xml": "<?xml version=\"1.0\" encoding=\"utf-8\" standalone=\"no\"?>\r\n<!DOCTYPE svg PUBLIC \"-//W3C//DTD SVG 1.1//EN\"\r\n  \"http://www.w3.org/Graphics/SVG/1.1/DTD/svg11.dtd\">\r\n<!-- Created with matplotlib (https://matplotlib.org/) -->\r\n<svg height=\"359.912654pt\" version=\"1.1\" viewBox=\"0 0 366.6475 359.912654\" width=\"366.6475pt\" xmlns=\"http://www.w3.org/2000/svg\" xmlns:xlink=\"http://www.w3.org/1999/xlink\">\r\n <metadata>\r\n  <rdf:RDF xmlns:cc=\"http://creativecommons.org/ns#\" xmlns:dc=\"http://purl.org/dc/elements/1.1/\" xmlns:rdf=\"http://www.w3.org/1999/02/22-rdf-syntax-ns#\">\r\n   <cc:Work>\r\n    <dc:type rdf:resource=\"http://purl.org/dc/dcmitype/StillImage\"/>\r\n    <dc:date>2020-11-16T17:20:38.840798</dc:date>\r\n    <dc:format>image/svg+xml</dc:format>\r\n    <dc:creator>\r\n     <cc:Agent>\r\n      <dc:title>Matplotlib v3.3.3, https://matplotlib.org/</dc:title>\r\n     </cc:Agent>\r\n    </dc:creator>\r\n   </cc:Work>\r\n  </rdf:RDF>\r\n </metadata>\r\n <defs>\r\n  <style type=\"text/css\">*{stroke-linecap:butt;stroke-linejoin:round;}</style>\r\n </defs>\r\n <g id=\"figure_1\">\r\n  <g id=\"patch_1\">\r\n   <path d=\"M 0 359.912654 \r\nL 366.6475 359.912654 \r\nL 366.6475 0 \r\nL 0 0 \r\nz\r\n\" style=\"fill:none;\"/>\r\n  </g>\r\n  <g id=\"axes_1\">\r\n   <g id=\"patch_2\">\r\n    <path d=\"M 33.2875 336.034529 \r\nL 359.4475 336.034529 \r\nL 359.4475 9.874529 \r\nL 33.2875 9.874529 \r\nz\r\n\" style=\"fill:#ffffff;\"/>\r\n   </g>\r\n   <g clip-path=\"url(#p3906bfbc07)\">\r\n    <image height=\"327\" id=\"imaged6484873b3\" transform=\"scale(1 -1)translate(0 -327)\" width=\"327\" x=\"33.2875\" xlink:href=\"data:image/png;base64,\r\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\" y=\"-9.034529\"/>\r\n   </g>\r\n   <g id=\"matplotlib.axis_1\">\r\n    <g id=\"xtick_1\">\r\n     <g id=\"line2d_1\">\r\n      <defs>\r\n       <path d=\"M 0 0 \r\nL 0 3.5 \r\n\" id=\"me2f24766aa\" style=\"stroke:#000000;stroke-width:0.8;\"/>\r\n      </defs>\r\n      <g>\r\n       <use style=\"stroke:#000000;stroke-width:0.8;\" x=\"34.41219\" xlink:href=\"#me2f24766aa\" y=\"336.034529\"/>\r\n      </g>\r\n     </g>\r\n     <g id=\"text_1\">\r\n      <!-- 0 -->\r\n      <g transform=\"translate(31.23094 350.632967)scale(0.1 -0.1)\">\r\n       <defs>\r\n        <path d=\"M 31.78125 66.40625 \r\nQ 24.171875 66.40625 20.328125 58.90625 \r\nQ 16.5 51.421875 16.5 36.375 \r\nQ 16.5 21.390625 20.328125 13.890625 \r\nQ 24.171875 6.390625 31.78125 6.390625 \r\nQ 39.453125 6.390625 43.28125 13.890625 \r\nQ 47.125 21.390625 47.125 36.375 \r\nQ 47.125 51.421875 43.28125 58.90625 \r\nQ 39.453125 66.40625 31.78125 66.40625 \r\nz\r\nM 31.78125 74.21875 \r\nQ 44.046875 74.21875 50.515625 64.515625 \r\nQ 56.984375 54.828125 56.984375 36.375 \r\nQ 56.984375 17.96875 50.515625 8.265625 \r\nQ 44.046875 -1.421875 31.78125 -1.421875 \r\nQ 19.53125 -1.421875 13.0625 8.265625 \r\nQ 6.59375 17.96875 6.59375 36.375 \r\nQ 6.59375 54.828125 13.0625 64.515625 \r\nQ 19.53125 74.21875 31.78125 74.21875 \r\nz\r\n\" id=\"DejaVuSans-48\"/>\r\n       </defs>\r\n       <use xlink:href=\"#DejaVuSans-48\"/>\r\n      </g>\r\n     </g>\r\n    </g>\r\n    <g id=\"xtick_2\">\r\n     <g id=\"line2d_2\">\r\n      <g>\r\n       <use style=\"stroke:#000000;stroke-width:0.8;\" x=\"79.399776\" xlink:href=\"#me2f24766aa\" y=\"336.034529\"/>\r\n      </g>\r\n     </g>\r\n     <g id=\"text_2\">\r\n      <!-- 20 -->\r\n      <g transform=\"translate(73.037276 350.632967)scale(0.1 -0.1)\">\r\n       <defs>\r\n        <path d=\"M 19.1875 8.296875 \r\nL 53.609375 8.296875 \r\nL 53.609375 0 \r\nL 7.328125 0 \r\nL 7.328125 8.296875 \r\nQ 12.9375 14.109375 22.625 23.890625 \r\nQ 32.328125 33.6875 34.8125 36.53125 \r\nQ 39.546875 41.84375 41.421875 45.53125 \r\nQ 43.3125 49.21875 43.3125 52.78125 \r\nQ 43.3125 58.59375 39.234375 62.25 \r\nQ 35.15625 65.921875 28.609375 65.921875 \r\nQ 23.96875 65.921875 18.8125 64.3125 \r\nQ 13.671875 62.703125 7.8125 59.421875 \r\nL 7.8125 69.390625 \r\nQ 13.765625 71.78125 18.9375 73 \r\nQ 24.125 74.21875 28.421875 74.21875 \r\nQ 39.75 74.21875 46.484375 68.546875 \r\nQ 53.21875 62.890625 53.21875 53.421875 \r\nQ 53.21875 48.921875 51.53125 44.890625 \r\nQ 49.859375 40.875 45.40625 35.40625 \r\nQ 44.1875 33.984375 37.640625 27.21875 \r\nQ 31.109375 20.453125 19.1875 8.296875 \r\nz\r\n\" id=\"DejaVuSans-50\"/>\r\n       </defs>\r\n       <use xlink:href=\"#DejaVuSans-50\"/>\r\n       <use x=\"63.623047\" xlink:href=\"#DejaVuSans-48\"/>\r\n      </g>\r\n     </g>\r\n    </g>\r\n    <g id=\"xtick_3\">\r\n     <g id=\"line2d_3\">\r\n      <g>\r\n       <use style=\"stroke:#000000;stroke-width:0.8;\" x=\"124.387362\" xlink:href=\"#me2f24766aa\" y=\"336.034529\"/>\r\n      </g>\r\n     </g>\r\n     <g id=\"text_3\">\r\n      <!-- 40 -->\r\n      <g transform=\"translate(118.024862 350.632967)scale(0.1 -0.1)\">\r\n       <defs>\r\n        <path d=\"M 37.796875 64.3125 \r\nL 12.890625 25.390625 \r\nL 37.796875 25.390625 \r\nz\r\nM 35.203125 72.90625 \r\nL 47.609375 72.90625 \r\nL 47.609375 25.390625 \r\nL 58.015625 25.390625 \r\nL 58.015625 17.1875 \r\nL 47.609375 17.1875 \r\nL 47.609375 0 \r\nL 37.796875 0 \r\nL 37.796875 17.1875 \r\nL 4.890625 17.1875 \r\nL 4.890625 26.703125 \r\nz\r\n\" id=\"DejaVuSans-52\"/>\r\n       </defs>\r\n       <use xlink:href=\"#DejaVuSans-52\"/>\r\n       <use x=\"63.623047\" xlink:href=\"#DejaVuSans-48\"/>\r\n      </g>\r\n     </g>\r\n    </g>\r\n    <g id=\"xtick_4\">\r\n     <g id=\"line2d_4\">\r\n      <g>\r\n       <use style=\"stroke:#000000;stroke-width:0.8;\" x=\"169.374948\" xlink:href=\"#me2f24766aa\" y=\"336.034529\"/>\r\n      </g>\r\n     </g>\r\n     <g id=\"text_4\">\r\n      <!-- 60 -->\r\n      <g transform=\"translate(163.012448 350.632967)scale(0.1 -0.1)\">\r\n       <defs>\r\n        <path d=\"M 33.015625 40.375 \r\nQ 26.375 40.375 22.484375 35.828125 \r\nQ 18.609375 31.296875 18.609375 23.390625 \r\nQ 18.609375 15.53125 22.484375 10.953125 \r\nQ 26.375 6.390625 33.015625 6.390625 \r\nQ 39.65625 6.390625 43.53125 10.953125 \r\nQ 47.40625 15.53125 47.40625 23.390625 \r\nQ 47.40625 31.296875 43.53125 35.828125 \r\nQ 39.65625 40.375 33.015625 40.375 \r\nz\r\nM 52.59375 71.296875 \r\nL 52.59375 62.3125 \r\nQ 48.875 64.0625 45.09375 64.984375 \r\nQ 41.3125 65.921875 37.59375 65.921875 \r\nQ 27.828125 65.921875 22.671875 59.328125 \r\nQ 17.53125 52.734375 16.796875 39.40625 \r\nQ 19.671875 43.65625 24.015625 45.921875 \r\nQ 28.375 48.1875 33.59375 48.1875 \r\nQ 44.578125 48.1875 50.953125 41.515625 \r\nQ 57.328125 34.859375 57.328125 23.390625 \r\nQ 57.328125 12.15625 50.6875 5.359375 \r\nQ 44.046875 -1.421875 33.015625 -1.421875 \r\nQ 20.359375 -1.421875 13.671875 8.265625 \r\nQ 6.984375 17.96875 6.984375 36.375 \r\nQ 6.984375 53.65625 15.1875 63.9375 \r\nQ 23.390625 74.21875 37.203125 74.21875 \r\nQ 40.921875 74.21875 44.703125 73.484375 \r\nQ 48.484375 72.75 52.59375 71.296875 \r\nz\r\n\" id=\"DejaVuSans-54\"/>\r\n       </defs>\r\n       <use xlink:href=\"#DejaVuSans-54\"/>\r\n       <use x=\"63.623047\" xlink:href=\"#DejaVuSans-48\"/>\r\n      </g>\r\n     </g>\r\n    </g>\r\n    <g id=\"xtick_5\">\r\n     <g id=\"line2d_5\">\r\n      <g>\r\n       <use style=\"stroke:#000000;stroke-width:0.8;\" x=\"214.362534\" xlink:href=\"#me2f24766aa\" y=\"336.034529\"/>\r\n      </g>\r\n     </g>\r\n     <g id=\"text_5\">\r\n      <!-- 80 -->\r\n      <g transform=\"translate(208.000034 350.632967)scale(0.1 -0.1)\">\r\n       <defs>\r\n        <path d=\"M 31.78125 34.625 \r\nQ 24.75 34.625 20.71875 30.859375 \r\nQ 16.703125 27.09375 16.703125 20.515625 \r\nQ 16.703125 13.921875 20.71875 10.15625 \r\nQ 24.75 6.390625 31.78125 6.390625 \r\nQ 38.8125 6.390625 42.859375 10.171875 \r\nQ 46.921875 13.96875 46.921875 20.515625 \r\nQ 46.921875 27.09375 42.890625 30.859375 \r\nQ 38.875 34.625 31.78125 34.625 \r\nz\r\nM 21.921875 38.8125 \r\nQ 15.578125 40.375 12.03125 44.71875 \r\nQ 8.5 49.078125 8.5 55.328125 \r\nQ 8.5 64.0625 14.71875 69.140625 \r\nQ 20.953125 74.21875 31.78125 74.21875 \r\nQ 42.671875 74.21875 48.875 69.140625 \r\nQ 55.078125 64.0625 55.078125 55.328125 \r\nQ 55.078125 49.078125 51.53125 44.71875 \r\nQ 48 40.375 41.703125 38.8125 \r\nQ 48.828125 37.15625 52.796875 32.3125 \r\nQ 56.78125 27.484375 56.78125 20.515625 \r\nQ 56.78125 9.90625 50.3125 4.234375 \r\nQ 43.84375 -1.421875 31.78125 -1.421875 \r\nQ 19.734375 -1.421875 13.25 4.234375 \r\nQ 6.78125 9.90625 6.78125 20.515625 \r\nQ 6.78125 27.484375 10.78125 32.3125 \r\nQ 14.796875 37.15625 21.921875 38.8125 \r\nz\r\nM 18.3125 54.390625 \r\nQ 18.3125 48.734375 21.84375 45.5625 \r\nQ 25.390625 42.390625 31.78125 42.390625 \r\nQ 38.140625 42.390625 41.71875 45.5625 \r\nQ 45.3125 48.734375 45.3125 54.390625 \r\nQ 45.3125 60.0625 41.71875 63.234375 \r\nQ 38.140625 66.40625 31.78125 66.40625 \r\nQ 25.390625 66.40625 21.84375 63.234375 \r\nQ 18.3125 60.0625 18.3125 54.390625 \r\nz\r\n\" id=\"DejaVuSans-56\"/>\r\n       </defs>\r\n       <use xlink:href=\"#DejaVuSans-56\"/>\r\n       <use x=\"63.623047\" xlink:href=\"#DejaVuSans-48\"/>\r\n      </g>\r\n     </g>\r\n    </g>\r\n    <g id=\"xtick_6\">\r\n     <g id=\"line2d_6\">\r\n      <g>\r\n       <use style=\"stroke:#000000;stroke-width:0.8;\" x=\"259.350121\" xlink:href=\"#me2f24766aa\" y=\"336.034529\"/>\r\n      </g>\r\n     </g>\r\n     <g id=\"text_6\">\r\n      <!-- 100 -->\r\n      <g transform=\"translate(249.806371 350.632967)scale(0.1 -0.1)\">\r\n       <defs>\r\n        <path d=\"M 12.40625 8.296875 \r\nL 28.515625 8.296875 \r\nL 28.515625 63.921875 \r\nL 10.984375 60.40625 \r\nL 10.984375 69.390625 \r\nL 28.421875 72.90625 \r\nL 38.28125 72.90625 \r\nL 38.28125 8.296875 \r\nL 54.390625 8.296875 \r\nL 54.390625 0 \r\nL 12.40625 0 \r\nz\r\n\" id=\"DejaVuSans-49\"/>\r\n       </defs>\r\n       <use xlink:href=\"#DejaVuSans-49\"/>\r\n       <use x=\"63.623047\" xlink:href=\"#DejaVuSans-48\"/>\r\n       <use x=\"127.246094\" xlink:href=\"#DejaVuSans-48\"/>\r\n      </g>\r\n     </g>\r\n    </g>\r\n    <g id=\"xtick_7\">\r\n     <g id=\"line2d_7\">\r\n      <g>\r\n       <use style=\"stroke:#000000;stroke-width:0.8;\" x=\"304.337707\" xlink:href=\"#me2f24766aa\" y=\"336.034529\"/>\r\n      </g>\r\n     </g>\r\n     <g id=\"text_7\">\r\n      <!-- 120 -->\r\n      <g transform=\"translate(294.793957 350.632967)scale(0.1 -0.1)\">\r\n       <use xlink:href=\"#DejaVuSans-49\"/>\r\n       <use x=\"63.623047\" xlink:href=\"#DejaVuSans-50\"/>\r\n       <use x=\"127.246094\" xlink:href=\"#DejaVuSans-48\"/>\r\n      </g>\r\n     </g>\r\n    </g>\r\n    <g id=\"xtick_8\">\r\n     <g id=\"line2d_8\">\r\n      <g>\r\n       <use style=\"stroke:#000000;stroke-width:0.8;\" x=\"349.325293\" xlink:href=\"#me2f24766aa\" y=\"336.034529\"/>\r\n      </g>\r\n     </g>\r\n     <g id=\"text_8\">\r\n      <!-- 140 -->\r\n      <g transform=\"translate(339.781543 350.632967)scale(0.1 -0.1)\">\r\n       <use xlink:href=\"#DejaVuSans-49\"/>\r\n       <use x=\"63.623047\" xlink:href=\"#DejaVuSans-52\"/>\r\n       <use x=\"127.246094\" xlink:href=\"#DejaVuSans-48\"/>\r\n      </g>\r\n     </g>\r\n    </g>\r\n   </g>\r\n   <g id=\"matplotlib.axis_2\">\r\n    <g id=\"ytick_1\">\r\n     <g id=\"line2d_9\">\r\n      <defs>\r\n       <path d=\"M 0 0 \r\nL -3.5 0 \r\n\" id=\"m4f2baa1b56\" style=\"stroke:#000000;stroke-width:0.8;\"/>\r\n      </defs>\r\n      <g>\r\n       <use style=\"stroke:#000000;stroke-width:0.8;\" x=\"33.2875\" xlink:href=\"#m4f2baa1b56\" y=\"10.999219\"/>\r\n      </g>\r\n     </g>\r\n     <g id=\"text_9\">\r\n      <!-- 0 -->\r\n      <g transform=\"translate(19.925 14.798438)scale(0.1 -0.1)\">\r\n       <use xlink:href=\"#DejaVuSans-48\"/>\r\n      </g>\r\n     </g>\r\n    </g>\r\n    <g id=\"ytick_2\">\r\n     <g id=\"line2d_10\">\r\n      <g>\r\n       <use style=\"stroke:#000000;stroke-width:0.8;\" x=\"33.2875\" xlink:href=\"#m4f2baa1b56\" y=\"55.986805\"/>\r\n      </g>\r\n     </g>\r\n     <g id=\"text_10\">\r\n      <!-- 20 -->\r\n      <g transform=\"translate(13.5625 59.786024)scale(0.1 -0.1)\">\r\n       <use xlink:href=\"#DejaVuSans-50\"/>\r\n       <use x=\"63.623047\" xlink:href=\"#DejaVuSans-48\"/>\r\n      </g>\r\n     </g>\r\n    </g>\r\n    <g id=\"ytick_3\">\r\n     <g id=\"line2d_11\">\r\n      <g>\r\n       <use style=\"stroke:#000000;stroke-width:0.8;\" x=\"33.2875\" xlink:href=\"#m4f2baa1b56\" y=\"100.974391\"/>\r\n      </g>\r\n     </g>\r\n     <g id=\"text_11\">\r\n      <!-- 40 -->\r\n      <g transform=\"translate(13.5625 104.77361)scale(0.1 -0.1)\">\r\n       <use xlink:href=\"#DejaVuSans-52\"/>\r\n       <use x=\"63.623047\" xlink:href=\"#DejaVuSans-48\"/>\r\n      </g>\r\n     </g>\r\n    </g>\r\n    <g id=\"ytick_4\">\r\n     <g id=\"line2d_12\">\r\n      <g>\r\n       <use style=\"stroke:#000000;stroke-width:0.8;\" x=\"33.2875\" xlink:href=\"#m4f2baa1b56\" y=\"145.961977\"/>\r\n      </g>\r\n     </g>\r\n     <g id=\"text_12\">\r\n      <!-- 60 -->\r\n      <g transform=\"translate(13.5625 149.761196)scale(0.1 -0.1)\">\r\n       <use xlink:href=\"#DejaVuSans-54\"/>\r\n       <use x=\"63.623047\" xlink:href=\"#DejaVuSans-48\"/>\r\n      </g>\r\n     </g>\r\n    </g>\r\n    <g id=\"ytick_5\">\r\n     <g id=\"line2d_13\">\r\n      <g>\r\n       <use style=\"stroke:#000000;stroke-width:0.8;\" x=\"33.2875\" xlink:href=\"#m4f2baa1b56\" y=\"190.949564\"/>\r\n      </g>\r\n     </g>\r\n     <g id=\"text_13\">\r\n      <!-- 80 -->\r\n      <g transform=\"translate(13.5625 194.748782)scale(0.1 -0.1)\">\r\n       <use xlink:href=\"#DejaVuSans-56\"/>\r\n       <use x=\"63.623047\" xlink:href=\"#DejaVuSans-48\"/>\r\n      </g>\r\n     </g>\r\n    </g>\r\n    <g id=\"ytick_6\">\r\n     <g id=\"line2d_14\">\r\n      <g>\r\n       <use style=\"stroke:#000000;stroke-width:0.8;\" x=\"33.2875\" xlink:href=\"#m4f2baa1b56\" y=\"235.93715\"/>\r\n      </g>\r\n     </g>\r\n     <g id=\"text_14\">\r\n      <!-- 100 -->\r\n      <g transform=\"translate(7.2 239.736369)scale(0.1 -0.1)\">\r\n       <use xlink:href=\"#DejaVuSans-49\"/>\r\n       <use x=\"63.623047\" xlink:href=\"#DejaVuSans-48\"/>\r\n       <use x=\"127.246094\" xlink:href=\"#DejaVuSans-48\"/>\r\n      </g>\r\n     </g>\r\n    </g>\r\n    <g id=\"ytick_7\">\r\n     <g id=\"line2d_15\">\r\n      <g>\r\n       <use style=\"stroke:#000000;stroke-width:0.8;\" x=\"33.2875\" xlink:href=\"#m4f2baa1b56\" y=\"280.924736\"/>\r\n      </g>\r\n     </g>\r\n     <g id=\"text_15\">\r\n      <!-- 120 -->\r\n      <g transform=\"translate(7.2 284.723955)scale(0.1 -0.1)\">\r\n       <use xlink:href=\"#DejaVuSans-49\"/>\r\n       <use x=\"63.623047\" xlink:href=\"#DejaVuSans-50\"/>\r\n       <use x=\"127.246094\" xlink:href=\"#DejaVuSans-48\"/>\r\n      </g>\r\n     </g>\r\n    </g>\r\n    <g id=\"ytick_8\">\r\n     <g id=\"line2d_16\">\r\n      <g>\r\n       <use style=\"stroke:#000000;stroke-width:0.8;\" x=\"33.2875\" xlink:href=\"#m4f2baa1b56\" y=\"325.912322\"/>\r\n      </g>\r\n     </g>\r\n     <g id=\"text_16\">\r\n      <!-- 140 -->\r\n      <g transform=\"translate(7.2 329.711541)scale(0.1 -0.1)\">\r\n       <use xlink:href=\"#DejaVuSans-49\"/>\r\n       <use x=\"63.623047\" xlink:href=\"#DejaVuSans-52\"/>\r\n       <use x=\"127.246094\" xlink:href=\"#DejaVuSans-48\"/>\r\n      </g>\r\n     </g>\r\n    </g>\r\n   </g>\r\n   <g id=\"patch_3\">\r\n    <path d=\"M 33.2875 336.034529 \r\nL 33.2875 9.874529 \r\n\" style=\"fill:none;stroke:#000000;stroke-linecap:square;stroke-linejoin:miter;stroke-width:0.8;\"/>\r\n   </g>\r\n   <g id=\"patch_4\">\r\n    <path d=\"M 359.4475 336.034529 \r\nL 359.4475 9.874529 \r\n\" style=\"fill:none;stroke:#000000;stroke-linecap:square;stroke-linejoin:miter;stroke-width:0.8;\"/>\r\n   </g>\r\n   <g id=\"patch_5\">\r\n    <path d=\"M 33.2875 336.034529 \r\nL 359.4475 336.034529 \r\n\" style=\"fill:none;stroke:#000000;stroke-linecap:square;stroke-linejoin:miter;stroke-width:0.8;\"/>\r\n   </g>\r\n   <g id=\"patch_6\">\r\n    <path d=\"M 33.2875 9.874529 \r\nL 359.4475 9.874529 \r\n\" style=\"fill:none;stroke:#000000;stroke-linecap:square;stroke-linejoin:miter;stroke-width:0.8;\"/>\r\n   </g>\r\n  </g>\r\n </g>\r\n <defs>\r\n  <clipPath id=\"p3906bfbc07\">\r\n   <rect height=\"326.16\" width=\"326.16\" x=\"33.2875\" y=\"9.874529\"/>\r\n  </clipPath>\r\n </defs>\r\n</svg>\r\n",
      "image/png": "[encoded data removed]"
     },
     "metadata": {
      "needs_background": "light"
     }
    }
   ],
   "source": [
    "ground_truth = imshow(classes=y, figsize=(6, 6))"
   ]
  },
  {
   "cell_type": "code",
   "execution_count": 24,
   "metadata": {},
   "outputs": [],
   "source": [
    "# np.append(arr, values, axis=0)  \n",
    "# arr，values都将先展平成一维数组,然后沿着axis=0的方向在arr后添加values"
   ]
  },
  {
   "cell_type": "code",
   "execution_count": 25,
   "metadata": {
    "scrolled": false
   },
   "outputs": [
    {
     "output_type": "stream",
     "name": "stdout",
     "text": [
      "(7919, 5, 5, 30)\n"
     ]
    }
   ],
   "source": [
    "# Preprocess Data\n",
    "XPatches, yPatches = createPatches(X, y, windowSize=windowSize) \n",
    "# print(XPatches.shape, yPatches.shape)\n",
    "X_train, X_test, y_train, y_test = splitTrainTestSet(XPatches, yPatches,        \n",
    "                                                     y.max()-y.min(), testRatio)\n",
    "\n",
    "# print(X_train.shape, X_test.shape, y_train.shape, y_test.shape)\n",
    "X_all = np.append(X_train, X_test, axis=0)                    # (10366, 5, 5, 30)\n",
    "y_all = np.append(y_train, y_test, axis=0)                     # (10366,)\n",
    "X_train, y_train = oversampleWeakClasses(X_train, y_train)\n",
    "X_train, scaler = standartizeData(X_train)\n",
    "# print(X_train.shape, y_train.shape)\n",
    "# # X_all, y_all = oversampleWeakClasses(X_all, y_all)\n",
    "X_train = AugmentData(X_train)\n",
    "print(X_train.shape)\n",
    "# # X_all = AugmentData(X_all)"
   ]
  },
  {
   "cell_type": "code",
   "execution_count": 26,
   "metadata": {},
   "outputs": [],
   "source": [
    "# save Preprocessed Data to file\n",
    "savePreprocessedData('predata', X_train, X_test, y_train, y_test, \n",
    "                     X_all, y_all, windowSize = windowSize, \n",
    "                     wasPCAapplied=True, numPCAComponents = numComponents, \n",
    "                     testRatio = testRatio)"
   ]
  },
  {
   "cell_type": "code",
   "execution_count": null,
   "metadata": {},
   "outputs": [],
   "source": []
  }
 ],
 "metadata": {
  "kernelspec": {
   "name": "python3",
   "display_name": "Python 3.8.6 64-bit ('tensorflow2': conda)",
   "metadata": {
    "interpreter": {
     "hash": "9ecbc95d31df1b277e5ec566a835865c3a9a253da4266404bdbc6ee7e31406f4"
    }
   }
  },
  "language_info": {
   "codemirror_mode": {
    "name": "ipython",
    "version": 3
   },
   "file_extension": ".py",
   "mimetype": "text/x-python",
   "name": "python",
   "nbconvert_exporter": "python",
   "pygments_lexer": "ipython3",
   "version": "3.8.6-final"
  }
 },
 "nbformat": 4,
 "nbformat_minor": 2
}