{
 "metadata": {
  "language_info": {
   "codemirror_mode": {
    "name": "ipython",
    "version": 3
   },
   "file_extension": ".py",
   "mimetype": "text/x-python",
   "name": "python",
   "nbconvert_exporter": "python",
   "pygments_lexer": "ipython3",
   "version": 3
  },
  "orig_nbformat": 2
 },
 "nbformat": 4,
 "nbformat_minor": 2,
 "cells": [
  {
   "source": [
    "# mobile V2"
   ],
   "cell_type": "markdown",
   "metadata": {}
  },
  {
   "cell_type": "code",
   "execution_count": null,
   "metadata": {},
   "outputs": [],
   "source": [
    "from tensorflow.keras import layers, Model, Sequential"
   ]
  },
  {
   "cell_type": "code",
   "execution_count": null,
   "metadata": {},
   "outputs": [],
   "source": [
    "def _make_divisible(ch, divisor=8, min_ch=None):\n",
    "    \"\"\"\n",
    "    This function is taken from the original tf repo.\n",
    "    It ensures that all layers have a channel number that is divisible by 8\n",
    "    It can be seen here:\n",
    "    https://github.com/tensorflow/models/blob/master/research/slim/nets/mobilenet/mobilenet.py\n",
    "    \"\"\"\n",
    "    if min_ch is None:\n",
    "        min_ch = divisor\n",
    "    new_ch = max(min_ch, int(ch + divisor / 2) // divisor * divisor)\n",
    "    # Make sure that round down does not go down by more than 10%.\n",
    "    if new_ch < 0.9 * ch:\n",
    "        new_ch += divisor\n",
    "    return new_ch"
   ]
  },
  {
   "cell_type": "code",
   "execution_count": null,
   "metadata": {},
   "outputs": [],
   "source": [
    "class ConvBNReLU(layers.Layer):\n",
    "    def __init__(self, out_channel, kernel_size=3, stride=1, **kwargs):\n",
    "        super(ConvBNReLU, self).__init__(**kwargs)\n",
    "        self.conv = layers.Conv2D(filters=out_channel, kernel_size=kernel_size,\n",
    "                                  strides=stride, padding='SAME', use_bias=False, name='Conv2d')  # 迁移学习中调用权重信息用到 name\n",
    "        self.bn = layers.BatchNormalization(momentum=0.9, epsilon=1e-5, name='BatchNorm')\n",
    "        # ReLU6\n",
    "        self.activation = layers.ReLU(max_value=6.0)\n",
    "\n",
    "    def call(self, inputs, training=False, **kwargs):\n",
    "        x = self.conv(inputs)\n",
    "        x = self.bn(x, training=training)\n",
    "        x = self.activation(x)\n",
    "        return x"
   ]
  },
  {
   "cell_type": "code",
   "execution_count": null,
   "metadata": {},
   "outputs": [],
   "source": [
    "class InvertedResidual(layers.Layer):\n",
    "    # expand_ratio 控制特征矩阵的深度\n",
    "    def __init__(self, in_channel, out_channel, stride, expand_ratio, **kwargs):\n",
    "        super(InvertedResidual, self).__init__(**kwargs)\n",
    "        self.hidden_channel = in_channel * expand_ratio\n",
    "        self.use_shortcut = stride == 1 and in_channel == out_channel\n",
    "\n",
    "        layer_list = []\n",
    "        if expand_ratio != 1:\n",
    "            # 1x1 pointwise conv\n",
    "            layer_list.append(ConvBNReLU(out_channel=self.hidden_channel, kernel_size=1, name='expand'))\n",
    "\n",
    "        ## extend TODO\n",
    "        layer_list.extend([\n",
    "            # 3x3 depthwise conv\n",
    "            layers.DepthwiseConv2D(kernel_size=3, padding='SAME', strides=stride,\n",
    "                                   use_bias=False, name='depthwise'),\n",
    "            layers.BatchNormalization(momentum=0.9, epsilon=1e-5, name='depthwise/BatchNorm'),\n",
    "            layers.ReLU(max_value=6.0),\n",
    "            # 1x1 pointwise conv(linear)\n",
    "            layers.Conv2D(filters=out_channel, kernel_size=1, strides=1,\n",
    "                          padding='SAME', use_bias=False, name='project'),\n",
    "            layers.BatchNormalization(momentum=0.9, epsilon=1e-5, name='project/BatchNorm')\n",
    "        ])\n",
    "        # 主分支的输出\n",
    "        self.main_branch = Sequential(layer_list, name='expanded_conv')\n",
    "\n",
    "    def call(self, inputs, **kwargs):\n",
    "        if self.use_shortcut:\n",
    "            return inputs + self.main_branch(inputs)\n",
    "        else:\n",
    "            return self.main_branch(inputs)"
   ]
  },
  {
   "cell_type": "code",
   "execution_count": null,
   "metadata": {},
   "outputs": [],
   "source": [
    "# 模型框架\n",
    "# alpha=1.0 调节卷积核个数，round_nearest 调整卷积个数为 8 的倍数\n",
    "def MobileNetV2(im_height=224, im_width=224, num_classes=1000, alpha=1.0, round_nearest=8):\n",
    "    block = InvertedResidual\n",
    "    input_channel = _make_divisible(32 * alpha, round_nearest)\n",
    "    last_channel = _make_divisible(1280 * alpha, round_nearest)\n",
    "    \n",
    "    # t 扩展因子， c 输入特征的深度， n bottleneck 的重复次数\n",
    "    inverted_residual_setting = [\n",
    "        # t, c, n, s\n",
    "        [1, 16, 1, 1],\n",
    "        [6, 24, 2, 2],\n",
    "        [6, 32, 3, 2],\n",
    "        [6, 64, 4, 2],\n",
    "        [6, 96, 3, 1],\n",
    "        [6, 160, 3, 2],\n",
    "        [6, 320, 1, 1],\n",
    "    ]\n",
    "\n",
    "    input_image = layers.Input(shape=(im_height, im_width, 3), dtype='float32')\n",
    "    # conv1\n",
    "    x = ConvBNReLU(input_channel, stride=2, name='Conv')(input_image)   # 此处默认卷积核大小为 3\n",
    "    # building inverted residual residual blockes\n",
    "    for t, c, n, s in inverted_residual_setting:\n",
    "        output_channel = _make_divisible(c * alpha, round_nearest)\n",
    "        for i in range(n):\n",
    "            stride = s if i == 0 else 1\n",
    "            x = block(x.shape[-1], output_channel, stride, expand_ratio=t)(x)\n",
    "    # building last several layers\n",
    "    x = ConvBNReLU(last_channel, kernel_size=1, name='Conv_1')(x)\n",
    "\n",
    "    # building classifier\n",
    "    x = layers.GlobalAveragePooling2D()(x)  # pool + flatten\n",
    "    x = layers.Dropout(0.2)(x)\n",
    "    output = layers.Dense(num_classes, name='Logits')(x)\n",
    "\n",
    "    model = Model(inputs=input_image, outputs=output)\n",
    "    return model"
   ]
  }
 ]
}