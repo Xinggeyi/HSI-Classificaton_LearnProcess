{
 "metadata": {
  "language_info": {
   "codemirror_mode": {
    "name": "ipython",
    "version": 3
   },
   "file_extension": ".py",
   "mimetype": "text/x-python",
   "name": "python",
   "nbconvert_exporter": "python",
   "pygments_lexer": "ipython3",
   "version": "3.8.6-final"
  },
  "orig_nbformat": 2,
  "kernelspec": {
   "name": "python3",
   "display_name": "Python 3.8.6 64-bit",
   "metadata": {
    "interpreter": {
     "hash": "9ecbc95d31df1b277e5ec566a835865c3a9a253da4266404bdbc6ee7e31406f4"
    }
   }
  }
 },
 "nbformat": 4,
 "nbformat_minor": 2,
 "cells": [
  {
   "cell_type": "code",
   "execution_count": null,
   "metadata": {},
   "outputs": [],
   "source": [
    "import numpy as np\n",
    "import matplotlib.pyplot as plt\n",
    "\n",
    "\n",
    "a = np.array(\n",
    " [[2115, 0, 14, 0, 2, 5, 43, 43, 1],\n",
    " [1, 5730, 0, 41, 0, 1222, 0, 3, 0],\n",
    " [28, 5, 1772, 0, 0, 1, 0, 156, 0],\n",
    " [0, 247, 0, 2795, 0, 1, 0, 0, 0],\n",
    " [9, 0, 0, 1, 7141, 0, 0, 0, 0],\n",
    " [56, 1264, 1,17, 0, 4590, 0, 9, 0],\n",
    " [173, 0, 0, 0, 2, 0, 1084, 0, 0],\n",
    " [349, 3, 112, 0, 0, 10, 3, 3271, 0],\n",
    " [0, 0, 0, 0, 0, 0, 0, 0, 746]])\n",
    "a.shape\n",
    "# a = a[:, np.newaxis]\n",
    "# a.astype(float)\n",
    "plt.matshow(a, cmap=plt.cm.GnBu) #画混淆矩阵图，配色风格使用\n",
    "plt.axis(\"off\")\n",
    "# plt.show()\n",
    "# plt.savefig(r'./xx.png', dpi=600, format='png')"
   ]
  },
  {
   "source": [
    "验证结果不能随心所欲的按照自己想要的比例划分训练集和测试集"
   ],
   "cell_type": "markdown",
   "metadata": {}
  },
  {
   "cell_type": "code",
   "execution_count": null,
   "metadata": {},
   "outputs": [],
   "source": [
    "import numpy as np\n",
    "import matplotlib.pyplot as plt\n",
    "from sklearn.model_selection import train_test_split"
   ]
  },
  {
   "cell_type": "code",
   "execution_count": null,
   "metadata": {},
   "outputs": [],
   "source": [
    "X, y = np.arange(60).reshape((20, 3)), range(20)"
   ]
  },
  {
   "cell_type": "code",
   "execution_count": null,
   "metadata": {},
   "outputs": [],
   "source": [
    "X, y"
   ]
  },
  {
   "cell_type": "code",
   "execution_count": null,
   "metadata": {},
   "outputs": [],
   "source": [
    "y = np.array([0,0,0,0,0,0,1,1,1,1,1,1,2,2,1,1,1,1,3,3])\n",
    "y"
   ]
  },
  {
   "cell_type": "code",
   "execution_count": null,
   "metadata": {},
   "outputs": [],
   "source": [
    "ratio = np.array([])\n",
    "num = 0"
   ]
  },
  {
   "cell_type": "code",
   "execution_count": null,
   "metadata": {},
   "outputs": [],
   "source": [
    "for i in range(4):\n",
    "    num = num + np.zeros((1, 5))\n",
    "    ratio = np.append(ratio, num)\n",
    "    num += 1"
   ]
  },
  {
   "cell_type": "code",
   "execution_count": null,
   "metadata": {},
   "outputs": [],
   "source": [
    "ratio = ratio.astype('int')\n",
    "ratio"
   ]
  },
  {
   "cell_type": "code",
   "execution_count": null,
   "metadata": {},
   "outputs": [],
   "source": [
    "ratio2 = np.array([0,1,2,3])\n",
    "ratio2"
   ]
  },
  {
   "cell_type": "code",
   "execution_count": null,
   "metadata": {},
   "outputs": [],
   "source": [
    "# X_train, X_test ,y_train, y_test= train_test_split(X, y, test_size=8, random_state = 20, shuffle=True, stratify=y)\n",
    "\n",
    "# 将 stratify = X 就是按照X中的比例分配\n",
    "# 将 stratify = y 就是按照y中的比例分配\n",
    "# X_train, X_test, y_train, y_test= train_test_split(X, y, test_size=4, stratify=[0, 0, 0, 0, 0, 1, 1, 1, 1, 1, 2, 2, 2, 2, 2, 3, 3, 3, 3, 3])\n",
    "X_train, X_test ,y_train, y_test= train_test_split(X, y, test_size=4, shuffle=True, stratify=y)\n",
    "y_test"
   ]
  },
  {
   "cell_type": "code",
   "execution_count": null,
   "metadata": {},
   "outputs": [],
   "source": [
    "y_train"
   ]
  },
  {
   "cell_type": "code",
   "execution_count": null,
   "metadata": {},
   "outputs": [],
   "source": [
    "y_test"
   ]
  },
  {
   "cell_type": "code",
   "execution_count": null,
   "metadata": {},
   "outputs": [],
   "source": []
  },
  {
   "cell_type": "code",
   "execution_count": null,
   "metadata": {},
   "outputs": [],
   "source": []
  }
 ]
}