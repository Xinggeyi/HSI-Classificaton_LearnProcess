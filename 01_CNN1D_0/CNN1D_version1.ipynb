{
 "metadata": {
  "language_info": {
   "codemirror_mode": {
    "name": "ipython",
    "version": 3
   },
   "file_extension": ".py",
   "mimetype": "text/x-python",
   "name": "python",
   "nbconvert_exporter": "python",
   "pygments_lexer": "ipython3",
   "version": "3.8.6-final"
  },
  "orig_nbformat": 2,
  "kernelspec": {
   "name": "python3",
   "display_name": "Python 3.8.6 64-bit ('tensorflow2': conda)",
   "metadata": {
    "interpreter": {
     "hash": "9ecbc95d31df1b277e5ec566a835865c3a9a253da4266404bdbc6ee7e31406f4"
    }
   }
  }
 },
 "nbformat": 4,
 "nbformat_minor": 2,
 "cells": [
  {
   "source": [
    "# 此版本为选择200个训练样本的版本"
   ],
   "cell_type": "markdown",
   "metadata": {}
  },
  {
   "cell_type": "code",
   "execution_count": 1,
   "metadata": {},
   "outputs": [],
   "source": [
    "import pathlib,random\n",
    "import scipy.io as sio\n",
    "import numpy as np\n",
    "from sklearn.metrics import classification_report, confusion_matrix\n",
    "import tensorflow as tf\n",
    "import os"
   ]
  },
  {
   "cell_type": "code",
   "execution_count": 2,
   "metadata": {},
   "outputs": [],
   "source": [
    "# 数据标准化\n",
    "def max_min(x):\n",
    "    return (x-np.min(x))/(np.max(x)-np.min(x))"
   ]
  },
  {
   "cell_type": "code",
   "execution_count": 3,
   "metadata": {},
   "outputs": [
    {
     "output_type": "stream",
     "name": "stdout",
     "text": [
      "DataSet salinas_corrected shape is (512, 217, 204)\n"
     ]
    }
   ],
   "source": [
    "# 定义所有常数    \n",
    "# 这里完成获取数据操作\n",
    "BATCHSZ = 32\n",
    "train_num = 200\n",
    "seed = 666\n",
    "data_name = r'Salinas_corrected'\n",
    "data_gt_name = r'Salinas'\n",
    "result = 'result'\n",
    "fix_seed = False\n",
    "cube_size = 1\n",
    "data_dict = sio.loadmat(r\"E:\\Eric_HSI\\hyperspectral_datasets\\Salinas_corrected.mat\")\n",
    "data_gt_dict = sio.loadmat(r\"E:\\Eric_HSI\\hyperspectral_datasets\\Salinas_gt.mat\")\n",
    "\n",
    "# startswith 检查字符串是否以 \"————\" 开头, 取出数据集\n",
    "data_name = [t for t in list(data_dict.keys()) if not t.startswith('__')][0]\n",
    "data_gt_name = [t for t in list(data_gt_dict.keys()) if not t.startswith('__')][0]\n",
    "\n",
    "data = data_dict[data_name]\n",
    "\n",
    "# 标准化\n",
    "data = max_min(data).astype(np.float32)\n",
    "data_gt = data_gt_dict[data_gt_name].astype(np.int32)\n",
    "\n",
    "dim = data.shape[2]\n",
    "print('DataSet %s shape is %s'%(data_name,data.shape))"
   ]
  },
  {
   "cell_type": "code",
   "execution_count": 4,
   "metadata": {},
   "outputs": [
    {
     "output_type": "execute_result",
     "data": {
      "text/plain": [
       "dict_keys(['__header__', '__version__', '__globals__', 'salinas_corrected'])"
      ]
     },
     "metadata": {},
     "execution_count": 4
    }
   ],
   "source": [
    "data_dict.keys()"
   ]
  },
  {
   "cell_type": "code",
   "execution_count": 5,
   "metadata": {},
   "outputs": [
    {
     "output_type": "execute_result",
     "data": {
      "text/plain": [
       "0"
      ]
     },
     "metadata": {},
     "execution_count": 5
    }
   ],
   "source": [
    "w_size = 1\n",
    "t = w_size // 2\n",
    "t"
   ]
  },
  {
   "cell_type": "code",
   "execution_count": 6,
   "metadata": {},
   "outputs": [],
   "source": [
    "# 给出 row，col，返回 w_size 大小的cube???\n",
    "# row, col 为像素值的位置索引\n",
    "\n",
    "# 此处为1D CNN， 所定义的w_size 为 1\n",
    "def neighbor_add(row, col, w_size=3):  \n",
    "    t = w_size // 2\n",
    "    # 初始化立方体 shape = 1, 1, 204\n",
    "    cube = np.zeros(shape=[w_size, w_size, data.shape[2]])\n",
    "    for i in range(-t, t + 1):\n",
    "        for j in range(-t, t + 1):\n",
    "            # 如果创建的 cube 在图像之外\n",
    "            if i + row < 0 or i + row >= data.shape[0] or j + col < 0 or j + col >= data.shape[1]:\n",
    "                cube[i + t, j + t] = data[row, col]\n",
    "            else:\n",
    "                cube[i + t, j + t] = data[i + row, j + col]\n",
    "    return cube"
   ]
  },
  {
   "source": [
    "# 得到全部用于预测的数据,除去0，不用分类"
   ],
   "cell_type": "markdown",
   "metadata": {}
  },
  {
   "cell_type": "code",
   "execution_count": 7,
   "metadata": {},
   "outputs": [
    {
     "output_type": "stream",
     "name": "stdout",
     "text": [
      "{1: [], 2: [], 3: [], 4: [], 5: [], 6: [], 7: [], 8: [], 9: [], 10: [], 11: [], 12: [], 13: [], 14: [], 15: [], 16: []}\n",
      "data-ID 1: 2009\n",
      "data-ID 2: 3726\n",
      "data-ID 3: 1976\n",
      "data-ID 4: 1394\n",
      "data-ID 5: 2678\n",
      "data-ID 6: 3959\n",
      "data-ID 7: 3579\n",
      "data-ID 8: 11271\n",
      "data-ID 9: 6203\n",
      "data-ID 10: 3278\n",
      "data-ID 11: 1068\n",
      "data-ID 12: 1927\n",
      "data-ID 13: 916\n",
      "data-ID 14: 1070\n",
      "data-ID 15: 7268\n",
      "data-ID 16: 1807\n",
      "total data 54129\n"
     ]
    }
   ],
   "source": [
    "# 这个时分类版本 \n",
    "class_num = np.max(data_gt)    \n",
    "data_pos = {i: [] for i in range(1, class_num + 1)}\n",
    "print(data_pos)\n",
    "\n",
    "for i in range(data_gt.shape[0]):\n",
    "    for j in range(data_gt.shape[1]):\n",
    "        for k in range(1, class_num + 1):\n",
    "            if data_gt[i, j] == k:\n",
    "                data_pos[k].append([i, j])\n",
    "\n",
    "data_t = 0\n",
    "data_pos_all = list()\n",
    "\n",
    "for k,v in data_pos.items():\n",
    "    print('data-ID %s: %s'%(k,len(v)))\n",
    "    data_t += len(v)\n",
    "    for t in v:\n",
    "        data_pos_all.append([k,t])\n",
    "print('total data %s'%data_t)"
   ]
  },
  {
   "cell_type": "code",
   "execution_count": 8,
   "metadata": {},
   "outputs": [
    {
     "output_type": "stream",
     "name": "stdout",
     "text": [
      "{1: []}\ndata-ID 1: 54129\ntotal data 54129\n"
     ]
    }
   ],
   "source": [
    "# 这个是未分类版本\n",
    "class_num = np.max(data_gt)\n",
    "data_pos = {i: [] for i in range(1, 2)}\n",
    "print(data_pos)\n",
    "\n",
    "for i in range(data_gt.shape[0]):\n",
    "    for j in range(data_gt.shape[1]):\n",
    "        if data_gt[i, j]:\n",
    "            data_pos[1].append([i, j])\n",
    "data_t = 0\n",
    "data_pos_all = list()\n",
    "\n",
    "for k,v in data_pos.items():\n",
    "    print('data-ID %s: %s'%(k,len(v)))\n",
    "    data_t += len(v)\n",
    "    for t in v:\n",
    "        data_pos_all.append([k,t])\n",
    "print('total data %s'%data_t)"
   ]
  },
  {
   "cell_type": "code",
   "execution_count": 9,
   "metadata": {},
   "outputs": [],
   "source": [
    "# 创建一个空的ndarray 用于装数据\n",
    "data_all = np.zeros((54129, 1, 1, 204))\n",
    "data_label_all = np.zeros((54129)).astype(\"int\")"
   ]
  },
  {
   "cell_type": "code",
   "execution_count": 10,
   "metadata": {},
   "outputs": [
    {
     "output_type": "execute_result",
     "data": {
      "text/plain": [
       "((54129, 1, 1, 204), (54129,))"
      ]
     },
     "metadata": {},
     "execution_count": 10
    }
   ],
   "source": [
    "k = 0\n",
    "for i in data_pos_all:\n",
    "    # print(i)\n",
    "    # 取出训练集中的一个数，随着 i 的改变， 所取的数也会发生改变\n",
    "    [r,c] = i[1]\n",
    "    # print(i[1])\n",
    "    # print(r, c)\n",
    "    # pixel_t = neighbor_add(r,c,w_size=cube_size).astype(np.float32).tostring()\n",
    "    pixel_t = neighbor_add(r,c,w_size=cube_size).astype(np.float32)\n",
    "    data_all[k] = pixel_t\n",
    "    # print(pixel_t.shape)\n",
    "    # print(train[1000])\n",
    "    \n",
    "    # 标签值 - 1\n",
    "    label_t = np.array(np.array(i[0] - 1).astype(np.int64))\n",
    "    data_label_all[k] = label_t\n",
    "    k = k+ 1\n",
    "\n",
    "\n",
    "data_all.shape, data_label_all.shape"
   ]
  },
  {
   "source": [
    "# 得到训练集和测试集"
   ],
   "cell_type": "markdown",
   "metadata": {}
  },
  {
   "cell_type": "code",
   "execution_count": 11,
   "metadata": {},
   "outputs": [
    {
     "output_type": "stream",
     "name": "stdout",
     "text": [
      "{1: [], 2: [], 3: [], 4: [], 5: [], 6: [], 7: [], 8: [], 9: [], 10: [], 11: [], 12: [], 13: [], 14: [], 15: [], 16: []}\n"
     ]
    }
   ],
   "source": [
    "# 得到类别数 16类，从1开始\n",
    "# DataSet salinas_corrected shape is (512, 217, 204)\n",
    "# 在这里已经把标签为 0 的背景给删除了\n",
    "\n",
    "class_num = np.max(data_gt)    \n",
    "\n",
    "data_pos = {i: [] for i in range(1, class_num + 1)}\n",
    "train_pos = {i: [] for i in range(1, class_num + 1)}\n",
    "test_pos = {i: [] for i in range(1, class_num + 1)}\n",
    "\n",
    "print(data_pos)\n",
    "\n",
    "for i in range(data_gt.shape[0]):\n",
    "    for j in range(data_gt.shape[1]):\n",
    "        for k in range(1, class_num + 1):\n",
    "            if data_gt[i, j] == k:\n",
    "                data_pos[k].append([i, j])"
   ]
  },
  {
   "cell_type": "code",
   "execution_count": 12,
   "metadata": {},
   "outputs": [
    {
     "output_type": "execute_result",
     "data": {
      "text/plain": [
       "dict_keys([1, 2, 3, 4, 5, 6, 7, 8, 9, 10, 11, 12, 13, 14, 15, 16])"
      ]
     },
     "metadata": {},
     "execution_count": 12
    }
   ],
   "source": [
    "data_pos.keys()"
   ]
  },
  {
   "cell_type": "code",
   "execution_count": 13,
   "metadata": {
    "tags": []
   },
   "outputs": [
    {
     "output_type": "stream",
     "name": "stdout",
     "text": [
      "1,2,3,4,5,6,7,8,9,10,11,12,13,14,15,16,\n2009,3726,1976,1394,2678,3959,3579,11271,6203,3278,1068,1927,916,1070,7268,1807,"
     ]
    }
   ],
   "source": [
    "for k, v in data_pos.items():\n",
    "    print(k, end=\",\")\n",
    "\n",
    "print()\n",
    "for k, v in data_pos.items():\n",
    "    print(len(v), end=\",\")"
   ]
  },
  {
   "cell_type": "code",
   "execution_count": 14,
   "metadata": {},
   "outputs": [],
   "source": [
    "# 是否用随机种子\n",
    "if fix_seed:\n",
    "    random.seed(seed)\n",
    "\n",
    "# 划分训练集和测试集, 一共 3200 个\n",
    "for k, v in data_pos.items():\n",
    "    if len(v)<train_num:\n",
    "        train_num = 15\n",
    "    else:\n",
    "        train_num = train_num\n",
    "    train_pos[k] = random.sample(v, int(train_num))\n",
    "    test_pos[k] = [i for i in v if i not in train_pos[k]]"
   ]
  },
  {
   "cell_type": "code",
   "execution_count": 15,
   "metadata": {},
   "outputs": [
    {
     "output_type": "execute_result",
     "data": {
      "text/plain": [
       "16"
      ]
     },
     "metadata": {},
     "execution_count": 15
    }
   ],
   "source": [
    "len(train_pos.items())"
   ]
  },
  {
   "cell_type": "code",
   "execution_count": 16,
   "metadata": {},
   "outputs": [],
   "source": [
    "train_pos_all = list()\n",
    "test_pos_all = list()\n",
    "for k,v in train_pos.items():\n",
    "    for t in v:\n",
    "        train_pos_all.append([k,t])\n",
    "for k,v in test_pos.items():\n",
    "    for t in v:\n",
    "        test_pos_all.append([k,t])"
   ]
  },
  {
   "cell_type": "code",
   "execution_count": 17,
   "metadata": {},
   "outputs": [
    {
     "output_type": "execute_result",
     "data": {
      "text/plain": [
       "[[1, [283, 5]],\n",
       " [1, [244, 39]],\n",
       " [1, [270, 13]],\n",
       " [1, [290, 0]],\n",
       " [1, [279, 4]],\n",
       " [1, [263, 26]],\n",
       " [1, [252, 24]],\n",
       " [1, [237, 80]],\n",
       " [1, [264, 12]],\n",
       " [1, [251, 42]]]"
      ]
     },
     "metadata": {},
     "execution_count": 17
    }
   ],
   "source": [
    "train_pos_all[:10]"
   ]
  },
  {
   "cell_type": "code",
   "execution_count": 18,
   "metadata": {},
   "outputs": [
    {
     "output_type": "stream",
     "name": "stdout",
     "text": [
      "16\n[503, 12]\n"
     ]
    }
   ],
   "source": [
    "[r,c] = train_pos_all[3199]\n",
    "print(r)\n",
    "print(c)"
   ]
  },
  {
   "cell_type": "code",
   "execution_count": 19,
   "metadata": {},
   "outputs": [
    {
     "output_type": "stream",
     "name": "stdout",
     "text": [
      "traindata-ID 1: 200; testdata-ID 1: 1809\ntraindata-ID 2: 200; testdata-ID 2: 3526\ntraindata-ID 3: 200; testdata-ID 3: 1776\ntraindata-ID 4: 200; testdata-ID 4: 1194\ntraindata-ID 5: 200; testdata-ID 5: 2478\ntraindata-ID 6: 200; testdata-ID 6: 3759\ntraindata-ID 7: 200; testdata-ID 7: 3379\ntraindata-ID 8: 200; testdata-ID 8: 11071\ntraindata-ID 9: 200; testdata-ID 9: 6003\ntraindata-ID 10: 200; testdata-ID 10: 3078\ntraindata-ID 11: 200; testdata-ID 11: 868\ntraindata-ID 12: 200; testdata-ID 12: 1727\ntraindata-ID 13: 200; testdata-ID 13: 716\ntraindata-ID 14: 200; testdata-ID 14: 870\ntraindata-ID 15: 200; testdata-ID 15: 7068\ntraindata-ID 16: 200; testdata-ID 16: 1607\ntotal train 3200, total test 50929\n"
     ]
    }
   ],
   "source": [
    "train_t = 0\n",
    "test_t = 0\n",
    "for (k1,v1),(k2,v2) in zip(train_pos.items(), test_pos.items()):\n",
    "    print('traindata-ID %s: %s; testdata-ID %s: %s'%(k1,len(v1),k2,len(v2)))\n",
    "    train_t += len(v1)\n",
    "    test_t += len(v2)\n",
    "print('total train %s, total test %s'%(train_t,test_t))\n",
    "# for k,v in self.test_pos.items():\n",
    "#     print('testdata-ID %s: %s'%(k,len(v)))"
   ]
  },
  {
   "cell_type": "code",
   "execution_count": 20,
   "metadata": {},
   "outputs": [],
   "source": [
    "# 创建一个空的ndarray 用于装数据\n",
    "train = np.zeros((3200, 1, 1, 204)).astype(np.float32)\n",
    "train_label = np.zeros((3200)).astype(np.int64)\n",
    "\n",
    "test = np.zeros((50929, 1, 1, 204)).astype(np.float32)\n",
    "test_label = np.zeros((50929)).astype(np.int64)"
   ]
  },
  {
   "cell_type": "code",
   "execution_count": 21,
   "metadata": {},
   "outputs": [
    {
     "output_type": "execute_result",
     "data": {
      "text/plain": [
       "(3200, 1, 1, 204)"
      ]
     },
     "metadata": {},
     "execution_count": 21
    }
   ],
   "source": [
    "train.shape"
   ]
  },
  {
   "cell_type": "code",
   "execution_count": 22,
   "metadata": {},
   "outputs": [
    {
     "output_type": "execute_result",
     "data": {
      "text/plain": [
       "((3200, 1, 1, 204), (1, 1, 204))"
      ]
     },
     "metadata": {},
     "execution_count": 22
    }
   ],
   "source": [
    "train[3199] = np.ones((1,1,204))\n",
    "train.shape, train[1].shape"
   ]
  },
  {
   "cell_type": "code",
   "execution_count": 23,
   "metadata": {},
   "outputs": [
    {
     "output_type": "execute_result",
     "data": {
      "text/plain": [
       "0"
      ]
     },
     "metadata": {},
     "execution_count": 23
    }
   ],
   "source": [
    "train_label[i]"
   ]
  },
  {
   "cell_type": "code",
   "execution_count": 24,
   "metadata": {
    "tags": []
   },
   "outputs": [],
   "source": [
    "# train data\n",
    "k = 0\n",
    "for i in train_pos_all:\n",
    "    # print(i)\n",
    "    # 取出训练集中的一个数，随着 i 的改变， 所取的数也会发生改变\n",
    "    [r,c] = i[1]\n",
    "    # print(i[1])\n",
    "    # print(r, c)\n",
    "    # pixel_t = neighbor_add(r,c,w_size=cube_size).astype(np.float32).tostring()\n",
    "    pixel_t = neighbor_add(r,c,w_size=cube_size).astype(np.float32)\n",
    "    train[k] = pixel_t\n",
    "    # print(pixel_t.shape)\n",
    "    # print(train[1000])\n",
    "    \n",
    "    # 标签值 - 1\n",
    "    label_t = np.array(np.array(i[0] - 1).astype(np.int64))\n",
    "    train_label[k] = label_t\n",
    "    k = k+ 1"
   ]
  },
  {
   "cell_type": "code",
   "execution_count": 25,
   "metadata": {},
   "outputs": [],
   "source": [
    "# test data\n",
    "k = 0\n",
    "for i in test_pos_all:\n",
    "    # 取出测试集中的一个数，随着 i 的改变， 所取的数也会发生改变\n",
    "    [r, c] = i[1]\n",
    "    # pixel_t = neighbor_add(r,c,w_size=cube_size).astype(np.float32).tostring()\n",
    "    pixel_t = neighbor_add(r,c,w_size=cube_size).astype(np.float32)\n",
    "    test[k] = pixel_t\n",
    "\n",
    "    label_t = np.array(np.array(i[0] - 1).astype(np.int64))\n",
    "    test_label[k] = label_t\n",
    "    # print('.', end='')\n",
    "    k = k+ 1"
   ]
  },
  {
   "cell_type": "code",
   "execution_count": 26,
   "metadata": {},
   "outputs": [
    {
     "output_type": "execute_result",
     "data": {
      "text/plain": [
       "((3200, 1, 1, 204), (50929, 1, 1, 204), (3200,), (50929, 1, 1, 204))"
      ]
     },
     "metadata": {},
     "execution_count": 26
    }
   ],
   "source": [
    "train.shape, test.shape, train_label.shape, test.shape"
   ]
  },
  {
   "cell_type": "code",
   "execution_count": 27,
   "metadata": {},
   "outputs": [
    {
     "output_type": "execute_result",
     "data": {
      "text/plain": [
       "((3200, 1, 1, 204), (3200,), (50929, 1, 1, 204), (50929,))"
      ]
     },
     "metadata": {},
     "execution_count": 27
    }
   ],
   "source": [
    "train.shape, train_label.shape, test.shape, test_label.shape"
   ]
  },
  {
   "cell_type": "code",
   "execution_count": 28,
   "metadata": {},
   "outputs": [],
   "source": [
    "train = np.expand_dims(train, 4)\n",
    "test = np.expand_dims(test, 4)"
   ]
  },
  {
   "cell_type": "code",
   "execution_count": 29,
   "metadata": {},
   "outputs": [
    {
     "output_type": "execute_result",
     "data": {
      "text/plain": [
       "((3200, 1, 1, 204, 1), (3200,), (50929, 1, 1, 204, 1), (50929,))"
      ]
     },
     "metadata": {},
     "execution_count": 29
    }
   ],
   "source": [
    "train.shape, train_label.shape, test.shape, test_label.shape"
   ]
  },
  {
   "cell_type": "code",
   "execution_count": 30,
   "metadata": {},
   "outputs": [],
   "source": [
    "# 创建dataset\n",
    "db_train = tf.data.Dataset.from_tensor_slices((train, train_label))\n",
    "db_test = tf.data.Dataset.from_tensor_slices((test, test_label))\n",
    "\n",
    "db_train = db_train.shuffle(3800).batch(batch_size=BATCHSZ).repeat()\n",
    "db_test = db_test.batch(batch_size=BATCHSZ)"
   ]
  },
  {
   "cell_type": "code",
   "execution_count": 31,
   "metadata": {},
   "outputs": [
    {
     "output_type": "execute_result",
     "data": {
      "text/plain": [
       "(<RepeatDataset shapes: ((None, 1, 1, 204, 1), (None,)), types: (tf.float32, tf.int64)>,\n",
       " <BatchDataset shapes: ((None, 1, 1, 204, 1), (None,)), types: (tf.float32, tf.int64)>)"
      ]
     },
     "metadata": {},
     "execution_count": 31
    }
   ],
   "source": [
    "db_train, db_test"
   ]
  },
  {
   "cell_type": "code",
   "execution_count": 32,
   "metadata": {},
   "outputs": [
    {
     "output_type": "execute_result",
     "data": {
      "text/plain": [
       "(1, 1, 204, 1)"
      ]
     },
     "metadata": {},
     "execution_count": 32
    }
   ],
   "source": [
    "train[1].shape"
   ]
  },
  {
   "cell_type": "code",
   "execution_count": 33,
   "metadata": {},
   "outputs": [],
   "source": [
    "model = tf.keras.Sequential([\n",
    "    tf.keras.layers.Conv3D(input_shape=train[1].shape, filters=32, kernel_size=(1, 1, 8), strides=(1, 1, 3), padding='valid', activation='relu'),\n",
    "    tf.keras.layers.BatchNormalization(),\n",
    "    tf.keras.layers.Conv3D(filters=64, kernel_size=(1, 1, 8), strides=(1, 1, 3), padding='valid', activation='relu'),\n",
    "    tf.keras.layers.BatchNormalization(),\n",
    "    tf.keras.layers.Conv3D(filters=128, kernel_size=(1, 1, 8), strides=(1, 1, 3), padding='valid', activation='relu'),\n",
    "    tf.keras.layers.BatchNormalization(),\n",
    "    tf.keras.layers.Flatten(),\n",
    "    tf.keras.layers.Dense(256, activation='relu'),\n",
    "    tf.keras.layers.Dense(256, activation='relu'),\n",
    "    tf.keras.layers.Dense(16, activation='softmax'),\n",
    "])"
   ]
  },
  {
   "cell_type": "code",
   "execution_count": 34,
   "metadata": {},
   "outputs": [],
   "source": [
    "reduce_lr = tf.keras.callbacks.ReduceLROnPlateau(monitor='val_loss', factor=0.6, patience=10, min_lr=0.000001, verbose=1)"
   ]
  },
  {
   "cell_type": "code",
   "execution_count": 35,
   "metadata": {},
   "outputs": [],
   "source": [
    "model.compile(optimizer=tf.keras.optimizers.Adam(lr = 0.001),  # 优化器的选择\n",
    "             loss='sparse_categorical_crossentropy',\n",
    "              metrics=['acc']\n",
    "             )"
   ]
  },
  {
   "cell_type": "code",
   "execution_count": 36,
   "metadata": {},
   "outputs": [],
   "source": [
    "BATCHSZ = 32"
   ]
  },
  {
   "cell_type": "code",
   "execution_count": 37,
   "metadata": {},
   "outputs": [
    {
     "output_type": "execute_result",
     "data": {
      "text/plain": [
       "3200"
      ]
     },
     "metadata": {},
     "execution_count": 37
    }
   ],
   "source": [
    "train.shape[0]"
   ]
  },
  {
   "cell_type": "code",
   "execution_count": 38,
   "metadata": {},
   "outputs": [
    {
     "output_type": "stream",
     "name": "stdout",
     "text": [
      "Epoch 1/10\n",
      "100/100 [==============================] - 2s 22ms/step - loss: 1.0263 - acc: 0.6156 - val_loss: 3.5697 - val_acc: 0.0339\n",
      "Epoch 2/10\n",
      "100/100 [==============================] - 2s 19ms/step - loss: 0.5712 - acc: 0.7763 - val_loss: 6.1933 - val_acc: 0.0339\n",
      "Epoch 3/10\n",
      "100/100 [==============================] - 2s 19ms/step - loss: 0.4994 - acc: 0.8062 - val_loss: 7.8116 - val_acc: 0.0339\n",
      "Epoch 4/10\n",
      " 88/100 [=========================>....] - ETA: 0s - loss: 0.4173 - acc: 0.8303"
     ]
    },
    {
     "output_type": "error",
     "ename": "KeyboardInterrupt",
     "evalue": "",
     "traceback": [
      "\u001b[1;31m---------------------------------------------------------------------------\u001b[0m",
      "\u001b[1;31mKeyboardInterrupt\u001b[0m                         Traceback (most recent call last)",
      "\u001b[1;32m<ipython-input-38-7e89d2628086>\u001b[0m in \u001b[0;36m<module>\u001b[1;34m\u001b[0m\n\u001b[1;32m----> 1\u001b[1;33m history = model.fit(db_train,\n\u001b[0m\u001b[0;32m      2\u001b[0m                     \u001b[0mbatch_size\u001b[0m\u001b[1;33m=\u001b[0m\u001b[0mBATCHSZ\u001b[0m\u001b[1;33m,\u001b[0m\u001b[1;33m\u001b[0m\u001b[1;33m\u001b[0m\u001b[0m\n\u001b[0;32m      3\u001b[0m                     \u001b[0msteps_per_epoch\u001b[0m\u001b[1;33m=\u001b[0m\u001b[1;36m3200\u001b[0m\u001b[1;33m//\u001b[0m\u001b[0mBATCHSZ\u001b[0m\u001b[1;33m,\u001b[0m\u001b[1;33m\u001b[0m\u001b[1;33m\u001b[0m\u001b[0m\n\u001b[0;32m      4\u001b[0m                     \u001b[0mepochs\u001b[0m\u001b[1;33m=\u001b[0m\u001b[1;36m10\u001b[0m\u001b[1;33m,\u001b[0m\u001b[1;33m\u001b[0m\u001b[1;33m\u001b[0m\u001b[0m\n\u001b[0;32m      5\u001b[0m                     \u001b[0mvalidation_data\u001b[0m\u001b[1;33m=\u001b[0m\u001b[0mdb_test\u001b[0m\u001b[1;33m,\u001b[0m\u001b[1;33m\u001b[0m\u001b[1;33m\u001b[0m\u001b[0m\n",
      "\u001b[1;32mC:\\ProgramData\\Miniconda3\\envs\\tensorflow2\\lib\\site-packages\\tensorflow\\python\\keras\\engine\\training.py\u001b[0m in \u001b[0;36m_method_wrapper\u001b[1;34m(self, *args, **kwargs)\u001b[0m\n\u001b[0;32m    106\u001b[0m   \u001b[1;32mdef\u001b[0m \u001b[0m_method_wrapper\u001b[0m\u001b[1;33m(\u001b[0m\u001b[0mself\u001b[0m\u001b[1;33m,\u001b[0m \u001b[1;33m*\u001b[0m\u001b[0margs\u001b[0m\u001b[1;33m,\u001b[0m \u001b[1;33m**\u001b[0m\u001b[0mkwargs\u001b[0m\u001b[1;33m)\u001b[0m\u001b[1;33m:\u001b[0m\u001b[1;33m\u001b[0m\u001b[1;33m\u001b[0m\u001b[0m\n\u001b[0;32m    107\u001b[0m     \u001b[1;32mif\u001b[0m \u001b[1;32mnot\u001b[0m \u001b[0mself\u001b[0m\u001b[1;33m.\u001b[0m\u001b[0m_in_multi_worker_mode\u001b[0m\u001b[1;33m(\u001b[0m\u001b[1;33m)\u001b[0m\u001b[1;33m:\u001b[0m  \u001b[1;31m# pylint: disable=protected-access\u001b[0m\u001b[1;33m\u001b[0m\u001b[1;33m\u001b[0m\u001b[0m\n\u001b[1;32m--> 108\u001b[1;33m       \u001b[1;32mreturn\u001b[0m \u001b[0mmethod\u001b[0m\u001b[1;33m(\u001b[0m\u001b[0mself\u001b[0m\u001b[1;33m,\u001b[0m \u001b[1;33m*\u001b[0m\u001b[0margs\u001b[0m\u001b[1;33m,\u001b[0m \u001b[1;33m**\u001b[0m\u001b[0mkwargs\u001b[0m\u001b[1;33m)\u001b[0m\u001b[1;33m\u001b[0m\u001b[1;33m\u001b[0m\u001b[0m\n\u001b[0m\u001b[0;32m    109\u001b[0m \u001b[1;33m\u001b[0m\u001b[0m\n\u001b[0;32m    110\u001b[0m     \u001b[1;31m# Running inside `run_distribute_coordinator` already.\u001b[0m\u001b[1;33m\u001b[0m\u001b[1;33m\u001b[0m\u001b[1;33m\u001b[0m\u001b[0m\n",
      "\u001b[1;32mC:\\ProgramData\\Miniconda3\\envs\\tensorflow2\\lib\\site-packages\\tensorflow\\python\\keras\\engine\\training.py\u001b[0m in \u001b[0;36mfit\u001b[1;34m(self, x, y, batch_size, epochs, verbose, callbacks, validation_split, validation_data, shuffle, class_weight, sample_weight, initial_epoch, steps_per_epoch, validation_steps, validation_batch_size, validation_freq, max_queue_size, workers, use_multiprocessing)\u001b[0m\n\u001b[0;32m   1121\u001b[0m                 \u001b[0mmodel\u001b[0m\u001b[1;33m=\u001b[0m\u001b[0mself\u001b[0m\u001b[1;33m,\u001b[0m\u001b[1;33m\u001b[0m\u001b[1;33m\u001b[0m\u001b[0m\n\u001b[0;32m   1122\u001b[0m                 steps_per_execution=self._steps_per_execution)\n\u001b[1;32m-> 1123\u001b[1;33m           val_logs = self.evaluate(\n\u001b[0m\u001b[0;32m   1124\u001b[0m               \u001b[0mx\u001b[0m\u001b[1;33m=\u001b[0m\u001b[0mval_x\u001b[0m\u001b[1;33m,\u001b[0m\u001b[1;33m\u001b[0m\u001b[1;33m\u001b[0m\u001b[0m\n\u001b[0;32m   1125\u001b[0m               \u001b[0my\u001b[0m\u001b[1;33m=\u001b[0m\u001b[0mval_y\u001b[0m\u001b[1;33m,\u001b[0m\u001b[1;33m\u001b[0m\u001b[1;33m\u001b[0m\u001b[0m\n",
      "\u001b[1;32mC:\\ProgramData\\Miniconda3\\envs\\tensorflow2\\lib\\site-packages\\tensorflow\\python\\keras\\engine\\training.py\u001b[0m in \u001b[0;36m_method_wrapper\u001b[1;34m(self, *args, **kwargs)\u001b[0m\n\u001b[0;32m    106\u001b[0m   \u001b[1;32mdef\u001b[0m \u001b[0m_method_wrapper\u001b[0m\u001b[1;33m(\u001b[0m\u001b[0mself\u001b[0m\u001b[1;33m,\u001b[0m \u001b[1;33m*\u001b[0m\u001b[0margs\u001b[0m\u001b[1;33m,\u001b[0m \u001b[1;33m**\u001b[0m\u001b[0mkwargs\u001b[0m\u001b[1;33m)\u001b[0m\u001b[1;33m:\u001b[0m\u001b[1;33m\u001b[0m\u001b[1;33m\u001b[0m\u001b[0m\n\u001b[0;32m    107\u001b[0m     \u001b[1;32mif\u001b[0m \u001b[1;32mnot\u001b[0m \u001b[0mself\u001b[0m\u001b[1;33m.\u001b[0m\u001b[0m_in_multi_worker_mode\u001b[0m\u001b[1;33m(\u001b[0m\u001b[1;33m)\u001b[0m\u001b[1;33m:\u001b[0m  \u001b[1;31m# pylint: disable=protected-access\u001b[0m\u001b[1;33m\u001b[0m\u001b[1;33m\u001b[0m\u001b[0m\n\u001b[1;32m--> 108\u001b[1;33m       \u001b[1;32mreturn\u001b[0m \u001b[0mmethod\u001b[0m\u001b[1;33m(\u001b[0m\u001b[0mself\u001b[0m\u001b[1;33m,\u001b[0m \u001b[1;33m*\u001b[0m\u001b[0margs\u001b[0m\u001b[1;33m,\u001b[0m \u001b[1;33m**\u001b[0m\u001b[0mkwargs\u001b[0m\u001b[1;33m)\u001b[0m\u001b[1;33m\u001b[0m\u001b[1;33m\u001b[0m\u001b[0m\n\u001b[0m\u001b[0;32m    109\u001b[0m \u001b[1;33m\u001b[0m\u001b[0m\n\u001b[0;32m    110\u001b[0m     \u001b[1;31m# Running inside `run_distribute_coordinator` already.\u001b[0m\u001b[1;33m\u001b[0m\u001b[1;33m\u001b[0m\u001b[1;33m\u001b[0m\u001b[0m\n",
      "\u001b[1;32mC:\\ProgramData\\Miniconda3\\envs\\tensorflow2\\lib\\site-packages\\tensorflow\\python\\keras\\engine\\training.py\u001b[0m in \u001b[0;36mevaluate\u001b[1;34m(self, x, y, batch_size, verbose, sample_weight, steps, callbacks, max_queue_size, workers, use_multiprocessing, return_dict)\u001b[0m\n\u001b[0;32m   1382\u001b[0m               \u001b[0mlogs\u001b[0m \u001b[1;33m=\u001b[0m \u001b[0mtmp_logs\u001b[0m  \u001b[1;31m# No error, now safe to assign to logs.\u001b[0m\u001b[1;33m\u001b[0m\u001b[1;33m\u001b[0m\u001b[0m\n\u001b[0;32m   1383\u001b[0m               \u001b[0mend_step\u001b[0m \u001b[1;33m=\u001b[0m \u001b[0mstep\u001b[0m \u001b[1;33m+\u001b[0m \u001b[0mdata_handler\u001b[0m\u001b[1;33m.\u001b[0m\u001b[0mstep_increment\u001b[0m\u001b[1;33m\u001b[0m\u001b[1;33m\u001b[0m\u001b[0m\n\u001b[1;32m-> 1384\u001b[1;33m               \u001b[0mcallbacks\u001b[0m\u001b[1;33m.\u001b[0m\u001b[0mon_test_batch_end\u001b[0m\u001b[1;33m(\u001b[0m\u001b[0mend_step\u001b[0m\u001b[1;33m,\u001b[0m \u001b[0mlogs\u001b[0m\u001b[1;33m)\u001b[0m\u001b[1;33m\u001b[0m\u001b[1;33m\u001b[0m\u001b[0m\n\u001b[0m\u001b[0;32m   1385\u001b[0m       \u001b[0mlogs\u001b[0m \u001b[1;33m=\u001b[0m \u001b[0mtf_utils\u001b[0m\u001b[1;33m.\u001b[0m\u001b[0mto_numpy_or_python_type\u001b[0m\u001b[1;33m(\u001b[0m\u001b[0mlogs\u001b[0m\u001b[1;33m)\u001b[0m\u001b[1;33m\u001b[0m\u001b[1;33m\u001b[0m\u001b[0m\n\u001b[0;32m   1386\u001b[0m       \u001b[0mcallbacks\u001b[0m\u001b[1;33m.\u001b[0m\u001b[0mon_test_end\u001b[0m\u001b[1;33m(\u001b[0m\u001b[0mlogs\u001b[0m\u001b[1;33m=\u001b[0m\u001b[0mlogs\u001b[0m\u001b[1;33m)\u001b[0m\u001b[1;33m\u001b[0m\u001b[1;33m\u001b[0m\u001b[0m\n",
      "\u001b[1;32mC:\\ProgramData\\Miniconda3\\envs\\tensorflow2\\lib\\site-packages\\tensorflow\\python\\keras\\callbacks.py\u001b[0m in \u001b[0;36mon_test_batch_end\u001b[1;34m(self, batch, logs)\u001b[0m\n\u001b[0;32m    460\u001b[0m     \"\"\"\n\u001b[0;32m    461\u001b[0m     \u001b[1;32mif\u001b[0m \u001b[0mself\u001b[0m\u001b[1;33m.\u001b[0m\u001b[0m_should_call_test_batch_hooks\u001b[0m\u001b[1;33m:\u001b[0m\u001b[1;33m\u001b[0m\u001b[1;33m\u001b[0m\u001b[0m\n\u001b[1;32m--> 462\u001b[1;33m       \u001b[0mself\u001b[0m\u001b[1;33m.\u001b[0m\u001b[0m_call_batch_hook\u001b[0m\u001b[1;33m(\u001b[0m\u001b[0mModeKeys\u001b[0m\u001b[1;33m.\u001b[0m\u001b[0mTEST\u001b[0m\u001b[1;33m,\u001b[0m \u001b[1;34m'end'\u001b[0m\u001b[1;33m,\u001b[0m \u001b[0mbatch\u001b[0m\u001b[1;33m,\u001b[0m \u001b[0mlogs\u001b[0m\u001b[1;33m=\u001b[0m\u001b[0mlogs\u001b[0m\u001b[1;33m)\u001b[0m\u001b[1;33m\u001b[0m\u001b[1;33m\u001b[0m\u001b[0m\n\u001b[0m\u001b[0;32m    463\u001b[0m \u001b[1;33m\u001b[0m\u001b[0m\n\u001b[0;32m    464\u001b[0m   \u001b[1;32mdef\u001b[0m \u001b[0mon_predict_batch_begin\u001b[0m\u001b[1;33m(\u001b[0m\u001b[0mself\u001b[0m\u001b[1;33m,\u001b[0m \u001b[0mbatch\u001b[0m\u001b[1;33m,\u001b[0m \u001b[0mlogs\u001b[0m\u001b[1;33m=\u001b[0m\u001b[1;32mNone\u001b[0m\u001b[1;33m)\u001b[0m\u001b[1;33m:\u001b[0m\u001b[1;33m\u001b[0m\u001b[1;33m\u001b[0m\u001b[0m\n",
      "\u001b[1;32mC:\\ProgramData\\Miniconda3\\envs\\tensorflow2\\lib\\site-packages\\tensorflow\\python\\keras\\callbacks.py\u001b[0m in \u001b[0;36m_call_batch_hook\u001b[1;34m(self, mode, hook, batch, logs)\u001b[0m\n\u001b[0;32m    287\u001b[0m       \u001b[0mself\u001b[0m\u001b[1;33m.\u001b[0m\u001b[0m_call_batch_begin_hook\u001b[0m\u001b[1;33m(\u001b[0m\u001b[0mmode\u001b[0m\u001b[1;33m,\u001b[0m \u001b[0mbatch\u001b[0m\u001b[1;33m,\u001b[0m \u001b[0mlogs\u001b[0m\u001b[1;33m)\u001b[0m\u001b[1;33m\u001b[0m\u001b[1;33m\u001b[0m\u001b[0m\n\u001b[0;32m    288\u001b[0m     \u001b[1;32melif\u001b[0m \u001b[0mhook\u001b[0m \u001b[1;33m==\u001b[0m \u001b[1;34m'end'\u001b[0m\u001b[1;33m:\u001b[0m\u001b[1;33m\u001b[0m\u001b[1;33m\u001b[0m\u001b[0m\n\u001b[1;32m--> 289\u001b[1;33m       \u001b[0mself\u001b[0m\u001b[1;33m.\u001b[0m\u001b[0m_call_batch_end_hook\u001b[0m\u001b[1;33m(\u001b[0m\u001b[0mmode\u001b[0m\u001b[1;33m,\u001b[0m \u001b[0mbatch\u001b[0m\u001b[1;33m,\u001b[0m \u001b[0mlogs\u001b[0m\u001b[1;33m)\u001b[0m\u001b[1;33m\u001b[0m\u001b[1;33m\u001b[0m\u001b[0m\n\u001b[0m\u001b[0;32m    290\u001b[0m     \u001b[1;32melse\u001b[0m\u001b[1;33m:\u001b[0m\u001b[1;33m\u001b[0m\u001b[1;33m\u001b[0m\u001b[0m\n\u001b[0;32m    291\u001b[0m       \u001b[1;32mraise\u001b[0m \u001b[0mValueError\u001b[0m\u001b[1;33m(\u001b[0m\u001b[1;34m'Unrecognized hook: {}'\u001b[0m\u001b[1;33m.\u001b[0m\u001b[0mformat\u001b[0m\u001b[1;33m(\u001b[0m\u001b[0mhook\u001b[0m\u001b[1;33m)\u001b[0m\u001b[1;33m)\u001b[0m\u001b[1;33m\u001b[0m\u001b[1;33m\u001b[0m\u001b[0m\n",
      "\u001b[1;32mC:\\ProgramData\\Miniconda3\\envs\\tensorflow2\\lib\\site-packages\\tensorflow\\python\\keras\\callbacks.py\u001b[0m in \u001b[0;36m_call_batch_end_hook\u001b[1;34m(self, mode, batch, logs)\u001b[0m\n\u001b[0;32m    307\u001b[0m       \u001b[0mbatch_time\u001b[0m \u001b[1;33m=\u001b[0m \u001b[0mtime\u001b[0m\u001b[1;33m.\u001b[0m\u001b[0mtime\u001b[0m\u001b[1;33m(\u001b[0m\u001b[1;33m)\u001b[0m \u001b[1;33m-\u001b[0m \u001b[0mself\u001b[0m\u001b[1;33m.\u001b[0m\u001b[0m_batch_start_time\u001b[0m\u001b[1;33m\u001b[0m\u001b[1;33m\u001b[0m\u001b[0m\n\u001b[0;32m    308\u001b[0m \u001b[1;33m\u001b[0m\u001b[0m\n\u001b[1;32m--> 309\u001b[1;33m     \u001b[0mself\u001b[0m\u001b[1;33m.\u001b[0m\u001b[0m_call_batch_hook_helper\u001b[0m\u001b[1;33m(\u001b[0m\u001b[0mhook_name\u001b[0m\u001b[1;33m,\u001b[0m \u001b[0mbatch\u001b[0m\u001b[1;33m,\u001b[0m \u001b[0mlogs\u001b[0m\u001b[1;33m)\u001b[0m\u001b[1;33m\u001b[0m\u001b[1;33m\u001b[0m\u001b[0m\n\u001b[0m\u001b[0;32m    310\u001b[0m \u001b[1;33m\u001b[0m\u001b[0m\n\u001b[0;32m    311\u001b[0m     \u001b[1;32mif\u001b[0m \u001b[0mself\u001b[0m\u001b[1;33m.\u001b[0m\u001b[0m_check_timing\u001b[0m\u001b[1;33m:\u001b[0m\u001b[1;33m\u001b[0m\u001b[1;33m\u001b[0m\u001b[0m\n",
      "\u001b[1;32mC:\\ProgramData\\Miniconda3\\envs\\tensorflow2\\lib\\site-packages\\tensorflow\\python\\keras\\callbacks.py\u001b[0m in \u001b[0;36m_call_batch_hook_helper\u001b[1;34m(self, hook_name, batch, logs)\u001b[0m\n\u001b[0;32m    343\u001b[0m       \u001b[1;32melse\u001b[0m\u001b[1;33m:\u001b[0m\u001b[1;33m\u001b[0m\u001b[1;33m\u001b[0m\u001b[0m\n\u001b[0;32m    344\u001b[0m         \u001b[1;32mif\u001b[0m \u001b[0mnumpy_logs\u001b[0m \u001b[1;32mis\u001b[0m \u001b[1;32mNone\u001b[0m\u001b[1;33m:\u001b[0m  \u001b[1;31m# Only convert once.\u001b[0m\u001b[1;33m\u001b[0m\u001b[1;33m\u001b[0m\u001b[0m\n\u001b[1;32m--> 345\u001b[1;33m           \u001b[0mnumpy_logs\u001b[0m \u001b[1;33m=\u001b[0m \u001b[0mtf_utils\u001b[0m\u001b[1;33m.\u001b[0m\u001b[0mto_numpy_or_python_type\u001b[0m\u001b[1;33m(\u001b[0m\u001b[0mlogs\u001b[0m\u001b[1;33m)\u001b[0m\u001b[1;33m\u001b[0m\u001b[1;33m\u001b[0m\u001b[0m\n\u001b[0m\u001b[0;32m    346\u001b[0m         \u001b[0mhook\u001b[0m\u001b[1;33m(\u001b[0m\u001b[0mbatch\u001b[0m\u001b[1;33m,\u001b[0m \u001b[0mnumpy_logs\u001b[0m\u001b[1;33m)\u001b[0m\u001b[1;33m\u001b[0m\u001b[1;33m\u001b[0m\u001b[0m\n\u001b[0;32m    347\u001b[0m \u001b[1;33m\u001b[0m\u001b[0m\n",
      "\u001b[1;32mC:\\ProgramData\\Miniconda3\\envs\\tensorflow2\\lib\\site-packages\\tensorflow\\python\\keras\\utils\\tf_utils.py\u001b[0m in \u001b[0;36mto_numpy_or_python_type\u001b[1;34m(tensors)\u001b[0m\n\u001b[0;32m    535\u001b[0m     \u001b[1;32mreturn\u001b[0m \u001b[0mt\u001b[0m  \u001b[1;31m# Don't turn ragged or sparse tensors to NumPy.\u001b[0m\u001b[1;33m\u001b[0m\u001b[1;33m\u001b[0m\u001b[0m\n\u001b[0;32m    536\u001b[0m \u001b[1;33m\u001b[0m\u001b[0m\n\u001b[1;32m--> 537\u001b[1;33m   \u001b[1;32mreturn\u001b[0m \u001b[0mnest\u001b[0m\u001b[1;33m.\u001b[0m\u001b[0mmap_structure\u001b[0m\u001b[1;33m(\u001b[0m\u001b[0m_to_single_numpy_or_python_type\u001b[0m\u001b[1;33m,\u001b[0m \u001b[0mtensors\u001b[0m\u001b[1;33m)\u001b[0m\u001b[1;33m\u001b[0m\u001b[1;33m\u001b[0m\u001b[0m\n\u001b[0m\u001b[0;32m    538\u001b[0m \u001b[1;33m\u001b[0m\u001b[0m\n\u001b[0;32m    539\u001b[0m \u001b[1;33m\u001b[0m\u001b[0m\n",
      "\u001b[1;32mC:\\ProgramData\\Miniconda3\\envs\\tensorflow2\\lib\\site-packages\\tensorflow\\python\\util\\nest.py\u001b[0m in \u001b[0;36mmap_structure\u001b[1;34m(func, *structure, **kwargs)\u001b[0m\n\u001b[0;32m    633\u001b[0m \u001b[1;33m\u001b[0m\u001b[0m\n\u001b[0;32m    634\u001b[0m   return pack_sequence_as(\n\u001b[1;32m--> 635\u001b[1;33m       \u001b[0mstructure\u001b[0m\u001b[1;33m[\u001b[0m\u001b[1;36m0\u001b[0m\u001b[1;33m]\u001b[0m\u001b[1;33m,\u001b[0m \u001b[1;33m[\u001b[0m\u001b[0mfunc\u001b[0m\u001b[1;33m(\u001b[0m\u001b[1;33m*\u001b[0m\u001b[0mx\u001b[0m\u001b[1;33m)\u001b[0m \u001b[1;32mfor\u001b[0m \u001b[0mx\u001b[0m \u001b[1;32min\u001b[0m \u001b[0mentries\u001b[0m\u001b[1;33m]\u001b[0m\u001b[1;33m,\u001b[0m\u001b[1;33m\u001b[0m\u001b[1;33m\u001b[0m\u001b[0m\n\u001b[0m\u001b[0;32m    636\u001b[0m       expand_composites=expand_composites)\n\u001b[0;32m    637\u001b[0m \u001b[1;33m\u001b[0m\u001b[0m\n",
      "\u001b[1;32mC:\\ProgramData\\Miniconda3\\envs\\tensorflow2\\lib\\site-packages\\tensorflow\\python\\util\\nest.py\u001b[0m in \u001b[0;36m<listcomp>\u001b[1;34m(.0)\u001b[0m\n\u001b[0;32m    633\u001b[0m \u001b[1;33m\u001b[0m\u001b[0m\n\u001b[0;32m    634\u001b[0m   return pack_sequence_as(\n\u001b[1;32m--> 635\u001b[1;33m       \u001b[0mstructure\u001b[0m\u001b[1;33m[\u001b[0m\u001b[1;36m0\u001b[0m\u001b[1;33m]\u001b[0m\u001b[1;33m,\u001b[0m \u001b[1;33m[\u001b[0m\u001b[0mfunc\u001b[0m\u001b[1;33m(\u001b[0m\u001b[1;33m*\u001b[0m\u001b[0mx\u001b[0m\u001b[1;33m)\u001b[0m \u001b[1;32mfor\u001b[0m \u001b[0mx\u001b[0m \u001b[1;32min\u001b[0m \u001b[0mentries\u001b[0m\u001b[1;33m]\u001b[0m\u001b[1;33m,\u001b[0m\u001b[1;33m\u001b[0m\u001b[1;33m\u001b[0m\u001b[0m\n\u001b[0m\u001b[0;32m    636\u001b[0m       expand_composites=expand_composites)\n\u001b[0;32m    637\u001b[0m \u001b[1;33m\u001b[0m\u001b[0m\n",
      "\u001b[1;32mC:\\ProgramData\\Miniconda3\\envs\\tensorflow2\\lib\\site-packages\\tensorflow\\python\\keras\\utils\\tf_utils.py\u001b[0m in \u001b[0;36m_to_single_numpy_or_python_type\u001b[1;34m(t)\u001b[0m\n\u001b[0;32m    531\u001b[0m   \u001b[1;32mdef\u001b[0m \u001b[0m_to_single_numpy_or_python_type\u001b[0m\u001b[1;33m(\u001b[0m\u001b[0mt\u001b[0m\u001b[1;33m)\u001b[0m\u001b[1;33m:\u001b[0m\u001b[1;33m\u001b[0m\u001b[1;33m\u001b[0m\u001b[0m\n\u001b[0;32m    532\u001b[0m     \u001b[1;32mif\u001b[0m \u001b[0misinstance\u001b[0m\u001b[1;33m(\u001b[0m\u001b[0mt\u001b[0m\u001b[1;33m,\u001b[0m \u001b[0mops\u001b[0m\u001b[1;33m.\u001b[0m\u001b[0mTensor\u001b[0m\u001b[1;33m)\u001b[0m\u001b[1;33m:\u001b[0m\u001b[1;33m\u001b[0m\u001b[1;33m\u001b[0m\u001b[0m\n\u001b[1;32m--> 533\u001b[1;33m       \u001b[0mx\u001b[0m \u001b[1;33m=\u001b[0m \u001b[0mt\u001b[0m\u001b[1;33m.\u001b[0m\u001b[0mnumpy\u001b[0m\u001b[1;33m(\u001b[0m\u001b[1;33m)\u001b[0m\u001b[1;33m\u001b[0m\u001b[1;33m\u001b[0m\u001b[0m\n\u001b[0m\u001b[0;32m    534\u001b[0m       \u001b[1;32mreturn\u001b[0m \u001b[0mx\u001b[0m\u001b[1;33m.\u001b[0m\u001b[0mitem\u001b[0m\u001b[1;33m(\u001b[0m\u001b[1;33m)\u001b[0m \u001b[1;32mif\u001b[0m \u001b[0mnp\u001b[0m\u001b[1;33m.\u001b[0m\u001b[0mndim\u001b[0m\u001b[1;33m(\u001b[0m\u001b[0mx\u001b[0m\u001b[1;33m)\u001b[0m \u001b[1;33m==\u001b[0m \u001b[1;36m0\u001b[0m \u001b[1;32melse\u001b[0m \u001b[0mx\u001b[0m\u001b[1;33m\u001b[0m\u001b[1;33m\u001b[0m\u001b[0m\n\u001b[0;32m    535\u001b[0m     \u001b[1;32mreturn\u001b[0m \u001b[0mt\u001b[0m  \u001b[1;31m# Don't turn ragged or sparse tensors to NumPy.\u001b[0m\u001b[1;33m\u001b[0m\u001b[1;33m\u001b[0m\u001b[0m\n",
      "\u001b[1;32mC:\\ProgramData\\Miniconda3\\envs\\tensorflow2\\lib\\site-packages\\tensorflow\\python\\framework\\ops.py\u001b[0m in \u001b[0;36mnumpy\u001b[1;34m(self)\u001b[0m\n\u001b[0;32m   1061\u001b[0m     \"\"\"\n\u001b[0;32m   1062\u001b[0m     \u001b[1;31m# TODO(slebedev): Consider avoiding a copy for non-CPU or remote tensors.\u001b[0m\u001b[1;33m\u001b[0m\u001b[1;33m\u001b[0m\u001b[1;33m\u001b[0m\u001b[0m\n\u001b[1;32m-> 1063\u001b[1;33m     \u001b[0mmaybe_arr\u001b[0m \u001b[1;33m=\u001b[0m \u001b[0mself\u001b[0m\u001b[1;33m.\u001b[0m\u001b[0m_numpy\u001b[0m\u001b[1;33m(\u001b[0m\u001b[1;33m)\u001b[0m  \u001b[1;31m# pylint: disable=protected-access\u001b[0m\u001b[1;33m\u001b[0m\u001b[1;33m\u001b[0m\u001b[0m\n\u001b[0m\u001b[0;32m   1064\u001b[0m     \u001b[1;32mreturn\u001b[0m \u001b[0mmaybe_arr\u001b[0m\u001b[1;33m.\u001b[0m\u001b[0mcopy\u001b[0m\u001b[1;33m(\u001b[0m\u001b[1;33m)\u001b[0m \u001b[1;32mif\u001b[0m \u001b[0misinstance\u001b[0m\u001b[1;33m(\u001b[0m\u001b[0mmaybe_arr\u001b[0m\u001b[1;33m,\u001b[0m \u001b[0mnp\u001b[0m\u001b[1;33m.\u001b[0m\u001b[0mndarray\u001b[0m\u001b[1;33m)\u001b[0m \u001b[1;32melse\u001b[0m \u001b[0mmaybe_arr\u001b[0m\u001b[1;33m\u001b[0m\u001b[1;33m\u001b[0m\u001b[0m\n\u001b[0;32m   1065\u001b[0m \u001b[1;33m\u001b[0m\u001b[0m\n",
      "\u001b[1;32mC:\\ProgramData\\Miniconda3\\envs\\tensorflow2\\lib\\site-packages\\tensorflow\\python\\framework\\ops.py\u001b[0m in \u001b[0;36m_numpy\u001b[1;34m(self)\u001b[0m\n\u001b[0;32m   1027\u001b[0m   \u001b[1;32mdef\u001b[0m \u001b[0m_numpy\u001b[0m\u001b[1;33m(\u001b[0m\u001b[0mself\u001b[0m\u001b[1;33m)\u001b[0m\u001b[1;33m:\u001b[0m\u001b[1;33m\u001b[0m\u001b[1;33m\u001b[0m\u001b[0m\n\u001b[0;32m   1028\u001b[0m     \u001b[1;32mtry\u001b[0m\u001b[1;33m:\u001b[0m\u001b[1;33m\u001b[0m\u001b[1;33m\u001b[0m\u001b[0m\n\u001b[1;32m-> 1029\u001b[1;33m       \u001b[1;32mreturn\u001b[0m \u001b[0mself\u001b[0m\u001b[1;33m.\u001b[0m\u001b[0m_numpy_internal\u001b[0m\u001b[1;33m(\u001b[0m\u001b[1;33m)\u001b[0m\u001b[1;33m\u001b[0m\u001b[1;33m\u001b[0m\u001b[0m\n\u001b[0m\u001b[0;32m   1030\u001b[0m     \u001b[1;32mexcept\u001b[0m \u001b[0mcore\u001b[0m\u001b[1;33m.\u001b[0m\u001b[0m_NotOkStatusException\u001b[0m \u001b[1;32mas\u001b[0m \u001b[0me\u001b[0m\u001b[1;33m:\u001b[0m  \u001b[1;31m# pylint: disable=protected-access\u001b[0m\u001b[1;33m\u001b[0m\u001b[1;33m\u001b[0m\u001b[0m\n\u001b[0;32m   1031\u001b[0m       \u001b[0msix\u001b[0m\u001b[1;33m.\u001b[0m\u001b[0mraise_from\u001b[0m\u001b[1;33m(\u001b[0m\u001b[0mcore\u001b[0m\u001b[1;33m.\u001b[0m\u001b[0m_status_to_exception\u001b[0m\u001b[1;33m(\u001b[0m\u001b[0me\u001b[0m\u001b[1;33m.\u001b[0m\u001b[0mcode\u001b[0m\u001b[1;33m,\u001b[0m \u001b[0me\u001b[0m\u001b[1;33m.\u001b[0m\u001b[0mmessage\u001b[0m\u001b[1;33m)\u001b[0m\u001b[1;33m,\u001b[0m \u001b[1;32mNone\u001b[0m\u001b[1;33m)\u001b[0m  \u001b[1;31m# pylint: disable=protected-access\u001b[0m\u001b[1;33m\u001b[0m\u001b[1;33m\u001b[0m\u001b[0m\n",
      "\u001b[1;31mKeyboardInterrupt\u001b[0m: "
     ]
    }
   ],
   "source": [
    "history = model.fit(db_train,\n",
    "                    batch_size=BATCHSZ, \n",
    "                    steps_per_epoch=3200//BATCHSZ,\n",
    "                    epochs=10, \n",
    "                    validation_data=db_test,\n",
    "                    validation_steps=50929//BATCHSZ,\n",
    "                    callbacks=[reduce_lr]\n",
    "                    )"
   ]
  },
  {
   "cell_type": "code",
   "execution_count": 60,
   "metadata": {},
   "outputs": [],
   "source": [
    "test = db_test\n",
    "acc_num,test_num = 0,0\n",
    "matrix = np.zeros((class_num,class_num),dtype=np.int64)\n",
    "\n",
    "target_names = ['Alfalfa', 'Corn-notill', 'Corn-mintill', 'Corn'\n",
    "           ,'Grass-pasture', 'Grass-trees', 'Grass-pasture-mowed', \n",
    "            'Hay-windrowed', 'Oats', 'Soybean-notill', 'Soybean-mintill',\n",
    "           'Soybean-clean', 'Wheat', 'Woods', 'Buildings-Grass-Trees-Drives',\n",
    "           'Stone-Steel-Towers']\n",
    "\n",
    "def reports(test,test_label):\n",
    "    Y_pred_label = model.predict(test)\n",
    "    # 概率最大的值的位置就为预测的类别\n",
    "    y_pred_label = np.argmax(Y_pred_label, axis=1)\n",
    "\n",
    "    # 分类报告：precision    recall  f1-score   support\n",
    "    classification = classification_report(test_label, y_pred_label, target_names=target_names)\n",
    "    # 混淆矩阵\n",
    "    confusion = confusion_matrix(test_label, y_pred_label)\n",
    "    # 模型得分\n",
    "    score = model.evaluate(test, test_label, batch_size=32)\n",
    "    Test_Loss = score[0]*100\n",
    "    Test_accuracy = score[1]*100\n",
    "    \n",
    "    return classification, confusion, Test_Loss, Test_accuracy"
   ]
  },
  {
   "cell_type": "code",
   "execution_count": 61,
   "metadata": {},
   "outputs": [
    {
     "output_type": "stream",
     "name": "stdout",
     "text": [
      "1592/1592 [==============================] - 2s 1ms/step - loss: 1.4006 - acc: 0.5147\n"
     ]
    }
   ],
   "source": [
    "# calculate result, loss, accuray and confusion matrix\n",
    "classification, confusion, Test_loss, Test_accuracy = reports(test,test_label)\n",
    "classification = str(classification)\n",
    "confusion_str = str(confusion)"
   ]
  },
  {
   "cell_type": "code",
   "execution_count": 62,
   "metadata": {},
   "outputs": [],
   "source": [
    "file_name = \"./result/report.txt\"\n",
    "with open(file_name, 'w') as x_file:\n",
    "    x_file.write('Test loss {} (%)'.format(Test_loss))\n",
    "    x_file.write('\\n')\n",
    "    x_file.write('Test accuracy {} (%)'.format(Test_accuracy))\n",
    "    x_file.write('\\n')\n",
    "    x_file.write('\\n')\n",
    "    x_file.write(\" classification result: \\n\")\n",
    "    x_file.write('{}'.format(classification))\n",
    "    x_file.write('\\n')\n",
    "    x_file.write(\" confusion matrix: \\n\")\n",
    "    x_file.write('{}'.format(confusion_str))"
   ]
  },
  {
   "cell_type": "code",
   "execution_count": 63,
   "metadata": {},
   "outputs": [
    {
     "output_type": "stream",
     "name": "stdout",
     "text": [
      "1 class: ( 1680 / 1680 ) 1.0\n2 class: ( 3478 / 4155 ) 0.8370637785800241\n3 class: ( 6 / 1407 ) 0.0042643923240938165\n4 class: ( 711 / 717 ) 0.9916317991631799\n5 class: ( 25 / 494 ) 0.05060728744939271\n6 class: ( 3758 / 4858 ) 0.7735693701111569\n7 class: ( 1182 / 1182 ) 1.0\n8 class: ( 7626 / 12291 ) 0.6204539907249207\n9 class: ( 2696 / 3383 ) 0.7969258054980787\n10 class: ( 1074 / 6149 ) 0.17466254675557003\n11 class: ( 864 / 9532 ) 0.09064204783885858\n12 class: ( 0 / 0 ) nan\n13 class: ( 0 / 1 ) 0.0\n14 class: ( 44 / 945 ) 0.04656084656084656\n15 class: ( 1519 / 2565 ) 0.5922027290448343\n16 class: ( 1551 / 1570 ) 0.9878980891719745\nconfusion matrix:\n[[1680  129    0    0    0    0    0    0    0    0    0    0    0    0\n     0    0]\n [   0 3478    0    0    0   43    0    0    0    0    0    0    0    0\n     0    5]\n [   0    0    6    0    4    0    0    0  128    0 1638    0    0    0\n     0    0]\n [   0    0   17  711  465    0    0    0    0    0    1    0    0    0\n     0    0]\n [   0    0 1382    6   25    3    0    0  535    0  527    0    0    0\n     0    0]\n [   0    0    0    0    0 3758    0    0    0    0    1    0    0    0\n     0    0]\n [   0  547    0    0    0    7 1182 1637    0    0    1    0    0    5\n     0    0]\n [   0    0    0    0    0  109    0 7626    0 2239   55    0    0    0\n  1042    0]\n [   0    0    0    0    0   18    0    0 2696    0 3289    0    0    0\n     0    0]\n [   0    0    2    0    0   68    0   22   23 1074 1883    0    1    0\n     0    5]\n [   0    0    0    0    0    0    0    0    1    3  864    0    0    0\n     0    0]\n [   0    0    0    0    0    0    0    0    0  261 1255    0    0  211\n     0    0]\n [   0    0    0    0    0   38    0    0    0    0    0    0    0  678\n     0    0]\n [   0    0    0    0    0  813    0    2    0    9    2    0    0   44\n     0    0]\n [   0    0    0    0    0    1    0 2975    0 2548   16    0    0    0\n  1519    9]\n [   0    1    0    0    0    0    0   29    0   15    0    0    0    7\n     4 1551]]\ntotal right num: 26214\noa: 0.5147165662000039\naa: nan\nkappa: 0.46304918917663485\n"
     ]
    }
   ],
   "source": [
    "ac_list = []\n",
    "matrix = confusion\n",
    "for i in range(len(matrix)):\n",
    "    ac = matrix[i, i] / sum(matrix[:, i])\n",
    "    ac_list.append(ac)\n",
    "    print(i+1,'class:','(', matrix[i, i], '/', sum(matrix[:, i]), ')', ac)\n",
    "print('confusion matrix:')\n",
    "print(np.int_(matrix))\n",
    "print('total right num:', np.sum(np.trace(matrix)))\n",
    "accuracy = np.sum(np.trace(matrix)) / np.sum(matrix)\n",
    "print('oa:', accuracy)\n",
    "# kappa\n",
    "kk = 0\n",
    "for i in range(matrix.shape[0]):\n",
    "    kk += np.sum(matrix[i]) * np.sum(matrix[:, i])\n",
    "pe = kk / (np.sum(matrix) * np.sum(matrix))\n",
    "pa = np.trace(matrix) / np.sum(matrix)\n",
    "kappa = (pa - pe) / (1 - pe)\n",
    "ac_list = np.asarray(ac_list)\n",
    "aa = np.mean(ac_list)\n",
    "oa = accuracy\n",
    "print('aa:',aa)\n",
    "print('kappa:', kappa)"
   ]
  },
  {
   "source": [
    "# 绘图"
   ],
   "cell_type": "markdown",
   "metadata": {}
  },
  {
   "cell_type": "code",
   "execution_count": 42,
   "metadata": {},
   "outputs": [],
   "source": [
    "height = 512\n",
    "width = 217\n",
    "outputs = np.zeros((height,width))"
   ]
  },
  {
   "cell_type": "code",
   "execution_count": 45,
   "metadata": {},
   "outputs": [],
   "source": [
    "import time"
   ]
  },
  {
   "cell_type": "code",
   "execution_count": 48,
   "metadata": {
    "tags": []
   },
   "outputs": [
    {
     "output_type": "stream",
     "name": "stdout",
     "text": [
      "程序运行时间：1580.274 s\n"
     ]
    }
   ],
   "source": [
    "# calculate the predicted image， 非常慢\n",
    "starttime = time.time()\n",
    "\n",
    "k = 0\n",
    "for i in range(height):\n",
    "    for j in range(width): \n",
    "        # target = labels[i][j]\n",
    "        if data_gt[i][j] == 0:\n",
    "            continue\n",
    "        else:\n",
    "            prediction = np.argmax(model.predict(data_all[k].reshape(1, 1, 1, 204, 1)), axis=-1)\n",
    "            k += 1\n",
    "            outputs[i][j] = prediction+1\n",
    "            # print(prediction)\n",
    "\n",
    "endtime = time.time()\n",
    "dtime = endtime - starttime\n",
    "print(\"程序运行时间：%.8s s\" % dtime)  #显示到微秒"
   ]
  },
  {
   "cell_type": "code",
   "execution_count": 49,
   "metadata": {},
   "outputs": [
    {
     "output_type": "execute_result",
     "data": {
      "text/plain": [
       "[2]"
      ]
     },
     "metadata": {},
     "execution_count": 49
    }
   ],
   "source": [
    "prediction = np.argmax(model.predict(data_all[2000].reshape(1, 1, 1, 204, 1)), axis=-1)\n",
    "list(prediction)"
   ]
  },
  {
   "cell_type": "code",
   "execution_count": 50,
   "metadata": {},
   "outputs": [
    {
     "output_type": "execute_result",
     "data": {
      "text/plain": [
       "array([[ 0.,  0.,  0., ...,  0.,  0.,  0.],\n",
       "       [ 0.,  0.,  0., ...,  0.,  0.,  0.],\n",
       "       [ 0.,  0.,  0., ...,  0.,  0.,  0.],\n",
       "       ...,\n",
       "       [16., 16., 16., ...,  0.,  0.,  0.],\n",
       "       [16., 16., 16., ...,  0.,  0.,  0.],\n",
       "       [ 0.,  0.,  0., ...,  0.,  0.,  0.]])"
      ]
     },
     "metadata": {},
     "execution_count": 50
    }
   ],
   "source": [
    "outputs"
   ]
  },
  {
   "cell_type": "code",
   "execution_count": 51,
   "metadata": {},
   "outputs": [],
   "source": [
    "import spectral"
   ]
  },
  {
   "cell_type": "code",
   "execution_count": 52,
   "metadata": {},
   "outputs": [
    {
     "output_type": "display_data",
     "data": {
      "text/plain": "<Figure size 432x432 with 1 Axes>",
      "image/svg+xml": "<?xml version=\"1.0\" encoding=\"utf-8\" standalone=\"no\"?>\r\n<!DOCTYPE svg PUBLIC \"-//W3C//DTD SVG 1.1//EN\"\r\n  \"http://www.w3.org/Graphics/SVG/1.1/DTD/svg11.dtd\">\r\n<!-- Created with matplotlib (https://matplotlib.org/) -->\r\n<svg height=\"360.718828pt\" version=\"1.1\" viewBox=\"0 0 178.723281 360.718828\" width=\"178.723281pt\" xmlns=\"http://www.w3.org/2000/svg\" xmlns:xlink=\"http://www.w3.org/1999/xlink\">\r\n <metadata>\r\n  <rdf:RDF xmlns:cc=\"http://creativecommons.org/ns#\" xmlns:dc=\"http://purl.org/dc/elements/1.1/\" xmlns:rdf=\"http://www.w3.org/1999/02/22-rdf-syntax-ns#\">\r\n   <cc:Work>\r\n    <dc:type rdf:resource=\"http://purl.org/dc/dcmitype/StillImage\"/>\r\n    <dc:date>2020-12-01T10:45:34.866283</dc:date>\r\n    <dc:format>image/svg+xml</dc:format>\r\n    <dc:creator>\r\n     <cc:Agent>\r\n      <dc:title>Matplotlib v3.3.3, https://matplotlib.org/</dc:title>\r\n     </cc:Agent>\r\n    </dc:creator>\r\n   </cc:Work>\r\n  </rdf:RDF>\r\n </metadata>\r\n <defs>\r\n  <style type=\"text/css\">*{stroke-linecap:butt;stroke-linejoin:round;}</style>\r\n </defs>\r\n <g id=\"figure_1\">\r\n  <g id=\"patch_1\">\r\n   <path d=\"M -0 360.718828 \r\nL 178.723281 360.718828 \r\nL 178.723281 0 \r\nL -0 0 \r\nz\r\n\" style=\"fill:none;\"/>\r\n  </g>\r\n  <g id=\"axes_1\">\r\n   <g id=\"patch_2\">\r\n    <path d=\"M 33.2875 336.840703 \r\nL 171.523281 336.840703 \r\nL 171.523281 10.680703 \r\nL 33.2875 10.680703 \r\nz\r\n\" style=\"fill:#ffffff;\"/>\r\n   </g>\r\n   <g clip-path=\"url(#pc802e500d9)\">\r\n    <image height=\"327\" id=\"image840dcb1cf0\" transform=\"scale(1 -1)translate(0 -327)\" width=\"139\" x=\"33.2875\" xlink:href=\"data:image/png;base64,\r\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\" y=\"-9.840703\"/>\r\n   </g>\r\n   <g id=\"matplotlib.axis_1\">\r\n    <g id=\"xtick_1\">\r\n     <g id=\"line2d_1\">\r\n      <defs>\r\n       <path d=\"M 0 0 \r\nL 0 3.5 \r\n\" id=\"m22ebedf587\" style=\"stroke:#000000;stroke-width:0.8;\"/>\r\n      </defs>\r\n      <g>\r\n       <use style=\"stroke:#000000;stroke-width:0.8;\" x=\"33.606016\" xlink:href=\"#m22ebedf587\" y=\"336.840703\"/>\r\n      </g>\r\n     </g>\r\n     <g id=\"text_1\">\r\n      <!-- 0 -->\r\n      <g transform=\"translate(30.424766 351.439141)scale(0.1 -0.1)\">\r\n       <defs>\r\n        <path d=\"M 31.78125 66.40625 \r\nQ 24.171875 66.40625 20.328125 58.90625 \r\nQ 16.5 51.421875 16.5 36.375 \r\nQ 16.5 21.390625 20.328125 13.890625 \r\nQ 24.171875 6.390625 31.78125 6.390625 \r\nQ 39.453125 6.390625 43.28125 13.890625 \r\nQ 47.125 21.390625 47.125 36.375 \r\nQ 47.125 51.421875 43.28125 58.90625 \r\nQ 39.453125 66.40625 31.78125 66.40625 \r\nz\r\nM 31.78125 74.21875 \r\nQ 44.046875 74.21875 50.515625 64.515625 \r\nQ 56.984375 54.828125 56.984375 36.375 \r\nQ 56.984375 17.96875 50.515625 8.265625 \r\nQ 44.046875 -1.421875 31.78125 -1.421875 \r\nQ 19.53125 -1.421875 13.0625 8.265625 \r\nQ 6.59375 17.96875 6.59375 36.375 \r\nQ 6.59375 54.828125 13.0625 64.515625 \r\nQ 19.53125 74.21875 31.78125 74.21875 \r\nz\r\n\" id=\"DejaVuSans-48\"/>\r\n       </defs>\r\n       <use xlink:href=\"#DejaVuSans-48\"/>\r\n      </g>\r\n     </g>\r\n    </g>\r\n    <g id=\"xtick_2\">\r\n     <g id=\"line2d_2\">\r\n      <g>\r\n       <use style=\"stroke:#000000;stroke-width:0.8;\" x=\"97.309141\" xlink:href=\"#m22ebedf587\" y=\"336.840703\"/>\r\n      </g>\r\n     </g>\r\n     <g id=\"text_2\">\r\n      <!-- 100 -->\r\n      <g transform=\"translate(87.765391 351.439141)scale(0.1 -0.1)\">\r\n       <defs>\r\n        <path d=\"M 12.40625 8.296875 \r\nL 28.515625 8.296875 \r\nL 28.515625 63.921875 \r\nL 10.984375 60.40625 \r\nL 10.984375 69.390625 \r\nL 28.421875 72.90625 \r\nL 38.28125 72.90625 \r\nL 38.28125 8.296875 \r\nL 54.390625 8.296875 \r\nL 54.390625 0 \r\nL 12.40625 0 \r\nz\r\n\" id=\"DejaVuSans-49\"/>\r\n       </defs>\r\n       <use xlink:href=\"#DejaVuSans-49\"/>\r\n       <use x=\"63.623047\" xlink:href=\"#DejaVuSans-48\"/>\r\n       <use x=\"127.246094\" xlink:href=\"#DejaVuSans-48\"/>\r\n      </g>\r\n     </g>\r\n    </g>\r\n    <g id=\"xtick_3\">\r\n     <g id=\"line2d_3\">\r\n      <g>\r\n       <use style=\"stroke:#000000;stroke-width:0.8;\" x=\"161.012266\" xlink:href=\"#m22ebedf587\" y=\"336.840703\"/>\r\n      </g>\r\n     </g>\r\n     <g id=\"text_3\">\r\n      <!-- 200 -->\r\n      <g transform=\"translate(151.468516 351.439141)scale(0.1 -0.1)\">\r\n       <defs>\r\n        <path d=\"M 19.1875 8.296875 \r\nL 53.609375 8.296875 \r\nL 53.609375 0 \r\nL 7.328125 0 \r\nL 7.328125 8.296875 \r\nQ 12.9375 14.109375 22.625 23.890625 \r\nQ 32.328125 33.6875 34.8125 36.53125 \r\nQ 39.546875 41.84375 41.421875 45.53125 \r\nQ 43.3125 49.21875 43.3125 52.78125 \r\nQ 43.3125 58.59375 39.234375 62.25 \r\nQ 35.15625 65.921875 28.609375 65.921875 \r\nQ 23.96875 65.921875 18.8125 64.3125 \r\nQ 13.671875 62.703125 7.8125 59.421875 \r\nL 7.8125 69.390625 \r\nQ 13.765625 71.78125 18.9375 73 \r\nQ 24.125 74.21875 28.421875 74.21875 \r\nQ 39.75 74.21875 46.484375 68.546875 \r\nQ 53.21875 62.890625 53.21875 53.421875 \r\nQ 53.21875 48.921875 51.53125 44.890625 \r\nQ 49.859375 40.875 45.40625 35.40625 \r\nQ 44.1875 33.984375 37.640625 27.21875 \r\nQ 31.109375 20.453125 19.1875 8.296875 \r\nz\r\n\" id=\"DejaVuSans-50\"/>\r\n       </defs>\r\n       <use xlink:href=\"#DejaVuSans-50\"/>\r\n       <use x=\"63.623047\" xlink:href=\"#DejaVuSans-48\"/>\r\n       <use x=\"127.246094\" xlink:href=\"#DejaVuSans-48\"/>\r\n      </g>\r\n     </g>\r\n    </g>\r\n   </g>\r\n   <g id=\"matplotlib.axis_2\">\r\n    <g id=\"ytick_1\">\r\n     <g id=\"line2d_4\">\r\n      <defs>\r\n       <path d=\"M 0 0 \r\nL -3.5 0 \r\n\" id=\"me95c1fee01\" style=\"stroke:#000000;stroke-width:0.8;\"/>\r\n      </defs>\r\n      <g>\r\n       <use style=\"stroke:#000000;stroke-width:0.8;\" x=\"33.2875\" xlink:href=\"#me95c1fee01\" y=\"10.999219\"/>\r\n      </g>\r\n     </g>\r\n     <g id=\"text_4\">\r\n      <!-- 0 -->\r\n      <g transform=\"translate(19.925 14.798438)scale(0.1 -0.1)\">\r\n       <use xlink:href=\"#DejaVuSans-48\"/>\r\n      </g>\r\n     </g>\r\n    </g>\r\n    <g id=\"ytick_2\">\r\n     <g id=\"line2d_5\">\r\n      <g>\r\n       <use style=\"stroke:#000000;stroke-width:0.8;\" x=\"33.2875\" xlink:href=\"#me95c1fee01\" y=\"74.702344\"/>\r\n      </g>\r\n     </g>\r\n     <g id=\"text_5\">\r\n      <!-- 100 -->\r\n      <g transform=\"translate(7.2 78.501563)scale(0.1 -0.1)\">\r\n       <use xlink:href=\"#DejaVuSans-49\"/>\r\n       <use x=\"63.623047\" xlink:href=\"#DejaVuSans-48\"/>\r\n       <use x=\"127.246094\" xlink:href=\"#DejaVuSans-48\"/>\r\n      </g>\r\n     </g>\r\n    </g>\r\n    <g id=\"ytick_3\">\r\n     <g id=\"line2d_6\">\r\n      <g>\r\n       <use style=\"stroke:#000000;stroke-width:0.8;\" x=\"33.2875\" xlink:href=\"#me95c1fee01\" y=\"138.405469\"/>\r\n      </g>\r\n     </g>\r\n     <g id=\"text_6\">\r\n      <!-- 200 -->\r\n      <g transform=\"translate(7.2 142.204688)scale(0.1 -0.1)\">\r\n       <use xlink:href=\"#DejaVuSans-50\"/>\r\n       <use x=\"63.623047\" xlink:href=\"#DejaVuSans-48\"/>\r\n       <use x=\"127.246094\" xlink:href=\"#DejaVuSans-48\"/>\r\n      </g>\r\n     </g>\r\n    </g>\r\n    <g id=\"ytick_4\">\r\n     <g id=\"line2d_7\">\r\n      <g>\r\n       <use style=\"stroke:#000000;stroke-width:0.8;\" x=\"33.2875\" xlink:href=\"#me95c1fee01\" y=\"202.108594\"/>\r\n      </g>\r\n     </g>\r\n     <g id=\"text_7\">\r\n      <!-- 300 -->\r\n      <g transform=\"translate(7.2 205.907813)scale(0.1 -0.1)\">\r\n       <defs>\r\n        <path d=\"M 40.578125 39.3125 \r\nQ 47.65625 37.796875 51.625 33 \r\nQ 55.609375 28.21875 55.609375 21.1875 \r\nQ 55.609375 10.40625 48.1875 4.484375 \r\nQ 40.765625 -1.421875 27.09375 -1.421875 \r\nQ 22.515625 -1.421875 17.65625 -0.515625 \r\nQ 12.796875 0.390625 7.625 2.203125 \r\nL 7.625 11.71875 \r\nQ 11.71875 9.328125 16.59375 8.109375 \r\nQ 21.484375 6.890625 26.8125 6.890625 \r\nQ 36.078125 6.890625 40.9375 10.546875 \r\nQ 45.796875 14.203125 45.796875 21.1875 \r\nQ 45.796875 27.640625 41.28125 31.265625 \r\nQ 36.765625 34.90625 28.71875 34.90625 \r\nL 20.21875 34.90625 \r\nL 20.21875 43.015625 \r\nL 29.109375 43.015625 \r\nQ 36.375 43.015625 40.234375 45.921875 \r\nQ 44.09375 48.828125 44.09375 54.296875 \r\nQ 44.09375 59.90625 40.109375 62.90625 \r\nQ 36.140625 65.921875 28.71875 65.921875 \r\nQ 24.65625 65.921875 20.015625 65.03125 \r\nQ 15.375 64.15625 9.8125 62.3125 \r\nL 9.8125 71.09375 \r\nQ 15.4375 72.65625 20.34375 73.4375 \r\nQ 25.25 74.21875 29.59375 74.21875 \r\nQ 40.828125 74.21875 47.359375 69.109375 \r\nQ 53.90625 64.015625 53.90625 55.328125 \r\nQ 53.90625 49.265625 50.4375 45.09375 \r\nQ 46.96875 40.921875 40.578125 39.3125 \r\nz\r\n\" id=\"DejaVuSans-51\"/>\r\n       </defs>\r\n       <use xlink:href=\"#DejaVuSans-51\"/>\r\n       <use x=\"63.623047\" xlink:href=\"#DejaVuSans-48\"/>\r\n       <use x=\"127.246094\" xlink:href=\"#DejaVuSans-48\"/>\r\n      </g>\r\n     </g>\r\n    </g>\r\n    <g id=\"ytick_5\">\r\n     <g id=\"line2d_8\">\r\n      <g>\r\n       <use style=\"stroke:#000000;stroke-width:0.8;\" x=\"33.2875\" xlink:href=\"#me95c1fee01\" y=\"265.811719\"/>\r\n      </g>\r\n     </g>\r\n     <g id=\"text_8\">\r\n      <!-- 400 -->\r\n      <g transform=\"translate(7.2 269.610938)scale(0.1 -0.1)\">\r\n       <defs>\r\n        <path d=\"M 37.796875 64.3125 \r\nL 12.890625 25.390625 \r\nL 37.796875 25.390625 \r\nz\r\nM 35.203125 72.90625 \r\nL 47.609375 72.90625 \r\nL 47.609375 25.390625 \r\nL 58.015625 25.390625 \r\nL 58.015625 17.1875 \r\nL 47.609375 17.1875 \r\nL 47.609375 0 \r\nL 37.796875 0 \r\nL 37.796875 17.1875 \r\nL 4.890625 17.1875 \r\nL 4.890625 26.703125 \r\nz\r\n\" id=\"DejaVuSans-52\"/>\r\n       </defs>\r\n       <use xlink:href=\"#DejaVuSans-52\"/>\r\n       <use x=\"63.623047\" xlink:href=\"#DejaVuSans-48\"/>\r\n       <use x=\"127.246094\" xlink:href=\"#DejaVuSans-48\"/>\r\n      </g>\r\n     </g>\r\n    </g>\r\n    <g id=\"ytick_6\">\r\n     <g id=\"line2d_9\">\r\n      <g>\r\n       <use style=\"stroke:#000000;stroke-width:0.8;\" x=\"33.2875\" xlink:href=\"#me95c1fee01\" y=\"329.514844\"/>\r\n      </g>\r\n     </g>\r\n     <g id=\"text_9\">\r\n      <!-- 500 -->\r\n      <g transform=\"translate(7.2 333.314063)scale(0.1 -0.1)\">\r\n       <defs>\r\n        <path d=\"M 10.796875 72.90625 \r\nL 49.515625 72.90625 \r\nL 49.515625 64.59375 \r\nL 19.828125 64.59375 \r\nL 19.828125 46.734375 \r\nQ 21.96875 47.46875 24.109375 47.828125 \r\nQ 26.265625 48.1875 28.421875 48.1875 \r\nQ 40.625 48.1875 47.75 41.5 \r\nQ 54.890625 34.8125 54.890625 23.390625 \r\nQ 54.890625 11.625 47.5625 5.09375 \r\nQ 40.234375 -1.421875 26.90625 -1.421875 \r\nQ 22.3125 -1.421875 17.546875 -0.640625 \r\nQ 12.796875 0.140625 7.71875 1.703125 \r\nL 7.71875 11.625 \r\nQ 12.109375 9.234375 16.796875 8.0625 \r\nQ 21.484375 6.890625 26.703125 6.890625 \r\nQ 35.15625 6.890625 40.078125 11.328125 \r\nQ 45.015625 15.765625 45.015625 23.390625 \r\nQ 45.015625 31 40.078125 35.4375 \r\nQ 35.15625 39.890625 26.703125 39.890625 \r\nQ 22.75 39.890625 18.8125 39.015625 \r\nQ 14.890625 38.140625 10.796875 36.28125 \r\nz\r\n\" id=\"DejaVuSans-53\"/>\r\n       </defs>\r\n       <use xlink:href=\"#DejaVuSans-53\"/>\r\n       <use x=\"63.623047\" xlink:href=\"#DejaVuSans-48\"/>\r\n       <use x=\"127.246094\" xlink:href=\"#DejaVuSans-48\"/>\r\n      </g>\r\n     </g>\r\n    </g>\r\n   </g>\r\n   <g id=\"patch_3\">\r\n    <path d=\"M 33.2875 336.840703 \r\nL 33.2875 10.680703 \r\n\" style=\"fill:none;stroke:#000000;stroke-linecap:square;stroke-linejoin:miter;stroke-width:0.8;\"/>\r\n   </g>\r\n   <g id=\"patch_4\">\r\n    <path d=\"M 171.523281 336.840703 \r\nL 171.523281 10.680703 \r\n\" style=\"fill:none;stroke:#000000;stroke-linecap:square;stroke-linejoin:miter;stroke-width:0.8;\"/>\r\n   </g>\r\n   <g id=\"patch_5\">\r\n    <path d=\"M 33.2875 336.840703 \r\nL 171.523281 336.840703 \r\n\" style=\"fill:none;stroke:#000000;stroke-linecap:square;stroke-linejoin:miter;stroke-width:0.8;\"/>\r\n   </g>\r\n   <g id=\"patch_6\">\r\n    <path d=\"M 33.2875 10.680703 \r\nL 171.523281 10.680703 \r\n\" style=\"fill:none;stroke:#000000;stroke-linecap:square;stroke-linejoin:miter;stroke-width:0.8;\"/>\r\n   </g>\r\n  </g>\r\n </g>\r\n <defs>\r\n  <clipPath id=\"pc802e500d9\">\r\n   <rect height=\"326.16\" width=\"138.235781\" x=\"33.2875\" y=\"10.680703\"/>\r\n  </clipPath>\r\n </defs>\r\n</svg>\r\n",
      "image/png": "[encoded data removed]"
     },
     "metadata": {
      "needs_background": "light"
     }
    }
   ],
   "source": [
    "predict_image = spectral.imshow(classes=outputs.astype(int), figsize=(6, 6))"
   ]
  },
  {
   "cell_type": "code",
   "execution_count": 53,
   "metadata": {},
   "outputs": [
    {
     "output_type": "display_data",
     "data": {
      "text/plain": "<Figure size 432x432 with 1 Axes>",
      "image/svg+xml": "<?xml version=\"1.0\" encoding=\"utf-8\" standalone=\"no\"?>\r\n<!DOCTYPE svg PUBLIC \"-//W3C//DTD SVG 1.1//EN\"\r\n  \"http://www.w3.org/Graphics/SVG/1.1/DTD/svg11.dtd\">\r\n<!-- Created with matplotlib (https://matplotlib.org/) -->\r\n<svg height=\"360.718828pt\" version=\"1.1\" viewBox=\"0 0 178.723281 360.718828\" width=\"178.723281pt\" xmlns=\"http://www.w3.org/2000/svg\" xmlns:xlink=\"http://www.w3.org/1999/xlink\">\r\n <metadata>\r\n  <rdf:RDF xmlns:cc=\"http://creativecommons.org/ns#\" xmlns:dc=\"http://purl.org/dc/elements/1.1/\" xmlns:rdf=\"http://www.w3.org/1999/02/22-rdf-syntax-ns#\">\r\n   <cc:Work>\r\n    <dc:type rdf:resource=\"http://purl.org/dc/dcmitype/StillImage\"/>\r\n    <dc:date>2020-12-01T10:45:35.032285</dc:date>\r\n    <dc:format>image/svg+xml</dc:format>\r\n    <dc:creator>\r\n     <cc:Agent>\r\n      <dc:title>Matplotlib v3.3.3, https://matplotlib.org/</dc:title>\r\n     </cc:Agent>\r\n    </dc:creator>\r\n   </cc:Work>\r\n  </rdf:RDF>\r\n </metadata>\r\n <defs>\r\n  <style type=\"text/css\">*{stroke-linecap:butt;stroke-linejoin:round;}</style>\r\n </defs>\r\n <g id=\"figure_1\">\r\n  <g id=\"patch_1\">\r\n   <path d=\"M -0 360.718828 \r\nL 178.723281 360.718828 \r\nL 178.723281 0 \r\nL -0 0 \r\nz\r\n\" style=\"fill:none;\"/>\r\n  </g>\r\n  <g id=\"axes_1\">\r\n   <g id=\"patch_2\">\r\n    <path d=\"M 33.2875 336.840703 \r\nL 171.523281 336.840703 \r\nL 171.523281 10.680703 \r\nL 33.2875 10.680703 \r\nz\r\n\" style=\"fill:#ffffff;\"/>\r\n   </g>\r\n   <g clip-path=\"url(#p440bba855c)\">\r\n    <image height=\"327\" id=\"imageccafa74f0a\" transform=\"scale(1 -1)translate(0 -327)\" width=\"139\" x=\"33.2875\" xlink:href=\"data:image/png;base64,\r\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\" y=\"-9.840703\"/>\r\n   </g>\r\n   <g id=\"matplotlib.axis_1\">\r\n    <g id=\"xtick_1\">\r\n     <g id=\"line2d_1\">\r\n      <defs>\r\n       <path d=\"M 0 0 \r\nL 0 3.5 \r\n\" id=\"mce69821e9f\" style=\"stroke:#000000;stroke-width:0.8;\"/>\r\n      </defs>\r\n      <g>\r\n       <use style=\"stroke:#000000;stroke-width:0.8;\" x=\"33.606016\" xlink:href=\"#mce69821e9f\" y=\"336.840703\"/>\r\n      </g>\r\n     </g>\r\n     <g id=\"text_1\">\r\n      <!-- 0 -->\r\n      <g transform=\"translate(30.424766 351.439141)scale(0.1 -0.1)\">\r\n       <defs>\r\n        <path d=\"M 31.78125 66.40625 \r\nQ 24.171875 66.40625 20.328125 58.90625 \r\nQ 16.5 51.421875 16.5 36.375 \r\nQ 16.5 21.390625 20.328125 13.890625 \r\nQ 24.171875 6.390625 31.78125 6.390625 \r\nQ 39.453125 6.390625 43.28125 13.890625 \r\nQ 47.125 21.390625 47.125 36.375 \r\nQ 47.125 51.421875 43.28125 58.90625 \r\nQ 39.453125 66.40625 31.78125 66.40625 \r\nz\r\nM 31.78125 74.21875 \r\nQ 44.046875 74.21875 50.515625 64.515625 \r\nQ 56.984375 54.828125 56.984375 36.375 \r\nQ 56.984375 17.96875 50.515625 8.265625 \r\nQ 44.046875 -1.421875 31.78125 -1.421875 \r\nQ 19.53125 -1.421875 13.0625 8.265625 \r\nQ 6.59375 17.96875 6.59375 36.375 \r\nQ 6.59375 54.828125 13.0625 64.515625 \r\nQ 19.53125 74.21875 31.78125 74.21875 \r\nz\r\n\" id=\"DejaVuSans-48\"/>\r\n       </defs>\r\n       <use xlink:href=\"#DejaVuSans-48\"/>\r\n      </g>\r\n     </g>\r\n    </g>\r\n    <g id=\"xtick_2\">\r\n     <g id=\"line2d_2\">\r\n      <g>\r\n       <use style=\"stroke:#000000;stroke-width:0.8;\" x=\"97.309141\" xlink:href=\"#mce69821e9f\" y=\"336.840703\"/>\r\n      </g>\r\n     </g>\r\n     <g id=\"text_2\">\r\n      <!-- 100 -->\r\n      <g transform=\"translate(87.765391 351.439141)scale(0.1 -0.1)\">\r\n       <defs>\r\n        <path d=\"M 12.40625 8.296875 \r\nL 28.515625 8.296875 \r\nL 28.515625 63.921875 \r\nL 10.984375 60.40625 \r\nL 10.984375 69.390625 \r\nL 28.421875 72.90625 \r\nL 38.28125 72.90625 \r\nL 38.28125 8.296875 \r\nL 54.390625 8.296875 \r\nL 54.390625 0 \r\nL 12.40625 0 \r\nz\r\n\" id=\"DejaVuSans-49\"/>\r\n       </defs>\r\n       <use xlink:href=\"#DejaVuSans-49\"/>\r\n       <use x=\"63.623047\" xlink:href=\"#DejaVuSans-48\"/>\r\n       <use x=\"127.246094\" xlink:href=\"#DejaVuSans-48\"/>\r\n      </g>\r\n     </g>\r\n    </g>\r\n    <g id=\"xtick_3\">\r\n     <g id=\"line2d_3\">\r\n      <g>\r\n       <use style=\"stroke:#000000;stroke-width:0.8;\" x=\"161.012266\" xlink:href=\"#mce69821e9f\" y=\"336.840703\"/>\r\n      </g>\r\n     </g>\r\n     <g id=\"text_3\">\r\n      <!-- 200 -->\r\n      <g transform=\"translate(151.468516 351.439141)scale(0.1 -0.1)\">\r\n       <defs>\r\n        <path d=\"M 19.1875 8.296875 \r\nL 53.609375 8.296875 \r\nL 53.609375 0 \r\nL 7.328125 0 \r\nL 7.328125 8.296875 \r\nQ 12.9375 14.109375 22.625 23.890625 \r\nQ 32.328125 33.6875 34.8125 36.53125 \r\nQ 39.546875 41.84375 41.421875 45.53125 \r\nQ 43.3125 49.21875 43.3125 52.78125 \r\nQ 43.3125 58.59375 39.234375 62.25 \r\nQ 35.15625 65.921875 28.609375 65.921875 \r\nQ 23.96875 65.921875 18.8125 64.3125 \r\nQ 13.671875 62.703125 7.8125 59.421875 \r\nL 7.8125 69.390625 \r\nQ 13.765625 71.78125 18.9375 73 \r\nQ 24.125 74.21875 28.421875 74.21875 \r\nQ 39.75 74.21875 46.484375 68.546875 \r\nQ 53.21875 62.890625 53.21875 53.421875 \r\nQ 53.21875 48.921875 51.53125 44.890625 \r\nQ 49.859375 40.875 45.40625 35.40625 \r\nQ 44.1875 33.984375 37.640625 27.21875 \r\nQ 31.109375 20.453125 19.1875 8.296875 \r\nz\r\n\" id=\"DejaVuSans-50\"/>\r\n       </defs>\r\n       <use xlink:href=\"#DejaVuSans-50\"/>\r\n       <use x=\"63.623047\" xlink:href=\"#DejaVuSans-48\"/>\r\n       <use x=\"127.246094\" xlink:href=\"#DejaVuSans-48\"/>\r\n      </g>\r\n     </g>\r\n    </g>\r\n   </g>\r\n   <g id=\"matplotlib.axis_2\">\r\n    <g id=\"ytick_1\">\r\n     <g id=\"line2d_4\">\r\n      <defs>\r\n       <path d=\"M 0 0 \r\nL -3.5 0 \r\n\" id=\"mdc7e91de99\" style=\"stroke:#000000;stroke-width:0.8;\"/>\r\n      </defs>\r\n      <g>\r\n       <use style=\"stroke:#000000;stroke-width:0.8;\" x=\"33.2875\" xlink:href=\"#mdc7e91de99\" y=\"10.999219\"/>\r\n      </g>\r\n     </g>\r\n     <g id=\"text_4\">\r\n      <!-- 0 -->\r\n      <g transform=\"translate(19.925 14.798438)scale(0.1 -0.1)\">\r\n       <use xlink:href=\"#DejaVuSans-48\"/>\r\n      </g>\r\n     </g>\r\n    </g>\r\n    <g id=\"ytick_2\">\r\n     <g id=\"line2d_5\">\r\n      <g>\r\n       <use style=\"stroke:#000000;stroke-width:0.8;\" x=\"33.2875\" xlink:href=\"#mdc7e91de99\" y=\"74.702344\"/>\r\n      </g>\r\n     </g>\r\n     <g id=\"text_5\">\r\n      <!-- 100 -->\r\n      <g transform=\"translate(7.2 78.501563)scale(0.1 -0.1)\">\r\n       <use xlink:href=\"#DejaVuSans-49\"/>\r\n       <use x=\"63.623047\" xlink:href=\"#DejaVuSans-48\"/>\r\n       <use x=\"127.246094\" xlink:href=\"#DejaVuSans-48\"/>\r\n      </g>\r\n     </g>\r\n    </g>\r\n    <g id=\"ytick_3\">\r\n     <g id=\"line2d_6\">\r\n      <g>\r\n       <use style=\"stroke:#000000;stroke-width:0.8;\" x=\"33.2875\" xlink:href=\"#mdc7e91de99\" y=\"138.405469\"/>\r\n      </g>\r\n     </g>\r\n     <g id=\"text_6\">\r\n      <!-- 200 -->\r\n      <g transform=\"translate(7.2 142.204688)scale(0.1 -0.1)\">\r\n       <use xlink:href=\"#DejaVuSans-50\"/>\r\n       <use x=\"63.623047\" xlink:href=\"#DejaVuSans-48\"/>\r\n       <use x=\"127.246094\" xlink:href=\"#DejaVuSans-48\"/>\r\n      </g>\r\n     </g>\r\n    </g>\r\n    <g id=\"ytick_4\">\r\n     <g id=\"line2d_7\">\r\n      <g>\r\n       <use style=\"stroke:#000000;stroke-width:0.8;\" x=\"33.2875\" xlink:href=\"#mdc7e91de99\" y=\"202.108594\"/>\r\n      </g>\r\n     </g>\r\n     <g id=\"text_7\">\r\n      <!-- 300 -->\r\n      <g transform=\"translate(7.2 205.907813)scale(0.1 -0.1)\">\r\n       <defs>\r\n        <path d=\"M 40.578125 39.3125 \r\nQ 47.65625 37.796875 51.625 33 \r\nQ 55.609375 28.21875 55.609375 21.1875 \r\nQ 55.609375 10.40625 48.1875 4.484375 \r\nQ 40.765625 -1.421875 27.09375 -1.421875 \r\nQ 22.515625 -1.421875 17.65625 -0.515625 \r\nQ 12.796875 0.390625 7.625 2.203125 \r\nL 7.625 11.71875 \r\nQ 11.71875 9.328125 16.59375 8.109375 \r\nQ 21.484375 6.890625 26.8125 6.890625 \r\nQ 36.078125 6.890625 40.9375 10.546875 \r\nQ 45.796875 14.203125 45.796875 21.1875 \r\nQ 45.796875 27.640625 41.28125 31.265625 \r\nQ 36.765625 34.90625 28.71875 34.90625 \r\nL 20.21875 34.90625 \r\nL 20.21875 43.015625 \r\nL 29.109375 43.015625 \r\nQ 36.375 43.015625 40.234375 45.921875 \r\nQ 44.09375 48.828125 44.09375 54.296875 \r\nQ 44.09375 59.90625 40.109375 62.90625 \r\nQ 36.140625 65.921875 28.71875 65.921875 \r\nQ 24.65625 65.921875 20.015625 65.03125 \r\nQ 15.375 64.15625 9.8125 62.3125 \r\nL 9.8125 71.09375 \r\nQ 15.4375 72.65625 20.34375 73.4375 \r\nQ 25.25 74.21875 29.59375 74.21875 \r\nQ 40.828125 74.21875 47.359375 69.109375 \r\nQ 53.90625 64.015625 53.90625 55.328125 \r\nQ 53.90625 49.265625 50.4375 45.09375 \r\nQ 46.96875 40.921875 40.578125 39.3125 \r\nz\r\n\" id=\"DejaVuSans-51\"/>\r\n       </defs>\r\n       <use xlink:href=\"#DejaVuSans-51\"/>\r\n       <use x=\"63.623047\" xlink:href=\"#DejaVuSans-48\"/>\r\n       <use x=\"127.246094\" xlink:href=\"#DejaVuSans-48\"/>\r\n      </g>\r\n     </g>\r\n    </g>\r\n    <g id=\"ytick_5\">\r\n     <g id=\"line2d_8\">\r\n      <g>\r\n       <use style=\"stroke:#000000;stroke-width:0.8;\" x=\"33.2875\" xlink:href=\"#mdc7e91de99\" y=\"265.811719\"/>\r\n      </g>\r\n     </g>\r\n     <g id=\"text_8\">\r\n      <!-- 400 -->\r\n      <g transform=\"translate(7.2 269.610938)scale(0.1 -0.1)\">\r\n       <defs>\r\n        <path d=\"M 37.796875 64.3125 \r\nL 12.890625 25.390625 \r\nL 37.796875 25.390625 \r\nz\r\nM 35.203125 72.90625 \r\nL 47.609375 72.90625 \r\nL 47.609375 25.390625 \r\nL 58.015625 25.390625 \r\nL 58.015625 17.1875 \r\nL 47.609375 17.1875 \r\nL 47.609375 0 \r\nL 37.796875 0 \r\nL 37.796875 17.1875 \r\nL 4.890625 17.1875 \r\nL 4.890625 26.703125 \r\nz\r\n\" id=\"DejaVuSans-52\"/>\r\n       </defs>\r\n       <use xlink:href=\"#DejaVuSans-52\"/>\r\n       <use x=\"63.623047\" xlink:href=\"#DejaVuSans-48\"/>\r\n       <use x=\"127.246094\" xlink:href=\"#DejaVuSans-48\"/>\r\n      </g>\r\n     </g>\r\n    </g>\r\n    <g id=\"ytick_6\">\r\n     <g id=\"line2d_9\">\r\n      <g>\r\n       <use style=\"stroke:#000000;stroke-width:0.8;\" x=\"33.2875\" xlink:href=\"#mdc7e91de99\" y=\"329.514844\"/>\r\n      </g>\r\n     </g>\r\n     <g id=\"text_9\">\r\n      <!-- 500 -->\r\n      <g transform=\"translate(7.2 333.314063)scale(0.1 -0.1)\">\r\n       <defs>\r\n        <path d=\"M 10.796875 72.90625 \r\nL 49.515625 72.90625 \r\nL 49.515625 64.59375 \r\nL 19.828125 64.59375 \r\nL 19.828125 46.734375 \r\nQ 21.96875 47.46875 24.109375 47.828125 \r\nQ 26.265625 48.1875 28.421875 48.1875 \r\nQ 40.625 48.1875 47.75 41.5 \r\nQ 54.890625 34.8125 54.890625 23.390625 \r\nQ 54.890625 11.625 47.5625 5.09375 \r\nQ 40.234375 -1.421875 26.90625 -1.421875 \r\nQ 22.3125 -1.421875 17.546875 -0.640625 \r\nQ 12.796875 0.140625 7.71875 1.703125 \r\nL 7.71875 11.625 \r\nQ 12.109375 9.234375 16.796875 8.0625 \r\nQ 21.484375 6.890625 26.703125 6.890625 \r\nQ 35.15625 6.890625 40.078125 11.328125 \r\nQ 45.015625 15.765625 45.015625 23.390625 \r\nQ 45.015625 31 40.078125 35.4375 \r\nQ 35.15625 39.890625 26.703125 39.890625 \r\nQ 22.75 39.890625 18.8125 39.015625 \r\nQ 14.890625 38.140625 10.796875 36.28125 \r\nz\r\n\" id=\"DejaVuSans-53\"/>\r\n       </defs>\r\n       <use xlink:href=\"#DejaVuSans-53\"/>\r\n       <use x=\"63.623047\" xlink:href=\"#DejaVuSans-48\"/>\r\n       <use x=\"127.246094\" xlink:href=\"#DejaVuSans-48\"/>\r\n      </g>\r\n     </g>\r\n    </g>\r\n   </g>\r\n   <g id=\"patch_3\">\r\n    <path d=\"M 33.2875 336.840703 \r\nL 33.2875 10.680703 \r\n\" style=\"fill:none;stroke:#000000;stroke-linecap:square;stroke-linejoin:miter;stroke-width:0.8;\"/>\r\n   </g>\r\n   <g id=\"patch_4\">\r\n    <path d=\"M 171.523281 336.840703 \r\nL 171.523281 10.680703 \r\n\" style=\"fill:none;stroke:#000000;stroke-linecap:square;stroke-linejoin:miter;stroke-width:0.8;\"/>\r\n   </g>\r\n   <g id=\"patch_5\">\r\n    <path d=\"M 33.2875 336.840703 \r\nL 171.523281 336.840703 \r\n\" style=\"fill:none;stroke:#000000;stroke-linecap:square;stroke-linejoin:miter;stroke-width:0.8;\"/>\r\n   </g>\r\n   <g id=\"patch_6\">\r\n    <path d=\"M 33.2875 10.680703 \r\nL 171.523281 10.680703 \r\n\" style=\"fill:none;stroke:#000000;stroke-linecap:square;stroke-linejoin:miter;stroke-width:0.8;\"/>\r\n   </g>\r\n  </g>\r\n </g>\r\n <defs>\r\n  <clipPath id=\"p440bba855c\">\r\n   <rect height=\"326.16\" width=\"138.235781\" x=\"33.2875\" y=\"10.680703\"/>\r\n  </clipPath>\r\n </defs>\r\n</svg>\r\n",
      "image/png": "[encoded data removed]"
     },
     "metadata": {
      "needs_background": "light"
     }
    }
   ],
   "source": [
    "ground_truth = spectral.imshow(classes=data_gt, figsize=(6, 6))"
   ]
  },
  {
   "source": [
    "# 对比一下两种获取方式得到的最终速度"
   ],
   "cell_type": "markdown",
   "metadata": {}
  },
  {
   "cell_type": "code",
   "execution_count": null,
   "metadata": {},
   "outputs": [],
   "source": [
    "import time"
   ]
  },
  {
   "cell_type": "code",
   "execution_count": null,
   "metadata": {},
   "outputs": [],
   "source": [
    "starttime = time.time()\n",
    "\n",
    "height = 100\n",
    "width = 100\n",
    "k = 0\n",
    "outputs = np.zeros((height,width))\n",
    "for i in range(height):\n",
    "    for j in range(width): \n",
    "        for k in range(10000):\n",
    "            outputs[i][j] = 1\n",
    "\n",
    "endtime = time.time()\n",
    "dtime = endtime - starttime\n",
    "print(\"程序运行时间：%.8s s\" % dtime)  #显示到微秒"
   ]
  },
  {
   "cell_type": "code",
   "execution_count": null,
   "metadata": {},
   "outputs": [],
   "source": [
    "outputs"
   ]
  },
  {
   "cell_type": "code",
   "execution_count": null,
   "metadata": {},
   "outputs": [],
   "source": [
    "starttime = time.time()\n",
    "\n",
    "outputs = list()\n",
    "for i in range(height):\n",
    "    for j in range(width): \n",
    "        outputs.append(2)\n",
    "outputs = np.array(outputs).reshape((height,width))\n",
    "endtime = time.time()\n",
    "dtime = endtime - starttime\n",
    "print(\"程序运行时间：%.8s s\" % dtime)  #显示到微秒"
   ]
  },
  {
   "cell_type": "code",
   "execution_count": null,
   "metadata": {},
   "outputs": [],
   "source": [
    "outputs"
   ]
  },
  {
   "cell_type": "code",
   "execution_count": null,
   "metadata": {},
   "outputs": [],
   "source": []
  }
 ]
}