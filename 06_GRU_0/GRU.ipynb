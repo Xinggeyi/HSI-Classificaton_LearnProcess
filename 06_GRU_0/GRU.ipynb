{
 "cells": [
  {
   "cell_type": "code",
   "execution_count": 1,
   "metadata": {},
   "outputs": [],
   "source": [
    "from sklearn.neighbors import KNeighborsClassifier\n",
    "from sklearn.svm import SVC\n",
    "import numpy as np\n",
    "import scipy.io as sio\n",
    "import random\n",
    "import matplotlib.pyplot as plt\n",
    "import os\n",
    "from tensorflow import keras\n",
    "from tensorflow.keras import layers\n",
    "import tensorflow as tf"
   ]
  },
  {
   "cell_type": "code",
   "execution_count": 2,
   "metadata": {},
   "outputs": [
    {
     "output_type": "stream",
     "name": "stdout",
     "text": [
      "[PhysicalDevice(name='/physical_device:GPU:0', device_type='GPU')]\n"
     ]
    }
   ],
   "source": [
    "#  https://blog.csdn.net/ljyljyok/article/details/107619881  这里是解决这个问题，貌似这个问题指挥出现在LSTM中\n",
    "# https://blog.csdn.net/weixin_44545603/article/details/103322446?utm_medium=distribute.pc_relevant.none-task-blog-OPENSEARCH-1.nonecase&depth_1-utm_source=distribute.pc_relevant.none-task-blog-OPENSEARCH-1.nonecase\n",
    "gpus = tf.config.experimental.list_physical_devices('GPU')\n",
    "print(gpus)\n",
    "for gpu in gpus:\n",
    "    tf.config.experimental.set_memory_growth(gpu, True)"
   ]
  },
  {
   "cell_type": "markdown",
   "metadata": {},
   "source": [
    "# 一、导入数据加数据处理阶段"
   ]
  },
  {
   "cell_type": "code",
   "execution_count": 3,
   "metadata": {},
   "outputs": [],
   "source": [
    "# 导入数据\n",
    "path = os.path.join(\"E:\\Eric_HSI\\hyperspectral_datasets\")\n",
    "PaviaU = os.path.join(path,'paviaU.mat')\n",
    "PaviaU_gt = os.path.join(path,'paviaU_gt.mat')\n",
    "method_path = 'SVM'"
   ]
  },
  {
   "cell_type": "code",
   "execution_count": 4,
   "metadata": {},
   "outputs": [],
   "source": [
    "# 加载数据，返回值为一个字典内嵌ndarray的数据结构\n",
    "data = sio.loadmat(PaviaU)\n",
    "data_gt = sio.loadmat(PaviaU_gt)\n",
    "data = data['data']  # im为样本点的光谱值的ndarray\n",
    "data_label = data_gt['groundT']  # imGIS样本点的标签值组成的ndarray"
   ]
  },
  {
   "cell_type": "code",
   "execution_count": 5,
   "metadata": {},
   "outputs": [],
   "source": [
    "# 归一化，这个归一化的方法有点不一样\n",
    "data = (data - float(np.min(data)))\n",
    "data = data/np.max(data)"
   ]
  },
  {
   "cell_type": "code",
   "execution_count": 6,
   "metadata": {},
   "outputs": [
    {
     "output_type": "execute_result",
     "data": {
      "text/plain": [
       "(610, 340)"
      ]
     },
     "metadata": {},
     "execution_count": 6
    }
   ],
   "source": [
    "data.shape  # (610, 340, 103)\n",
    "data_label.shape  # (610, 340)"
   ]
  },
  {
   "cell_type": "code",
   "execution_count": 7,
   "metadata": {},
   "outputs": [
    {
     "output_type": "execute_result",
     "data": {
      "text/plain": [
       "9"
      ]
     },
     "metadata": {},
     "execution_count": 7
    }
   ],
   "source": [
    "# 参数设置\n",
    "# 训练数据集的个数200, deepth为通道数103，class为类别数 paviaU 为 9\n",
    "sample_num = 200\n",
    "deepth = data.shape[2]\n",
    "classes = np.max(data_label)\n",
    "classes"
   ]
  },
  {
   "cell_type": "code",
   "execution_count": 8,
   "metadata": {},
   "outputs": [
    {
     "output_type": "execute_result",
     "data": {
      "text/plain": [
       "{1: [], 2: [], 3: [], 4: [], 5: [], 6: [], 7: [], 8: [], 9: []}"
      ]
     },
     "metadata": {},
     "execution_count": 8
    }
   ],
   "source": [
    "# 创建三个字典,用处留在下一步说明\n",
    "data_pos = {}\n",
    "train_pos = {}\n",
    "test_pos = {}\n",
    "\n",
    "for i in range(1,classes+1):\n",
    "    data_pos[i] = []\n",
    "    train_pos[i] = []\n",
    "    test_pos[i] = []\n",
    "data_pos"
   ]
  },
  {
   "cell_type": "code",
   "execution_count": 9,
   "metadata": {},
   "outputs": [
    {
     "output_type": "execute_result",
     "data": {
      "text/plain": [
       "164624"
      ]
     },
     "metadata": {},
     "execution_count": 9
    }
   ],
   "source": [
    "# 构造一个总的data_pos\n",
    "num = 0\n",
    "for i in range(data_label.shape[0]):\n",
    "    for j in range(data_label.shape[1]):\n",
    "        if data_label[i][j] == 0:\n",
    "           num += 1\n",
    "num  "
   ]
  },
  {
   "cell_type": "code",
   "execution_count": 10,
   "metadata": {},
   "outputs": [],
   "source": [
    "# 统计每一个类的集合\n",
    "# 得到{1类：对应点坐标位置列表，2类：对应的坐标位置列表；等等}\n",
    "# 这里的 Class + 1 是因为有背景 \n",
    "# pos  ->  position\n",
    "\n",
    "# 构造一个总的data_pos\n",
    "for i in range(data_label.shape[0]):\n",
    "    for j in range(data_label.shape[1]):\n",
    "        for k in range(1,classes+1):     # 这里类别从1开始，把背景像素直接删除了\n",
    "            # 统计每一个类的集合\n",
    "            if data_label[i,j]==k:\n",
    "                data_pos[k].append([i,j])\n",
    "                continue"
   ]
  },
  {
   "cell_type": "code",
   "execution_count": 11,
   "metadata": {},
   "outputs": [
    {
     "output_type": "execute_result",
     "data": {
      "text/plain": [
       "[[0, 91],\n",
       " [0, 92],\n",
       " [0, 93],\n",
       " [0, 94],\n",
       " [0, 95],\n",
       " [0, 96],\n",
       " [0, 97],\n",
       " [0, 98],\n",
       " [0, 112],\n",
       " [0, 113]]"
      ]
     },
     "metadata": {},
     "execution_count": 11
    }
   ],
   "source": [
    "# 查看每一个类的坐标值\n",
    "# 取出键为1的 ndarray 中的前10个数，也就是标签为1的前10个像素是位置坐标位置\n",
    "data_pos[1][:10]"
   ]
  },
  {
   "cell_type": "code",
   "execution_count": 12,
   "metadata": {},
   "outputs": [],
   "source": [
    "# for k,v in data_pos.items():\n",
    "#     print(len(v))"
   ]
  },
  {
   "cell_type": "code",
   "execution_count": 13,
   "metadata": {},
   "outputs": [],
   "source": [
    "# 取出测试集和训练集,此过程后训练集和测试集为字典，和上面构造data_pos类似\n",
    "# 返回值也是字典，字典的内容一个是包含200 * class 的训练集和剩余的测试集\n",
    "for i in range(1,classes+1):\n",
    "    # 随机生成 200 个不重复的index，用于生成训练集和测试集\n",
    "    indexies = random.sample(range(len(data_pos[i])),sample_num)\n",
    "    for k in range(len(data_pos[i])):\n",
    "        if k not in indexies:\n",
    "            test_pos[i].append(data_pos[i][k])\n",
    "        else:\n",
    "            train_pos[i].append(data_pos[i][k])"
   ]
  },
  {
   "cell_type": "code",
   "execution_count": 14,
   "metadata": {},
   "outputs": [],
   "source": [
    "# for k,v in test_pos.items():\n",
    "#     print(len(v))"
   ]
  },
  {
   "cell_type": "code",
   "execution_count": 15,
   "metadata": {},
   "outputs": [
    {
     "output_type": "execute_result",
     "data": {
      "text/plain": [
       "[[0, 116],\n",
       " [3, 98],\n",
       " [9, 99],\n",
       " [20, 107],\n",
       " [22, 93],\n",
       " [23, 111],\n",
       " [23, 115],\n",
       " [25, 111],\n",
       " [26, 114],\n",
       " [28, 73]]"
      ]
     },
     "metadata": {},
     "execution_count": 15
    }
   ],
   "source": [
    "train_pos[1][:10]"
   ]
  },
  {
   "cell_type": "code",
   "execution_count": 16,
   "metadata": {},
   "outputs": [
    {
     "output_type": "stream",
     "name": "stdout",
     "text": [
      "9\n200\n<class 'dict'>\n"
     ]
    },
    {
     "output_type": "execute_result",
     "data": {
      "text/plain": [
       "0"
      ]
     },
     "metadata": {},
     "execution_count": 16
    }
   ],
   "source": [
    "print(len(train_pos))  # 9\n",
    "print(len(train_pos[2]))  # 200\n",
    "type(train_pos[1][:10])  # list\n",
    "print(type(train_pos))\n",
    "# type(train_pos[1]) # list\n",
    "row, col = train_pos[1][0]  # list可以这样取值\n",
    "row"
   ]
  },
  {
   "cell_type": "code",
   "execution_count": 17,
   "metadata": {},
   "outputs": [],
   "source": [
    "# dict train_pos change to list train, but list include n ndarray\n",
    "# 将位置信息转化光谱值信息，即将坐标值转化为其对应的光谱值，此过程得到一个为列表\n",
    "# 准确的说是列表内嵌套ndarray的结构，ndarray有 1 维，个数103\n",
    "train = []   # 训练样本的总个数，每个类别分别有200个样本,每个样本103维，总共有1800个样本\n",
    "train_label = []\n",
    "test = []\n",
    "test_label = []\n",
    "\n",
    "# 训练集生成\n",
    "for i in range(1,len(train_pos)+1):   # 9 classes + bacground \n",
    "    for j in range(len(train_pos[i])):   # 200个样本\n",
    "        row,col = train_pos[i][j]\n",
    "        train.append(data[row,col])   #### 一下子传入103维 ####\n",
    "        train_label.append(i)\n",
    "\n",
    "# 测试集生成\n",
    "for i in range(1,len(test_pos)+1):\n",
    "    for j in range(len(test_pos[i])):\n",
    "        row,col = test_pos[i][j]\n",
    "        test.append(data[row,col])\n",
    "        test_label.append(i)"
   ]
  },
  {
   "cell_type": "code",
   "execution_count": 18,
   "metadata": {},
   "outputs": [
    {
     "output_type": "execute_result",
     "data": {
      "text/plain": [
       "numpy.ndarray"
      ]
     },
     "metadata": {},
     "execution_count": 18
    }
   ],
   "source": [
    "type(train)   # list 1800\n",
    "type(train[1])  # ndarray"
   ]
  },
  {
   "cell_type": "markdown",
   "metadata": {},
   "source": [
    "### np.array & np.asarray\n",
    "- array和asarray都可以将结构数据转化为ndarray，\n",
    "- 但是主要区别就是当数据源是ndarray时，array仍然会copy出一个副本，占用新的内存，但asarray不会。"
   ]
  },
  {
   "cell_type": "code",
   "execution_count": 19,
   "metadata": {},
   "outputs": [
    {
     "output_type": "stream",
     "name": "stdout",
     "text": [
      "(1800, 103)\n(1800,)\n(1800, 103, 1)\n(40976, 103, 1)\n(40976,)\n"
     ]
    }
   ],
   "source": [
    "train = np.asarray(train)\n",
    "train_label = np.asarray(train_label)\n",
    "print(train.shape)\n",
    "print(train_label.shape)\n",
    "train = train.reshape(train.shape[0], train.shape[1], 1) \n",
    "print(train.shape)\n",
    "test = np.asarray(test)\n",
    "test_label = np.asarray(test_label)\n",
    "test = test.reshape(test.shape[0], test.shape[1], 1) \n",
    "print(test.shape)\n",
    "print(test_label.shape)"
   ]
  },
  {
   "cell_type": "code",
   "execution_count": 20,
   "metadata": {},
   "outputs": [],
   "source": [
    "# 标签值-1\n",
    "test_label = test_label - 1\n",
    "train_label = train_label - 1"
   ]
  },
  {
   "cell_type": "code",
   "execution_count": 21,
   "metadata": {},
   "outputs": [],
   "source": [
    "if not os.path.exists('./np_data'):\n",
    "    os.makedirs('./np_data')"
   ]
  },
  {
   "cell_type": "code",
   "execution_count": 22,
   "metadata": {},
   "outputs": [],
   "source": [
    "# 保存数据\n",
    "path_train = r\"E:\\Eric_HSI\\excise5\\np_data\\train\" + \".npy\"\n",
    "path_train_label = r\"E:\\Eric_HSI\\excise5\\np_data\\train_label\" + \".npy\"\n",
    "path_test = r\"E:\\Eric_HSI\\excise5\\np_data\\test\" + \".npy\"\n",
    "path_test_label = r\"E:\\Eric_HSI\\excise5\\np_data\\test_label\" + \".npy\"\n",
    "\n",
    "\n",
    "np.save(path_train, train)\n",
    "np.save(path_train_label, train_label)\n",
    "np.save(path_test, test)\n",
    "np.save(path_test_label, test_label)"
   ]
  },
  {
   "cell_type": "code",
   "execution_count": 23,
   "metadata": {},
   "outputs": [],
   "source": [
    "train_label = tf.keras.utils.to_categorical(train_label)\n",
    "test_label = tf.keras.utils.to_categorical(test_label)"
   ]
  },
  {
   "cell_type": "code",
   "execution_count": 24,
   "metadata": {},
   "outputs": [
    {
     "output_type": "execute_result",
     "data": {
      "text/plain": [
       "(9,)"
      ]
     },
     "metadata": {},
     "execution_count": 24
    }
   ],
   "source": [
    "test_label[1].shape"
   ]
  },
  {
   "cell_type": "code",
   "execution_count": 26,
   "metadata": {},
   "outputs": [],
   "source": [
    "# LSTM 擅长根据时间变化的预测趋势问题\n",
    "# model = keras.Sequential()\n",
    "# model.add(layers.LSTM(32, input_shape=(train.shape[1:])))\n",
    "# model.add(layers.Dense(10))\n",
    "\n",
    "model = keras.Sequential()\n",
    "model.add(layers.GRU(64, input_shape=(train.shape[1:]), return_sequences=True))\n",
    "model.add(layers.GRU(64, return_sequences=True))\n",
    "# model.add(layers.LSTM(64))\n",
    "model.add(layers.Flatten())\n",
    "model.add(layers.Dense(9, activation='softmax'))"
   ]
  },
  {
   "cell_type": "code",
   "execution_count": 27,
   "metadata": {},
   "outputs": [],
   "source": [
    "model.compile(optimizer=tf.keras.optimizers.Adam(learning_rate=0.0001),\n",
    "              loss='categorical_crossentropy',\n",
    "              metrics=['acc'])"
   ]
  },
  {
   "cell_type": "code",
   "execution_count": 28,
   "metadata": {},
   "outputs": [
    {
     "output_type": "stream",
     "name": "stdout",
     "text": [
      "Model: \"sequential_1\"\n_________________________________________________________________\nLayer (type)                 Output Shape              Param #   \n=================================================================\ngru (GRU)                    (None, 103, 64)           12864     \n_________________________________________________________________\ngru_1 (GRU)                  (None, 103, 64)           24960     \n_________________________________________________________________\nflatten (Flatten)            (None, 6592)              0         \n_________________________________________________________________\ndense (Dense)                (None, 9)                 59337     \n=================================================================\nTotal params: 97,161\nTrainable params: 97,161\nNon-trainable params: 0\n_________________________________________________________________\n"
     ]
    }
   ],
   "source": [
    "model.summary()"
   ]
  },
  {
   "cell_type": "code",
   "execution_count": 29,
   "metadata": {},
   "outputs": [],
   "source": [
    "# checkpoint_path = \"./weights/cp.ckpt\"\n",
    "# if not os.path.exists('./weights'):\n",
    "#     os.makedirs('./weights')\n",
    "# checkpoint_dir = os.path.dirname(checkpoint_path)          # 获取文件夹名称"
   ]
  },
  {
   "cell_type": "code",
   "execution_count": 30,
   "metadata": {},
   "outputs": [],
   "source": [
    "# 创建一个保存模型权重的回调\n",
    "# cp_callback = tf.keras.callbacks.ModelCheckpoint(filepath=checkpoint_path,\n",
    "#                                                  save_weights_only=True,\n",
    "#                                                  save_best_only=True,\n",
    "#                                                  period=3,  # 每5次保存一次\n",
    "#                                                  verbose=1)\n",
    "lr = tf.keras.callbacks.ReduceLROnPlateau(monitor='val_loss', factor=0.8, patience=5, min_lr=0.000001, verbose=1)"
   ]
  },
  {
   "cell_type": "code",
   "execution_count": 31,
   "metadata": {},
   "outputs": [],
   "source": [
    "BATCH_SIZE = 64"
   ]
  },
  {
   "cell_type": "code",
   "execution_count": 32,
   "metadata": {},
   "outputs": [
    {
     "output_type": "stream",
     "name": "stdout",
     "text": [
      "Epoch 1/100\n",
      "29/29 [==============================] - 3s 97ms/step - loss: 2.1603 - acc: 0.1261 - val_loss: 2.1638 - val_acc: 0.0724\n",
      "Epoch 2/100\n",
      "29/29 [==============================] - 2s 79ms/step - loss: 2.0392 - acc: 0.2850 - val_loss: 2.0159 - val_acc: 0.1155\n",
      "Epoch 3/100\n",
      "29/29 [==============================] - 2s 80ms/step - loss: 1.7530 - acc: 0.3378 - val_loss: 1.6948 - val_acc: 0.1320\n",
      "Epoch 4/100\n",
      "29/29 [==============================] - 2s 79ms/step - loss: 1.3840 - acc: 0.4089 - val_loss: 1.4447 - val_acc: 0.2497\n",
      "Epoch 5/100\n",
      "29/29 [==============================] - 2s 78ms/step - loss: 1.1139 - acc: 0.5478 - val_loss: 1.2102 - val_acc: 0.4969\n",
      "Epoch 6/100\n",
      "29/29 [==============================] - 2s 79ms/step - loss: 0.9298 - acc: 0.6711 - val_loss: 0.9851 - val_acc: 0.6203\n",
      "Epoch 7/100\n",
      "29/29 [==============================] - 2s 77ms/step - loss: 0.8115 - acc: 0.6944 - val_loss: 0.9021 - val_acc: 0.6259\n",
      "Epoch 8/100\n",
      "29/29 [==============================] - 2s 77ms/step - loss: 0.7591 - acc: 0.7067 - val_loss: 0.9023 - val_acc: 0.6198\n",
      "Epoch 9/100\n",
      "29/29 [==============================] - 2s 76ms/step - loss: 0.7376 - acc: 0.7211 - val_loss: 0.9074 - val_acc: 0.6107\n",
      "Epoch 10/100\n",
      "29/29 [==============================] - 2s 76ms/step - loss: 0.7154 - acc: 0.7167 - val_loss: 0.8418 - val_acc: 0.6765\n",
      "Epoch 11/100\n",
      "29/29 [==============================] - 2s 77ms/step - loss: 0.6969 - acc: 0.7133 - val_loss: 0.8368 - val_acc: 0.6354\n",
      "Epoch 12/100\n",
      "29/29 [==============================] - 2s 78ms/step - loss: 0.6880 - acc: 0.7172 - val_loss: 0.8275 - val_acc: 0.6952\n",
      "Epoch 13/100\n",
      "29/29 [==============================] - 2s 77ms/step - loss: 0.6769 - acc: 0.7356 - val_loss: 0.8251 - val_acc: 0.6702\n",
      "Epoch 14/100\n",
      "29/29 [==============================] - 2s 79ms/step - loss: 0.6589 - acc: 0.7461 - val_loss: 0.8576 - val_acc: 0.6204\n",
      "Epoch 15/100\n",
      "29/29 [==============================] - 2s 78ms/step - loss: 0.6463 - acc: 0.7383 - val_loss: 0.8243 - val_acc: 0.6743\n",
      "Epoch 16/100\n",
      "29/29 [==============================] - 2s 77ms/step - loss: 0.6427 - acc: 0.7222 - val_loss: 0.8393 - val_acc: 0.6881\n",
      "Epoch 17/100\n",
      "29/29 [==============================] - 2s 78ms/step - loss: 0.6402 - acc: 0.7550 - val_loss: 0.7560 - val_acc: 0.7122\n",
      "Epoch 18/100\n",
      "29/29 [==============================] - 2s 80ms/step - loss: 0.6201 - acc: 0.7444 - val_loss: 0.7502 - val_acc: 0.7278\n",
      "Epoch 19/100\n",
      "29/29 [==============================] - 2s 78ms/step - loss: 0.6117 - acc: 0.7594 - val_loss: 0.8775 - val_acc: 0.6226\n",
      "Epoch 20/100\n",
      "29/29 [==============================] - 2s 79ms/step - loss: 0.6013 - acc: 0.7700 - val_loss: 0.7393 - val_acc: 0.7017\n",
      "Epoch 21/100\n",
      "29/29 [==============================] - 2s 78ms/step - loss: 0.5977 - acc: 0.7561 - val_loss: 0.7871 - val_acc: 0.7130\n",
      "Epoch 22/100\n",
      "29/29 [==============================] - 2s 78ms/step - loss: 0.5887 - acc: 0.7822 - val_loss: 0.7432 - val_acc: 0.7177\n",
      "Epoch 23/100\n",
      "29/29 [==============================] - 2s 79ms/step - loss: 0.5730 - acc: 0.7939 - val_loss: 0.7646 - val_acc: 0.7028\n",
      "Epoch 24/100\n",
      "29/29 [==============================] - 2s 79ms/step - loss: 0.5741 - acc: 0.7756 - val_loss: 0.7997 - val_acc: 0.6963\n",
      "Epoch 25/100\n",
      "25/29 [========================>.....] - ETA: 0s - loss: 0.5695 - acc: 0.7912\n",
      "Epoch 00025: ReduceLROnPlateau reducing learning rate to 7.999999797903001e-05.\n",
      "29/29 [==============================] - 2s 79ms/step - loss: 0.5626 - acc: 0.7933 - val_loss: 0.8239 - val_acc: 0.7053\n",
      "Epoch 26/100\n",
      "29/29 [==============================] - 2s 79ms/step - loss: 0.5543 - acc: 0.8017 - val_loss: 0.7635 - val_acc: 0.7112\n",
      "Epoch 27/100\n",
      "29/29 [==============================] - 2s 79ms/step - loss: 0.5568 - acc: 0.7944 - val_loss: 0.7920 - val_acc: 0.7110\n",
      "Epoch 28/100\n",
      "29/29 [==============================] - 2s 78ms/step - loss: 0.5441 - acc: 0.7906 - val_loss: 0.7962 - val_acc: 0.6782\n",
      "Epoch 29/100\n",
      "29/29 [==============================] - 2s 79ms/step - loss: 0.5320 - acc: 0.8022 - val_loss: 0.7273 - val_acc: 0.7287\n",
      "Epoch 30/100\n",
      "29/29 [==============================] - 2s 80ms/step - loss: 0.5274 - acc: 0.8100 - val_loss: 0.7541 - val_acc: 0.6907\n",
      "Epoch 31/100\n",
      "29/29 [==============================] - 2s 79ms/step - loss: 0.5212 - acc: 0.8228 - val_loss: 0.7555 - val_acc: 0.6930\n",
      "Epoch 32/100\n",
      "29/29 [==============================] - 2s 79ms/step - loss: 0.5163 - acc: 0.8211 - val_loss: 0.7166 - val_acc: 0.7195\n",
      "Epoch 33/100\n",
      "29/29 [==============================] - 2s 80ms/step - loss: 0.5176 - acc: 0.8106 - val_loss: 0.7411 - val_acc: 0.6901\n",
      "Epoch 34/100\n",
      "29/29 [==============================] - 2s 79ms/step - loss: 0.5192 - acc: 0.8144 - val_loss: 0.7553 - val_acc: 0.6906\n",
      "Epoch 35/100\n",
      "29/29 [==============================] - 2s 78ms/step - loss: 0.5045 - acc: 0.8272 - val_loss: 0.7734 - val_acc: 0.6883\n",
      "Epoch 36/100\n",
      "29/29 [==============================] - 2s 79ms/step - loss: 0.5051 - acc: 0.8261 - val_loss: 0.7704 - val_acc: 0.6752\n",
      "Epoch 37/100\n",
      "29/29 [==============================] - 2s 78ms/step - loss: 0.4964 - acc: 0.8267 - val_loss: 0.7152 - val_acc: 0.7074\n",
      "Epoch 38/100\n",
      "29/29 [==============================] - 2s 78ms/step - loss: 0.4918 - acc: 0.8233 - val_loss: 0.7679 - val_acc: 0.6780\n",
      "Epoch 39/100\n",
      "29/29 [==============================] - 2s 79ms/step - loss: 0.4933 - acc: 0.8250 - val_loss: 0.7058 - val_acc: 0.7089\n",
      "Epoch 40/100\n",
      "29/29 [==============================] - 2s 78ms/step - loss: 0.4846 - acc: 0.8239 - val_loss: 0.6742 - val_acc: 0.7257\n",
      "Epoch 41/100\n",
      "29/29 [==============================] - 2s 78ms/step - loss: 0.4873 - acc: 0.8111 - val_loss: 0.6230 - val_acc: 0.7590\n",
      "Epoch 42/100\n",
      "29/29 [==============================] - 2s 79ms/step - loss: 0.4766 - acc: 0.8211 - val_loss: 0.7559 - val_acc: 0.6574\n",
      "Epoch 43/100\n",
      "29/29 [==============================] - 2s 78ms/step - loss: 0.4907 - acc: 0.8083 - val_loss: 0.7125 - val_acc: 0.6819\n",
      "Epoch 44/100\n",
      "29/29 [==============================] - 2s 79ms/step - loss: 0.4790 - acc: 0.8283 - val_loss: 0.7002 - val_acc: 0.7134\n",
      "Epoch 45/100\n",
      "29/29 [==============================] - 2s 78ms/step - loss: 0.4654 - acc: 0.8256 - val_loss: 0.6292 - val_acc: 0.7472\n",
      "Epoch 46/100\n",
      "25/29 [========================>.....] - ETA: 0s - loss: 0.4686 - acc: 0.8256\n",
      "Epoch 00046: ReduceLROnPlateau reducing learning rate to 6.399999838322402e-05.\n",
      "29/29 [==============================] - 2s 78ms/step - loss: 0.4638 - acc: 0.8267 - val_loss: 0.6806 - val_acc: 0.7180\n",
      "Epoch 47/100\n",
      "29/29 [==============================] - 2s 79ms/step - loss: 0.4657 - acc: 0.8144 - val_loss: 0.7560 - val_acc: 0.6691\n",
      "Epoch 48/100\n",
      "29/29 [==============================] - 2s 80ms/step - loss: 0.4549 - acc: 0.8328 - val_loss: 0.7218 - val_acc: 0.6849\n",
      "Epoch 49/100\n",
      "29/29 [==============================] - 2s 78ms/step - loss: 0.4520 - acc: 0.8267 - val_loss: 0.7045 - val_acc: 0.6984\n",
      "Epoch 50/100\n",
      "29/29 [==============================] - 2s 79ms/step - loss: 0.4521 - acc: 0.8378 - val_loss: 0.6685 - val_acc: 0.7194\n",
      "Epoch 51/100\n",
      "25/29 [========================>.....] - ETA: 0s - loss: 0.4424 - acc: 0.8363\n",
      "Epoch 00051: ReduceLROnPlateau reducing learning rate to 5.119999987073243e-05.\n",
      "29/29 [==============================] - 2s 79ms/step - loss: 0.4453 - acc: 0.8350 - val_loss: 0.7060 - val_acc: 0.6972\n",
      "Epoch 52/100\n",
      "29/29 [==============================] - 2s 78ms/step - loss: 0.4422 - acc: 0.8378 - val_loss: 0.6973 - val_acc: 0.7014\n",
      "Epoch 53/100\n",
      "29/29 [==============================] - 2s 79ms/step - loss: 0.4389 - acc: 0.8406 - val_loss: 0.6866 - val_acc: 0.7071\n",
      "Epoch 54/100\n",
      "29/29 [==============================] - 2s 80ms/step - loss: 0.4371 - acc: 0.8422 - val_loss: 0.7112 - val_acc: 0.6896\n",
      "Epoch 55/100\n",
      "29/29 [==============================] - 2s 78ms/step - loss: 0.4355 - acc: 0.8383 - val_loss: 0.6890 - val_acc: 0.7019\n",
      "Epoch 56/100\n",
      "25/29 [========================>.....] - ETA: 0s - loss: 0.4335 - acc: 0.8400\n",
      "Epoch 00056: ReduceLROnPlateau reducing learning rate to 4.0960000478662555e-05.\n",
      "29/29 [==============================] - 2s 80ms/step - loss: 0.4354 - acc: 0.8361 - val_loss: 0.6517 - val_acc: 0.7150\n",
      "Epoch 57/100\n",
      "29/29 [==============================] - 2s 80ms/step - loss: 0.4329 - acc: 0.8333 - val_loss: 0.6858 - val_acc: 0.7063\n",
      "Epoch 58/100\n",
      "29/29 [==============================] - 2s 79ms/step - loss: 0.4290 - acc: 0.8372 - val_loss: 0.6978 - val_acc: 0.6981\n",
      "Epoch 59/100\n",
      "29/29 [==============================] - 2s 80ms/step - loss: 0.4325 - acc: 0.8356 - val_loss: 0.6503 - val_acc: 0.7225\n",
      "Epoch 60/100\n",
      "29/29 [==============================] - 2s 81ms/step - loss: 0.4281 - acc: 0.8433 - val_loss: 0.6638 - val_acc: 0.7142\n",
      "Epoch 61/100\n",
      "25/29 [========================>.....] - ETA: 0s - loss: 0.4223 - acc: 0.8438\n",
      "Epoch 00061: ReduceLROnPlateau reducing learning rate to 3.2767999800853435e-05.\n",
      "29/29 [==============================] - 2s 79ms/step - loss: 0.4247 - acc: 0.8439 - val_loss: 0.6585 - val_acc: 0.7128\n",
      "Epoch 62/100\n",
      "29/29 [==============================] - 2s 80ms/step - loss: 0.4256 - acc: 0.8406 - val_loss: 0.6745 - val_acc: 0.7075\n",
      "Epoch 63/100\n",
      "29/29 [==============================] - 2s 80ms/step - loss: 0.4243 - acc: 0.8456 - val_loss: 0.6882 - val_acc: 0.6993\n",
      "Epoch 64/100\n",
      "29/29 [==============================] - 2s 79ms/step - loss: 0.4212 - acc: 0.8461 - val_loss: 0.6465 - val_acc: 0.7223\n",
      "Epoch 65/100\n",
      "29/29 [==============================] - 2s 80ms/step - loss: 0.4213 - acc: 0.8417 - val_loss: 0.6957 - val_acc: 0.7028\n",
      "Epoch 66/100\n",
      "25/29 [========================>.....] - ETA: 0s - loss: 0.4235 - acc: 0.8431\n",
      "Epoch 00066: ReduceLROnPlateau reducing learning rate to 2.6214399258606137e-05.\n",
      "29/29 [==============================] - 2s 80ms/step - loss: 0.4215 - acc: 0.8433 - val_loss: 0.6711 - val_acc: 0.7118\n",
      "Epoch 67/100\n",
      "29/29 [==============================] - 2s 79ms/step - loss: 0.4180 - acc: 0.8478 - val_loss: 0.6757 - val_acc: 0.7105\n",
      "Epoch 68/100\n",
      "29/29 [==============================] - 2s 80ms/step - loss: 0.4169 - acc: 0.8461 - val_loss: 0.6464 - val_acc: 0.7244\n",
      "Epoch 69/100\n",
      "29/29 [==============================] - 2s 80ms/step - loss: 0.4165 - acc: 0.8444 - val_loss: 0.6735 - val_acc: 0.7071\n",
      "Epoch 70/100\n",
      "29/29 [==============================] - 2s 79ms/step - loss: 0.4152 - acc: 0.8456 - val_loss: 0.6486 - val_acc: 0.7189\n",
      "Epoch 71/100\n",
      "25/29 [========================>.....] - ETA: 0s - loss: 0.4201 - acc: 0.8475\n",
      "Epoch 00071: ReduceLROnPlateau reducing learning rate to 2.09715188248083e-05.\n",
      "29/29 [==============================] - 2s 80ms/step - loss: 0.4158 - acc: 0.8467 - val_loss: 0.6819 - val_acc: 0.6998\n",
      "Epoch 72/100\n",
      "29/29 [==============================] - 2s 82ms/step - loss: 0.4140 - acc: 0.8472 - val_loss: 0.6575 - val_acc: 0.7174\n",
      "Epoch 73/100\n",
      "29/29 [==============================] - 2s 80ms/step - loss: 0.4131 - acc: 0.8483 - val_loss: 0.6619 - val_acc: 0.7138\n",
      "Epoch 74/100\n",
      "29/29 [==============================] - 2s 80ms/step - loss: 0.4114 - acc: 0.8472 - val_loss: 0.6714 - val_acc: 0.7072\n",
      "Epoch 75/100\n",
      "29/29 [==============================] - 2s 81ms/step - loss: 0.4124 - acc: 0.8483 - val_loss: 0.6624 - val_acc: 0.7143\n",
      "Epoch 76/100\n",
      "24/29 [=======================>......] - ETA: 0s - loss: 0.4148 - acc: 0.8529\n",
      "Epoch 00076: ReduceLROnPlateau reducing learning rate to 1.6777214477770033e-05.\n",
      "29/29 [==============================] - 2s 80ms/step - loss: 0.4129 - acc: 0.8483 - val_loss: 0.6612 - val_acc: 0.7159\n",
      "Epoch 77/100\n",
      "29/29 [==============================] - 2s 81ms/step - loss: 0.4108 - acc: 0.8472 - val_loss: 0.6540 - val_acc: 0.7173\n",
      "Epoch 78/100\n",
      "29/29 [==============================] - 2s 81ms/step - loss: 0.4110 - acc: 0.8489 - val_loss: 0.6596 - val_acc: 0.7142\n",
      "Epoch 79/100\n",
      "29/29 [==============================] - 2s 80ms/step - loss: 0.4096 - acc: 0.8478 - val_loss: 0.6568 - val_acc: 0.7169\n",
      "Epoch 80/100\n",
      "29/29 [==============================] - 2s 80ms/step - loss: 0.4103 - acc: 0.8483 - val_loss: 0.6544 - val_acc: 0.7171\n",
      "Epoch 81/100\n",
      "25/29 [========================>.....] - ETA: 0s - loss: 0.4183 - acc: 0.8419\n",
      "Epoch 00081: ReduceLROnPlateau reducing learning rate to 1.3421771291177721e-05.\n",
      "29/29 [==============================] - 2s 81ms/step - loss: 0.4106 - acc: 0.8478 - val_loss: 0.6637 - val_acc: 0.7119\n",
      "Epoch 82/100\n",
      "29/29 [==============================] - 2s 79ms/step - loss: 0.4078 - acc: 0.8506 - val_loss: 0.6670 - val_acc: 0.7117\n",
      "Epoch 83/100\n",
      "29/29 [==============================] - 2s 81ms/step - loss: 0.4075 - acc: 0.8483 - val_loss: 0.6632 - val_acc: 0.7125\n",
      "Epoch 84/100\n",
      "29/29 [==============================] - 2s 81ms/step - loss: 0.4082 - acc: 0.8494 - val_loss: 0.6629 - val_acc: 0.7133\n",
      "Epoch 85/100\n",
      "29/29 [==============================] - 2s 80ms/step - loss: 0.4075 - acc: 0.8461 - val_loss: 0.6752 - val_acc: 0.7082\n",
      "Epoch 86/100\n",
      "25/29 [========================>.....] - ETA: 0s - loss: 0.4195 - acc: 0.8431\n",
      "Epoch 00086: ReduceLROnPlateau reducing learning rate to 1.0737417323980481e-05.\n",
      "29/29 [==============================] - 2s 79ms/step - loss: 0.4071 - acc: 0.8489 - val_loss: 0.6558 - val_acc: 0.7167\n",
      "Epoch 87/100\n",
      "29/29 [==============================] - 2s 78ms/step - loss: 0.4060 - acc: 0.8511 - val_loss: 0.6613 - val_acc: 0.7134\n",
      "Epoch 88/100\n",
      "29/29 [==============================] - 2s 78ms/step - loss: 0.4066 - acc: 0.8483 - val_loss: 0.6601 - val_acc: 0.7135\n",
      "Epoch 89/100\n",
      "29/29 [==============================] - 2s 80ms/step - loss: 0.4053 - acc: 0.8494 - val_loss: 0.6603 - val_acc: 0.7138\n",
      "Epoch 90/100\n",
      "29/29 [==============================] - 2s 81ms/step - loss: 0.4057 - acc: 0.8483 - val_loss: 0.6502 - val_acc: 0.7188\n",
      "Epoch 91/100\n",
      "25/29 [========================>.....] - ETA: 0s - loss: 0.4048 - acc: 0.8462\n",
      "Epoch 00091: ReduceLROnPlateau reducing learning rate to 8.589933713665232e-06.\n",
      "29/29 [==============================] - 2s 80ms/step - loss: 0.4068 - acc: 0.8444 - val_loss: 0.6624 - val_acc: 0.7134\n",
      "Epoch 92/100\n",
      "29/29 [==============================] - 2s 80ms/step - loss: 0.4049 - acc: 0.8506 - val_loss: 0.6636 - val_acc: 0.7104\n",
      "Epoch 93/100\n",
      "29/29 [==============================] - 2s 81ms/step - loss: 0.4046 - acc: 0.8494 - val_loss: 0.6596 - val_acc: 0.7148\n",
      "Epoch 94/100\n",
      "29/29 [==============================] - 2s 79ms/step - loss: 0.4058 - acc: 0.8478 - val_loss: 0.6697 - val_acc: 0.7098\n",
      "Epoch 95/100\n",
      "29/29 [==============================] - 2s 79ms/step - loss: 0.4036 - acc: 0.8511 - val_loss: 0.6510 - val_acc: 0.7197\n",
      "Epoch 96/100\n",
      "25/29 [========================>.....] - ETA: 0s - loss: 0.4103 - acc: 0.8487\n",
      "Epoch 00096: ReduceLROnPlateau reducing learning rate to 6.871946970932186e-06.\n",
      "29/29 [==============================] - 2s 80ms/step - loss: 0.4044 - acc: 0.8511 - val_loss: 0.6576 - val_acc: 0.7175\n",
      "Epoch 97/100\n",
      "29/29 [==============================] - 2s 78ms/step - loss: 0.4035 - acc: 0.8489 - val_loss: 0.6637 - val_acc: 0.7132\n",
      "Epoch 98/100\n",
      "29/29 [==============================] - 2s 78ms/step - loss: 0.4045 - acc: 0.8500 - val_loss: 0.6607 - val_acc: 0.7142\n",
      "Epoch 99/100\n",
      "29/29 [==============================] - 2s 78ms/step - loss: 0.4031 - acc: 0.8506 - val_loss: 0.6593 - val_acc: 0.7150\n",
      "Epoch 100/100\n",
      "29/29 [==============================] - 2s 78ms/step - loss: 0.4031 - acc: 0.8506 - val_loss: 0.6568 - val_acc: 0.7165\n"
     ]
    }
   ],
   "source": [
    "history = model.fit(train, \n",
    "                    train_label, \n",
    "                    batch_size=BATCH_SIZE, \n",
    "                    epochs=100, \n",
    "                    validation_data=(test, test_label),\n",
    "                    callbacks=[lr])"
   ]
  },
  {
   "cell_type": "code",
   "execution_count": 33,
   "metadata": {},
   "outputs": [],
   "source": [
    "if not os.path.exists('./weights'):\n",
    "    os.makedirs('./weights')"
   ]
  },
  {
   "cell_type": "code",
   "execution_count": 34,
   "metadata": {},
   "outputs": [],
   "source": [
    "# 保存权重\n",
    "model.save_weights('./weights/weight.ckpt')"
   ]
  },
  {
   "cell_type": "code",
   "execution_count": 35,
   "metadata": {},
   "outputs": [],
   "source": [
    "# if not os.path.exists('./model'):\n",
    "#     os.makedirs('./model')"
   ]
  },
  {
   "cell_type": "code",
   "execution_count": 36,
   "metadata": {},
   "outputs": [],
   "source": [
    "# 画出图片\n",
    "# from tensorflow.keras.utils import plot_model\n",
    "# plot_model(model, to_file='./model/model.png', show_shapes=True)"
   ]
  },
  {
   "cell_type": "code",
   "execution_count": 37,
   "metadata": {},
   "outputs": [],
   "source": [
    "# 读取画出的图片\n",
    "# show the model figure\n",
    "# model_img = plt.imread('./model/model.png')\n",
    "# plt.figure(dpi=180)\n",
    "# plt.imshow(model_img)\n",
    "# plt.show()"
   ]
  },
  {
   "cell_type": "code",
   "execution_count": 38,
   "metadata": {},
   "outputs": [
    {
     "output_type": "display_data",
     "data": {
      "text/plain": "<Figure size 432x288 with 1 Axes>",
      "image/svg+xml": "<?xml version=\"1.0\" encoding=\"utf-8\" standalone=\"no\"?>\r\n<!DOCTYPE svg PUBLIC \"-//W3C//DTD SVG 1.1//EN\"\r\n  \"http://www.w3.org/Graphics/SVG/1.1/DTD/svg11.dtd\">\r\n<!-- Created with matplotlib (https://matplotlib.org/) -->\r\n<svg height=\"277.314375pt\" version=\"1.1\" viewBox=\"0 0 385.78125 277.314375\" width=\"385.78125pt\" xmlns=\"http://www.w3.org/2000/svg\" xmlns:xlink=\"http://www.w3.org/1999/xlink\">\r\n <metadata>\r\n  <rdf:RDF xmlns:cc=\"http://creativecommons.org/ns#\" xmlns:dc=\"http://purl.org/dc/elements/1.1/\" xmlns:rdf=\"http://www.w3.org/1999/02/22-rdf-syntax-ns#\">\r\n   <cc:Work>\r\n    <dc:type rdf:resource=\"http://purl.org/dc/dcmitype/StillImage\"/>\r\n    <dc:date>2020-11-22T16:58:49.231396</dc:date>\r\n    <dc:format>image/svg+xml</dc:format>\r\n    <dc:creator>\r\n     <cc:Agent>\r\n      <dc:title>Matplotlib v3.3.3, https://matplotlib.org/</dc:title>\r\n     </cc:Agent>\r\n    </dc:creator>\r\n   </cc:Work>\r\n  </rdf:RDF>\r\n </metadata>\r\n <defs>\r\n  <style type=\"text/css\">*{stroke-linecap:butt;stroke-linejoin:round;}</style>\r\n </defs>\r\n <g id=\"figure_1\">\r\n  <g id=\"patch_1\">\r\n   <path d=\"M 0 277.314375 \r\nL 385.78125 277.314375 \r\nL 385.78125 0 \r\nL 0 0 \r\nz\r\n\" style=\"fill:none;\"/>\r\n  </g>\r\n  <g id=\"axes_1\">\r\n   <g id=\"patch_2\">\r\n    <path d=\"M 43.78125 239.758125 \r\nL 378.58125 239.758125 \r\nL 378.58125 22.318125 \r\nL 43.78125 22.318125 \r\nz\r\n\" style=\"fill:#ffffff;\"/>\r\n   </g>\r\n   <g id=\"matplotlib.axis_1\">\r\n    <g id=\"xtick_1\">\r\n     <g id=\"line2d_1\">\r\n      <path clip-path=\"url(#p7816cfb243)\" d=\"M 58.999432 239.758125 \r\nL 58.999432 22.318125 \r\n\" style=\"fill:none;stroke:#b0b0b0;stroke-linecap:square;stroke-width:0.8;\"/>\r\n     </g>\r\n     <g id=\"line2d_2\">\r\n      <defs>\r\n       <path d=\"M 0 0 \r\nL 0 3.5 \r\n\" id=\"ma101f099c3\" style=\"stroke:#000000;stroke-width:0.8;\"/>\r\n      </defs>\r\n      <g>\r\n       <use style=\"stroke:#000000;stroke-width:0.8;\" x=\"58.999432\" xlink:href=\"#ma101f099c3\" y=\"239.758125\"/>\r\n      </g>\r\n     </g>\r\n     <g id=\"text_1\">\r\n      <!-- 0 -->\r\n      <g transform=\"translate(55.818182 254.356562)scale(0.1 -0.1)\">\r\n       <defs>\r\n        <path d=\"M 31.78125 66.40625 \r\nQ 24.171875 66.40625 20.328125 58.90625 \r\nQ 16.5 51.421875 16.5 36.375 \r\nQ 16.5 21.390625 20.328125 13.890625 \r\nQ 24.171875 6.390625 31.78125 6.390625 \r\nQ 39.453125 6.390625 43.28125 13.890625 \r\nQ 47.125 21.390625 47.125 36.375 \r\nQ 47.125 51.421875 43.28125 58.90625 \r\nQ 39.453125 66.40625 31.78125 66.40625 \r\nz\r\nM 31.78125 74.21875 \r\nQ 44.046875 74.21875 50.515625 64.515625 \r\nQ 56.984375 54.828125 56.984375 36.375 \r\nQ 56.984375 17.96875 50.515625 8.265625 \r\nQ 44.046875 -1.421875 31.78125 -1.421875 \r\nQ 19.53125 -1.421875 13.0625 8.265625 \r\nQ 6.59375 17.96875 6.59375 36.375 \r\nQ 6.59375 54.828125 13.0625 64.515625 \r\nQ 19.53125 74.21875 31.78125 74.21875 \r\nz\r\n\" id=\"DejaVuSans-48\"/>\r\n       </defs>\r\n       <use xlink:href=\"#DejaVuSans-48\"/>\r\n      </g>\r\n     </g>\r\n    </g>\r\n    <g id=\"xtick_2\">\r\n     <g id=\"line2d_3\">\r\n      <path clip-path=\"url(#p7816cfb243)\" d=\"M 120.487035 239.758125 \r\nL 120.487035 22.318125 \r\n\" style=\"fill:none;stroke:#b0b0b0;stroke-linecap:square;stroke-width:0.8;\"/>\r\n     </g>\r\n     <g id=\"line2d_4\">\r\n      <g>\r\n       <use style=\"stroke:#000000;stroke-width:0.8;\" x=\"120.487035\" xlink:href=\"#ma101f099c3\" y=\"239.758125\"/>\r\n      </g>\r\n     </g>\r\n     <g id=\"text_2\">\r\n      <!-- 20 -->\r\n      <g transform=\"translate(114.124535 254.356562)scale(0.1 -0.1)\">\r\n       <defs>\r\n        <path d=\"M 19.1875 8.296875 \r\nL 53.609375 8.296875 \r\nL 53.609375 0 \r\nL 7.328125 0 \r\nL 7.328125 8.296875 \r\nQ 12.9375 14.109375 22.625 23.890625 \r\nQ 32.328125 33.6875 34.8125 36.53125 \r\nQ 39.546875 41.84375 41.421875 45.53125 \r\nQ 43.3125 49.21875 43.3125 52.78125 \r\nQ 43.3125 58.59375 39.234375 62.25 \r\nQ 35.15625 65.921875 28.609375 65.921875 \r\nQ 23.96875 65.921875 18.8125 64.3125 \r\nQ 13.671875 62.703125 7.8125 59.421875 \r\nL 7.8125 69.390625 \r\nQ 13.765625 71.78125 18.9375 73 \r\nQ 24.125 74.21875 28.421875 74.21875 \r\nQ 39.75 74.21875 46.484375 68.546875 \r\nQ 53.21875 62.890625 53.21875 53.421875 \r\nQ 53.21875 48.921875 51.53125 44.890625 \r\nQ 49.859375 40.875 45.40625 35.40625 \r\nQ 44.1875 33.984375 37.640625 27.21875 \r\nQ 31.109375 20.453125 19.1875 8.296875 \r\nz\r\n\" id=\"DejaVuSans-50\"/>\r\n       </defs>\r\n       <use xlink:href=\"#DejaVuSans-50\"/>\r\n       <use x=\"63.623047\" xlink:href=\"#DejaVuSans-48\"/>\r\n      </g>\r\n     </g>\r\n    </g>\r\n    <g id=\"xtick_3\">\r\n     <g id=\"line2d_5\">\r\n      <path clip-path=\"url(#p7816cfb243)\" d=\"M 181.974638 239.758125 \r\nL 181.974638 22.318125 \r\n\" style=\"fill:none;stroke:#b0b0b0;stroke-linecap:square;stroke-width:0.8;\"/>\r\n     </g>\r\n     <g id=\"line2d_6\">\r\n      <g>\r\n       <use style=\"stroke:#000000;stroke-width:0.8;\" x=\"181.974638\" xlink:href=\"#ma101f099c3\" y=\"239.758125\"/>\r\n      </g>\r\n     </g>\r\n     <g id=\"text_3\">\r\n      <!-- 40 -->\r\n      <g transform=\"translate(175.612138 254.356562)scale(0.1 -0.1)\">\r\n       <defs>\r\n        <path d=\"M 37.796875 64.3125 \r\nL 12.890625 25.390625 \r\nL 37.796875 25.390625 \r\nz\r\nM 35.203125 72.90625 \r\nL 47.609375 72.90625 \r\nL 47.609375 25.390625 \r\nL 58.015625 25.390625 \r\nL 58.015625 17.1875 \r\nL 47.609375 17.1875 \r\nL 47.609375 0 \r\nL 37.796875 0 \r\nL 37.796875 17.1875 \r\nL 4.890625 17.1875 \r\nL 4.890625 26.703125 \r\nz\r\n\" id=\"DejaVuSans-52\"/>\r\n       </defs>\r\n       <use xlink:href=\"#DejaVuSans-52\"/>\r\n       <use x=\"63.623047\" xlink:href=\"#DejaVuSans-48\"/>\r\n      </g>\r\n     </g>\r\n    </g>\r\n    <g id=\"xtick_4\">\r\n     <g id=\"line2d_7\">\r\n      <path clip-path=\"url(#p7816cfb243)\" d=\"M 243.462242 239.758125 \r\nL 243.462242 22.318125 \r\n\" style=\"fill:none;stroke:#b0b0b0;stroke-linecap:square;stroke-width:0.8;\"/>\r\n     </g>\r\n     <g id=\"line2d_8\">\r\n      <g>\r\n       <use style=\"stroke:#000000;stroke-width:0.8;\" x=\"243.462242\" xlink:href=\"#ma101f099c3\" y=\"239.758125\"/>\r\n      </g>\r\n     </g>\r\n     <g id=\"text_4\">\r\n      <!-- 60 -->\r\n      <g transform=\"translate(237.099742 254.356562)scale(0.1 -0.1)\">\r\n       <defs>\r\n        <path d=\"M 33.015625 40.375 \r\nQ 26.375 40.375 22.484375 35.828125 \r\nQ 18.609375 31.296875 18.609375 23.390625 \r\nQ 18.609375 15.53125 22.484375 10.953125 \r\nQ 26.375 6.390625 33.015625 6.390625 \r\nQ 39.65625 6.390625 43.53125 10.953125 \r\nQ 47.40625 15.53125 47.40625 23.390625 \r\nQ 47.40625 31.296875 43.53125 35.828125 \r\nQ 39.65625 40.375 33.015625 40.375 \r\nz\r\nM 52.59375 71.296875 \r\nL 52.59375 62.3125 \r\nQ 48.875 64.0625 45.09375 64.984375 \r\nQ 41.3125 65.921875 37.59375 65.921875 \r\nQ 27.828125 65.921875 22.671875 59.328125 \r\nQ 17.53125 52.734375 16.796875 39.40625 \r\nQ 19.671875 43.65625 24.015625 45.921875 \r\nQ 28.375 48.1875 33.59375 48.1875 \r\nQ 44.578125 48.1875 50.953125 41.515625 \r\nQ 57.328125 34.859375 57.328125 23.390625 \r\nQ 57.328125 12.15625 50.6875 5.359375 \r\nQ 44.046875 -1.421875 33.015625 -1.421875 \r\nQ 20.359375 -1.421875 13.671875 8.265625 \r\nQ 6.984375 17.96875 6.984375 36.375 \r\nQ 6.984375 53.65625 15.1875 63.9375 \r\nQ 23.390625 74.21875 37.203125 74.21875 \r\nQ 40.921875 74.21875 44.703125 73.484375 \r\nQ 48.484375 72.75 52.59375 71.296875 \r\nz\r\n\" id=\"DejaVuSans-54\"/>\r\n       </defs>\r\n       <use xlink:href=\"#DejaVuSans-54\"/>\r\n       <use x=\"63.623047\" xlink:href=\"#DejaVuSans-48\"/>\r\n      </g>\r\n     </g>\r\n    </g>\r\n    <g id=\"xtick_5\">\r\n     <g id=\"line2d_9\">\r\n      <path clip-path=\"url(#p7816cfb243)\" d=\"M 304.949845 239.758125 \r\nL 304.949845 22.318125 \r\n\" style=\"fill:none;stroke:#b0b0b0;stroke-linecap:square;stroke-width:0.8;\"/>\r\n     </g>\r\n     <g id=\"line2d_10\">\r\n      <g>\r\n       <use style=\"stroke:#000000;stroke-width:0.8;\" x=\"304.949845\" xlink:href=\"#ma101f099c3\" y=\"239.758125\"/>\r\n      </g>\r\n     </g>\r\n     <g id=\"text_5\">\r\n      <!-- 80 -->\r\n      <g transform=\"translate(298.587345 254.356562)scale(0.1 -0.1)\">\r\n       <defs>\r\n        <path d=\"M 31.78125 34.625 \r\nQ 24.75 34.625 20.71875 30.859375 \r\nQ 16.703125 27.09375 16.703125 20.515625 \r\nQ 16.703125 13.921875 20.71875 10.15625 \r\nQ 24.75 6.390625 31.78125 6.390625 \r\nQ 38.8125 6.390625 42.859375 10.171875 \r\nQ 46.921875 13.96875 46.921875 20.515625 \r\nQ 46.921875 27.09375 42.890625 30.859375 \r\nQ 38.875 34.625 31.78125 34.625 \r\nz\r\nM 21.921875 38.8125 \r\nQ 15.578125 40.375 12.03125 44.71875 \r\nQ 8.5 49.078125 8.5 55.328125 \r\nQ 8.5 64.0625 14.71875 69.140625 \r\nQ 20.953125 74.21875 31.78125 74.21875 \r\nQ 42.671875 74.21875 48.875 69.140625 \r\nQ 55.078125 64.0625 55.078125 55.328125 \r\nQ 55.078125 49.078125 51.53125 44.71875 \r\nQ 48 40.375 41.703125 38.8125 \r\nQ 48.828125 37.15625 52.796875 32.3125 \r\nQ 56.78125 27.484375 56.78125 20.515625 \r\nQ 56.78125 9.90625 50.3125 4.234375 \r\nQ 43.84375 -1.421875 31.78125 -1.421875 \r\nQ 19.734375 -1.421875 13.25 4.234375 \r\nQ 6.78125 9.90625 6.78125 20.515625 \r\nQ 6.78125 27.484375 10.78125 32.3125 \r\nQ 14.796875 37.15625 21.921875 38.8125 \r\nz\r\nM 18.3125 54.390625 \r\nQ 18.3125 48.734375 21.84375 45.5625 \r\nQ 25.390625 42.390625 31.78125 42.390625 \r\nQ 38.140625 42.390625 41.71875 45.5625 \r\nQ 45.3125 48.734375 45.3125 54.390625 \r\nQ 45.3125 60.0625 41.71875 63.234375 \r\nQ 38.140625 66.40625 31.78125 66.40625 \r\nQ 25.390625 66.40625 21.84375 63.234375 \r\nQ 18.3125 60.0625 18.3125 54.390625 \r\nz\r\n\" id=\"DejaVuSans-56\"/>\r\n       </defs>\r\n       <use xlink:href=\"#DejaVuSans-56\"/>\r\n       <use x=\"63.623047\" xlink:href=\"#DejaVuSans-48\"/>\r\n      </g>\r\n     </g>\r\n    </g>\r\n    <g id=\"xtick_6\">\r\n     <g id=\"line2d_11\">\r\n      <path clip-path=\"url(#p7816cfb243)\" d=\"M 366.437448 239.758125 \r\nL 366.437448 22.318125 \r\n\" style=\"fill:none;stroke:#b0b0b0;stroke-linecap:square;stroke-width:0.8;\"/>\r\n     </g>\r\n     <g id=\"line2d_12\">\r\n      <g>\r\n       <use style=\"stroke:#000000;stroke-width:0.8;\" x=\"366.437448\" xlink:href=\"#ma101f099c3\" y=\"239.758125\"/>\r\n      </g>\r\n     </g>\r\n     <g id=\"text_6\">\r\n      <!-- 100 -->\r\n      <g transform=\"translate(356.893698 254.356562)scale(0.1 -0.1)\">\r\n       <defs>\r\n        <path d=\"M 12.40625 8.296875 \r\nL 28.515625 8.296875 \r\nL 28.515625 63.921875 \r\nL 10.984375 60.40625 \r\nL 10.984375 69.390625 \r\nL 28.421875 72.90625 \r\nL 38.28125 72.90625 \r\nL 38.28125 8.296875 \r\nL 54.390625 8.296875 \r\nL 54.390625 0 \r\nL 12.40625 0 \r\nz\r\n\" id=\"DejaVuSans-49\"/>\r\n       </defs>\r\n       <use xlink:href=\"#DejaVuSans-49\"/>\r\n       <use x=\"63.623047\" xlink:href=\"#DejaVuSans-48\"/>\r\n       <use x=\"127.246094\" xlink:href=\"#DejaVuSans-48\"/>\r\n      </g>\r\n     </g>\r\n    </g>\r\n    <g id=\"text_7\">\r\n     <!-- epoch -->\r\n     <g transform=\"translate(195.953125 268.034687)scale(0.1 -0.1)\">\r\n      <defs>\r\n       <path d=\"M 56.203125 29.59375 \r\nL 56.203125 25.203125 \r\nL 14.890625 25.203125 \r\nQ 15.484375 15.921875 20.484375 11.0625 \r\nQ 25.484375 6.203125 34.421875 6.203125 \r\nQ 39.59375 6.203125 44.453125 7.46875 \r\nQ 49.3125 8.734375 54.109375 11.28125 \r\nL 54.109375 2.78125 \r\nQ 49.265625 0.734375 44.1875 -0.34375 \r\nQ 39.109375 -1.421875 33.890625 -1.421875 \r\nQ 20.796875 -1.421875 13.15625 6.1875 \r\nQ 5.515625 13.8125 5.515625 26.8125 \r\nQ 5.515625 40.234375 12.765625 48.109375 \r\nQ 20.015625 56 32.328125 56 \r\nQ 43.359375 56 49.78125 48.890625 \r\nQ 56.203125 41.796875 56.203125 29.59375 \r\nz\r\nM 47.21875 32.234375 \r\nQ 47.125 39.59375 43.09375 43.984375 \r\nQ 39.0625 48.390625 32.421875 48.390625 \r\nQ 24.90625 48.390625 20.390625 44.140625 \r\nQ 15.875 39.890625 15.1875 32.171875 \r\nz\r\n\" id=\"DejaVuSans-101\"/>\r\n       <path d=\"M 18.109375 8.203125 \r\nL 18.109375 -20.796875 \r\nL 9.078125 -20.796875 \r\nL 9.078125 54.6875 \r\nL 18.109375 54.6875 \r\nL 18.109375 46.390625 \r\nQ 20.953125 51.265625 25.265625 53.625 \r\nQ 29.59375 56 35.59375 56 \r\nQ 45.5625 56 51.78125 48.09375 \r\nQ 58.015625 40.1875 58.015625 27.296875 \r\nQ 58.015625 14.40625 51.78125 6.484375 \r\nQ 45.5625 -1.421875 35.59375 -1.421875 \r\nQ 29.59375 -1.421875 25.265625 0.953125 \r\nQ 20.953125 3.328125 18.109375 8.203125 \r\nz\r\nM 48.6875 27.296875 \r\nQ 48.6875 37.203125 44.609375 42.84375 \r\nQ 40.53125 48.484375 33.40625 48.484375 \r\nQ 26.265625 48.484375 22.1875 42.84375 \r\nQ 18.109375 37.203125 18.109375 27.296875 \r\nQ 18.109375 17.390625 22.1875 11.75 \r\nQ 26.265625 6.109375 33.40625 6.109375 \r\nQ 40.53125 6.109375 44.609375 11.75 \r\nQ 48.6875 17.390625 48.6875 27.296875 \r\nz\r\n\" id=\"DejaVuSans-112\"/>\r\n       <path d=\"M 30.609375 48.390625 \r\nQ 23.390625 48.390625 19.1875 42.75 \r\nQ 14.984375 37.109375 14.984375 27.296875 \r\nQ 14.984375 17.484375 19.15625 11.84375 \r\nQ 23.34375 6.203125 30.609375 6.203125 \r\nQ 37.796875 6.203125 41.984375 11.859375 \r\nQ 46.1875 17.53125 46.1875 27.296875 \r\nQ 46.1875 37.015625 41.984375 42.703125 \r\nQ 37.796875 48.390625 30.609375 48.390625 \r\nz\r\nM 30.609375 56 \r\nQ 42.328125 56 49.015625 48.375 \r\nQ 55.71875 40.765625 55.71875 27.296875 \r\nQ 55.71875 13.875 49.015625 6.21875 \r\nQ 42.328125 -1.421875 30.609375 -1.421875 \r\nQ 18.84375 -1.421875 12.171875 6.21875 \r\nQ 5.515625 13.875 5.515625 27.296875 \r\nQ 5.515625 40.765625 12.171875 48.375 \r\nQ 18.84375 56 30.609375 56 \r\nz\r\n\" id=\"DejaVuSans-111\"/>\r\n       <path d=\"M 48.78125 52.59375 \r\nL 48.78125 44.1875 \r\nQ 44.96875 46.296875 41.140625 47.34375 \r\nQ 37.3125 48.390625 33.40625 48.390625 \r\nQ 24.65625 48.390625 19.8125 42.84375 \r\nQ 14.984375 37.3125 14.984375 27.296875 \r\nQ 14.984375 17.28125 19.8125 11.734375 \r\nQ 24.65625 6.203125 33.40625 6.203125 \r\nQ 37.3125 6.203125 41.140625 7.25 \r\nQ 44.96875 8.296875 48.78125 10.40625 \r\nL 48.78125 2.09375 \r\nQ 45.015625 0.34375 40.984375 -0.53125 \r\nQ 36.96875 -1.421875 32.421875 -1.421875 \r\nQ 20.0625 -1.421875 12.78125 6.34375 \r\nQ 5.515625 14.109375 5.515625 27.296875 \r\nQ 5.515625 40.671875 12.859375 48.328125 \r\nQ 20.21875 56 33.015625 56 \r\nQ 37.15625 56 41.109375 55.140625 \r\nQ 45.0625 54.296875 48.78125 52.59375 \r\nz\r\n\" id=\"DejaVuSans-99\"/>\r\n       <path d=\"M 54.890625 33.015625 \r\nL 54.890625 0 \r\nL 45.90625 0 \r\nL 45.90625 32.71875 \r\nQ 45.90625 40.484375 42.875 44.328125 \r\nQ 39.84375 48.1875 33.796875 48.1875 \r\nQ 26.515625 48.1875 22.3125 43.546875 \r\nQ 18.109375 38.921875 18.109375 30.90625 \r\nL 18.109375 0 \r\nL 9.078125 0 \r\nL 9.078125 75.984375 \r\nL 18.109375 75.984375 \r\nL 18.109375 46.1875 \r\nQ 21.34375 51.125 25.703125 53.5625 \r\nQ 30.078125 56 35.796875 56 \r\nQ 45.21875 56 50.046875 50.171875 \r\nQ 54.890625 44.34375 54.890625 33.015625 \r\nz\r\n\" id=\"DejaVuSans-104\"/>\r\n      </defs>\r\n      <use xlink:href=\"#DejaVuSans-101\"/>\r\n      <use x=\"61.523438\" xlink:href=\"#DejaVuSans-112\"/>\r\n      <use x=\"125\" xlink:href=\"#DejaVuSans-111\"/>\r\n      <use x=\"186.181641\" xlink:href=\"#DejaVuSans-99\"/>\r\n      <use x=\"241.162109\" xlink:href=\"#DejaVuSans-104\"/>\r\n     </g>\r\n    </g>\r\n   </g>\r\n   <g id=\"matplotlib.axis_2\">\r\n    <g id=\"ytick_1\">\r\n     <g id=\"line2d_13\">\r\n      <path clip-path=\"url(#p7816cfb243)\" d=\"M 43.78125 222.86438 \r\nL 378.58125 222.86438 \r\n\" style=\"fill:none;stroke:#b0b0b0;stroke-linecap:square;stroke-width:0.8;\"/>\r\n     </g>\r\n     <g id=\"line2d_14\">\r\n      <defs>\r\n       <path d=\"M 0 0 \r\nL -3.5 0 \r\n\" id=\"m20f03a4b19\" style=\"stroke:#000000;stroke-width:0.8;\"/>\r\n      </defs>\r\n      <g>\r\n       <use style=\"stroke:#000000;stroke-width:0.8;\" x=\"43.78125\" xlink:href=\"#m20f03a4b19\" y=\"222.86438\"/>\r\n      </g>\r\n     </g>\r\n     <g id=\"text_8\">\r\n      <!-- 0.1 -->\r\n      <g transform=\"translate(20.878125 226.663599)scale(0.1 -0.1)\">\r\n       <defs>\r\n        <path d=\"M 10.6875 12.40625 \r\nL 21 12.40625 \r\nL 21 0 \r\nL 10.6875 0 \r\nz\r\n\" id=\"DejaVuSans-46\"/>\r\n       </defs>\r\n       <use xlink:href=\"#DejaVuSans-48\"/>\r\n       <use x=\"63.623047\" xlink:href=\"#DejaVuSans-46\"/>\r\n       <use x=\"95.410156\" xlink:href=\"#DejaVuSans-49\"/>\r\n      </g>\r\n     </g>\r\n    </g>\r\n    <g id=\"ytick_2\">\r\n     <g id=\"line2d_15\">\r\n      <path clip-path=\"url(#p7816cfb243)\" d=\"M 43.78125 197.480304 \r\nL 378.58125 197.480304 \r\n\" style=\"fill:none;stroke:#b0b0b0;stroke-linecap:square;stroke-width:0.8;\"/>\r\n     </g>\r\n     <g id=\"line2d_16\">\r\n      <g>\r\n       <use style=\"stroke:#000000;stroke-width:0.8;\" x=\"43.78125\" xlink:href=\"#m20f03a4b19\" y=\"197.480304\"/>\r\n      </g>\r\n     </g>\r\n     <g id=\"text_9\">\r\n      <!-- 0.2 -->\r\n      <g transform=\"translate(20.878125 201.279523)scale(0.1 -0.1)\">\r\n       <use xlink:href=\"#DejaVuSans-48\"/>\r\n       <use x=\"63.623047\" xlink:href=\"#DejaVuSans-46\"/>\r\n       <use x=\"95.410156\" xlink:href=\"#DejaVuSans-50\"/>\r\n      </g>\r\n     </g>\r\n    </g>\r\n    <g id=\"ytick_3\">\r\n     <g id=\"line2d_17\">\r\n      <path clip-path=\"url(#p7816cfb243)\" d=\"M 43.78125 172.096228 \r\nL 378.58125 172.096228 \r\n\" style=\"fill:none;stroke:#b0b0b0;stroke-linecap:square;stroke-width:0.8;\"/>\r\n     </g>\r\n     <g id=\"line2d_18\">\r\n      <g>\r\n       <use style=\"stroke:#000000;stroke-width:0.8;\" x=\"43.78125\" xlink:href=\"#m20f03a4b19\" y=\"172.096228\"/>\r\n      </g>\r\n     </g>\r\n     <g id=\"text_10\">\r\n      <!-- 0.3 -->\r\n      <g transform=\"translate(20.878125 175.895446)scale(0.1 -0.1)\">\r\n       <defs>\r\n        <path d=\"M 40.578125 39.3125 \r\nQ 47.65625 37.796875 51.625 33 \r\nQ 55.609375 28.21875 55.609375 21.1875 \r\nQ 55.609375 10.40625 48.1875 4.484375 \r\nQ 40.765625 -1.421875 27.09375 -1.421875 \r\nQ 22.515625 -1.421875 17.65625 -0.515625 \r\nQ 12.796875 0.390625 7.625 2.203125 \r\nL 7.625 11.71875 \r\nQ 11.71875 9.328125 16.59375 8.109375 \r\nQ 21.484375 6.890625 26.8125 6.890625 \r\nQ 36.078125 6.890625 40.9375 10.546875 \r\nQ 45.796875 14.203125 45.796875 21.1875 \r\nQ 45.796875 27.640625 41.28125 31.265625 \r\nQ 36.765625 34.90625 28.71875 34.90625 \r\nL 20.21875 34.90625 \r\nL 20.21875 43.015625 \r\nL 29.109375 43.015625 \r\nQ 36.375 43.015625 40.234375 45.921875 \r\nQ 44.09375 48.828125 44.09375 54.296875 \r\nQ 44.09375 59.90625 40.109375 62.90625 \r\nQ 36.140625 65.921875 28.71875 65.921875 \r\nQ 24.65625 65.921875 20.015625 65.03125 \r\nQ 15.375 64.15625 9.8125 62.3125 \r\nL 9.8125 71.09375 \r\nQ 15.4375 72.65625 20.34375 73.4375 \r\nQ 25.25 74.21875 29.59375 74.21875 \r\nQ 40.828125 74.21875 47.359375 69.109375 \r\nQ 53.90625 64.015625 53.90625 55.328125 \r\nQ 53.90625 49.265625 50.4375 45.09375 \r\nQ 46.96875 40.921875 40.578125 39.3125 \r\nz\r\n\" id=\"DejaVuSans-51\"/>\r\n       </defs>\r\n       <use xlink:href=\"#DejaVuSans-48\"/>\r\n       <use x=\"63.623047\" xlink:href=\"#DejaVuSans-46\"/>\r\n       <use x=\"95.410156\" xlink:href=\"#DejaVuSans-51\"/>\r\n      </g>\r\n     </g>\r\n    </g>\r\n    <g id=\"ytick_4\">\r\n     <g id=\"line2d_19\">\r\n      <path clip-path=\"url(#p7816cfb243)\" d=\"M 43.78125 146.712151 \r\nL 378.58125 146.712151 \r\n\" style=\"fill:none;stroke:#b0b0b0;stroke-linecap:square;stroke-width:0.8;\"/>\r\n     </g>\r\n     <g id=\"line2d_20\">\r\n      <g>\r\n       <use style=\"stroke:#000000;stroke-width:0.8;\" x=\"43.78125\" xlink:href=\"#m20f03a4b19\" y=\"146.712151\"/>\r\n      </g>\r\n     </g>\r\n     <g id=\"text_11\">\r\n      <!-- 0.4 -->\r\n      <g transform=\"translate(20.878125 150.51137)scale(0.1 -0.1)\">\r\n       <use xlink:href=\"#DejaVuSans-48\"/>\r\n       <use x=\"63.623047\" xlink:href=\"#DejaVuSans-46\"/>\r\n       <use x=\"95.410156\" xlink:href=\"#DejaVuSans-52\"/>\r\n      </g>\r\n     </g>\r\n    </g>\r\n    <g id=\"ytick_5\">\r\n     <g id=\"line2d_21\">\r\n      <path clip-path=\"url(#p7816cfb243)\" d=\"M 43.78125 121.328075 \r\nL 378.58125 121.328075 \r\n\" style=\"fill:none;stroke:#b0b0b0;stroke-linecap:square;stroke-width:0.8;\"/>\r\n     </g>\r\n     <g id=\"line2d_22\">\r\n      <g>\r\n       <use style=\"stroke:#000000;stroke-width:0.8;\" x=\"43.78125\" xlink:href=\"#m20f03a4b19\" y=\"121.328075\"/>\r\n      </g>\r\n     </g>\r\n     <g id=\"text_12\">\r\n      <!-- 0.5 -->\r\n      <g transform=\"translate(20.878125 125.127294)scale(0.1 -0.1)\">\r\n       <defs>\r\n        <path d=\"M 10.796875 72.90625 \r\nL 49.515625 72.90625 \r\nL 49.515625 64.59375 \r\nL 19.828125 64.59375 \r\nL 19.828125 46.734375 \r\nQ 21.96875 47.46875 24.109375 47.828125 \r\nQ 26.265625 48.1875 28.421875 48.1875 \r\nQ 40.625 48.1875 47.75 41.5 \r\nQ 54.890625 34.8125 54.890625 23.390625 \r\nQ 54.890625 11.625 47.5625 5.09375 \r\nQ 40.234375 -1.421875 26.90625 -1.421875 \r\nQ 22.3125 -1.421875 17.546875 -0.640625 \r\nQ 12.796875 0.140625 7.71875 1.703125 \r\nL 7.71875 11.625 \r\nQ 12.109375 9.234375 16.796875 8.0625 \r\nQ 21.484375 6.890625 26.703125 6.890625 \r\nQ 35.15625 6.890625 40.078125 11.328125 \r\nQ 45.015625 15.765625 45.015625 23.390625 \r\nQ 45.015625 31 40.078125 35.4375 \r\nQ 35.15625 39.890625 26.703125 39.890625 \r\nQ 22.75 39.890625 18.8125 39.015625 \r\nQ 14.890625 38.140625 10.796875 36.28125 \r\nz\r\n\" id=\"DejaVuSans-53\"/>\r\n       </defs>\r\n       <use xlink:href=\"#DejaVuSans-48\"/>\r\n       <use x=\"63.623047\" xlink:href=\"#DejaVuSans-46\"/>\r\n       <use x=\"95.410156\" xlink:href=\"#DejaVuSans-53\"/>\r\n      </g>\r\n     </g>\r\n    </g>\r\n    <g id=\"ytick_6\">\r\n     <g id=\"line2d_23\">\r\n      <path clip-path=\"url(#p7816cfb243)\" d=\"M 43.78125 95.943998 \r\nL 378.58125 95.943998 \r\n\" style=\"fill:none;stroke:#b0b0b0;stroke-linecap:square;stroke-width:0.8;\"/>\r\n     </g>\r\n     <g id=\"line2d_24\">\r\n      <g>\r\n       <use style=\"stroke:#000000;stroke-width:0.8;\" x=\"43.78125\" xlink:href=\"#m20f03a4b19\" y=\"95.943998\"/>\r\n      </g>\r\n     </g>\r\n     <g id=\"text_13\">\r\n      <!-- 0.6 -->\r\n      <g transform=\"translate(20.878125 99.743217)scale(0.1 -0.1)\">\r\n       <use xlink:href=\"#DejaVuSans-48\"/>\r\n       <use x=\"63.623047\" xlink:href=\"#DejaVuSans-46\"/>\r\n       <use x=\"95.410156\" xlink:href=\"#DejaVuSans-54\"/>\r\n      </g>\r\n     </g>\r\n    </g>\r\n    <g id=\"ytick_7\">\r\n     <g id=\"line2d_25\">\r\n      <path clip-path=\"url(#p7816cfb243)\" d=\"M 43.78125 70.559922 \r\nL 378.58125 70.559922 \r\n\" style=\"fill:none;stroke:#b0b0b0;stroke-linecap:square;stroke-width:0.8;\"/>\r\n     </g>\r\n     <g id=\"line2d_26\">\r\n      <g>\r\n       <use style=\"stroke:#000000;stroke-width:0.8;\" x=\"43.78125\" xlink:href=\"#m20f03a4b19\" y=\"70.559922\"/>\r\n      </g>\r\n     </g>\r\n     <g id=\"text_14\">\r\n      <!-- 0.7 -->\r\n      <g transform=\"translate(20.878125 74.359141)scale(0.1 -0.1)\">\r\n       <defs>\r\n        <path d=\"M 8.203125 72.90625 \r\nL 55.078125 72.90625 \r\nL 55.078125 68.703125 \r\nL 28.609375 0 \r\nL 18.3125 0 \r\nL 43.21875 64.59375 \r\nL 8.203125 64.59375 \r\nz\r\n\" id=\"DejaVuSans-55\"/>\r\n       </defs>\r\n       <use xlink:href=\"#DejaVuSans-48\"/>\r\n       <use x=\"63.623047\" xlink:href=\"#DejaVuSans-46\"/>\r\n       <use x=\"95.410156\" xlink:href=\"#DejaVuSans-55\"/>\r\n      </g>\r\n     </g>\r\n    </g>\r\n    <g id=\"ytick_8\">\r\n     <g id=\"line2d_27\">\r\n      <path clip-path=\"url(#p7816cfb243)\" d=\"M 43.78125 45.175846 \r\nL 378.58125 45.175846 \r\n\" style=\"fill:none;stroke:#b0b0b0;stroke-linecap:square;stroke-width:0.8;\"/>\r\n     </g>\r\n     <g id=\"line2d_28\">\r\n      <g>\r\n       <use style=\"stroke:#000000;stroke-width:0.8;\" x=\"43.78125\" xlink:href=\"#m20f03a4b19\" y=\"45.175846\"/>\r\n      </g>\r\n     </g>\r\n     <g id=\"text_15\">\r\n      <!-- 0.8 -->\r\n      <g transform=\"translate(20.878125 48.975064)scale(0.1 -0.1)\">\r\n       <use xlink:href=\"#DejaVuSans-48\"/>\r\n       <use x=\"63.623047\" xlink:href=\"#DejaVuSans-46\"/>\r\n       <use x=\"95.410156\" xlink:href=\"#DejaVuSans-56\"/>\r\n      </g>\r\n     </g>\r\n    </g>\r\n    <g id=\"text_16\">\r\n     <!-- accuracy -->\r\n     <g transform=\"translate(14.798438 153.5975)rotate(-90)scale(0.1 -0.1)\">\r\n      <defs>\r\n       <path d=\"M 34.28125 27.484375 \r\nQ 23.390625 27.484375 19.1875 25 \r\nQ 14.984375 22.515625 14.984375 16.5 \r\nQ 14.984375 11.71875 18.140625 8.90625 \r\nQ 21.296875 6.109375 26.703125 6.109375 \r\nQ 34.1875 6.109375 38.703125 11.40625 \r\nQ 43.21875 16.703125 43.21875 25.484375 \r\nL 43.21875 27.484375 \r\nz\r\nM 52.203125 31.203125 \r\nL 52.203125 0 \r\nL 43.21875 0 \r\nL 43.21875 8.296875 \r\nQ 40.140625 3.328125 35.546875 0.953125 \r\nQ 30.953125 -1.421875 24.3125 -1.421875 \r\nQ 15.921875 -1.421875 10.953125 3.296875 \r\nQ 6 8.015625 6 15.921875 \r\nQ 6 25.140625 12.171875 29.828125 \r\nQ 18.359375 34.515625 30.609375 34.515625 \r\nL 43.21875 34.515625 \r\nL 43.21875 35.40625 \r\nQ 43.21875 41.609375 39.140625 45 \r\nQ 35.0625 48.390625 27.6875 48.390625 \r\nQ 23 48.390625 18.546875 47.265625 \r\nQ 14.109375 46.140625 10.015625 43.890625 \r\nL 10.015625 52.203125 \r\nQ 14.9375 54.109375 19.578125 55.046875 \r\nQ 24.21875 56 28.609375 56 \r\nQ 40.484375 56 46.34375 49.84375 \r\nQ 52.203125 43.703125 52.203125 31.203125 \r\nz\r\n\" id=\"DejaVuSans-97\"/>\r\n       <path d=\"M 8.5 21.578125 \r\nL 8.5 54.6875 \r\nL 17.484375 54.6875 \r\nL 17.484375 21.921875 \r\nQ 17.484375 14.15625 20.5 10.265625 \r\nQ 23.53125 6.390625 29.59375 6.390625 \r\nQ 36.859375 6.390625 41.078125 11.03125 \r\nQ 45.3125 15.671875 45.3125 23.6875 \r\nL 45.3125 54.6875 \r\nL 54.296875 54.6875 \r\nL 54.296875 0 \r\nL 45.3125 0 \r\nL 45.3125 8.40625 \r\nQ 42.046875 3.421875 37.71875 1 \r\nQ 33.40625 -1.421875 27.6875 -1.421875 \r\nQ 18.265625 -1.421875 13.375 4.4375 \r\nQ 8.5 10.296875 8.5 21.578125 \r\nz\r\nM 31.109375 56 \r\nz\r\n\" id=\"DejaVuSans-117\"/>\r\n       <path d=\"M 41.109375 46.296875 \r\nQ 39.59375 47.171875 37.8125 47.578125 \r\nQ 36.03125 48 33.890625 48 \r\nQ 26.265625 48 22.1875 43.046875 \r\nQ 18.109375 38.09375 18.109375 28.8125 \r\nL 18.109375 0 \r\nL 9.078125 0 \r\nL 9.078125 54.6875 \r\nL 18.109375 54.6875 \r\nL 18.109375 46.1875 \r\nQ 20.953125 51.171875 25.484375 53.578125 \r\nQ 30.03125 56 36.53125 56 \r\nQ 37.453125 56 38.578125 55.875 \r\nQ 39.703125 55.765625 41.0625 55.515625 \r\nz\r\n\" id=\"DejaVuSans-114\"/>\r\n       <path d=\"M 32.171875 -5.078125 \r\nQ 28.375 -14.84375 24.75 -17.8125 \r\nQ 21.140625 -20.796875 15.09375 -20.796875 \r\nL 7.90625 -20.796875 \r\nL 7.90625 -13.28125 \r\nL 13.1875 -13.28125 \r\nQ 16.890625 -13.28125 18.9375 -11.515625 \r\nQ 21 -9.765625 23.484375 -3.21875 \r\nL 25.09375 0.875 \r\nL 2.984375 54.6875 \r\nL 12.5 54.6875 \r\nL 29.59375 11.921875 \r\nL 46.6875 54.6875 \r\nL 56.203125 54.6875 \r\nz\r\n\" id=\"DejaVuSans-121\"/>\r\n      </defs>\r\n      <use xlink:href=\"#DejaVuSans-97\"/>\r\n      <use x=\"61.279297\" xlink:href=\"#DejaVuSans-99\"/>\r\n      <use x=\"116.259766\" xlink:href=\"#DejaVuSans-99\"/>\r\n      <use x=\"171.240234\" xlink:href=\"#DejaVuSans-117\"/>\r\n      <use x=\"234.619141\" xlink:href=\"#DejaVuSans-114\"/>\r\n      <use x=\"275.732422\" xlink:href=\"#DejaVuSans-97\"/>\r\n      <use x=\"337.011719\" xlink:href=\"#DejaVuSans-99\"/>\r\n      <use x=\"391.992188\" xlink:href=\"#DejaVuSans-121\"/>\r\n     </g>\r\n    </g>\r\n   </g>\r\n   <g id=\"line2d_29\">\r\n    <path clip-path=\"url(#p7816cfb243)\" d=\"M 58.999432 216.236318 \r\nL 62.073812 175.90384 \r\nL 65.148192 162.506691 \r\nL 68.222572 144.455792 \r\nL 71.296952 109.200129 \r\nL 74.371333 77.893101 \r\nL 77.445713 71.970155 \r\nL 80.520093 68.867655 \r\nL 83.594473 65.201059 \r\nL 86.668853 66.32925 \r\nL 89.743233 67.175385 \r\nL 92.817614 66.188222 \r\nL 95.891994 61.534479 \r\nL 98.966374 58.855046 \r\nL 102.040754 60.829357 \r\nL 105.115134 64.91902 \r\nL 108.189514 56.598681 \r\nL 111.263895 59.278114 \r\nL 114.338275 55.470506 \r\nL 117.412655 52.791073 \r\nL 120.487035 56.316641 \r\nL 123.561415 49.688573 \r\nL 126.635795 46.7271 \r\nL 129.710176 51.380843 \r\nL 132.784556 46.868113 \r\nL 135.858936 44.752775 \r\nL 138.933316 46.586073 \r\nL 142.007696 47.573235 \r\nL 145.082076 44.611747 \r\nL 148.156457 42.637437 \r\nL 151.230837 39.393925 \r\nL 154.305217 39.816992 \r\nL 157.379597 42.49641 \r\nL 160.453977 41.509262 \r\nL 163.528357 38.265734 \r\nL 166.602738 38.547774 \r\nL 169.677118 38.406762 \r\nL 172.751498 39.252897 \r\nL 175.825878 38.82983 \r\nL 178.900258 39.11187 \r\nL 181.974638 42.355397 \r\nL 185.049019 39.816992 \r\nL 188.123399 43.060505 \r\nL 191.197779 37.983694 \r\nL 194.272159 38.688802 \r\nL 197.346539 38.406762 \r\nL 200.420919 41.509262 \r\nL 203.4953 36.855504 \r\nL 206.56968 38.406762 \r\nL 209.64406 35.586302 \r\nL 212.71844 36.291424 \r\nL 215.79282 35.586302 \r\nL 218.8672 34.881194 \r\nL 221.941581 34.458127 \r\nL 225.015961 35.445289 \r\nL 228.090341 36.009369 \r\nL 231.164721 36.714492 \r\nL 234.239101 35.727329 \r\nL 237.313481 36.150397 \r\nL 240.387862 34.176087 \r\nL 243.462242 34.035059 \r\nL 246.536622 34.881194 \r\nL 249.611002 33.611992 \r\nL 252.685382 33.470964 \r\nL 255.759762 34.599154 \r\nL 258.834143 34.176087 \r\nL 261.908523 33.047896 \r\nL 264.982903 33.470964 \r\nL 268.057283 33.894032 \r\nL 271.131663 33.611992 \r\nL 274.206043 33.329936 \r\nL 277.280424 33.188924 \r\nL 280.354804 32.906869 \r\nL 283.429184 33.188924 \r\nL 286.503564 32.906869 \r\nL 289.577944 32.906869 \r\nL 292.652324 33.188924 \r\nL 295.726705 32.765856 \r\nL 298.801085 33.047896 \r\nL 301.875465 32.906869 \r\nL 304.949845 33.047896 \r\nL 308.024225 32.342789 \r\nL 311.098605 32.906869 \r\nL 314.172986 32.624829 \r\nL 317.247366 33.470964 \r\nL 320.321746 32.765856 \r\nL 323.396126 32.201761 \r\nL 326.470506 32.906869 \r\nL 329.544886 32.624829 \r\nL 332.619267 32.906869 \r\nL 335.693647 33.894032 \r\nL 338.768027 32.342789 \r\nL 341.842407 32.624829 \r\nL 344.916787 33.047896 \r\nL 347.991167 32.201761 \r\nL 351.065548 32.201761 \r\nL 354.139928 32.765856 \r\nL 357.214308 32.483801 \r\nL 360.288688 32.342789 \r\nL 363.363068 32.342789 \r\n\" style=\"fill:none;stroke:#1f77b4;stroke-linecap:square;stroke-width:1.5;\"/>\r\n   </g>\r\n   <g id=\"line2d_30\">\r\n    <path clip-path=\"url(#p7816cfb243)\" d=\"M 58.999432 229.874489 \r\nL 62.073812 218.934358 \r\nL 65.148192 214.740436 \r\nL 68.222572 184.862604 \r\nL 71.296952 122.114824 \r\nL 74.371333 90.799777 \r\nL 77.445713 89.381165 \r\nL 80.520093 90.917489 \r\nL 83.594473 93.240563 \r\nL 86.668853 76.52062 \r\nL 89.743233 86.946583 \r\nL 92.817614 71.775355 \r\nL 95.891994 78.131279 \r\nL 98.966374 90.762618 \r\nL 102.040754 77.071961 \r\nL 105.115134 73.57806 \r\nL 108.189514 67.451342 \r\nL 111.263895 63.505204 \r\nL 114.338275 90.217466 \r\nL 117.412655 70.127522 \r\nL 120.487035 67.253108 \r\nL 123.561415 66.06989 \r\nL 126.635795 69.854954 \r\nL 129.710176 71.502787 \r\nL 132.784556 69.210684 \r\nL 135.858936 67.705331 \r\nL 138.933316 67.773477 \r\nL 142.007696 76.105572 \r\nL 145.082076 63.282201 \r\nL 148.156457 72.927602 \r\nL 151.230837 72.345275 \r\nL 154.305217 65.617666 \r\nL 157.379597 73.082474 \r\nL 160.453977 72.933791 \r\nL 163.528357 73.540885 \r\nL 166.602738 76.861335 \r\nL 169.677118 68.67172 \r\nL 172.751498 76.148934 \r\nL 175.825878 68.300034 \r\nL 178.900258 64.031776 \r\nL 181.974638 55.575781 \r\nL 185.049019 81.383582 \r\nL 188.123399 75.157747 \r\nL 191.197779 67.160179 \r\nL 194.272159 58.586487 \r\nL 197.346539 65.989352 \r\nL 200.420919 78.41005 \r\nL 203.4953 74.383389 \r\nL 206.56968 70.957635 \r\nL 209.64406 65.642434 \r\nL 212.71844 71.279769 \r\nL 215.79282 70.20806 \r\nL 218.8672 68.746069 \r\nL 221.941581 73.187779 \r\nL 225.015961 70.065565 \r\nL 228.090341 66.76371 \r\nL 231.164721 68.962884 \r\nL 234.239101 71.038172 \r\nL 237.313481 64.855685 \r\nL 240.387862 66.961945 \r\nL 243.462242 67.308862 \r\nL 246.536622 68.659344 \r\nL 249.611002 70.734617 \r\nL 252.685382 64.899048 \r\nL 255.759762 69.84875 \r\nL 258.834143 67.562851 \r\nL 261.908523 67.884986 \r\nL 264.982903 64.37249 \r\nL 268.057283 68.746069 \r\nL 271.131663 65.753943 \r\nL 274.206043 70.61692 \r\nL 277.280424 66.13802 \r\nL 280.354804 67.04867 \r\nL 283.429184 68.739866 \r\nL 286.503564 66.918582 \r\nL 289.577944 66.528301 \r\nL 292.652324 66.175195 \r\nL 295.726705 66.955756 \r\nL 298.801085 66.274312 \r\nL 301.875465 66.218558 \r\nL 304.949845 67.531865 \r\nL 308.024225 67.581431 \r\nL 311.098605 67.376993 \r\nL 314.172986 67.172571 \r\nL 317.247366 68.479689 \r\nL 320.321746 66.311487 \r\nL 323.396126 67.166382 \r\nL 326.470506 67.141599 \r\nL 329.544886 67.061062 \r\nL 332.619267 65.778726 \r\nL 335.693647 67.160179 \r\nL 338.768027 67.928349 \r\nL 341.842407 66.813261 \r\nL 344.916787 68.077017 \r\nL 347.991167 65.549521 \r\nL 351.065548 66.113253 \r\nL 354.139928 67.197354 \r\nL 357.214308 66.961945 \r\nL 360.288688 66.76371 \r\nL 363.363068 66.37343 \r\n\" style=\"fill:none;stroke:#ff7f0e;stroke-linecap:square;stroke-width:1.5;\"/>\r\n   </g>\r\n   <g id=\"patch_3\">\r\n    <path d=\"M 43.78125 239.758125 \r\nL 43.78125 22.318125 \r\n\" style=\"fill:none;stroke:#000000;stroke-linecap:square;stroke-linejoin:miter;stroke-width:0.8;\"/>\r\n   </g>\r\n   <g id=\"patch_4\">\r\n    <path d=\"M 378.58125 239.758125 \r\nL 378.58125 22.318125 \r\n\" style=\"fill:none;stroke:#000000;stroke-linecap:square;stroke-linejoin:miter;stroke-width:0.8;\"/>\r\n   </g>\r\n   <g id=\"patch_5\">\r\n    <path d=\"M 43.78125 239.758125 \r\nL 378.58125 239.758125 \r\n\" style=\"fill:none;stroke:#000000;stroke-linecap:square;stroke-linejoin:miter;stroke-width:0.8;\"/>\r\n   </g>\r\n   <g id=\"patch_6\">\r\n    <path d=\"M 43.78125 22.318125 \r\nL 378.58125 22.318125 \r\n\" style=\"fill:none;stroke:#000000;stroke-linecap:square;stroke-linejoin:miter;stroke-width:0.8;\"/>\r\n   </g>\r\n   <g id=\"text_17\">\r\n    <!-- model accuracy -->\r\n    <g transform=\"translate(163.519688 16.318125)scale(0.12 -0.12)\">\r\n     <defs>\r\n      <path d=\"M 52 44.1875 \r\nQ 55.375 50.25 60.0625 53.125 \r\nQ 64.75 56 71.09375 56 \r\nQ 79.640625 56 84.28125 50.015625 \r\nQ 88.921875 44.046875 88.921875 33.015625 \r\nL 88.921875 0 \r\nL 79.890625 0 \r\nL 79.890625 32.71875 \r\nQ 79.890625 40.578125 77.09375 44.375 \r\nQ 74.3125 48.1875 68.609375 48.1875 \r\nQ 61.625 48.1875 57.5625 43.546875 \r\nQ 53.515625 38.921875 53.515625 30.90625 \r\nL 53.515625 0 \r\nL 44.484375 0 \r\nL 44.484375 32.71875 \r\nQ 44.484375 40.625 41.703125 44.40625 \r\nQ 38.921875 48.1875 33.109375 48.1875 \r\nQ 26.21875 48.1875 22.15625 43.53125 \r\nQ 18.109375 38.875 18.109375 30.90625 \r\nL 18.109375 0 \r\nL 9.078125 0 \r\nL 9.078125 54.6875 \r\nL 18.109375 54.6875 \r\nL 18.109375 46.1875 \r\nQ 21.1875 51.21875 25.484375 53.609375 \r\nQ 29.78125 56 35.6875 56 \r\nQ 41.65625 56 45.828125 52.96875 \r\nQ 50 49.953125 52 44.1875 \r\nz\r\n\" id=\"DejaVuSans-109\"/>\r\n      <path d=\"M 45.40625 46.390625 \r\nL 45.40625 75.984375 \r\nL 54.390625 75.984375 \r\nL 54.390625 0 \r\nL 45.40625 0 \r\nL 45.40625 8.203125 \r\nQ 42.578125 3.328125 38.25 0.953125 \r\nQ 33.9375 -1.421875 27.875 -1.421875 \r\nQ 17.96875 -1.421875 11.734375 6.484375 \r\nQ 5.515625 14.40625 5.515625 27.296875 \r\nQ 5.515625 40.1875 11.734375 48.09375 \r\nQ 17.96875 56 27.875 56 \r\nQ 33.9375 56 38.25 53.625 \r\nQ 42.578125 51.265625 45.40625 46.390625 \r\nz\r\nM 14.796875 27.296875 \r\nQ 14.796875 17.390625 18.875 11.75 \r\nQ 22.953125 6.109375 30.078125 6.109375 \r\nQ 37.203125 6.109375 41.296875 11.75 \r\nQ 45.40625 17.390625 45.40625 27.296875 \r\nQ 45.40625 37.203125 41.296875 42.84375 \r\nQ 37.203125 48.484375 30.078125 48.484375 \r\nQ 22.953125 48.484375 18.875 42.84375 \r\nQ 14.796875 37.203125 14.796875 27.296875 \r\nz\r\n\" id=\"DejaVuSans-100\"/>\r\n      <path d=\"M 9.421875 75.984375 \r\nL 18.40625 75.984375 \r\nL 18.40625 0 \r\nL 9.421875 0 \r\nz\r\n\" id=\"DejaVuSans-108\"/>\r\n      <path id=\"DejaVuSans-32\"/>\r\n     </defs>\r\n     <use xlink:href=\"#DejaVuSans-109\"/>\r\n     <use x=\"97.412109\" xlink:href=\"#DejaVuSans-111\"/>\r\n     <use x=\"158.59375\" xlink:href=\"#DejaVuSans-100\"/>\r\n     <use x=\"222.070312\" xlink:href=\"#DejaVuSans-101\"/>\r\n     <use x=\"283.59375\" xlink:href=\"#DejaVuSans-108\"/>\r\n     <use x=\"311.376953\" xlink:href=\"#DejaVuSans-32\"/>\r\n     <use x=\"343.164062\" xlink:href=\"#DejaVuSans-97\"/>\r\n     <use x=\"404.443359\" xlink:href=\"#DejaVuSans-99\"/>\r\n     <use x=\"459.423828\" xlink:href=\"#DejaVuSans-99\"/>\r\n     <use x=\"514.404297\" xlink:href=\"#DejaVuSans-117\"/>\r\n     <use x=\"577.783203\" xlink:href=\"#DejaVuSans-114\"/>\r\n     <use x=\"618.896484\" xlink:href=\"#DejaVuSans-97\"/>\r\n     <use x=\"680.175781\" xlink:href=\"#DejaVuSans-99\"/>\r\n     <use x=\"735.15625\" xlink:href=\"#DejaVuSans-121\"/>\r\n    </g>\r\n   </g>\r\n   <g id=\"legend_1\">\r\n    <g id=\"patch_7\">\r\n     <path d=\"M 50.78125 59.674375 \r\nL 106.05625 59.674375 \r\nQ 108.05625 59.674375 108.05625 57.674375 \r\nL 108.05625 29.318125 \r\nQ 108.05625 27.318125 106.05625 27.318125 \r\nL 50.78125 27.318125 \r\nQ 48.78125 27.318125 48.78125 29.318125 \r\nL 48.78125 57.674375 \r\nQ 48.78125 59.674375 50.78125 59.674375 \r\nz\r\n\" style=\"fill:#ffffff;opacity:0.8;stroke:#cccccc;stroke-linejoin:miter;\"/>\r\n    </g>\r\n    <g id=\"line2d_31\">\r\n     <path d=\"M 52.78125 35.416562 \r\nL 72.78125 35.416562 \r\n\" style=\"fill:none;stroke:#1f77b4;stroke-linecap:square;stroke-width:1.5;\"/>\r\n    </g>\r\n    <g id=\"line2d_32\"/>\r\n    <g id=\"text_18\">\r\n     <!-- train -->\r\n     <g transform=\"translate(80.78125 38.916562)scale(0.1 -0.1)\">\r\n      <defs>\r\n       <path d=\"M 18.3125 70.21875 \r\nL 18.3125 54.6875 \r\nL 36.8125 54.6875 \r\nL 36.8125 47.703125 \r\nL 18.3125 47.703125 \r\nL 18.3125 18.015625 \r\nQ 18.3125 11.328125 20.140625 9.421875 \r\nQ 21.96875 7.515625 27.59375 7.515625 \r\nL 36.8125 7.515625 \r\nL 36.8125 0 \r\nL 27.59375 0 \r\nQ 17.1875 0 13.234375 3.875 \r\nQ 9.28125 7.765625 9.28125 18.015625 \r\nL 9.28125 47.703125 \r\nL 2.6875 47.703125 \r\nL 2.6875 54.6875 \r\nL 9.28125 54.6875 \r\nL 9.28125 70.21875 \r\nz\r\n\" id=\"DejaVuSans-116\"/>\r\n       <path d=\"M 9.421875 54.6875 \r\nL 18.40625 54.6875 \r\nL 18.40625 0 \r\nL 9.421875 0 \r\nz\r\nM 9.421875 75.984375 \r\nL 18.40625 75.984375 \r\nL 18.40625 64.59375 \r\nL 9.421875 64.59375 \r\nz\r\n\" id=\"DejaVuSans-105\"/>\r\n       <path d=\"M 54.890625 33.015625 \r\nL 54.890625 0 \r\nL 45.90625 0 \r\nL 45.90625 32.71875 \r\nQ 45.90625 40.484375 42.875 44.328125 \r\nQ 39.84375 48.1875 33.796875 48.1875 \r\nQ 26.515625 48.1875 22.3125 43.546875 \r\nQ 18.109375 38.921875 18.109375 30.90625 \r\nL 18.109375 0 \r\nL 9.078125 0 \r\nL 9.078125 54.6875 \r\nL 18.109375 54.6875 \r\nL 18.109375 46.1875 \r\nQ 21.34375 51.125 25.703125 53.5625 \r\nQ 30.078125 56 35.796875 56 \r\nQ 45.21875 56 50.046875 50.171875 \r\nQ 54.890625 44.34375 54.890625 33.015625 \r\nz\r\n\" id=\"DejaVuSans-110\"/>\r\n      </defs>\r\n      <use xlink:href=\"#DejaVuSans-116\"/>\r\n      <use x=\"39.208984\" xlink:href=\"#DejaVuSans-114\"/>\r\n      <use x=\"80.322266\" xlink:href=\"#DejaVuSans-97\"/>\r\n      <use x=\"141.601562\" xlink:href=\"#DejaVuSans-105\"/>\r\n      <use x=\"169.384766\" xlink:href=\"#DejaVuSans-110\"/>\r\n     </g>\r\n    </g>\r\n    <g id=\"line2d_33\">\r\n     <path d=\"M 52.78125 50.094687 \r\nL 72.78125 50.094687 \r\n\" style=\"fill:none;stroke:#ff7f0e;stroke-linecap:square;stroke-width:1.5;\"/>\r\n    </g>\r\n    <g id=\"line2d_34\"/>\r\n    <g id=\"text_19\">\r\n     <!-- test -->\r\n     <g transform=\"translate(80.78125 53.594687)scale(0.1 -0.1)\">\r\n      <defs>\r\n       <path d=\"M 44.28125 53.078125 \r\nL 44.28125 44.578125 \r\nQ 40.484375 46.53125 36.375 47.5 \r\nQ 32.28125 48.484375 27.875 48.484375 \r\nQ 21.1875 48.484375 17.84375 46.4375 \r\nQ 14.5 44.390625 14.5 40.28125 \r\nQ 14.5 37.15625 16.890625 35.375 \r\nQ 19.28125 33.59375 26.515625 31.984375 \r\nL 29.59375 31.296875 \r\nQ 39.15625 29.25 43.1875 25.515625 \r\nQ 47.21875 21.78125 47.21875 15.09375 \r\nQ 47.21875 7.46875 41.1875 3.015625 \r\nQ 35.15625 -1.421875 24.609375 -1.421875 \r\nQ 20.21875 -1.421875 15.453125 -0.5625 \r\nQ 10.6875 0.296875 5.421875 2 \r\nL 5.421875 11.28125 \r\nQ 10.40625 8.6875 15.234375 7.390625 \r\nQ 20.0625 6.109375 24.8125 6.109375 \r\nQ 31.15625 6.109375 34.5625 8.28125 \r\nQ 37.984375 10.453125 37.984375 14.40625 \r\nQ 37.984375 18.0625 35.515625 20.015625 \r\nQ 33.0625 21.96875 24.703125 23.78125 \r\nL 21.578125 24.515625 \r\nQ 13.234375 26.265625 9.515625 29.90625 \r\nQ 5.8125 33.546875 5.8125 39.890625 \r\nQ 5.8125 47.609375 11.28125 51.796875 \r\nQ 16.75 56 26.8125 56 \r\nQ 31.78125 56 36.171875 55.265625 \r\nQ 40.578125 54.546875 44.28125 53.078125 \r\nz\r\n\" id=\"DejaVuSans-115\"/>\r\n      </defs>\r\n      <use xlink:href=\"#DejaVuSans-116\"/>\r\n      <use x=\"39.208984\" xlink:href=\"#DejaVuSans-101\"/>\r\n      <use x=\"100.732422\" xlink:href=\"#DejaVuSans-115\"/>\r\n      <use x=\"152.832031\" xlink:href=\"#DejaVuSans-116\"/>\r\n     </g>\r\n    </g>\r\n   </g>\r\n  </g>\r\n </g>\r\n <defs>\r\n  <clipPath id=\"p7816cfb243\">\r\n   <rect height=\"217.44\" width=\"334.8\" x=\"43.78125\" y=\"22.318125\"/>\r\n  </clipPath>\r\n </defs>\r\n</svg>\r\n",
      "image/png": "[encoded data removed]"
     },
     "metadata": {
      "needs_background": "light"
     }
    }
   ],
   "source": [
    "# summarize history for accuracy\n",
    "plt.plot(history.epoch, history.history['acc'])\n",
    "plt.plot(history.epoch, history.history['val_acc'])\n",
    "plt.title('model accuracy')\n",
    "plt.ylabel('accuracy')\n",
    "plt.xlabel('epoch')\n",
    "plt.grid(True)\n",
    "plt.legend(['train', 'test'], loc='upper left') \n",
    "# plt.savefig(\"./result/model_accuracy_100.svg\")\n",
    "plt.show()"
   ]
  },
  {
   "cell_type": "code",
   "execution_count": 39,
   "metadata": {},
   "outputs": [
    {
     "output_type": "display_data",
     "data": {
      "text/plain": "<Figure size 432x288 with 1 Axes>",
      "image/svg+xml": "<?xml version=\"1.0\" encoding=\"utf-8\" standalone=\"no\"?>\r\n<!DOCTYPE svg PUBLIC \"-//W3C//DTD SVG 1.1//EN\"\r\n  \"http://www.w3.org/Graphics/SVG/1.1/DTD/svg11.dtd\">\r\n<!-- Created with matplotlib (https://matplotlib.org/) -->\r\n<svg height=\"277.314375pt\" version=\"1.1\" viewBox=\"0 0 392.14375 277.314375\" width=\"392.14375pt\" xmlns=\"http://www.w3.org/2000/svg\" xmlns:xlink=\"http://www.w3.org/1999/xlink\">\r\n <metadata>\r\n  <rdf:RDF xmlns:cc=\"http://creativecommons.org/ns#\" xmlns:dc=\"http://purl.org/dc/elements/1.1/\" xmlns:rdf=\"http://www.w3.org/1999/02/22-rdf-syntax-ns#\">\r\n   <cc:Work>\r\n    <dc:type rdf:resource=\"http://purl.org/dc/dcmitype/StillImage\"/>\r\n    <dc:date>2020-11-22T16:58:49.463805</dc:date>\r\n    <dc:format>image/svg+xml</dc:format>\r\n    <dc:creator>\r\n     <cc:Agent>\r\n      <dc:title>Matplotlib v3.3.3, https://matplotlib.org/</dc:title>\r\n     </cc:Agent>\r\n    </dc:creator>\r\n   </cc:Work>\r\n  </rdf:RDF>\r\n </metadata>\r\n <defs>\r\n  <style type=\"text/css\">*{stroke-linecap:butt;stroke-linejoin:round;}</style>\r\n </defs>\r\n <g id=\"figure_1\">\r\n  <g id=\"patch_1\">\r\n   <path d=\"M 0 277.314375 \r\nL 392.14375 277.314375 \r\nL 392.14375 0 \r\nL 0 0 \r\nz\r\n\" style=\"fill:none;\"/>\r\n  </g>\r\n  <g id=\"axes_1\">\r\n   <g id=\"patch_2\">\r\n    <path d=\"M 50.14375 239.758125 \r\nL 384.94375 239.758125 \r\nL 384.94375 22.318125 \r\nL 50.14375 22.318125 \r\nz\r\n\" style=\"fill:#ffffff;\"/>\r\n   </g>\r\n   <g id=\"matplotlib.axis_1\">\r\n    <g id=\"xtick_1\">\r\n     <g id=\"line2d_1\">\r\n      <path clip-path=\"url(#p77b249795d)\" d=\"M 65.361932 239.758125 \r\nL 65.361932 22.318125 \r\n\" style=\"fill:none;stroke:#b0b0b0;stroke-linecap:square;stroke-width:0.8;\"/>\r\n     </g>\r\n     <g id=\"line2d_2\">\r\n      <defs>\r\n       <path d=\"M 0 0 \r\nL 0 3.5 \r\n\" id=\"mb0598bbee0\" style=\"stroke:#000000;stroke-width:0.8;\"/>\r\n      </defs>\r\n      <g>\r\n       <use style=\"stroke:#000000;stroke-width:0.8;\" x=\"65.361932\" xlink:href=\"#mb0598bbee0\" y=\"239.758125\"/>\r\n      </g>\r\n     </g>\r\n     <g id=\"text_1\">\r\n      <!-- 0 -->\r\n      <g transform=\"translate(62.180682 254.356562)scale(0.1 -0.1)\">\r\n       <defs>\r\n        <path d=\"M 31.78125 66.40625 \r\nQ 24.171875 66.40625 20.328125 58.90625 \r\nQ 16.5 51.421875 16.5 36.375 \r\nQ 16.5 21.390625 20.328125 13.890625 \r\nQ 24.171875 6.390625 31.78125 6.390625 \r\nQ 39.453125 6.390625 43.28125 13.890625 \r\nQ 47.125 21.390625 47.125 36.375 \r\nQ 47.125 51.421875 43.28125 58.90625 \r\nQ 39.453125 66.40625 31.78125 66.40625 \r\nz\r\nM 31.78125 74.21875 \r\nQ 44.046875 74.21875 50.515625 64.515625 \r\nQ 56.984375 54.828125 56.984375 36.375 \r\nQ 56.984375 17.96875 50.515625 8.265625 \r\nQ 44.046875 -1.421875 31.78125 -1.421875 \r\nQ 19.53125 -1.421875 13.0625 8.265625 \r\nQ 6.59375 17.96875 6.59375 36.375 \r\nQ 6.59375 54.828125 13.0625 64.515625 \r\nQ 19.53125 74.21875 31.78125 74.21875 \r\nz\r\n\" id=\"DejaVuSans-48\"/>\r\n       </defs>\r\n       <use xlink:href=\"#DejaVuSans-48\"/>\r\n      </g>\r\n     </g>\r\n    </g>\r\n    <g id=\"xtick_2\">\r\n     <g id=\"line2d_3\">\r\n      <path clip-path=\"url(#p77b249795d)\" d=\"M 126.849535 239.758125 \r\nL 126.849535 22.318125 \r\n\" style=\"fill:none;stroke:#b0b0b0;stroke-linecap:square;stroke-width:0.8;\"/>\r\n     </g>\r\n     <g id=\"line2d_4\">\r\n      <g>\r\n       <use style=\"stroke:#000000;stroke-width:0.8;\" x=\"126.849535\" xlink:href=\"#mb0598bbee0\" y=\"239.758125\"/>\r\n      </g>\r\n     </g>\r\n     <g id=\"text_2\">\r\n      <!-- 20 -->\r\n      <g transform=\"translate(120.487035 254.356562)scale(0.1 -0.1)\">\r\n       <defs>\r\n        <path d=\"M 19.1875 8.296875 \r\nL 53.609375 8.296875 \r\nL 53.609375 0 \r\nL 7.328125 0 \r\nL 7.328125 8.296875 \r\nQ 12.9375 14.109375 22.625 23.890625 \r\nQ 32.328125 33.6875 34.8125 36.53125 \r\nQ 39.546875 41.84375 41.421875 45.53125 \r\nQ 43.3125 49.21875 43.3125 52.78125 \r\nQ 43.3125 58.59375 39.234375 62.25 \r\nQ 35.15625 65.921875 28.609375 65.921875 \r\nQ 23.96875 65.921875 18.8125 64.3125 \r\nQ 13.671875 62.703125 7.8125 59.421875 \r\nL 7.8125 69.390625 \r\nQ 13.765625 71.78125 18.9375 73 \r\nQ 24.125 74.21875 28.421875 74.21875 \r\nQ 39.75 74.21875 46.484375 68.546875 \r\nQ 53.21875 62.890625 53.21875 53.421875 \r\nQ 53.21875 48.921875 51.53125 44.890625 \r\nQ 49.859375 40.875 45.40625 35.40625 \r\nQ 44.1875 33.984375 37.640625 27.21875 \r\nQ 31.109375 20.453125 19.1875 8.296875 \r\nz\r\n\" id=\"DejaVuSans-50\"/>\r\n       </defs>\r\n       <use xlink:href=\"#DejaVuSans-50\"/>\r\n       <use x=\"63.623047\" xlink:href=\"#DejaVuSans-48\"/>\r\n      </g>\r\n     </g>\r\n    </g>\r\n    <g id=\"xtick_3\">\r\n     <g id=\"line2d_5\">\r\n      <path clip-path=\"url(#p77b249795d)\" d=\"M 188.337138 239.758125 \r\nL 188.337138 22.318125 \r\n\" style=\"fill:none;stroke:#b0b0b0;stroke-linecap:square;stroke-width:0.8;\"/>\r\n     </g>\r\n     <g id=\"line2d_6\">\r\n      <g>\r\n       <use style=\"stroke:#000000;stroke-width:0.8;\" x=\"188.337138\" xlink:href=\"#mb0598bbee0\" y=\"239.758125\"/>\r\n      </g>\r\n     </g>\r\n     <g id=\"text_3\">\r\n      <!-- 40 -->\r\n      <g transform=\"translate(181.974638 254.356562)scale(0.1 -0.1)\">\r\n       <defs>\r\n        <path d=\"M 37.796875 64.3125 \r\nL 12.890625 25.390625 \r\nL 37.796875 25.390625 \r\nz\r\nM 35.203125 72.90625 \r\nL 47.609375 72.90625 \r\nL 47.609375 25.390625 \r\nL 58.015625 25.390625 \r\nL 58.015625 17.1875 \r\nL 47.609375 17.1875 \r\nL 47.609375 0 \r\nL 37.796875 0 \r\nL 37.796875 17.1875 \r\nL 4.890625 17.1875 \r\nL 4.890625 26.703125 \r\nz\r\n\" id=\"DejaVuSans-52\"/>\r\n       </defs>\r\n       <use xlink:href=\"#DejaVuSans-52\"/>\r\n       <use x=\"63.623047\" xlink:href=\"#DejaVuSans-48\"/>\r\n      </g>\r\n     </g>\r\n    </g>\r\n    <g id=\"xtick_4\">\r\n     <g id=\"line2d_7\">\r\n      <path clip-path=\"url(#p77b249795d)\" d=\"M 249.824742 239.758125 \r\nL 249.824742 22.318125 \r\n\" style=\"fill:none;stroke:#b0b0b0;stroke-linecap:square;stroke-width:0.8;\"/>\r\n     </g>\r\n     <g id=\"line2d_8\">\r\n      <g>\r\n       <use style=\"stroke:#000000;stroke-width:0.8;\" x=\"249.824742\" xlink:href=\"#mb0598bbee0\" y=\"239.758125\"/>\r\n      </g>\r\n     </g>\r\n     <g id=\"text_4\">\r\n      <!-- 60 -->\r\n      <g transform=\"translate(243.462242 254.356562)scale(0.1 -0.1)\">\r\n       <defs>\r\n        <path d=\"M 33.015625 40.375 \r\nQ 26.375 40.375 22.484375 35.828125 \r\nQ 18.609375 31.296875 18.609375 23.390625 \r\nQ 18.609375 15.53125 22.484375 10.953125 \r\nQ 26.375 6.390625 33.015625 6.390625 \r\nQ 39.65625 6.390625 43.53125 10.953125 \r\nQ 47.40625 15.53125 47.40625 23.390625 \r\nQ 47.40625 31.296875 43.53125 35.828125 \r\nQ 39.65625 40.375 33.015625 40.375 \r\nz\r\nM 52.59375 71.296875 \r\nL 52.59375 62.3125 \r\nQ 48.875 64.0625 45.09375 64.984375 \r\nQ 41.3125 65.921875 37.59375 65.921875 \r\nQ 27.828125 65.921875 22.671875 59.328125 \r\nQ 17.53125 52.734375 16.796875 39.40625 \r\nQ 19.671875 43.65625 24.015625 45.921875 \r\nQ 28.375 48.1875 33.59375 48.1875 \r\nQ 44.578125 48.1875 50.953125 41.515625 \r\nQ 57.328125 34.859375 57.328125 23.390625 \r\nQ 57.328125 12.15625 50.6875 5.359375 \r\nQ 44.046875 -1.421875 33.015625 -1.421875 \r\nQ 20.359375 -1.421875 13.671875 8.265625 \r\nQ 6.984375 17.96875 6.984375 36.375 \r\nQ 6.984375 53.65625 15.1875 63.9375 \r\nQ 23.390625 74.21875 37.203125 74.21875 \r\nQ 40.921875 74.21875 44.703125 73.484375 \r\nQ 48.484375 72.75 52.59375 71.296875 \r\nz\r\n\" id=\"DejaVuSans-54\"/>\r\n       </defs>\r\n       <use xlink:href=\"#DejaVuSans-54\"/>\r\n       <use x=\"63.623047\" xlink:href=\"#DejaVuSans-48\"/>\r\n      </g>\r\n     </g>\r\n    </g>\r\n    <g id=\"xtick_5\">\r\n     <g id=\"line2d_9\">\r\n      <path clip-path=\"url(#p77b249795d)\" d=\"M 311.312345 239.758125 \r\nL 311.312345 22.318125 \r\n\" style=\"fill:none;stroke:#b0b0b0;stroke-linecap:square;stroke-width:0.8;\"/>\r\n     </g>\r\n     <g id=\"line2d_10\">\r\n      <g>\r\n       <use style=\"stroke:#000000;stroke-width:0.8;\" x=\"311.312345\" xlink:href=\"#mb0598bbee0\" y=\"239.758125\"/>\r\n      </g>\r\n     </g>\r\n     <g id=\"text_5\">\r\n      <!-- 80 -->\r\n      <g transform=\"translate(304.949845 254.356562)scale(0.1 -0.1)\">\r\n       <defs>\r\n        <path d=\"M 31.78125 34.625 \r\nQ 24.75 34.625 20.71875 30.859375 \r\nQ 16.703125 27.09375 16.703125 20.515625 \r\nQ 16.703125 13.921875 20.71875 10.15625 \r\nQ 24.75 6.390625 31.78125 6.390625 \r\nQ 38.8125 6.390625 42.859375 10.171875 \r\nQ 46.921875 13.96875 46.921875 20.515625 \r\nQ 46.921875 27.09375 42.890625 30.859375 \r\nQ 38.875 34.625 31.78125 34.625 \r\nz\r\nM 21.921875 38.8125 \r\nQ 15.578125 40.375 12.03125 44.71875 \r\nQ 8.5 49.078125 8.5 55.328125 \r\nQ 8.5 64.0625 14.71875 69.140625 \r\nQ 20.953125 74.21875 31.78125 74.21875 \r\nQ 42.671875 74.21875 48.875 69.140625 \r\nQ 55.078125 64.0625 55.078125 55.328125 \r\nQ 55.078125 49.078125 51.53125 44.71875 \r\nQ 48 40.375 41.703125 38.8125 \r\nQ 48.828125 37.15625 52.796875 32.3125 \r\nQ 56.78125 27.484375 56.78125 20.515625 \r\nQ 56.78125 9.90625 50.3125 4.234375 \r\nQ 43.84375 -1.421875 31.78125 -1.421875 \r\nQ 19.734375 -1.421875 13.25 4.234375 \r\nQ 6.78125 9.90625 6.78125 20.515625 \r\nQ 6.78125 27.484375 10.78125 32.3125 \r\nQ 14.796875 37.15625 21.921875 38.8125 \r\nz\r\nM 18.3125 54.390625 \r\nQ 18.3125 48.734375 21.84375 45.5625 \r\nQ 25.390625 42.390625 31.78125 42.390625 \r\nQ 38.140625 42.390625 41.71875 45.5625 \r\nQ 45.3125 48.734375 45.3125 54.390625 \r\nQ 45.3125 60.0625 41.71875 63.234375 \r\nQ 38.140625 66.40625 31.78125 66.40625 \r\nQ 25.390625 66.40625 21.84375 63.234375 \r\nQ 18.3125 60.0625 18.3125 54.390625 \r\nz\r\n\" id=\"DejaVuSans-56\"/>\r\n       </defs>\r\n       <use xlink:href=\"#DejaVuSans-56\"/>\r\n       <use x=\"63.623047\" xlink:href=\"#DejaVuSans-48\"/>\r\n      </g>\r\n     </g>\r\n    </g>\r\n    <g id=\"xtick_6\">\r\n     <g id=\"line2d_11\">\r\n      <path clip-path=\"url(#p77b249795d)\" d=\"M 372.799948 239.758125 \r\nL 372.799948 22.318125 \r\n\" style=\"fill:none;stroke:#b0b0b0;stroke-linecap:square;stroke-width:0.8;\"/>\r\n     </g>\r\n     <g id=\"line2d_12\">\r\n      <g>\r\n       <use style=\"stroke:#000000;stroke-width:0.8;\" x=\"372.799948\" xlink:href=\"#mb0598bbee0\" y=\"239.758125\"/>\r\n      </g>\r\n     </g>\r\n     <g id=\"text_6\">\r\n      <!-- 100 -->\r\n      <g transform=\"translate(363.256198 254.356562)scale(0.1 -0.1)\">\r\n       <defs>\r\n        <path d=\"M 12.40625 8.296875 \r\nL 28.515625 8.296875 \r\nL 28.515625 63.921875 \r\nL 10.984375 60.40625 \r\nL 10.984375 69.390625 \r\nL 28.421875 72.90625 \r\nL 38.28125 72.90625 \r\nL 38.28125 8.296875 \r\nL 54.390625 8.296875 \r\nL 54.390625 0 \r\nL 12.40625 0 \r\nz\r\n\" id=\"DejaVuSans-49\"/>\r\n       </defs>\r\n       <use xlink:href=\"#DejaVuSans-49\"/>\r\n       <use x=\"63.623047\" xlink:href=\"#DejaVuSans-48\"/>\r\n       <use x=\"127.246094\" xlink:href=\"#DejaVuSans-48\"/>\r\n      </g>\r\n     </g>\r\n    </g>\r\n    <g id=\"text_7\">\r\n     <!-- epoch -->\r\n     <g transform=\"translate(202.315625 268.034687)scale(0.1 -0.1)\">\r\n      <defs>\r\n       <path d=\"M 56.203125 29.59375 \r\nL 56.203125 25.203125 \r\nL 14.890625 25.203125 \r\nQ 15.484375 15.921875 20.484375 11.0625 \r\nQ 25.484375 6.203125 34.421875 6.203125 \r\nQ 39.59375 6.203125 44.453125 7.46875 \r\nQ 49.3125 8.734375 54.109375 11.28125 \r\nL 54.109375 2.78125 \r\nQ 49.265625 0.734375 44.1875 -0.34375 \r\nQ 39.109375 -1.421875 33.890625 -1.421875 \r\nQ 20.796875 -1.421875 13.15625 6.1875 \r\nQ 5.515625 13.8125 5.515625 26.8125 \r\nQ 5.515625 40.234375 12.765625 48.109375 \r\nQ 20.015625 56 32.328125 56 \r\nQ 43.359375 56 49.78125 48.890625 \r\nQ 56.203125 41.796875 56.203125 29.59375 \r\nz\r\nM 47.21875 32.234375 \r\nQ 47.125 39.59375 43.09375 43.984375 \r\nQ 39.0625 48.390625 32.421875 48.390625 \r\nQ 24.90625 48.390625 20.390625 44.140625 \r\nQ 15.875 39.890625 15.1875 32.171875 \r\nz\r\n\" id=\"DejaVuSans-101\"/>\r\n       <path d=\"M 18.109375 8.203125 \r\nL 18.109375 -20.796875 \r\nL 9.078125 -20.796875 \r\nL 9.078125 54.6875 \r\nL 18.109375 54.6875 \r\nL 18.109375 46.390625 \r\nQ 20.953125 51.265625 25.265625 53.625 \r\nQ 29.59375 56 35.59375 56 \r\nQ 45.5625 56 51.78125 48.09375 \r\nQ 58.015625 40.1875 58.015625 27.296875 \r\nQ 58.015625 14.40625 51.78125 6.484375 \r\nQ 45.5625 -1.421875 35.59375 -1.421875 \r\nQ 29.59375 -1.421875 25.265625 0.953125 \r\nQ 20.953125 3.328125 18.109375 8.203125 \r\nz\r\nM 48.6875 27.296875 \r\nQ 48.6875 37.203125 44.609375 42.84375 \r\nQ 40.53125 48.484375 33.40625 48.484375 \r\nQ 26.265625 48.484375 22.1875 42.84375 \r\nQ 18.109375 37.203125 18.109375 27.296875 \r\nQ 18.109375 17.390625 22.1875 11.75 \r\nQ 26.265625 6.109375 33.40625 6.109375 \r\nQ 40.53125 6.109375 44.609375 11.75 \r\nQ 48.6875 17.390625 48.6875 27.296875 \r\nz\r\n\" id=\"DejaVuSans-112\"/>\r\n       <path d=\"M 30.609375 48.390625 \r\nQ 23.390625 48.390625 19.1875 42.75 \r\nQ 14.984375 37.109375 14.984375 27.296875 \r\nQ 14.984375 17.484375 19.15625 11.84375 \r\nQ 23.34375 6.203125 30.609375 6.203125 \r\nQ 37.796875 6.203125 41.984375 11.859375 \r\nQ 46.1875 17.53125 46.1875 27.296875 \r\nQ 46.1875 37.015625 41.984375 42.703125 \r\nQ 37.796875 48.390625 30.609375 48.390625 \r\nz\r\nM 30.609375 56 \r\nQ 42.328125 56 49.015625 48.375 \r\nQ 55.71875 40.765625 55.71875 27.296875 \r\nQ 55.71875 13.875 49.015625 6.21875 \r\nQ 42.328125 -1.421875 30.609375 -1.421875 \r\nQ 18.84375 -1.421875 12.171875 6.21875 \r\nQ 5.515625 13.875 5.515625 27.296875 \r\nQ 5.515625 40.765625 12.171875 48.375 \r\nQ 18.84375 56 30.609375 56 \r\nz\r\n\" id=\"DejaVuSans-111\"/>\r\n       <path d=\"M 48.78125 52.59375 \r\nL 48.78125 44.1875 \r\nQ 44.96875 46.296875 41.140625 47.34375 \r\nQ 37.3125 48.390625 33.40625 48.390625 \r\nQ 24.65625 48.390625 19.8125 42.84375 \r\nQ 14.984375 37.3125 14.984375 27.296875 \r\nQ 14.984375 17.28125 19.8125 11.734375 \r\nQ 24.65625 6.203125 33.40625 6.203125 \r\nQ 37.3125 6.203125 41.140625 7.25 \r\nQ 44.96875 8.296875 48.78125 10.40625 \r\nL 48.78125 2.09375 \r\nQ 45.015625 0.34375 40.984375 -0.53125 \r\nQ 36.96875 -1.421875 32.421875 -1.421875 \r\nQ 20.0625 -1.421875 12.78125 6.34375 \r\nQ 5.515625 14.109375 5.515625 27.296875 \r\nQ 5.515625 40.671875 12.859375 48.328125 \r\nQ 20.21875 56 33.015625 56 \r\nQ 37.15625 56 41.109375 55.140625 \r\nQ 45.0625 54.296875 48.78125 52.59375 \r\nz\r\n\" id=\"DejaVuSans-99\"/>\r\n       <path d=\"M 54.890625 33.015625 \r\nL 54.890625 0 \r\nL 45.90625 0 \r\nL 45.90625 32.71875 \r\nQ 45.90625 40.484375 42.875 44.328125 \r\nQ 39.84375 48.1875 33.796875 48.1875 \r\nQ 26.515625 48.1875 22.3125 43.546875 \r\nQ 18.109375 38.921875 18.109375 30.90625 \r\nL 18.109375 0 \r\nL 9.078125 0 \r\nL 9.078125 75.984375 \r\nL 18.109375 75.984375 \r\nL 18.109375 46.1875 \r\nQ 21.34375 51.125 25.703125 53.5625 \r\nQ 30.078125 56 35.796875 56 \r\nQ 45.21875 56 50.046875 50.171875 \r\nQ 54.890625 44.34375 54.890625 33.015625 \r\nz\r\n\" id=\"DejaVuSans-104\"/>\r\n      </defs>\r\n      <use xlink:href=\"#DejaVuSans-101\"/>\r\n      <use x=\"61.523438\" xlink:href=\"#DejaVuSans-112\"/>\r\n      <use x=\"125\" xlink:href=\"#DejaVuSans-111\"/>\r\n      <use x=\"186.181641\" xlink:href=\"#DejaVuSans-99\"/>\r\n      <use x=\"241.162109\" xlink:href=\"#DejaVuSans-104\"/>\r\n     </g>\r\n    </g>\r\n   </g>\r\n   <g id=\"matplotlib.axis_2\">\r\n    <g id=\"ytick_1\">\r\n     <g id=\"line2d_13\">\r\n      <path clip-path=\"url(#p77b249795d)\" d=\"M 50.14375 218.991997 \r\nL 384.94375 218.991997 \r\n\" style=\"fill:none;stroke:#b0b0b0;stroke-linecap:square;stroke-width:0.8;\"/>\r\n     </g>\r\n     <g id=\"line2d_14\">\r\n      <defs>\r\n       <path d=\"M 0 0 \r\nL -3.5 0 \r\n\" id=\"m8819430e6e\" style=\"stroke:#000000;stroke-width:0.8;\"/>\r\n      </defs>\r\n      <g>\r\n       <use style=\"stroke:#000000;stroke-width:0.8;\" x=\"50.14375\" xlink:href=\"#m8819430e6e\" y=\"218.991997\"/>\r\n      </g>\r\n     </g>\r\n     <g id=\"text_8\">\r\n      <!-- 0.50 -->\r\n      <g transform=\"translate(20.878125 222.791216)scale(0.1 -0.1)\">\r\n       <defs>\r\n        <path d=\"M 10.6875 12.40625 \r\nL 21 12.40625 \r\nL 21 0 \r\nL 10.6875 0 \r\nz\r\n\" id=\"DejaVuSans-46\"/>\r\n        <path d=\"M 10.796875 72.90625 \r\nL 49.515625 72.90625 \r\nL 49.515625 64.59375 \r\nL 19.828125 64.59375 \r\nL 19.828125 46.734375 \r\nQ 21.96875 47.46875 24.109375 47.828125 \r\nQ 26.265625 48.1875 28.421875 48.1875 \r\nQ 40.625 48.1875 47.75 41.5 \r\nQ 54.890625 34.8125 54.890625 23.390625 \r\nQ 54.890625 11.625 47.5625 5.09375 \r\nQ 40.234375 -1.421875 26.90625 -1.421875 \r\nQ 22.3125 -1.421875 17.546875 -0.640625 \r\nQ 12.796875 0.140625 7.71875 1.703125 \r\nL 7.71875 11.625 \r\nQ 12.109375 9.234375 16.796875 8.0625 \r\nQ 21.484375 6.890625 26.703125 6.890625 \r\nQ 35.15625 6.890625 40.078125 11.328125 \r\nQ 45.015625 15.765625 45.015625 23.390625 \r\nQ 45.015625 31 40.078125 35.4375 \r\nQ 35.15625 39.890625 26.703125 39.890625 \r\nQ 22.75 39.890625 18.8125 39.015625 \r\nQ 14.890625 38.140625 10.796875 36.28125 \r\nz\r\n\" id=\"DejaVuSans-53\"/>\r\n       </defs>\r\n       <use xlink:href=\"#DejaVuSans-48\"/>\r\n       <use x=\"63.623047\" xlink:href=\"#DejaVuSans-46\"/>\r\n       <use x=\"95.410156\" xlink:href=\"#DejaVuSans-53\"/>\r\n       <use x=\"159.033203\" xlink:href=\"#DejaVuSans-48\"/>\r\n      </g>\r\n     </g>\r\n    </g>\r\n    <g id=\"ytick_2\">\r\n     <g id=\"line2d_15\">\r\n      <path clip-path=\"url(#p77b249795d)\" d=\"M 50.14375 190.925646 \r\nL 384.94375 190.925646 \r\n\" style=\"fill:none;stroke:#b0b0b0;stroke-linecap:square;stroke-width:0.8;\"/>\r\n     </g>\r\n     <g id=\"line2d_16\">\r\n      <g>\r\n       <use style=\"stroke:#000000;stroke-width:0.8;\" x=\"50.14375\" xlink:href=\"#m8819430e6e\" y=\"190.925646\"/>\r\n      </g>\r\n     </g>\r\n     <g id=\"text_9\">\r\n      <!-- 0.75 -->\r\n      <g transform=\"translate(20.878125 194.724864)scale(0.1 -0.1)\">\r\n       <defs>\r\n        <path d=\"M 8.203125 72.90625 \r\nL 55.078125 72.90625 \r\nL 55.078125 68.703125 \r\nL 28.609375 0 \r\nL 18.3125 0 \r\nL 43.21875 64.59375 \r\nL 8.203125 64.59375 \r\nz\r\n\" id=\"DejaVuSans-55\"/>\r\n       </defs>\r\n       <use xlink:href=\"#DejaVuSans-48\"/>\r\n       <use x=\"63.623047\" xlink:href=\"#DejaVuSans-46\"/>\r\n       <use x=\"95.410156\" xlink:href=\"#DejaVuSans-55\"/>\r\n       <use x=\"159.033203\" xlink:href=\"#DejaVuSans-53\"/>\r\n      </g>\r\n     </g>\r\n    </g>\r\n    <g id=\"ytick_3\">\r\n     <g id=\"line2d_17\">\r\n      <path clip-path=\"url(#p77b249795d)\" d=\"M 50.14375 162.859294 \r\nL 384.94375 162.859294 \r\n\" style=\"fill:none;stroke:#b0b0b0;stroke-linecap:square;stroke-width:0.8;\"/>\r\n     </g>\r\n     <g id=\"line2d_18\">\r\n      <g>\r\n       <use style=\"stroke:#000000;stroke-width:0.8;\" x=\"50.14375\" xlink:href=\"#m8819430e6e\" y=\"162.859294\"/>\r\n      </g>\r\n     </g>\r\n     <g id=\"text_10\">\r\n      <!-- 1.00 -->\r\n      <g transform=\"translate(20.878125 166.658513)scale(0.1 -0.1)\">\r\n       <use xlink:href=\"#DejaVuSans-49\"/>\r\n       <use x=\"63.623047\" xlink:href=\"#DejaVuSans-46\"/>\r\n       <use x=\"95.410156\" xlink:href=\"#DejaVuSans-48\"/>\r\n       <use x=\"159.033203\" xlink:href=\"#DejaVuSans-48\"/>\r\n      </g>\r\n     </g>\r\n    </g>\r\n    <g id=\"ytick_4\">\r\n     <g id=\"line2d_19\">\r\n      <path clip-path=\"url(#p77b249795d)\" d=\"M 50.14375 134.792942 \r\nL 384.94375 134.792942 \r\n\" style=\"fill:none;stroke:#b0b0b0;stroke-linecap:square;stroke-width:0.8;\"/>\r\n     </g>\r\n     <g id=\"line2d_20\">\r\n      <g>\r\n       <use style=\"stroke:#000000;stroke-width:0.8;\" x=\"50.14375\" xlink:href=\"#m8819430e6e\" y=\"134.792942\"/>\r\n      </g>\r\n     </g>\r\n     <g id=\"text_11\">\r\n      <!-- 1.25 -->\r\n      <g transform=\"translate(20.878125 138.592161)scale(0.1 -0.1)\">\r\n       <use xlink:href=\"#DejaVuSans-49\"/>\r\n       <use x=\"63.623047\" xlink:href=\"#DejaVuSans-46\"/>\r\n       <use x=\"95.410156\" xlink:href=\"#DejaVuSans-50\"/>\r\n       <use x=\"159.033203\" xlink:href=\"#DejaVuSans-53\"/>\r\n      </g>\r\n     </g>\r\n    </g>\r\n    <g id=\"ytick_5\">\r\n     <g id=\"line2d_21\">\r\n      <path clip-path=\"url(#p77b249795d)\" d=\"M 50.14375 106.72659 \r\nL 384.94375 106.72659 \r\n\" style=\"fill:none;stroke:#b0b0b0;stroke-linecap:square;stroke-width:0.8;\"/>\r\n     </g>\r\n     <g id=\"line2d_22\">\r\n      <g>\r\n       <use style=\"stroke:#000000;stroke-width:0.8;\" x=\"50.14375\" xlink:href=\"#m8819430e6e\" y=\"106.72659\"/>\r\n      </g>\r\n     </g>\r\n     <g id=\"text_12\">\r\n      <!-- 1.50 -->\r\n      <g transform=\"translate(20.878125 110.525809)scale(0.1 -0.1)\">\r\n       <use xlink:href=\"#DejaVuSans-49\"/>\r\n       <use x=\"63.623047\" xlink:href=\"#DejaVuSans-46\"/>\r\n       <use x=\"95.410156\" xlink:href=\"#DejaVuSans-53\"/>\r\n       <use x=\"159.033203\" xlink:href=\"#DejaVuSans-48\"/>\r\n      </g>\r\n     </g>\r\n    </g>\r\n    <g id=\"ytick_6\">\r\n     <g id=\"line2d_23\">\r\n      <path clip-path=\"url(#p77b249795d)\" d=\"M 50.14375 78.660238 \r\nL 384.94375 78.660238 \r\n\" style=\"fill:none;stroke:#b0b0b0;stroke-linecap:square;stroke-width:0.8;\"/>\r\n     </g>\r\n     <g id=\"line2d_24\">\r\n      <g>\r\n       <use style=\"stroke:#000000;stroke-width:0.8;\" x=\"50.14375\" xlink:href=\"#m8819430e6e\" y=\"78.660238\"/>\r\n      </g>\r\n     </g>\r\n     <g id=\"text_13\">\r\n      <!-- 1.75 -->\r\n      <g transform=\"translate(20.878125 82.459457)scale(0.1 -0.1)\">\r\n       <use xlink:href=\"#DejaVuSans-49\"/>\r\n       <use x=\"63.623047\" xlink:href=\"#DejaVuSans-46\"/>\r\n       <use x=\"95.410156\" xlink:href=\"#DejaVuSans-55\"/>\r\n       <use x=\"159.033203\" xlink:href=\"#DejaVuSans-53\"/>\r\n      </g>\r\n     </g>\r\n    </g>\r\n    <g id=\"ytick_7\">\r\n     <g id=\"line2d_25\">\r\n      <path clip-path=\"url(#p77b249795d)\" d=\"M 50.14375 50.593887 \r\nL 384.94375 50.593887 \r\n\" style=\"fill:none;stroke:#b0b0b0;stroke-linecap:square;stroke-width:0.8;\"/>\r\n     </g>\r\n     <g id=\"line2d_26\">\r\n      <g>\r\n       <use style=\"stroke:#000000;stroke-width:0.8;\" x=\"50.14375\" xlink:href=\"#m8819430e6e\" y=\"50.593887\"/>\r\n      </g>\r\n     </g>\r\n     <g id=\"text_14\">\r\n      <!-- 2.00 -->\r\n      <g transform=\"translate(20.878125 54.393105)scale(0.1 -0.1)\">\r\n       <use xlink:href=\"#DejaVuSans-50\"/>\r\n       <use x=\"63.623047\" xlink:href=\"#DejaVuSans-46\"/>\r\n       <use x=\"95.410156\" xlink:href=\"#DejaVuSans-48\"/>\r\n       <use x=\"159.033203\" xlink:href=\"#DejaVuSans-48\"/>\r\n      </g>\r\n     </g>\r\n    </g>\r\n    <g id=\"ytick_8\">\r\n     <g id=\"line2d_27\">\r\n      <path clip-path=\"url(#p77b249795d)\" d=\"M 50.14375 22.527535 \r\nL 384.94375 22.527535 \r\n\" style=\"fill:none;stroke:#b0b0b0;stroke-linecap:square;stroke-width:0.8;\"/>\r\n     </g>\r\n     <g id=\"line2d_28\">\r\n      <g>\r\n       <use style=\"stroke:#000000;stroke-width:0.8;\" x=\"50.14375\" xlink:href=\"#m8819430e6e\" y=\"22.527535\"/>\r\n      </g>\r\n     </g>\r\n     <g id=\"text_15\">\r\n      <!-- 2.25 -->\r\n      <g transform=\"translate(20.878125 26.326753)scale(0.1 -0.1)\">\r\n       <use xlink:href=\"#DejaVuSans-50\"/>\r\n       <use x=\"63.623047\" xlink:href=\"#DejaVuSans-46\"/>\r\n       <use x=\"95.410156\" xlink:href=\"#DejaVuSans-50\"/>\r\n       <use x=\"159.033203\" xlink:href=\"#DejaVuSans-53\"/>\r\n      </g>\r\n     </g>\r\n    </g>\r\n    <g id=\"text_16\">\r\n     <!-- loss -->\r\n     <g transform=\"translate(14.798438 140.695937)rotate(-90)scale(0.1 -0.1)\">\r\n      <defs>\r\n       <path d=\"M 9.421875 75.984375 \r\nL 18.40625 75.984375 \r\nL 18.40625 0 \r\nL 9.421875 0 \r\nz\r\n\" id=\"DejaVuSans-108\"/>\r\n       <path d=\"M 44.28125 53.078125 \r\nL 44.28125 44.578125 \r\nQ 40.484375 46.53125 36.375 47.5 \r\nQ 32.28125 48.484375 27.875 48.484375 \r\nQ 21.1875 48.484375 17.84375 46.4375 \r\nQ 14.5 44.390625 14.5 40.28125 \r\nQ 14.5 37.15625 16.890625 35.375 \r\nQ 19.28125 33.59375 26.515625 31.984375 \r\nL 29.59375 31.296875 \r\nQ 39.15625 29.25 43.1875 25.515625 \r\nQ 47.21875 21.78125 47.21875 15.09375 \r\nQ 47.21875 7.46875 41.1875 3.015625 \r\nQ 35.15625 -1.421875 24.609375 -1.421875 \r\nQ 20.21875 -1.421875 15.453125 -0.5625 \r\nQ 10.6875 0.296875 5.421875 2 \r\nL 5.421875 11.28125 \r\nQ 10.40625 8.6875 15.234375 7.390625 \r\nQ 20.0625 6.109375 24.8125 6.109375 \r\nQ 31.15625 6.109375 34.5625 8.28125 \r\nQ 37.984375 10.453125 37.984375 14.40625 \r\nQ 37.984375 18.0625 35.515625 20.015625 \r\nQ 33.0625 21.96875 24.703125 23.78125 \r\nL 21.578125 24.515625 \r\nQ 13.234375 26.265625 9.515625 29.90625 \r\nQ 5.8125 33.546875 5.8125 39.890625 \r\nQ 5.8125 47.609375 11.28125 51.796875 \r\nQ 16.75 56 26.8125 56 \r\nQ 31.78125 56 36.171875 55.265625 \r\nQ 40.578125 54.546875 44.28125 53.078125 \r\nz\r\n\" id=\"DejaVuSans-115\"/>\r\n      </defs>\r\n      <use xlink:href=\"#DejaVuSans-108\"/>\r\n      <use x=\"27.783203\" xlink:href=\"#DejaVuSans-111\"/>\r\n      <use x=\"88.964844\" xlink:href=\"#DejaVuSans-115\"/>\r\n      <use x=\"141.064453\" xlink:href=\"#DejaVuSans-115\"/>\r\n     </g>\r\n    </g>\r\n   </g>\r\n   <g id=\"line2d_29\">\r\n    <path clip-path=\"url(#p77b249795d)\" d=\"M 65.361932 32.601755 \r\nL 68.436312 46.190104 \r\nL 71.510692 78.325514 \r\nL 74.585072 119.745757 \r\nL 77.659452 150.070343 \r\nL 80.733833 170.738361 \r\nL 83.808213 184.025818 \r\nL 86.882593 189.904617 \r\nL 89.956973 192.312407 \r\nL 93.031353 194.815157 \r\nL 96.105733 196.882428 \r\nL 99.180114 197.889437 \r\nL 102.254494 199.136921 \r\nL 105.328874 201.15434 \r\nL 108.403254 202.566108 \r\nL 111.477634 202.972311 \r\nL 114.552014 203.252773 \r\nL 117.626395 205.505052 \r\nL 120.700775 206.454387 \r\nL 123.775155 207.624858 \r\nL 126.849535 208.01998 \r\nL 129.923915 209.033367 \r\nL 132.998295 210.800984 \r\nL 136.072676 210.674982 \r\nL 139.147056 211.968785 \r\nL 142.221436 212.901104 \r\nL 145.295816 212.616372 \r\nL 148.370196 214.039796 \r\nL 151.444576 215.402595 \r\nL 154.518957 215.920407 \r\nL 157.593337 216.60718 \r\nL 160.667717 217.163688 \r\nL 163.742097 217.013831 \r\nL 166.816477 216.840206 \r\nL 169.890857 218.489563 \r\nL 172.965238 218.423391 \r\nL 176.039618 219.401252 \r\nL 179.113998 219.908916 \r\nL 182.188378 219.745187 \r\nL 185.262758 220.719285 \r\nL 188.337138 220.420066 \r\nL 191.411519 221.620106 \r\nL 194.485899 220.033305 \r\nL 197.560279 221.354854 \r\nL 200.634659 222.87916 \r\nL 203.709039 223.05598 \r\nL 206.783419 222.840305 \r\nL 209.8578 224.056295 \r\nL 212.93218 224.381912 \r\nL 216.00656 224.367582 \r\nL 219.08094 225.130843 \r\nL 222.15532 225.482215 \r\nL 225.2297 225.852552 \r\nL 228.304081 226.05722 \r\nL 231.378461 226.234227 \r\nL 234.452841 226.240226 \r\nL 237.527221 226.523727 \r\nL 240.601601 226.9684 \r\nL 243.675981 226.573903 \r\nL 246.750362 227.069365 \r\nL 249.824742 227.440023 \r\nL 252.899122 227.341142 \r\nL 255.973502 227.485559 \r\nL 259.047882 227.839451 \r\nL 262.122262 227.830943 \r\nL 265.196643 227.80704 \r\nL 268.271023 228.200851 \r\nL 271.345403 228.3162 \r\nL 274.419783 228.371408 \r\nL 277.494163 228.513376 \r\nL 280.568543 228.448833 \r\nL 283.642924 228.649164 \r\nL 286.717304 228.743645 \r\nL 289.791684 228.943103 \r\nL 292.866064 228.822083 \r\nL 295.940444 228.771981 \r\nL 299.014824 229.010189 \r\nL 302.089205 228.982905 \r\nL 305.163585 229.137867 \r\nL 308.237965 229.062213 \r\nL 311.312345 229.028049 \r\nL 314.386725 229.338945 \r\nL 317.461105 229.376989 \r\nL 320.535486 229.302188 \r\nL 323.609866 229.372095 \r\nL 326.684246 229.42387 \r\nL 329.758626 229.541909 \r\nL 332.833006 229.474405 \r\nL 335.907386 229.619026 \r\nL 338.981767 229.581577 \r\nL 342.056147 229.451871 \r\nL 345.130527 229.667098 \r\nL 348.204907 229.703179 \r\nL 351.279287 229.572185 \r\nL 354.353667 229.815366 \r\nL 357.428048 229.728991 \r\nL 360.502428 229.826363 \r\nL 363.576808 229.711376 \r\nL 366.651188 229.871645 \r\nL 369.725568 229.874489 \r\n\" style=\"fill:none;stroke:#1f77b4;stroke-linecap:square;stroke-width:1.5;\"/>\r\n   </g>\r\n   <g id=\"line2d_30\">\r\n    <path clip-path=\"url(#p77b249795d)\" d=\"M 65.361932 32.201761 \r\nL 68.436312 48.808209 \r\nL 71.510692 84.852134 \r\nL 74.585072 112.935335 \r\nL 77.659452 139.256989 \r\nL 80.733833 164.532808 \r\nL 83.808213 173.850697 \r\nL 86.882593 173.830354 \r\nL 89.956973 173.255718 \r\nL 93.031353 180.625211 \r\nL 96.105733 181.17808 \r\nL 99.180114 182.22649 \r\nL 102.254494 182.496173 \r\nL 105.328874 178.849906 \r\nL 108.403254 182.580452 \r\nL 111.477634 180.895014 \r\nL 114.552014 190.249553 \r\nL 117.626395 190.899883 \r\nL 120.700775 176.61714 \r\nL 123.775155 192.124141 \r\nL 126.849535 186.759145 \r\nL 129.923915 191.687384 \r\nL 132.998295 189.288386 \r\nL 136.072676 185.346762 \r\nL 139.147056 182.630699 \r\nL 142.221436 189.412354 \r\nL 145.295816 186.212031 \r\nL 148.370196 185.738458 \r\nL 151.444576 193.472332 \r\nL 154.518957 190.468767 \r\nL 157.593337 190.309582 \r\nL 160.667717 194.675237 \r\nL 163.742097 191.926071 \r\nL 166.816477 190.328406 \r\nL 169.890857 188.302194 \r\nL 172.965238 188.638357 \r\nL 176.039618 194.835198 \r\nL 179.113998 188.910495 \r\nL 182.188378 195.887335 \r\nL 185.262758 199.439272 \r\nL 188.337138 205.188268 \r\nL 191.411519 190.266783 \r\nL 194.485899 195.134644 \r\nL 197.560279 196.514875 \r\nL 200.634659 204.487463 \r\nL 203.709039 198.712423 \r\nL 206.783419 190.251707 \r\nL 209.8578 194.09338 \r\nL 212.93218 196.03463 \r\nL 216.00656 200.075061 \r\nL 219.08094 195.867749 \r\nL 222.15532 196.839066 \r\nL 225.2297 198.046561 \r\nL 228.304081 195.283538 \r\nL 231.378461 197.768622 \r\nL 234.452841 201.963414 \r\nL 237.527221 198.131718 \r\nL 240.601601 196.781988 \r\nL 243.675981 202.121528 \r\nL 246.750362 200.607307 \r\nL 249.824742 201.19833 \r\nL 252.899122 199.403565 \r\nL 255.973502 197.862116 \r\nL 259.047882 202.540961 \r\nL 262.122262 197.017911 \r\nL 265.196643 199.781818 \r\nL 268.271023 199.265432 \r\nL 271.345403 202.561263 \r\nL 274.419783 199.514605 \r\nL 277.494163 202.306563 \r\nL 280.568543 198.566635 \r\nL 283.642924 201.306071 \r\nL 286.717304 200.811131 \r\nL 289.791684 199.744359 \r\nL 292.866064 200.762932 \r\nL 295.940444 200.898248 \r\nL 299.014824 201.698924 \r\nL 302.089205 201.078337 \r\nL 305.163585 201.38661 \r\nL 308.237965 201.66194 \r\nL 311.312345 200.616929 \r\nL 314.386725 200.241841 \r\nL 317.461105 200.67542 \r\nL 320.535486 200.707419 \r\nL 323.609866 199.324144 \r\nL 326.684246 201.496197 \r\nL 329.758626 200.879405 \r\nL 332.833006 201.013416 \r\nL 335.907386 200.994713 \r\nL 338.981767 202.131198 \r\nL 342.056147 200.755752 \r\nL 345.130527 200.621954 \r\nL 348.204907 201.078558 \r\nL 351.279287 199.937544 \r\nL 354.353667 202.034384 \r\nL 357.428048 201.294354 \r\nL 360.502428 200.619686 \r\nL 363.576808 200.950649 \r\nL 366.651188 201.103605 \r\nL 369.725568 201.390993 \r\n\" style=\"fill:none;stroke:#ff7f0e;stroke-linecap:square;stroke-width:1.5;\"/>\r\n   </g>\r\n   <g id=\"patch_3\">\r\n    <path d=\"M 50.14375 239.758125 \r\nL 50.14375 22.318125 \r\n\" style=\"fill:none;stroke:#000000;stroke-linecap:square;stroke-linejoin:miter;stroke-width:0.8;\"/>\r\n   </g>\r\n   <g id=\"patch_4\">\r\n    <path d=\"M 384.94375 239.758125 \r\nL 384.94375 22.318125 \r\n\" style=\"fill:none;stroke:#000000;stroke-linecap:square;stroke-linejoin:miter;stroke-width:0.8;\"/>\r\n   </g>\r\n   <g id=\"patch_5\">\r\n    <path d=\"M 50.14375 239.758125 \r\nL 384.94375 239.758125 \r\n\" style=\"fill:none;stroke:#000000;stroke-linecap:square;stroke-linejoin:miter;stroke-width:0.8;\"/>\r\n   </g>\r\n   <g id=\"patch_6\">\r\n    <path d=\"M 50.14375 22.318125 \r\nL 384.94375 22.318125 \r\n\" style=\"fill:none;stroke:#000000;stroke-linecap:square;stroke-linejoin:miter;stroke-width:0.8;\"/>\r\n   </g>\r\n   <g id=\"text_17\">\r\n    <!-- model loss -->\r\n    <g transform=\"translate(185.364063 16.318125)scale(0.12 -0.12)\">\r\n     <defs>\r\n      <path d=\"M 52 44.1875 \r\nQ 55.375 50.25 60.0625 53.125 \r\nQ 64.75 56 71.09375 56 \r\nQ 79.640625 56 84.28125 50.015625 \r\nQ 88.921875 44.046875 88.921875 33.015625 \r\nL 88.921875 0 \r\nL 79.890625 0 \r\nL 79.890625 32.71875 \r\nQ 79.890625 40.578125 77.09375 44.375 \r\nQ 74.3125 48.1875 68.609375 48.1875 \r\nQ 61.625 48.1875 57.5625 43.546875 \r\nQ 53.515625 38.921875 53.515625 30.90625 \r\nL 53.515625 0 \r\nL 44.484375 0 \r\nL 44.484375 32.71875 \r\nQ 44.484375 40.625 41.703125 44.40625 \r\nQ 38.921875 48.1875 33.109375 48.1875 \r\nQ 26.21875 48.1875 22.15625 43.53125 \r\nQ 18.109375 38.875 18.109375 30.90625 \r\nL 18.109375 0 \r\nL 9.078125 0 \r\nL 9.078125 54.6875 \r\nL 18.109375 54.6875 \r\nL 18.109375 46.1875 \r\nQ 21.1875 51.21875 25.484375 53.609375 \r\nQ 29.78125 56 35.6875 56 \r\nQ 41.65625 56 45.828125 52.96875 \r\nQ 50 49.953125 52 44.1875 \r\nz\r\n\" id=\"DejaVuSans-109\"/>\r\n      <path d=\"M 45.40625 46.390625 \r\nL 45.40625 75.984375 \r\nL 54.390625 75.984375 \r\nL 54.390625 0 \r\nL 45.40625 0 \r\nL 45.40625 8.203125 \r\nQ 42.578125 3.328125 38.25 0.953125 \r\nQ 33.9375 -1.421875 27.875 -1.421875 \r\nQ 17.96875 -1.421875 11.734375 6.484375 \r\nQ 5.515625 14.40625 5.515625 27.296875 \r\nQ 5.515625 40.1875 11.734375 48.09375 \r\nQ 17.96875 56 27.875 56 \r\nQ 33.9375 56 38.25 53.625 \r\nQ 42.578125 51.265625 45.40625 46.390625 \r\nz\r\nM 14.796875 27.296875 \r\nQ 14.796875 17.390625 18.875 11.75 \r\nQ 22.953125 6.109375 30.078125 6.109375 \r\nQ 37.203125 6.109375 41.296875 11.75 \r\nQ 45.40625 17.390625 45.40625 27.296875 \r\nQ 45.40625 37.203125 41.296875 42.84375 \r\nQ 37.203125 48.484375 30.078125 48.484375 \r\nQ 22.953125 48.484375 18.875 42.84375 \r\nQ 14.796875 37.203125 14.796875 27.296875 \r\nz\r\n\" id=\"DejaVuSans-100\"/>\r\n      <path id=\"DejaVuSans-32\"/>\r\n     </defs>\r\n     <use xlink:href=\"#DejaVuSans-109\"/>\r\n     <use x=\"97.412109\" xlink:href=\"#DejaVuSans-111\"/>\r\n     <use x=\"158.59375\" xlink:href=\"#DejaVuSans-100\"/>\r\n     <use x=\"222.070312\" xlink:href=\"#DejaVuSans-101\"/>\r\n     <use x=\"283.59375\" xlink:href=\"#DejaVuSans-108\"/>\r\n     <use x=\"311.376953\" xlink:href=\"#DejaVuSans-32\"/>\r\n     <use x=\"343.164062\" xlink:href=\"#DejaVuSans-108\"/>\r\n     <use x=\"370.947266\" xlink:href=\"#DejaVuSans-111\"/>\r\n     <use x=\"432.128906\" xlink:href=\"#DejaVuSans-115\"/>\r\n     <use x=\"484.228516\" xlink:href=\"#DejaVuSans-115\"/>\r\n    </g>\r\n   </g>\r\n   <g id=\"legend_1\">\r\n    <g id=\"patch_7\">\r\n     <path d=\"M 322.66875 59.674375 \r\nL 377.94375 59.674375 \r\nQ 379.94375 59.674375 379.94375 57.674375 \r\nL 379.94375 29.318125 \r\nQ 379.94375 27.318125 377.94375 27.318125 \r\nL 322.66875 27.318125 \r\nQ 320.66875 27.318125 320.66875 29.318125 \r\nL 320.66875 57.674375 \r\nQ 320.66875 59.674375 322.66875 59.674375 \r\nz\r\n\" style=\"fill:#ffffff;opacity:0.8;stroke:#cccccc;stroke-linejoin:miter;\"/>\r\n    </g>\r\n    <g id=\"line2d_31\">\r\n     <path d=\"M 324.66875 35.416562 \r\nL 344.66875 35.416562 \r\n\" style=\"fill:none;stroke:#1f77b4;stroke-linecap:square;stroke-width:1.5;\"/>\r\n    </g>\r\n    <g id=\"line2d_32\"/>\r\n    <g id=\"text_18\">\r\n     <!-- train -->\r\n     <g transform=\"translate(352.66875 38.916562)scale(0.1 -0.1)\">\r\n      <defs>\r\n       <path d=\"M 18.3125 70.21875 \r\nL 18.3125 54.6875 \r\nL 36.8125 54.6875 \r\nL 36.8125 47.703125 \r\nL 18.3125 47.703125 \r\nL 18.3125 18.015625 \r\nQ 18.3125 11.328125 20.140625 9.421875 \r\nQ 21.96875 7.515625 27.59375 7.515625 \r\nL 36.8125 7.515625 \r\nL 36.8125 0 \r\nL 27.59375 0 \r\nQ 17.1875 0 13.234375 3.875 \r\nQ 9.28125 7.765625 9.28125 18.015625 \r\nL 9.28125 47.703125 \r\nL 2.6875 47.703125 \r\nL 2.6875 54.6875 \r\nL 9.28125 54.6875 \r\nL 9.28125 70.21875 \r\nz\r\n\" id=\"DejaVuSans-116\"/>\r\n       <path d=\"M 41.109375 46.296875 \r\nQ 39.59375 47.171875 37.8125 47.578125 \r\nQ 36.03125 48 33.890625 48 \r\nQ 26.265625 48 22.1875 43.046875 \r\nQ 18.109375 38.09375 18.109375 28.8125 \r\nL 18.109375 0 \r\nL 9.078125 0 \r\nL 9.078125 54.6875 \r\nL 18.109375 54.6875 \r\nL 18.109375 46.1875 \r\nQ 20.953125 51.171875 25.484375 53.578125 \r\nQ 30.03125 56 36.53125 56 \r\nQ 37.453125 56 38.578125 55.875 \r\nQ 39.703125 55.765625 41.0625 55.515625 \r\nz\r\n\" id=\"DejaVuSans-114\"/>\r\n       <path d=\"M 34.28125 27.484375 \r\nQ 23.390625 27.484375 19.1875 25 \r\nQ 14.984375 22.515625 14.984375 16.5 \r\nQ 14.984375 11.71875 18.140625 8.90625 \r\nQ 21.296875 6.109375 26.703125 6.109375 \r\nQ 34.1875 6.109375 38.703125 11.40625 \r\nQ 43.21875 16.703125 43.21875 25.484375 \r\nL 43.21875 27.484375 \r\nz\r\nM 52.203125 31.203125 \r\nL 52.203125 0 \r\nL 43.21875 0 \r\nL 43.21875 8.296875 \r\nQ 40.140625 3.328125 35.546875 0.953125 \r\nQ 30.953125 -1.421875 24.3125 -1.421875 \r\nQ 15.921875 -1.421875 10.953125 3.296875 \r\nQ 6 8.015625 6 15.921875 \r\nQ 6 25.140625 12.171875 29.828125 \r\nQ 18.359375 34.515625 30.609375 34.515625 \r\nL 43.21875 34.515625 \r\nL 43.21875 35.40625 \r\nQ 43.21875 41.609375 39.140625 45 \r\nQ 35.0625 48.390625 27.6875 48.390625 \r\nQ 23 48.390625 18.546875 47.265625 \r\nQ 14.109375 46.140625 10.015625 43.890625 \r\nL 10.015625 52.203125 \r\nQ 14.9375 54.109375 19.578125 55.046875 \r\nQ 24.21875 56 28.609375 56 \r\nQ 40.484375 56 46.34375 49.84375 \r\nQ 52.203125 43.703125 52.203125 31.203125 \r\nz\r\n\" id=\"DejaVuSans-97\"/>\r\n       <path d=\"M 9.421875 54.6875 \r\nL 18.40625 54.6875 \r\nL 18.40625 0 \r\nL 9.421875 0 \r\nz\r\nM 9.421875 75.984375 \r\nL 18.40625 75.984375 \r\nL 18.40625 64.59375 \r\nL 9.421875 64.59375 \r\nz\r\n\" id=\"DejaVuSans-105\"/>\r\n       <path d=\"M 54.890625 33.015625 \r\nL 54.890625 0 \r\nL 45.90625 0 \r\nL 45.90625 32.71875 \r\nQ 45.90625 40.484375 42.875 44.328125 \r\nQ 39.84375 48.1875 33.796875 48.1875 \r\nQ 26.515625 48.1875 22.3125 43.546875 \r\nQ 18.109375 38.921875 18.109375 30.90625 \r\nL 18.109375 0 \r\nL 9.078125 0 \r\nL 9.078125 54.6875 \r\nL 18.109375 54.6875 \r\nL 18.109375 46.1875 \r\nQ 21.34375 51.125 25.703125 53.5625 \r\nQ 30.078125 56 35.796875 56 \r\nQ 45.21875 56 50.046875 50.171875 \r\nQ 54.890625 44.34375 54.890625 33.015625 \r\nz\r\n\" id=\"DejaVuSans-110\"/>\r\n      </defs>\r\n      <use xlink:href=\"#DejaVuSans-116\"/>\r\n      <use x=\"39.208984\" xlink:href=\"#DejaVuSans-114\"/>\r\n      <use x=\"80.322266\" xlink:href=\"#DejaVuSans-97\"/>\r\n      <use x=\"141.601562\" xlink:href=\"#DejaVuSans-105\"/>\r\n      <use x=\"169.384766\" xlink:href=\"#DejaVuSans-110\"/>\r\n     </g>\r\n    </g>\r\n    <g id=\"line2d_33\">\r\n     <path d=\"M 324.66875 50.094687 \r\nL 344.66875 50.094687 \r\n\" style=\"fill:none;stroke:#ff7f0e;stroke-linecap:square;stroke-width:1.5;\"/>\r\n    </g>\r\n    <g id=\"line2d_34\"/>\r\n    <g id=\"text_19\">\r\n     <!-- test -->\r\n     <g transform=\"translate(352.66875 53.594687)scale(0.1 -0.1)\">\r\n      <use xlink:href=\"#DejaVuSans-116\"/>\r\n      <use x=\"39.208984\" xlink:href=\"#DejaVuSans-101\"/>\r\n      <use x=\"100.732422\" xlink:href=\"#DejaVuSans-115\"/>\r\n      <use x=\"152.832031\" xlink:href=\"#DejaVuSans-116\"/>\r\n     </g>\r\n    </g>\r\n   </g>\r\n  </g>\r\n </g>\r\n <defs>\r\n  <clipPath id=\"p77b249795d\">\r\n   <rect height=\"217.44\" width=\"334.8\" x=\"50.14375\" y=\"22.318125\"/>\r\n  </clipPath>\r\n </defs>\r\n</svg>\r\n",
      "image/png": "[encoded data removed]"
     },
     "metadata": {
      "needs_background": "light"
     }
    }
   ],
   "source": [
    "# summarize history for loss \n",
    "plt.plot(history.epoch, history.history['loss'])\n",
    "plt.plot(history.epoch, history.history['val_loss'])\n",
    "plt.title('model loss')\n",
    "plt.ylabel('loss')\n",
    "plt.xlabel('epoch')\n",
    "plt.grid(True)\n",
    "plt.legend(['train', 'test'], loc='upper right') \n",
    "# plt.savefig(\"./result/model_loss_100.svg\")\n",
    "plt.show()"
   ]
  },
  {
   "cell_type": "code",
   "execution_count": null,
   "metadata": {},
   "outputs": [],
   "source": []
  },
  {
   "cell_type": "code",
   "execution_count": null,
   "metadata": {},
   "outputs": [],
   "source": []
  },
  {
   "cell_type": "code",
   "execution_count": null,
   "metadata": {},
   "outputs": [],
   "source": []
  }
 ],
 "metadata": {
  "kernelspec": {
   "name": "python3",
   "display_name": "Python 3.8.6 64-bit ('tensorflow2': conda)",
   "metadata": {
    "interpreter": {
     "hash": "9ecbc95d31df1b277e5ec566a835865c3a9a253da4266404bdbc6ee7e31406f4"
    }
   }
  },
  "language_info": {
   "codemirror_mode": {
    "name": "ipython",
    "version": 3
   },
   "file_extension": ".py",
   "mimetype": "text/x-python",
   "name": "python",
   "nbconvert_exporter": "python",
   "pygments_lexer": "ipython3",
   "version": "3.8.6-final"
  }
 },
 "nbformat": 4,
 "nbformat_minor": 4
}