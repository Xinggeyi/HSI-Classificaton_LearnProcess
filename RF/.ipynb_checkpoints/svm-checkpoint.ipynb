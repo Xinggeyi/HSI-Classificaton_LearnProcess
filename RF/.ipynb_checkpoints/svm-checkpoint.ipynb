{
 "cells": [
  {
   "cell_type": "code",
   "execution_count": 1,
   "metadata": {},
   "outputs": [],
   "source": [
    "from sklearn.neighbors import KNeighborsClassifier\n",
    "from sklearn.svm import SVC\n",
    "import numpy as np\n",
    "import scipy.io as sio\n",
    "import random\n",
    "import matplotlib.pyplot as plt\n",
    "import os"
   ]
  },
  {
   "cell_type": "markdown",
   "metadata": {},
   "source": [
    "# 一、导入数据加数据处理阶段"
   ]
  },
  {
   "cell_type": "code",
   "execution_count": 2,
   "metadata": {},
   "outputs": [],
   "source": [
    "# 导入数据\n",
    "path = os.path.join(\"F:\\deeplearning\\hyperspectral_datasets\")\n",
    "PaviaU = os.path.join(path,'paviaU.mat')\n",
    "PaviaU_gt = os.path.join(path,'paviaU_gt.mat')\n",
    "method_path = 'SVM'"
   ]
  },
  {
   "cell_type": "code",
   "execution_count": 3,
   "metadata": {},
   "outputs": [],
   "source": [
    "# 加载数据，返回值为一个字典内嵌ndarray的数据结构\n",
    "data = sio.loadmat(PaviaU)\n",
    "data_gt = sio.loadmat(PaviaU_gt)\n",
    "im = data['data']  # im为样本点的光谱值的ndarray\n",
    "imGIS = data_gt['groundT']  # imGIS样本点的标签值组成的ndarray"
   ]
  },
  {
   "cell_type": "code",
   "execution_count": 4,
   "metadata": {},
   "outputs": [],
   "source": [
    "# 归一化，这个归一化的方法有点不一样\n",
    "im = (im - float(np.min(im)))\n",
    "im = im/np.max(im)"
   ]
  },
  {
   "cell_type": "code",
   "execution_count": 167,
   "metadata": {},
   "outputs": [
    {
     "data": {
      "text/plain": [
       "9"
      ]
     },
     "execution_count": 167,
     "metadata": {},
     "output_type": "execute_result"
    }
   ],
   "source": [
    "im.shape  # (610, 340, 103)\n",
    "imGIS.shape  # (610, 340)\n",
    "np.max(imGIS)"
   ]
  },
  {
   "cell_type": "code",
   "execution_count": 13,
   "metadata": {},
   "outputs": [],
   "source": [
    "# 参数设置\n",
    "# 训练数据集的个数200, deepth为通道数103，classes为类别数\n",
    "sample_num = 200\n",
    "deepth = im.shape[2]\n",
    "classes = np.max(imGIS)\n"
   ]
  },
  {
   "cell_type": "code",
   "execution_count": 14,
   "metadata": {},
   "outputs": [],
   "source": [
    "# 只对一个通道遍历所有的标签值，对每一个标签值进行分类组合，\n",
    "# 得到{1类：对应点坐标位置列表，2类：对应的坐标位置列表；等等}\n",
    "# pos  ->  position\n",
    "\n",
    "data_pos = {}\n",
    "train_pos = {}\n",
    "test_pos = {}\n",
    "\n",
    "for i in range(1,classes+1):\n",
    "    data_pos[i]=[]\n",
    "    train_pos[i]=[]\n",
    "    test_pos[i] = []\n",
    "\n",
    "# 构造一个总的data_pos\n",
    "for i in range(imGIS.shape[0]):\n",
    "    for j in range(imGIS.shape[1]):\n",
    "        for k in range(1,classes+1):\n",
    "            if imGIS[i,j]==k:\n",
    "                data_pos[k].append([i,j])\n",
    "                continue"
   ]
  },
  {
   "cell_type": "code",
   "execution_count": 23,
   "metadata": {},
   "outputs": [
    {
     "data": {
      "text/plain": [
       "dict_keys([1, 2, 3, 4, 5, 6, 7, 8, 9])"
      ]
     },
     "execution_count": 23,
     "metadata": {},
     "output_type": "execute_result"
    }
   ],
   "source": [
    "data_pos.keys()"
   ]
  },
  {
   "cell_type": "code",
   "execution_count": 25,
   "metadata": {},
   "outputs": [
    {
     "data": {
      "text/plain": [
       "[[0, 91],\n",
       " [0, 92],\n",
       " [0, 93],\n",
       " [0, 94],\n",
       " [0, 95],\n",
       " [0, 96],\n",
       " [0, 97],\n",
       " [0, 98],\n",
       " [0, 112],\n",
       " [0, 113]]"
      ]
     },
     "execution_count": 25,
     "metadata": {},
     "output_type": "execute_result"
    }
   ],
   "source": [
    "# 查看信息\n",
    "# 取出键为1的ndarray 中的前10个数，也就是标签为1的前10个像素是位置坐标位置\n",
    "data_pos[1][:10]"
   ]
  },
  {
   "cell_type": "code",
   "execution_count": 110,
   "metadata": {},
   "outputs": [],
   "source": [
    "# for k,v in data_pos.items():\n",
    "#     print(len(v))"
   ]
  },
  {
   "cell_type": "code",
   "execution_count": 26,
   "metadata": {},
   "outputs": [],
   "source": [
    "# 取出测试集和训练集,此过程后训练集和测试集为字典，和上面构造data_pos类似\n",
    "for i in range(1,classes+1):\n",
    "    # Returns a new list containing elements from the population while\n",
    "    #         leaving the original population unchanged. 大小为sample_num\n",
    "    indexies = random.sample(range(len(data_pos[i])),sample_num)\n",
    "    for k in range(len(data_pos[i])):\n",
    "        if k not in indexies:\n",
    "            test_pos[i].append(data_pos[i][k])\n",
    "        else:\n",
    "            train_pos[i].append(data_pos[i][k])"
   ]
  },
  {
   "cell_type": "code",
   "execution_count": 109,
   "metadata": {},
   "outputs": [],
   "source": [
    "# for k,v in test_pos.items():\n",
    "#     print(len(v))"
   ]
  },
  {
   "cell_type": "code",
   "execution_count": 115,
   "metadata": {},
   "outputs": [
    {
     "data": {
      "text/plain": [
       "[[1, 91],\n",
       " [1, 115],\n",
       " [6, 100],\n",
       " [6, 109],\n",
       " [8, 111],\n",
       " [9, 108],\n",
       " [10, 111],\n",
       " [15, 103],\n",
       " [22, 95],\n",
       " [23, 95]]"
      ]
     },
     "execution_count": 115,
     "metadata": {},
     "output_type": "execute_result"
    }
   ],
   "source": [
    "len(train_pos)  #9\n",
    "len(train_pos[2])  # 200\n",
    "# type(train_pos) dict 123456789\n",
    "train_pos[1][:10]  "
   ]
  },
  {
   "cell_type": "code",
   "execution_count": 66,
   "metadata": {},
   "outputs": [],
   "source": [
    "# 将位置信息转化光谱值信息，即将坐标值转化为其对应的光谱值，此过程得到一个为列表\n",
    "# 准确的说是列表内嵌套ndarray的结构，ndarray有 1 维，个数103\n",
    "train = []   # 训练样本的总个数，每个类别分别有200个样本，总共有1800个样本\n",
    "train_label = []\n",
    "test = []\n",
    "test_label = []\n",
    "\n",
    "for i in range(1,len(train_pos)+1):   # 9个类\n",
    "    for j in range(len(train_pos[i])):   # 200个样本\n",
    "        row,col = train_pos[i][j]\n",
    "        train.append(im[row,col])   #### 一下子传入103维 ####\n",
    "        train_label.append(i)\n",
    "        \n",
    "for i in range(1,len(test_pos)+1):\n",
    "    for j in range(len(test_pos[i])):\n",
    "        row,col = test_pos[i][j]\n",
    "        test.append(im[row,col])\n",
    "        test_label.append(i)"
   ]
  },
  {
   "cell_type": "code",
   "execution_count": 118,
   "metadata": {},
   "outputs": [
    {
     "data": {
      "text/plain": [
       "(103,)"
      ]
     },
     "execution_count": 118,
     "metadata": {},
     "output_type": "execute_result"
    }
   ],
   "source": [
    "len(train) # 1800\n",
    "len(train_label)  # 1800\n",
    "type(train)  # list\n",
    "len(test)  # 40976\n",
    "type(test)  # list\n",
    "train[1].shape  # list 中的第一个训练集"
   ]
  },
  {
   "cell_type": "code",
   "execution_count": 68,
   "metadata": {},
   "outputs": [],
   "source": [
    "# 创建 result 文件夹，用于存放未来的输出的结果\n",
    "if not os.path.exists(os.path.join(method_path,'result')):\n",
    "    os.makedirs(os.path.join(method_path,'result'))"
   ]
  },
  {
   "cell_type": "markdown",
   "metadata": {},
   "source": [
    "# 二、建立模型和模型训练阶段"
   ]
  },
  {
   "cell_type": "code",
   "execution_count": 121,
   "metadata": {},
   "outputs": [],
   "source": [
    "# 处理数据完成，现在开始应用sklearning\n",
    "clf = SVC(C=100,kernel='rbf',gamma=1)  # 实例化\n",
    "train = np.asarray(train)\n",
    "train_label = np.asarray(train_label)\n",
    "clf.fit(train,train_label)             # 训练\n",
    "\n",
    "\n",
    "# 构造一个类别数乘类别数的矩阵，输出结果为混淆矩阵\n",
    "C = np.max(imGIS)\n",
    "matrix = np.zeros((C,C))\n",
    "# 对所有测试像素点进行预测\n",
    "for i in range(len(test)):\n",
    "    # 增加一维然后进行预测\n",
    "    r = clf.predict(test[i].reshape(-1,len(test[i])))   # r是个可以加减的ndarray??\n",
    "    # 构建混淆矩阵\n",
    "    matrix[r-1,test_label[i]-1] += 1"
   ]
  },
  {
   "cell_type": "markdown",
   "metadata": {},
   "source": [
    "# np.array & np.asarray\n",
    "- array和asarray都可以将结构数据转化为ndarray，\n",
    "- 但是主要区别就是当数据源是ndarray时，array仍然会copy出一个副本，占用新的内存，但asarray不会。"
   ]
  },
  {
   "cell_type": "code",
   "execution_count": 125,
   "metadata": {},
   "outputs": [],
   "source": [
    "# 构建二维的特征，才能用于预测\n",
    "# test[1].reshape(-1,len(test[1]))"
   ]
  },
  {
   "cell_type": "code",
   "execution_count": 148,
   "metadata": {},
   "outputs": [
    {
     "name": "stdout",
     "output_type": "stream",
     "text": [
      "1 class: ( 5356.0 / 6431.0 ) 0.8328409267610014\n",
      "2 class: ( 17052.0 / 18449.0 ) 0.9242777386308201\n",
      "3 class: ( 1612.0 / 1899.0 ) 0.8488678251711427\n",
      "4 class: ( 2792.0 / 2864.0 ) 0.9748603351955307\n",
      "5 class: ( 1144.0 / 1145.0 ) 0.9991266375545852\n",
      "6 class: ( 4381.0 / 4829.0 ) 0.9072271691861669\n",
      "7 class: ( 1078.0 / 1130.0 ) 0.9539823008849557\n",
      "8 class: ( 3054.0 / 3482.0 ) 0.8770821367030442\n",
      "9 class: ( 747.0 / 747.0 ) 1.0\n"
     ]
    }
   ],
   "source": [
    "# 每个类别的精度\n",
    "ac_list = []\n",
    "for i in range(len(matrix)):\n",
    "    # 精度为混淆矩阵中预测正确即对角线中的个数 除 总数即一整列\n",
    "    ac = matrix[i, i] / sum(matrix[:, i])\n",
    "    ac_list.append(ac)\n",
    "    print(i+1,'class:','(', matrix[i, i], '/', sum(matrix[:, i]), ')', ac)"
   ]
  },
  {
   "cell_type": "code",
   "execution_count": 151,
   "metadata": {},
   "outputs": [
    {
     "name": "stdout",
     "output_type": "stream",
     "text": [
      "confusion matrix:\n",
      "[[ 5356    20    42     0     0    11    48    37     0]\n",
      " [   15 17052     7    68     1   374     0    19     0]\n",
      " [   88     0  1612     0     0     2     0   349     0]\n",
      " [    1   350     0  2792     0    21     0     0     0]\n",
      " [    6     0     0     1  1144    11     0     0     0]\n",
      " [   37  1022     1     3     0  4381     0    18     0]\n",
      " [  691     0     3     0     0     0  1078     5     0]\n",
      " [  237     5   234     0     0    29     4  3054     0]\n",
      " [    0     0     0     0     0     0     0     0   747]]\n"
     ]
    }
   ],
   "source": [
    "# 输出混淆矩阵\n",
    "print('confusion matrix:')\n",
    "print(matrix.astype(int))\n",
    "# print(matrix[:, 1])    # 列\n",
    "# matrix[1]      # 行"
   ]
  },
  {
   "cell_type": "code",
   "execution_count": 152,
   "metadata": {},
   "outputs": [
    {
     "name": "stdout",
     "output_type": "stream",
     "text": [
      "total right num: 37216.0\n",
      "total test num: 40976.0\n",
      "Overall accuracy: 0.9082389691526748\n"
     ]
    }
   ],
   "source": [
    "# 输出总体精度\n",
    "print('total right num:', np.sum(np.trace(matrix)))\n",
    "print('total test num:',np.sum(matrix))\n",
    "accuracy = np.sum(np.trace(matrix)) / np.sum(matrix)\n",
    "print('Overall accuracy:', accuracy)"
   ]
  },
  {
   "cell_type": "code",
   "execution_count": 153,
   "metadata": {},
   "outputs": [
    {
     "name": "stdout",
     "output_type": "stream",
     "text": [
      "Average accuracy: 0.9242516744541385\n",
      "Kappa: 0.8781493695708884\n"
     ]
    }
   ],
   "source": [
    "# 输出kappa 系数和 平均精度\n",
    "kk = 0\n",
    "for i in range(matrix.shape[0]):\n",
    "    kk += np.sum(matrix[i]) * np.sum(matrix[:, i])\n",
    "pe = kk / (np.sum(matrix) * np.sum(matrix))\n",
    "pa = np.trace(matrix) / np.sum(matrix)\n",
    "kappa = (pa - pe) / (1 - pe)\n",
    "ac_list = np.asarray(ac_list)\n",
    "aa = np.mean(ac_list)\n",
    "print('Average accuracy:',aa)\n",
    "print('Kappa:', kappa)"
   ]
  },
  {
   "cell_type": "code",
   "execution_count": 154,
   "metadata": {},
   "outputs": [],
   "source": [
    "# 将结果保存在文件中\n",
    "sio.savemat(os.path.join('result', 'result.mat'), {'oa': accuracy,'aa':aa,'kappa':kappa,'ac_list':ac_list,'matrix':matrix})"
   ]
  },
  {
   "cell_type": "markdown",
   "metadata": {},
   "source": [
    "# 绘图阶段"
   ]
  },
  {
   "cell_type": "code",
   "execution_count": 177,
   "metadata": {},
   "outputs": [],
   "source": [
    "# 绘图\n",
    "# 控制开关，False 输出原始图像，True 输出预测的图像\n",
    "# 这个预测图像是对没有标记的图像使用模型，进行预测，然后输出\n",
    "\n",
    "test_bg = False\n",
    "# test_bg = True\n",
    "\n",
    "# 输出的想的尺寸大小\n",
    "iG = np.zeros((imGIS.shape[0],imGIS.shape[1]))\n",
    "\n",
    "# 在iG尺寸中填充像素的值\n",
    "for i in range(imGIS.shape[0]):\n",
    "    for j in range(imGIS.shape[1]):\n",
    "        if imGIS[i,j] == 0:\n",
    "            # 控制输出是原图 or 预测图\n",
    "            if test_bg:\n",
    "                iG[i,j] = (clf.predict(im[i,j].reshape(-1,len(im[i,j]))))\n",
    "            else:\n",
    "                iG[i,j]=0\n",
    "        else:\n",
    "            iG[i,j] = (clf.predict(im[i,j].reshape(-1,len(im[i,j]))))"
   ]
  },
  {
   "cell_type": "code",
   "execution_count": 178,
   "metadata": {},
   "outputs": [
    {
     "data": {
      "image/png": "[encoded data removed]",
      "text/plain": [
       "<Figure size 244.8x439.2 with 1 Axes>"
      ]
     },
     "metadata": {},
     "output_type": "display_data"
    },
    {
     "name": "stdout",
     "output_type": "stream",
     "text": [
      "origin graph decode map get finished\n"
     ]
    }
   ],
   "source": [
    "# pcolor是用颜色图示数据，pcolor 实际上是画出一个个 grid，不同的数值有不同的grid\n",
    "\n",
    "de_map = iG[::-1]  # 切片，获取从后向前排列的元素\n",
    "fig, _ = plt.subplots()\n",
    "height, width = de_map.shape\n",
    "fig.set_size_inches(width/100.0, height/100.0)\n",
    "plt.gca().xaxis.set_major_locator(plt.NullLocator())\n",
    "plt.gca().yaxis.set_major_locator(plt.NullLocator())\n",
    "plt.subplots_adjust(top=1,bottom=0,left=0,right=1,hspace=0,wspace=0)\n",
    "plt.axis('off')\n",
    "plt.axis('equal')\n",
    "plt.pcolor(de_map, cmap='jet')\n",
    "plt.savefig(os.path.join('result', 'decode_map1.png'),format='png',dpi=600)#bbox_inches='tight',pad_inches=0)\n",
    "# plt.close()\n",
    "plt.show()\n",
    "print('origin graph decode map get finished')"
   ]
  },
  {
   "cell_type": "code",
   "execution_count": 179,
   "metadata": {},
   "outputs": [],
   "source": [
    "# test_bg = False\n",
    "test_bg = True\n",
    "\n",
    "# 输出的想的尺寸大小\n",
    "iG = np.zeros((imGIS.shape[0],imGIS.shape[1]))\n",
    "\n",
    "# 在iG尺寸中填充像素的值\n",
    "for i in range(imGIS.shape[0]):\n",
    "    for j in range(imGIS.shape[1]):\n",
    "        if imGIS[i,j] == 0:\n",
    "            # 控制输出是原图 or 预测图\n",
    "            if test_bg:\n",
    "                iG[i,j] = (clf.predict(im[i,j].reshape(-1,len(im[i,j]))))\n",
    "            else:\n",
    "                iG[i,j]=0\n",
    "        else:\n",
    "            iG[i,j] = (clf.predict(im[i,j].reshape(-1,len(im[i,j]))))"
   ]
  },
  {
   "cell_type": "code",
   "execution_count": 180,
   "metadata": {},
   "outputs": [
    {
     "data": {
      "image/png": "[encoded data removed]",
      "text/plain": [
       "<Figure size 244.8x439.2 with 1 Axes>"
      ]
     },
     "metadata": {},
     "output_type": "display_data"
    },
    {
     "name": "stdout",
     "output_type": "stream",
     "text": [
      "predict graph decode map get finished\n"
     ]
    }
   ],
   "source": [
    "de_map = iG[::-1]  # 切片，获取从后向前排列的元素\n",
    "fig, _ = plt.subplots()\n",
    "height, width = de_map.shape\n",
    "fig.set_size_inches(width/100.0, height/100.0)\n",
    "plt.gca().xaxis.set_major_locator(plt.NullLocator())\n",
    "plt.gca().yaxis.set_major_locator(plt.NullLocator())\n",
    "plt.subplots_adjust(top=1,bottom=0,left=0,right=1,hspace=0,wspace=0)\n",
    "plt.axis('off')\n",
    "plt.axis('equal')\n",
    "plt.pcolor(de_map, cmap='jet')\n",
    "plt.savefig(os.path.join('result', 'decode_map2.png'),format='png',dpi=600)#bbox_inches='tight',pad_inches=0)\n",
    "# plt.close()\n",
    "plt.show()\n",
    "print('predict graph decode map get finished')"
   ]
  },
  {
   "cell_type": "code",
   "execution_count": null,
   "metadata": {},
   "outputs": [],
   "source": []
  },
  {
   "cell_type": "code",
   "execution_count": null,
   "metadata": {},
   "outputs": [],
   "source": []
  },
  {
   "cell_type": "code",
   "execution_count": null,
   "metadata": {},
   "outputs": [],
   "source": []
  }
 ],
 "metadata": {
  "kernelspec": {
   "display_name": "tensorflow",
   "language": "python",
   "name": "tensorflow"
  },
  "language_info": {
   "codemirror_mode": {
    "name": "ipython",
    "version": 3
   },
   "file_extension": ".py",
   "mimetype": "text/x-python",
   "name": "python",
   "nbconvert_exporter": "python",
   "pygments_lexer": "ipython3",
   "version": "3.7.9"
  }
 },
 "nbformat": 4,
 "nbformat_minor": 4
}
