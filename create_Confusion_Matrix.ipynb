{
 "metadata": {
  "language_info": {
   "codemirror_mode": {
    "name": "ipython",
    "version": 3
   },
   "file_extension": ".py",
   "mimetype": "text/x-python",
   "name": "python",
   "nbconvert_exporter": "python",
   "pygments_lexer": "ipython3",
   "version": "3.7.9-final"
  },
  "orig_nbformat": 2,
  "kernelspec": {
   "name": "tensorflow",
   "display_name": "tensorflow"
  }
 },
 "nbformat": 4,
 "nbformat_minor": 2,
 "cells": [
  {
   "cell_type": "code",
   "execution_count": 4,
   "metadata": {},
   "outputs": [],
   "source": [
    "import numpy as np\n",
    "import matplotlib.pyplot as plt"
   ]
  },
  {
   "cell_type": "code",
   "execution_count": 6,
   "metadata": {},
   "outputs": [
    {
     "output_type": "display_data",
     "data": {
      "text/plain": "<Figure size 288x288 with 1 Axes>",
      "image/svg+xml": "<?xml version=\"1.0\" encoding=\"utf-8\" standalone=\"no\"?>\r\n<!DOCTYPE svg PUBLIC \"-//W3C//DTD SVG 1.1//EN\"\r\n  \"http://www.w3.org/Graphics/SVG/1.1/DTD/svg11.dtd\">\r\n<!-- Created with matplotlib (https://matplotlib.org/) -->\r\n<svg height=\"237.6pt\" version=\"1.1\" viewBox=\"0 0 237.6 237.6\" width=\"237.6pt\" xmlns=\"http://www.w3.org/2000/svg\" xmlns:xlink=\"http://www.w3.org/1999/xlink\">\r\n <metadata>\r\n  <rdf:RDF xmlns:cc=\"http://creativecommons.org/ns#\" xmlns:dc=\"http://purl.org/dc/elements/1.1/\" xmlns:rdf=\"http://www.w3.org/1999/02/22-rdf-syntax-ns#\">\r\n   <cc:Work>\r\n    <dc:type rdf:resource=\"http://purl.org/dc/dcmitype/StillImage\"/>\r\n    <dc:date>2020-11-01T12:28:37.056369</dc:date>\r\n    <dc:format>image/svg+xml</dc:format>\r\n    <dc:creator>\r\n     <cc:Agent>\r\n      <dc:title>Matplotlib v3.3.2, https://matplotlib.org/</dc:title>\r\n     </cc:Agent>\r\n    </dc:creator>\r\n   </cc:Work>\r\n  </rdf:RDF>\r\n </metadata>\r\n <defs>\r\n  <style type=\"text/css\">*{stroke-linecap:butt;stroke-linejoin:round;}</style>\r\n </defs>\r\n <g id=\"figure_1\">\r\n  <g id=\"patch_1\">\r\n   <path d=\"M 0 237.6 \r\nL 237.6 237.6 \r\nL 237.6 0 \r\nL 0 0 \r\nz\r\n\" style=\"fill:none;\"/>\r\n  </g>\r\n  <g id=\"axes_1\">\r\n   <g clip-path=\"url(#pae824494c7)\">\r\n    <image height=\"224\" id=\"imageb6b336aac6\" transform=\"scale(1 -1)translate(0 -224)\" width=\"224\" x=\"7.2\" xlink:href=\"data:image/png;base64,\r\niVBORw0KGgoAAAANSUhEUgAAAOAAAADgCAYAAAAaLWrhAAADdElEQVR4nO3cPWqUYRiG0XyTsTDBQksJ6gK0dgMiuAKX4VpchqWVCO4iLiCK2JkEJD+STMbSQgQt3u9KxnMWMHcG5srbPdPZ5fF6C/jN+erH8I3F8AXgjwQIIQFCSIAQEiCEBAghAUJIgBASIIQECCEBQkiAEBIghAQIIQFCSIAQEiCEBAghAUJIgBASIIQECCEBQkiAEFqurlbDR7YX28M31uvx94WnaRq+wd85+P5p+MajOw+Hb3gBISRACAkQQgKEkAAhJEAICRBCAoSQACEkQAgJEEIChJAAISRACAkQQgKEkAAhJEAICRBCAoSQACEkQAgJEEIChNB0cnE4/KLtYtL5/+Tk4nT4xu6tneEbc1AGhAQIIQFCSIAQEiCEBAghAUJIgBASIIQECCEBQkiAEBIghAQIIQFCSIAQEiCEBAghAUJIgBASIIQECCEBQkiAEFrOcTT39PJs+MbO8vbwjU2wf/hx+MaTe4+Hb2wKLyCEBAghAUJIgBASIIQECCEBQkiAEBIghAQIIQFCSIAQEiCEBAghAUJIgBASIIQECCEBQkiAEBIghAQIIQFCSIAQms4uj9f1H8EvL999Hvr5b148GPr5/BsvIIQECCEBQkiAEBIghAQIIQFCSIAQEiCEBAghAUJIgBASIIQECCEBQkiAEBIghAQIIQFCSIAQEiCEBAghAUJolrugq/XV6Imt7Wn8/5IvJ1+Hb+zt3h++wfXhBYSQACEkQAgJEEIChJAAISRACAkQQgKEkAAhJEAICRBCAoSQACEkQAgJEEIChJAAISRACAkQQgKEkAAhJEAICRBCyzlG5jia++38aPiGo7nXx9UMx54XM/xuvYAQEiCEBAghAUJIgBASIIQECCEBQkiAEBIghAQIIQFCSIAQEiCEBAghAUJIgBASIIQECCEBQkiAEBIghAQIIQFCaJbDvHefvR6+cfTh1fCNTbCa4aDtHIeY5ziaO4fN+BZwQwkQQgKEkAAhJEAICRBCAoSQACEkQAgJEEIChJAAISRACAkQQgKEkAAhJEAICRBCAoSQACEkQAgJEEIChJAAITS9PXi/Hj3yfO/p6Am4kbyAEBIghAQIIQFCSIAQEiCEBAghAUJIgBASIIQECCEBQkiAEBIghAQIIQFCSIAQEiCEBAghAUJIgBASIIQECCEBQugneKI/QWGh0bQAAAAASUVORK5CYII=\" y=\"-6.4\"/>\r\n   </g>\r\n  </g>\r\n </g>\r\n <defs>\r\n  <clipPath id=\"pae824494c7\">\r\n   <rect height=\"223.2\" width=\"223.2\" x=\"7.2\" y=\"7.2\"/>\r\n  </clipPath>\r\n </defs>\r\n</svg>\r\n",
      "image/png": "[encoded data removed]"
     },
     "metadata": {
      "needs_background": "light"
     }
    }
   ],
   "source": [
    "a = np.array(\n",
    " [[6115, 0, 14, 0, 2, 5, 43, 43, 1],\n",
    " [1, 17930, 0, 41, 0, 222, 0, 3, 0],\n",
    " [28, 5, 1772, 0, 0, 1, 0, 156, 0],\n",
    " [0, 247, 0, 2795, 0, 1, 0, 0, 0],\n",
    " [9, 0, 0, 1, 11141, 0, 0, 0, 0],\n",
    " [56, 964, 1,17, 0, 4590, 0, 9, 0],\n",
    " [173, 0, 0, 0, 2, 0, 1084, 0, 0],\n",
    " [349, 3, 112, 0, 0, 10, 3, 3271, 0],\n",
    " [0, 0, 0, 0, 0, 0, 0, 0, 746]])\n",
    "# a = a[:, np.newaxis]\n",
    "# a.astype(float)\n",
    "# plt.matshow(a, cmap=plt.cm.jet) #画混淆矩阵图，配色风格使用\n",
    "plt.matshow(a, cmap=plt.cm.GnBu) #画混淆矩阵图，配色风格使用\n",
    "plt.axis(\"off\")\n",
    "plt.show()\n",
    "# plt.savefig(r'F:\\deeplearning\\Geyi_HSI', dpi=600, format='png')"
   ]
  },
  {
   "cell_type": "code",
   "execution_count": null,
   "metadata": {},
   "outputs": [],
   "source": []
  }
 ]
}