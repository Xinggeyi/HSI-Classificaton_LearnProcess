{
 "metadata": {
  "language_info": {
   "codemirror_mode": {
    "name": "ipython",
    "version": 3
   },
   "file_extension": ".py",
   "mimetype": "text/x-python",
   "name": "python",
   "nbconvert_exporter": "python",
   "pygments_lexer": "ipython3",
   "version": "3.7.9-final"
  },
  "orig_nbformat": 2,
  "kernelspec": {
   "name": "tensorflow",
   "display_name": "tensorflow"
  }
 },
 "nbformat": 4,
 "nbformat_minor": 2,
 "cells": [
  {
   "source": [
    "# 航空公司评价数据集"
   ],
   "cell_type": "markdown",
   "metadata": {}
  },
  {
   "cell_type": "code",
   "execution_count": 1,
   "metadata": {},
   "outputs": [],
   "source": [
    "import tensorflow as tf \n",
    "from tensorflow import keras\n",
    "from tensorflow.keras import layers\n",
    "import numpy as np \n",
    "import pandas as pd "
   ]
  },
  {
   "cell_type": "code",
   "execution_count": 65,
   "metadata": {},
   "outputs": [
    {
     "output_type": "stream",
     "name": "stdout",
     "text": [
      "<class 'pandas.core.frame.DataFrame'>\nRangeIndex: 14640 entries, 0 to 14639\nData columns (total 15 columns):\n #   Column                        Non-Null Count  Dtype  \n---  ------                        --------------  -----  \n 0   tweet_id                      14640 non-null  int64  \n 1   airline_sentiment             14640 non-null  object \n 2   airline_sentiment_confidence  14640 non-null  float64\n 3   negativereason                9178 non-null   object \n 4   negativereason_confidence     10522 non-null  float64\n 5   airline                       14640 non-null  object \n 6   airline_sentiment_gold        40 non-null     object \n 7   name                          14640 non-null  object \n 8   negativereason_gold           32 non-null     object \n 9   retweet_count                 14640 non-null  int64  \n 10  text                          14640 non-null  object \n 11  tweet_coord                   1019 non-null   object \n 12  tweet_created                 14640 non-null  object \n 13  tweet_location                9907 non-null   object \n 14  user_timezone                 9820 non-null   object \ndtypes: float64(2), int64(2), object(11)\nmemory usage: 1.7+ MB\n"
     ]
    }
   ],
   "source": [
    "data = pd.read_csv('Tweets.csv')\n",
    "data.info()"
   ]
  },
  {
   "cell_type": "code",
   "execution_count": 66,
   "metadata": {},
   "outputs": [
    {
     "output_type": "execute_result",
     "data": {
      "text/plain": [
       "  airline_sentiment                                               text\n",
       "0           neutral                @VirginAmerica What @dhepburn said.\n",
       "1          positive  @VirginAmerica plus you've added commercials t...\n",
       "2           neutral  @VirginAmerica I didn't today... Must mean I n...\n",
       "3          negative  @VirginAmerica it's really aggressive to blast...\n",
       "4          negative  @VirginAmerica and it's a really big bad thing..."
      ],
      "text/html": "<div>\n<style scoped>\n    .dataframe tbody tr th:only-of-type {\n        vertical-align: middle;\n    }\n\n    .dataframe tbody tr th {\n        vertical-align: top;\n    }\n\n    .dataframe thead th {\n        text-align: right;\n    }\n</style>\n<table border=\"1\" class=\"dataframe\">\n  <thead>\n    <tr style=\"text-align: right;\">\n      <th></th>\n      <th>airline_sentiment</th>\n      <th>text</th>\n    </tr>\n  </thead>\n  <tbody>\n    <tr>\n      <th>0</th>\n      <td>neutral</td>\n      <td>@VirginAmerica What @dhepburn said.</td>\n    </tr>\n    <tr>\n      <th>1</th>\n      <td>positive</td>\n      <td>@VirginAmerica plus you've added commercials t...</td>\n    </tr>\n    <tr>\n      <th>2</th>\n      <td>neutral</td>\n      <td>@VirginAmerica I didn't today... Must mean I n...</td>\n    </tr>\n    <tr>\n      <th>3</th>\n      <td>negative</td>\n      <td>@VirginAmerica it's really aggressive to blast...</td>\n    </tr>\n    <tr>\n      <th>4</th>\n      <td>negative</td>\n      <td>@VirginAmerica and it's a really big bad thing...</td>\n    </tr>\n  </tbody>\n</table>\n</div>"
     },
     "metadata": {},
     "execution_count": 66
    }
   ],
   "source": [
    "data = data[['airline_sentiment', 'text']]\n",
    "data.head()"
   ]
  },
  {
   "cell_type": "code",
   "execution_count": 67,
   "metadata": {},
   "outputs": [
    {
     "output_type": "execute_result",
     "data": {
      "text/plain": [
       "negative    9178\n",
       "neutral     3099\n",
       "positive    2363\n",
       "Name: airline_sentiment, dtype: int64"
      ]
     },
     "metadata": {},
     "execution_count": 67
    }
   ],
   "source": [
    "# 统计标签数\n",
    "data.airline_sentiment.value_counts()"
   ]
  },
  {
   "cell_type": "code",
   "execution_count": 68,
   "metadata": {},
   "outputs": [],
   "source": [
    "data_p = data[data.airline_sentiment == 'positive']\n",
    "data_n = data[data.airline_sentiment == 'negative']"
   ]
  },
  {
   "cell_type": "code",
   "execution_count": 69,
   "metadata": {},
   "outputs": [
    {
     "output_type": "execute_result",
     "data": {
      "text/plain": [
       "(2363, 2363)"
      ]
     },
     "metadata": {},
     "execution_count": 69
    }
   ],
   "source": [
    "# 平衡正负评价比例\n",
    "data_n = data_n.iloc[:len(data_p)]\n",
    "len(data_n), len(data_p)"
   ]
  },
  {
   "cell_type": "code",
   "execution_count": 70,
   "metadata": {},
   "outputs": [
    {
     "output_type": "execute_result",
     "data": {
      "text/plain": [
       "   airline_sentiment                                               text\n",
       "3           negative  @VirginAmerica it's really aggressive to blast...\n",
       "4           negative  @VirginAmerica and it's a really big bad thing...\n",
       "5           negative  @VirginAmerica seriously would pay $30 a fligh...\n",
       "15          negative      @VirginAmerica SFO-PDX schedule is still MIA.\n",
       "17          negative  @VirginAmerica  I flew from NYC to SFO last we..."
      ],
      "text/html": "<div>\n<style scoped>\n    .dataframe tbody tr th:only-of-type {\n        vertical-align: middle;\n    }\n\n    .dataframe tbody tr th {\n        vertical-align: top;\n    }\n\n    .dataframe thead th {\n        text-align: right;\n    }\n</style>\n<table border=\"1\" class=\"dataframe\">\n  <thead>\n    <tr style=\"text-align: right;\">\n      <th></th>\n      <th>airline_sentiment</th>\n      <th>text</th>\n    </tr>\n  </thead>\n  <tbody>\n    <tr>\n      <th>3</th>\n      <td>negative</td>\n      <td>@VirginAmerica it's really aggressive to blast...</td>\n    </tr>\n    <tr>\n      <th>4</th>\n      <td>negative</td>\n      <td>@VirginAmerica and it's a really big bad thing...</td>\n    </tr>\n    <tr>\n      <th>5</th>\n      <td>negative</td>\n      <td>@VirginAmerica seriously would pay $30 a fligh...</td>\n    </tr>\n    <tr>\n      <th>15</th>\n      <td>negative</td>\n      <td>@VirginAmerica SFO-PDX schedule is still MIA.</td>\n    </tr>\n    <tr>\n      <th>17</th>\n      <td>negative</td>\n      <td>@VirginAmerica  I flew from NYC to SFO last we...</td>\n    </tr>\n  </tbody>\n</table>\n</div>"
     },
     "metadata": {},
     "execution_count": 70
    }
   ],
   "source": [
    "data = pd.concat([data_n, data_p])\n",
    "data.head()"
   ]
  },
  {
   "cell_type": "code",
   "execution_count": 71,
   "metadata": {},
   "outputs": [
    {
     "output_type": "execute_result",
     "data": {
      "text/plain": [
       "     airline_sentiment                                               text\n",
       "3245          negative  @united 50 minute wait...still at the gate wit...\n",
       "3102          negative  @united still awaiting a reply from ur custome...\n",
       "6820          positive  @JetBlue glad you like it. Feel free to steal it.\n",
       "3660          negative  @united My feedback and concerns via your site...\n",
       "5059          positive  @SouthwestAir great example of customer servic...\n",
       "...                ...                                                ...\n",
       "1394          negative  @united This is the 2nd time I was rebooked (w...\n",
       "1591          negative  @united this airline is a joke my friends been...\n",
       "3464          negative  @united please explain why I need to pay bag f...\n",
       "475           positive  @VirginAmerica Dad on Segway is the best part ...\n",
       "3507          positive               @united that's fine. I'll take them.\n",
       "\n",
       "[4726 rows x 2 columns]"
      ],
      "text/html": "<div>\n<style scoped>\n    .dataframe tbody tr th:only-of-type {\n        vertical-align: middle;\n    }\n\n    .dataframe tbody tr th {\n        vertical-align: top;\n    }\n\n    .dataframe thead th {\n        text-align: right;\n    }\n</style>\n<table border=\"1\" class=\"dataframe\">\n  <thead>\n    <tr style=\"text-align: right;\">\n      <th></th>\n      <th>airline_sentiment</th>\n      <th>text</th>\n    </tr>\n  </thead>\n  <tbody>\n    <tr>\n      <th>3245</th>\n      <td>negative</td>\n      <td>@united 50 minute wait...still at the gate wit...</td>\n    </tr>\n    <tr>\n      <th>3102</th>\n      <td>negative</td>\n      <td>@united still awaiting a reply from ur custome...</td>\n    </tr>\n    <tr>\n      <th>6820</th>\n      <td>positive</td>\n      <td>@JetBlue glad you like it. Feel free to steal it.</td>\n    </tr>\n    <tr>\n      <th>3660</th>\n      <td>negative</td>\n      <td>@united My feedback and concerns via your site...</td>\n    </tr>\n    <tr>\n      <th>5059</th>\n      <td>positive</td>\n      <td>@SouthwestAir great example of customer servic...</td>\n    </tr>\n    <tr>\n      <th>...</th>\n      <td>...</td>\n      <td>...</td>\n    </tr>\n    <tr>\n      <th>1394</th>\n      <td>negative</td>\n      <td>@united This is the 2nd time I was rebooked (w...</td>\n    </tr>\n    <tr>\n      <th>1591</th>\n      <td>negative</td>\n      <td>@united this airline is a joke my friends been...</td>\n    </tr>\n    <tr>\n      <th>3464</th>\n      <td>negative</td>\n      <td>@united please explain why I need to pay bag f...</td>\n    </tr>\n    <tr>\n      <th>475</th>\n      <td>positive</td>\n      <td>@VirginAmerica Dad on Segway is the best part ...</td>\n    </tr>\n    <tr>\n      <th>3507</th>\n      <td>positive</td>\n      <td>@united that's fine. I'll take them.</td>\n    </tr>\n  </tbody>\n</table>\n<p>4726 rows × 2 columns</p>\n</div>"
     },
     "metadata": {},
     "execution_count": 71
    }
   ],
   "source": [
    "# 乱序\n",
    "data.sample(len(data))"
   ]
  },
  {
   "cell_type": "code",
   "execution_count": 72,
   "metadata": {},
   "outputs": [],
   "source": [
    "# 将评价数据转换成数值类型\n",
    "data['review'] = (data.airline_sentiment == 'positive').astype(int)"
   ]
  },
  {
   "cell_type": "code",
   "execution_count": 73,
   "metadata": {},
   "outputs": [
    {
     "output_type": "execute_result",
     "data": {
      "text/plain": [
       "   airline_sentiment                                               text  \\\n",
       "3           negative  @VirginAmerica it's really aggressive to blast...   \n",
       "4           negative  @VirginAmerica and it's a really big bad thing...   \n",
       "5           negative  @VirginAmerica seriously would pay $30 a fligh...   \n",
       "15          negative      @VirginAmerica SFO-PDX schedule is still MIA.   \n",
       "17          negative  @VirginAmerica  I flew from NYC to SFO last we...   \n",
       "\n",
       "    review  \n",
       "3        0  \n",
       "4        0  \n",
       "5        0  \n",
       "15       0  \n",
       "17       0  "
      ],
      "text/html": "<div>\n<style scoped>\n    .dataframe tbody tr th:only-of-type {\n        vertical-align: middle;\n    }\n\n    .dataframe tbody tr th {\n        vertical-align: top;\n    }\n\n    .dataframe thead th {\n        text-align: right;\n    }\n</style>\n<table border=\"1\" class=\"dataframe\">\n  <thead>\n    <tr style=\"text-align: right;\">\n      <th></th>\n      <th>airline_sentiment</th>\n      <th>text</th>\n      <th>review</th>\n    </tr>\n  </thead>\n  <tbody>\n    <tr>\n      <th>3</th>\n      <td>negative</td>\n      <td>@VirginAmerica it's really aggressive to blast...</td>\n      <td>0</td>\n    </tr>\n    <tr>\n      <th>4</th>\n      <td>negative</td>\n      <td>@VirginAmerica and it's a really big bad thing...</td>\n      <td>0</td>\n    </tr>\n    <tr>\n      <th>5</th>\n      <td>negative</td>\n      <td>@VirginAmerica seriously would pay $30 a fligh...</td>\n      <td>0</td>\n    </tr>\n    <tr>\n      <th>15</th>\n      <td>negative</td>\n      <td>@VirginAmerica SFO-PDX schedule is still MIA.</td>\n      <td>0</td>\n    </tr>\n    <tr>\n      <th>17</th>\n      <td>negative</td>\n      <td>@VirginAmerica  I flew from NYC to SFO last we...</td>\n      <td>0</td>\n    </tr>\n  </tbody>\n</table>\n</div>"
     },
     "metadata": {},
     "execution_count": 73
    }
   ],
   "source": [
    "data.head()"
   ]
  },
  {
   "cell_type": "code",
   "execution_count": 74,
   "metadata": {},
   "outputs": [
    {
     "output_type": "execute_result",
     "data": {
      "text/plain": [
       "                                                 text  review\n",
       "3   @VirginAmerica it's really aggressive to blast...       0\n",
       "4   @VirginAmerica and it's a really big bad thing...       0\n",
       "5   @VirginAmerica seriously would pay $30 a fligh...       0\n",
       "15      @VirginAmerica SFO-PDX schedule is still MIA.       0\n",
       "17  @VirginAmerica  I flew from NYC to SFO last we...       0"
      ],
      "text/html": "<div>\n<style scoped>\n    .dataframe tbody tr th:only-of-type {\n        vertical-align: middle;\n    }\n\n    .dataframe tbody tr th {\n        vertical-align: top;\n    }\n\n    .dataframe thead th {\n        text-align: right;\n    }\n</style>\n<table border=\"1\" class=\"dataframe\">\n  <thead>\n    <tr style=\"text-align: right;\">\n      <th></th>\n      <th>text</th>\n      <th>review</th>\n    </tr>\n  </thead>\n  <tbody>\n    <tr>\n      <th>3</th>\n      <td>@VirginAmerica it's really aggressive to blast...</td>\n      <td>0</td>\n    </tr>\n    <tr>\n      <th>4</th>\n      <td>@VirginAmerica and it's a really big bad thing...</td>\n      <td>0</td>\n    </tr>\n    <tr>\n      <th>5</th>\n      <td>@VirginAmerica seriously would pay $30 a fligh...</td>\n      <td>0</td>\n    </tr>\n    <tr>\n      <th>15</th>\n      <td>@VirginAmerica SFO-PDX schedule is still MIA.</td>\n      <td>0</td>\n    </tr>\n    <tr>\n      <th>17</th>\n      <td>@VirginAmerica  I flew from NYC to SFO last we...</td>\n      <td>0</td>\n    </tr>\n  </tbody>\n</table>\n</div>"
     },
     "metadata": {},
     "execution_count": 74
    }
   ],
   "source": [
    "del data['airline_sentiment']\n",
    "data.head()"
   ]
  },
  {
   "cell_type": "code",
   "execution_count": 75,
   "metadata": {},
   "outputs": [],
   "source": [
    "# 利用正则表达式去掉刚开始的特殊符号\n",
    "import re"
   ]
  },
  {
   "cell_type": "code",
   "execution_count": 76,
   "metadata": {},
   "outputs": [],
   "source": [
    "# 只保留这些字符，其他的都去掉\n",
    "token = re.compile('[A-Za-z]+|[!?.,()]')"
   ]
  },
  {
   "cell_type": "code",
   "execution_count": 77,
   "metadata": {},
   "outputs": [],
   "source": [
    "def reg_text(text):\n",
    "    new_text = token.findall(text)\n",
    "    new_text = [word.lower() for word in new_text]\n",
    "    return new_text"
   ]
  },
  {
   "cell_type": "code",
   "execution_count": 78,
   "metadata": {},
   "outputs": [],
   "source": [
    "data['text'] = data.text.apply(reg_text)"
   ]
  },
  {
   "cell_type": "code",
   "execution_count": 79,
   "metadata": {},
   "outputs": [
    {
     "output_type": "execute_result",
     "data": {
      "text/plain": [
       "                                                 text  review\n",
       "3   [virginamerica, it, s, really, aggressive, to,...       0\n",
       "4   [virginamerica, and, it, s, a, really, big, ba...       0\n",
       "5   [virginamerica, seriously, would, pay, a, flig...       0\n",
       "15  [virginamerica, sfo, pdx, schedule, is, still,...       0\n",
       "17  [virginamerica, i, flew, from, nyc, to, sfo, l...       0"
      ],
      "text/html": "<div>\n<style scoped>\n    .dataframe tbody tr th:only-of-type {\n        vertical-align: middle;\n    }\n\n    .dataframe tbody tr th {\n        vertical-align: top;\n    }\n\n    .dataframe thead th {\n        text-align: right;\n    }\n</style>\n<table border=\"1\" class=\"dataframe\">\n  <thead>\n    <tr style=\"text-align: right;\">\n      <th></th>\n      <th>text</th>\n      <th>review</th>\n    </tr>\n  </thead>\n  <tbody>\n    <tr>\n      <th>3</th>\n      <td>[virginamerica, it, s, really, aggressive, to,...</td>\n      <td>0</td>\n    </tr>\n    <tr>\n      <th>4</th>\n      <td>[virginamerica, and, it, s, a, really, big, ba...</td>\n      <td>0</td>\n    </tr>\n    <tr>\n      <th>5</th>\n      <td>[virginamerica, seriously, would, pay, a, flig...</td>\n      <td>0</td>\n    </tr>\n    <tr>\n      <th>15</th>\n      <td>[virginamerica, sfo, pdx, schedule, is, still,...</td>\n      <td>0</td>\n    </tr>\n    <tr>\n      <th>17</th>\n      <td>[virginamerica, i, flew, from, nyc, to, sfo, l...</td>\n      <td>0</td>\n    </tr>\n  </tbody>\n</table>\n</div>"
     },
     "metadata": {},
     "execution_count": 79
    }
   ],
   "source": [
    "data.head()"
   ]
  },
  {
   "cell_type": "code",
   "execution_count": 80,
   "metadata": {},
   "outputs": [
    {
     "output_type": "execute_result",
     "data": {
      "text/plain": [
       "7100"
      ]
     },
     "metadata": {},
     "execution_count": 80
    }
   ],
   "source": [
    "# 建立set数据结构，取出重复数据的将所有数据填充进去\n",
    "word_set = set()\n",
    "for text in data.text:\n",
    "    for word in text:\n",
    "        word_set.add(word)\n",
    "len(word_set)"
   ]
  },
  {
   "cell_type": "code",
   "execution_count": 81,
   "metadata": {},
   "outputs": [],
   "source": [
    "# 给 dict 数据建立标签\n",
    "word_list = list(word_set)"
   ]
  },
  {
   "cell_type": "code",
   "execution_count": 82,
   "metadata": {},
   "outputs": [
    {
     "output_type": "execute_result",
     "data": {
      "text/plain": [
       "3132"
      ]
     },
     "metadata": {},
     "execution_count": 82
    }
   ],
   "source": [
    "word_list.index('spending')"
   ]
  },
  {
   "cell_type": "code",
   "execution_count": 83,
   "metadata": {},
   "outputs": [],
   "source": [
    "# 单词填充的时候一般从0开始，所以单词编码一般从 1 开始\n",
    "word_index = dict((word, word_list.index(word) + 1) for word in word_list)"
   ]
  },
  {
   "cell_type": "code",
   "execution_count": 84,
   "metadata": {},
   "outputs": [],
   "source": [
    "# word_index"
   ]
  },
  {
   "cell_type": "code",
   "execution_count": 86,
   "metadata": {},
   "outputs": [
    {
     "output_type": "execute_result",
     "data": {
      "text/plain": [
       "3     [6764, 255, 5349, 3644, 5487, 2288, 6518, 6871...\n",
       "4     [6764, 1837, 255, 5349, 508, 3644, 5630, 5504,...\n",
       "5     [6764, 3918, 3723, 1409, 508, 1555, 4594, 3156...\n",
       "15       [6764, 3972, 6034, 2412, 179, 6819, 390, 6485]\n",
       "17    [6764, 709, 5751, 4714, 2039, 2288, 3972, 360,...\n",
       "20    [6764, 4212, 2956, 2271, 5160, 4967, 6469, 166...\n",
       "24    [6764, 4593, 4153, 2076, 6424, 3442, 3616, 648...\n",
       "25    [6764, 458, 3373, 4379, 6485, 709, 4933, 1837,...\n",
       "26    [6764, 4882, 6388, 4685, 4241, 4580, 4043, 428...\n",
       "28    [6764, 2296, 2288, 6689, 5231, 5293, 2681, 553...\n",
       "Name: text, dtype: object"
      ]
     },
     "metadata": {},
     "execution_count": 86
    }
   ],
   "source": [
    "# 将每一个文本变成一个整数索引列表\n",
    "data_ok = data.text.apply(lambda x: [word_index.get(word, 0) for word in x])\n",
    "data_ok[:10]"
   ]
  },
  {
   "cell_type": "code",
   "execution_count": 87,
   "metadata": {},
   "outputs": [
    {
     "output_type": "execute_result",
     "data": {
      "text/plain": [
       "(25, 28)"
      ]
     },
     "metadata": {},
     "execution_count": 87
    }
   ],
   "source": [
    "len(data_ok.iloc[2]), len(data_ok.iloc[20])   # (25, 28)  评价的句子长度是不一样的，所以要进行填充\n",
    "maxlen = max(len(x) for x in data_ok)   # 找到最大的句子长度"
   ]
  },
  {
   "cell_type": "code",
   "execution_count": 34,
   "metadata": {},
   "outputs": [
    {
     "output_type": "execute_result",
     "data": {
      "text/plain": [
       "7101"
      ]
     },
     "metadata": {},
     "execution_count": 34
    }
   ],
   "source": [
    "# 最大单词数目 + 1 \n",
    "max_word = len(word_set) + 1\n",
    "max_word"
   ]
  },
  {
   "cell_type": "code",
   "execution_count": 35,
   "metadata": {},
   "outputs": [
    {
     "output_type": "execute_result",
     "data": {
      "text/plain": [
       "(4726, 40)"
      ]
     },
     "metadata": {},
     "execution_count": 35
    }
   ],
   "source": [
    "# 填充\n",
    "data_ok = keras.preprocessing.sequence.pad_sequences(data_ok.values, maxlen=maxlen)\n",
    "# 输入数据：batch，句子的长度(一个句子有多长)，句子维度(embedding)\n",
    "data_ok.shape"
   ]
  },
  {
   "cell_type": "code",
   "execution_count": 36,
   "metadata": {},
   "outputs": [
    {
     "output_type": "execute_result",
     "data": {
      "text/plain": [
       "array([0, 0, 0, ..., 1, 1, 1])"
      ]
     },
     "metadata": {},
     "execution_count": 36
    }
   ],
   "source": [
    "# 标签数据\n",
    "data.review.values"
   ]
  },
  {
   "source": [
    "# create Rnn"
   ],
   "cell_type": "markdown",
   "metadata": {}
  },
  {
   "cell_type": "code",
   "execution_count": 57,
   "metadata": {},
   "outputs": [],
   "source": [
    "model = keras.Sequential()"
   ]
  },
  {
   "cell_type": "code",
   "execution_count": 58,
   "metadata": {},
   "outputs": [],
   "source": [
    "# 把文本映射成一个密集向量，与one-hot编码相对应\n",
    "# 参数：输入文本数，映射成的密集向量的长度(自定义)，输入文本长度\n",
    "model.add(tf.keras.layers.Embedding(max_word, 50, input_length=maxlen))"
   ]
  },
  {
   "cell_type": "code",
   "execution_count": 59,
   "metadata": {},
   "outputs": [],
   "source": [
    "model.add(layers.LSTM(64))\n",
    "model.add(layers.Dense(1, activation='sigmoid'))"
   ]
  },
  {
   "cell_type": "code",
   "execution_count": 60,
   "metadata": {},
   "outputs": [
    {
     "output_type": "stream",
     "name": "stdout",
     "text": [
      "Model: \"sequential_3\"\n_________________________________________________________________\nLayer (type)                 Output Shape              Param #   \n=================================================================\nembedding_3 (Embedding)      (None, 40, 50)            355050    \n_________________________________________________________________\nlstm_4 (LSTM)                (None, 64)                29440     \n_________________________________________________________________\ndense_3 (Dense)              (None, 1)                 65        \n=================================================================\nTotal params: 384,555\nTrainable params: 384,555\nNon-trainable params: 0\n_________________________________________________________________\n"
     ]
    }
   ],
   "source": [
    "model.summary()"
   ]
  },
  {
   "cell_type": "code",
   "execution_count": 61,
   "metadata": {},
   "outputs": [],
   "source": [
    "model.compile(optimizer='adam',\n",
    "              loss='binary_crossentropy',\n",
    "              metrics=['acc']\n",
    ")"
   ]
  },
  {
   "cell_type": "code",
   "execution_count": 62,
   "metadata": {},
   "outputs": [
    {
     "output_type": "stream",
     "name": "stdout",
     "text": [
      "Epoch 1/10\n",
      "30/30 [==============================] - 2s 62ms/step - loss: 0.6165 - acc: 0.6598 - val_loss: 0.7663 - val_acc: 0.6078\n",
      "Epoch 2/10\n",
      "30/30 [==============================] - 1s 44ms/step - loss: 0.4036 - acc: 0.8434 - val_loss: 0.4290 - val_acc: 0.8520\n",
      "Epoch 3/10\n",
      "30/30 [==============================] - 1s 40ms/step - loss: 0.1959 - acc: 0.9328 - val_loss: 0.2803 - val_acc: 0.8932\n",
      "Epoch 4/10\n",
      "30/30 [==============================] - 1s 37ms/step - loss: 0.1175 - acc: 0.9627 - val_loss: 0.2491 - val_acc: 0.9207\n",
      "Epoch 5/10\n",
      "30/30 [==============================] - 1s 42ms/step - loss: 0.0764 - acc: 0.9786 - val_loss: 0.2671 - val_acc: 0.9049\n",
      "Epoch 6/10\n",
      "30/30 [==============================] - 1s 39ms/step - loss: 0.0521 - acc: 0.9839 - val_loss: 0.3225 - val_acc: 0.9080\n",
      "Epoch 7/10\n",
      "30/30 [==============================] - 1s 43ms/step - loss: 0.0351 - acc: 0.9910 - val_loss: 0.3957 - val_acc: 0.8858\n",
      "Epoch 8/10\n",
      "30/30 [==============================] - 1s 40ms/step - loss: 0.0256 - acc: 0.9944 - val_loss: 0.5277 - val_acc: 0.8626\n",
      "Epoch 9/10\n",
      "30/30 [==============================] - 1s 38ms/step - loss: 0.0186 - acc: 0.9950 - val_loss: 0.2657 - val_acc: 0.9323\n",
      "Epoch 10/10\n",
      "30/30 [==============================] - 1s 41ms/step - loss: 0.0331 - acc: 0.9921 - val_loss: 0.4378 - val_acc: 0.8753\n"
     ]
    },
    {
     "output_type": "execute_result",
     "data": {
      "text/plain": [
       "<tensorflow.python.keras.callbacks.History at 0x1c9236fa6c8>"
      ]
     },
     "metadata": {},
     "execution_count": 62
    }
   ],
   "source": [
    "model.fit(data_ok, data.review.values, epochs=10, batch_size=128, validation_split=0.2)"
   ]
  },
  {
   "cell_type": "code",
   "execution_count": null,
   "metadata": {},
   "outputs": [],
   "source": []
  },
  {
   "cell_type": "code",
   "execution_count": null,
   "metadata": {},
   "outputs": [],
   "source": []
  },
  {
   "cell_type": "code",
   "execution_count": null,
   "metadata": {},
   "outputs": [],
   "source": []
  }
 ]
}