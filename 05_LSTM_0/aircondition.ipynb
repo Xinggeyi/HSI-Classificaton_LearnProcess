{
 "metadata": {
  "language_info": {
   "codemirror_mode": {
    "name": "ipython",
    "version": 3
   },
   "file_extension": ".py",
   "mimetype": "text/x-python",
   "name": "python",
   "nbconvert_exporter": "python",
   "pygments_lexer": "ipython3",
   "version": "3.7.9-final"
  },
  "orig_nbformat": 2,
  "kernelspec": {
   "name": "python3",
   "display_name": "Python 3"
  }
 },
 "nbformat": 4,
 "nbformat_minor": 2,
 "cells": [
  {
   "cell_type": "code",
   "execution_count": 1,
   "metadata": {},
   "outputs": [],
   "source": [
    "import numpy as np \n",
    "from tensorflow.keras import layers\n",
    "from tensorflow import keras\n",
    "import pandas as pd \n",
    "import matplotlib.pyplot as plt \n",
    "%matplotlib inline"
   ]
  },
  {
   "cell_type": "code",
   "execution_count": 2,
   "metadata": {},
   "outputs": [
    {
     "output_type": "execute_result",
     "data": {
      "text/plain": [
       "   No  year  month  day  hour  pm2.5  DEWP  TEMP    PRES cbwd    Iws  Is  Ir\n",
       "0   1  2010      1    1     0    NaN   -21 -11.0  1021.0   NW   1.79   0   0\n",
       "1   2  2010      1    1     1    NaN   -21 -12.0  1020.0   NW   4.92   0   0\n",
       "2   3  2010      1    1     2    NaN   -21 -11.0  1019.0   NW   6.71   0   0\n",
       "3   4  2010      1    1     3    NaN   -21 -14.0  1019.0   NW   9.84   0   0\n",
       "4   5  2010      1    1     4    NaN   -20 -12.0  1018.0   NW  12.97   0   0"
      ],
      "text/html": "<div>\n<style scoped>\n    .dataframe tbody tr th:only-of-type {\n        vertical-align: middle;\n    }\n\n    .dataframe tbody tr th {\n        vertical-align: top;\n    }\n\n    .dataframe thead th {\n        text-align: right;\n    }\n</style>\n<table border=\"1\" class=\"dataframe\">\n  <thead>\n    <tr style=\"text-align: right;\">\n      <th></th>\n      <th>No</th>\n      <th>year</th>\n      <th>month</th>\n      <th>day</th>\n      <th>hour</th>\n      <th>pm2.5</th>\n      <th>DEWP</th>\n      <th>TEMP</th>\n      <th>PRES</th>\n      <th>cbwd</th>\n      <th>Iws</th>\n      <th>Is</th>\n      <th>Ir</th>\n    </tr>\n  </thead>\n  <tbody>\n    <tr>\n      <th>0</th>\n      <td>1</td>\n      <td>2010</td>\n      <td>1</td>\n      <td>1</td>\n      <td>0</td>\n      <td>NaN</td>\n      <td>-21</td>\n      <td>-11.0</td>\n      <td>1021.0</td>\n      <td>NW</td>\n      <td>1.79</td>\n      <td>0</td>\n      <td>0</td>\n    </tr>\n    <tr>\n      <th>1</th>\n      <td>2</td>\n      <td>2010</td>\n      <td>1</td>\n      <td>1</td>\n      <td>1</td>\n      <td>NaN</td>\n      <td>-21</td>\n      <td>-12.0</td>\n      <td>1020.0</td>\n      <td>NW</td>\n      <td>4.92</td>\n      <td>0</td>\n      <td>0</td>\n    </tr>\n    <tr>\n      <th>2</th>\n      <td>3</td>\n      <td>2010</td>\n      <td>1</td>\n      <td>1</td>\n      <td>2</td>\n      <td>NaN</td>\n      <td>-21</td>\n      <td>-11.0</td>\n      <td>1019.0</td>\n      <td>NW</td>\n      <td>6.71</td>\n      <td>0</td>\n      <td>0</td>\n    </tr>\n    <tr>\n      <th>3</th>\n      <td>4</td>\n      <td>2010</td>\n      <td>1</td>\n      <td>1</td>\n      <td>3</td>\n      <td>NaN</td>\n      <td>-21</td>\n      <td>-14.0</td>\n      <td>1019.0</td>\n      <td>NW</td>\n      <td>9.84</td>\n      <td>0</td>\n      <td>0</td>\n    </tr>\n    <tr>\n      <th>4</th>\n      <td>5</td>\n      <td>2010</td>\n      <td>1</td>\n      <td>1</td>\n      <td>4</td>\n      <td>NaN</td>\n      <td>-20</td>\n      <td>-12.0</td>\n      <td>1018.0</td>\n      <td>NW</td>\n      <td>12.97</td>\n      <td>0</td>\n      <td>0</td>\n    </tr>\n  </tbody>\n</table>\n</div>"
     },
     "metadata": {},
     "execution_count": 2
    }
   ],
   "source": [
    "data = pd.read_csv('北京空气_2010.1.1-2014.12.31.csv')\n",
    "data.head()"
   ]
  },
  {
   "cell_type": "code",
   "execution_count": 3,
   "metadata": {},
   "outputs": [
    {
     "output_type": "stream",
     "name": "stdout",
     "text": [
      "<class 'pandas.core.frame.DataFrame'>\nRangeIndex: 43824 entries, 0 to 43823\nData columns (total 13 columns):\n #   Column  Non-Null Count  Dtype  \n---  ------  --------------  -----  \n 0   No      43824 non-null  int64  \n 1   year    43824 non-null  int64  \n 2   month   43824 non-null  int64  \n 3   day     43824 non-null  int64  \n 4   hour    43824 non-null  int64  \n 5   pm2.5   41757 non-null  float64\n 6   DEWP    43824 non-null  int64  \n 7   TEMP    43824 non-null  float64\n 8   PRES    43824 non-null  float64\n 9   cbwd    43824 non-null  object \n 10  Iws     43824 non-null  float64\n 11  Is      43824 non-null  int64  \n 12  Ir      43824 non-null  int64  \ndtypes: float64(4), int64(8), object(1)\nmemory usage: 4.3+ MB\n"
     ]
    }
   ],
   "source": [
    "data.info()"
   ]
  },
  {
   "cell_type": "code",
   "execution_count": 4,
   "metadata": {},
   "outputs": [
    {
     "output_type": "execute_result",
     "data": {
      "text/plain": [
       "2067"
      ]
     },
     "metadata": {},
     "execution_count": 4
    }
   ],
   "source": [
    "# 所有为空的个数\n",
    "data['pm2.5'].isna().sum()"
   ]
  },
  {
   "cell_type": "code",
   "execution_count": 5,
   "metadata": {},
   "outputs": [],
   "source": [
    "# 使用填充法，对24个数据之后的pm2.5的缺失值填充,使用前向填充\n",
    "data = data.iloc[24:].fillna(method='ffill')"
   ]
  },
  {
   "cell_type": "code",
   "execution_count": 6,
   "metadata": {},
   "outputs": [
    {
     "output_type": "stream",
     "name": "stdout",
     "text": [
      "<class 'pandas.core.frame.DataFrame'>\nRangeIndex: 43800 entries, 24 to 43823\nData columns (total 13 columns):\n #   Column  Non-Null Count  Dtype  \n---  ------  --------------  -----  \n 0   No      43800 non-null  int64  \n 1   year    43800 non-null  int64  \n 2   month   43800 non-null  int64  \n 3   day     43800 non-null  int64  \n 4   hour    43800 non-null  int64  \n 5   pm2.5   43800 non-null  float64\n 6   DEWP    43800 non-null  int64  \n 7   TEMP    43800 non-null  float64\n 8   PRES    43800 non-null  float64\n 9   cbwd    43800 non-null  object \n 10  Iws     43800 non-null  float64\n 11  Is      43800 non-null  int64  \n 12  Ir      43800 non-null  int64  \ndtypes: float64(4), int64(8), object(1)\nmemory usage: 4.3+ MB\n"
     ]
    }
   ],
   "source": [
    "data.info()"
   ]
  },
  {
   "cell_type": "code",
   "execution_count": 7,
   "metadata": {},
   "outputs": [],
   "source": [
    "# 多列时间合并成一列，构造用于预测的\n",
    "import datetime"
   ]
  },
  {
   "cell_type": "code",
   "execution_count": 8,
   "metadata": {},
   "outputs": [
    {
     "output_type": "execute_result",
     "data": {
      "text/plain": [
       "datetime.datetime(2010, 2, 2, 1, 0)"
      ]
     },
     "metadata": {},
     "execution_count": 8
    }
   ],
   "source": [
    "datetime.datetime(year=2010, month=2, day=2, hour=1)"
   ]
  },
  {
   "cell_type": "code",
   "execution_count": 9,
   "metadata": {},
   "outputs": [],
   "source": [
    "# 按行计算\n",
    "data['tm'] = data.apply(lambda x: datetime.datetime(year=x['year'], month=x['month'], day=x['day'], hour=x['hour']), axis=1)"
   ]
  },
  {
   "cell_type": "code",
   "execution_count": 11,
   "metadata": {},
   "outputs": [],
   "source": [
    "data.drop(columns=['year', 'month', 'day', 'hour', 'No'], inplace=True)\n",
    "data = data.set_index('tm')"
   ]
  },
  {
   "cell_type": "code",
   "execution_count": 12,
   "metadata": {},
   "outputs": [
    {
     "output_type": "execute_result",
     "data": {
      "text/plain": [
       "                     pm2.5  DEWP  TEMP    PRES cbwd   Iws  Is  Ir\n",
       "tm                                                               \n",
       "2010-01-02 00:00:00  129.0   -16  -4.0  1020.0   SE  1.79   0   0\n",
       "2010-01-02 01:00:00  148.0   -15  -4.0  1020.0   SE  2.68   0   0\n",
       "2010-01-02 02:00:00  159.0   -11  -5.0  1021.0   SE  3.57   0   0\n",
       "2010-01-02 03:00:00  181.0    -7  -5.0  1022.0   SE  5.36   1   0\n",
       "2010-01-02 04:00:00  138.0    -7  -5.0  1022.0   SE  6.25   2   0"
      ],
      "text/html": "<div>\n<style scoped>\n    .dataframe tbody tr th:only-of-type {\n        vertical-align: middle;\n    }\n\n    .dataframe tbody tr th {\n        vertical-align: top;\n    }\n\n    .dataframe thead th {\n        text-align: right;\n    }\n</style>\n<table border=\"1\" class=\"dataframe\">\n  <thead>\n    <tr style=\"text-align: right;\">\n      <th></th>\n      <th>pm2.5</th>\n      <th>DEWP</th>\n      <th>TEMP</th>\n      <th>PRES</th>\n      <th>cbwd</th>\n      <th>Iws</th>\n      <th>Is</th>\n      <th>Ir</th>\n    </tr>\n    <tr>\n      <th>tm</th>\n      <th></th>\n      <th></th>\n      <th></th>\n      <th></th>\n      <th></th>\n      <th></th>\n      <th></th>\n      <th></th>\n    </tr>\n  </thead>\n  <tbody>\n    <tr>\n      <th>2010-01-02 00:00:00</th>\n      <td>129.0</td>\n      <td>-16</td>\n      <td>-4.0</td>\n      <td>1020.0</td>\n      <td>SE</td>\n      <td>1.79</td>\n      <td>0</td>\n      <td>0</td>\n    </tr>\n    <tr>\n      <th>2010-01-02 01:00:00</th>\n      <td>148.0</td>\n      <td>-15</td>\n      <td>-4.0</td>\n      <td>1020.0</td>\n      <td>SE</td>\n      <td>2.68</td>\n      <td>0</td>\n      <td>0</td>\n    </tr>\n    <tr>\n      <th>2010-01-02 02:00:00</th>\n      <td>159.0</td>\n      <td>-11</td>\n      <td>-5.0</td>\n      <td>1021.0</td>\n      <td>SE</td>\n      <td>3.57</td>\n      <td>0</td>\n      <td>0</td>\n    </tr>\n    <tr>\n      <th>2010-01-02 03:00:00</th>\n      <td>181.0</td>\n      <td>-7</td>\n      <td>-5.0</td>\n      <td>1022.0</td>\n      <td>SE</td>\n      <td>5.36</td>\n      <td>1</td>\n      <td>0</td>\n    </tr>\n    <tr>\n      <th>2010-01-02 04:00:00</th>\n      <td>138.0</td>\n      <td>-7</td>\n      <td>-5.0</td>\n      <td>1022.0</td>\n      <td>SE</td>\n      <td>6.25</td>\n      <td>2</td>\n      <td>0</td>\n    </tr>\n  </tbody>\n</table>\n</div>"
     },
     "metadata": {},
     "execution_count": 12
    }
   ],
   "source": [
    "data.head()"
   ]
  },
  {
   "cell_type": "code",
   "execution_count": 13,
   "metadata": {},
   "outputs": [
    {
     "output_type": "execute_result",
     "data": {
      "text/plain": [
       "array(['SE', 'cv', 'NW', 'NE'], dtype=object)"
      ]
     },
     "metadata": {},
     "execution_count": 13
    }
   ],
   "source": [
    "# string 变为 int\n",
    "data.cbwd.unique()"
   ]
  },
  {
   "cell_type": "code",
   "execution_count": 14,
   "metadata": {},
   "outputs": [],
   "source": [
    "# 独热编码风向\n",
    "data = data.join(pd.get_dummies(data.cbwd))"
   ]
  },
  {
   "cell_type": "code",
   "execution_count": 15,
   "metadata": {},
   "outputs": [
    {
     "output_type": "execute_result",
     "data": {
      "text/plain": [
       "                     pm2.5  DEWP  TEMP    PRES   Iws  Is  Ir  NE  NW  SE  cv\n",
       "tm                                                                          \n",
       "2010-01-02 00:00:00  129.0   -16  -4.0  1020.0  1.79   0   0   0   0   1   0\n",
       "2010-01-02 01:00:00  148.0   -15  -4.0  1020.0  2.68   0   0   0   0   1   0\n",
       "2010-01-02 02:00:00  159.0   -11  -5.0  1021.0  3.57   0   0   0   0   1   0\n",
       "2010-01-02 03:00:00  181.0    -7  -5.0  1022.0  5.36   1   0   0   0   1   0\n",
       "2010-01-02 04:00:00  138.0    -7  -5.0  1022.0  6.25   2   0   0   0   1   0"
      ],
      "text/html": "<div>\n<style scoped>\n    .dataframe tbody tr th:only-of-type {\n        vertical-align: middle;\n    }\n\n    .dataframe tbody tr th {\n        vertical-align: top;\n    }\n\n    .dataframe thead th {\n        text-align: right;\n    }\n</style>\n<table border=\"1\" class=\"dataframe\">\n  <thead>\n    <tr style=\"text-align: right;\">\n      <th></th>\n      <th>pm2.5</th>\n      <th>DEWP</th>\n      <th>TEMP</th>\n      <th>PRES</th>\n      <th>Iws</th>\n      <th>Is</th>\n      <th>Ir</th>\n      <th>NE</th>\n      <th>NW</th>\n      <th>SE</th>\n      <th>cv</th>\n    </tr>\n    <tr>\n      <th>tm</th>\n      <th></th>\n      <th></th>\n      <th></th>\n      <th></th>\n      <th></th>\n      <th></th>\n      <th></th>\n      <th></th>\n      <th></th>\n      <th></th>\n      <th></th>\n    </tr>\n  </thead>\n  <tbody>\n    <tr>\n      <th>2010-01-02 00:00:00</th>\n      <td>129.0</td>\n      <td>-16</td>\n      <td>-4.0</td>\n      <td>1020.0</td>\n      <td>1.79</td>\n      <td>0</td>\n      <td>0</td>\n      <td>0</td>\n      <td>0</td>\n      <td>1</td>\n      <td>0</td>\n    </tr>\n    <tr>\n      <th>2010-01-02 01:00:00</th>\n      <td>148.0</td>\n      <td>-15</td>\n      <td>-4.0</td>\n      <td>1020.0</td>\n      <td>2.68</td>\n      <td>0</td>\n      <td>0</td>\n      <td>0</td>\n      <td>0</td>\n      <td>1</td>\n      <td>0</td>\n    </tr>\n    <tr>\n      <th>2010-01-02 02:00:00</th>\n      <td>159.0</td>\n      <td>-11</td>\n      <td>-5.0</td>\n      <td>1021.0</td>\n      <td>3.57</td>\n      <td>0</td>\n      <td>0</td>\n      <td>0</td>\n      <td>0</td>\n      <td>1</td>\n      <td>0</td>\n    </tr>\n    <tr>\n      <th>2010-01-02 03:00:00</th>\n      <td>181.0</td>\n      <td>-7</td>\n      <td>-5.0</td>\n      <td>1022.0</td>\n      <td>5.36</td>\n      <td>1</td>\n      <td>0</td>\n      <td>0</td>\n      <td>0</td>\n      <td>1</td>\n      <td>0</td>\n    </tr>\n    <tr>\n      <th>2010-01-02 04:00:00</th>\n      <td>138.0</td>\n      <td>-7</td>\n      <td>-5.0</td>\n      <td>1022.0</td>\n      <td>6.25</td>\n      <td>2</td>\n      <td>0</td>\n      <td>0</td>\n      <td>0</td>\n      <td>1</td>\n      <td>0</td>\n    </tr>\n  </tbody>\n</table>\n</div>"
     },
     "metadata": {},
     "execution_count": 15
    }
   ],
   "source": [
    "del data['cbwd']\n",
    "data.head()"
   ]
  },
  {
   "source": [
    "# 把数据做成特征数据和目标数据"
   ],
   "cell_type": "markdown",
   "metadata": {}
  },
  {
   "cell_type": "code",
   "execution_count": null,
   "metadata": {},
   "outputs": [],
   "source": [
    "# 用pd 自带的绘图工具绘图最后1000次 pm2.5 变化情况\n",
    "data['pm2.5'][-1000:].plot()"
   ]
  },
  {
   "cell_type": "code",
   "execution_count": null,
   "metadata": {},
   "outputs": [],
   "source": [
    "data['TEMP'][-1000:].plot()"
   ]
  },
  {
   "cell_type": "code",
   "execution_count": 16,
   "metadata": {},
   "outputs": [],
   "source": [
    "# 用5天的时间，预测未来1天的数据\n",
    "# 5天的样本，一天的样本\n",
    "seq_length = 5*24\n",
    "delay = 24"
   ]
  },
  {
   "cell_type": "code",
   "execution_count": 17,
   "metadata": {},
   "outputs": [],
   "source": [
    "# 保存训练集，每6天的数据 = 一个训练样本+一个测试样本\n",
    "data_ = []\n",
    "for i in range(len(data) - seq_length - delay):\n",
    "    data_.append(data.iloc[i: i + seq_length + delay])"
   ]
  },
  {
   "cell_type": "code",
   "execution_count": 18,
   "metadata": {},
   "outputs": [
    {
     "output_type": "execute_result",
     "data": {
      "text/plain": [
       "(144, 11)"
      ]
     },
     "metadata": {},
     "execution_count": 18
    }
   ],
   "source": [
    "# 一个总的序列为144个小时，11个特征\n",
    "data_.shape"
   ]
  },
  {
   "source": [
    "# 将所有数据转化为array形式\n",
    "data_ = np.array([df.values for df in data_])\n",
    "# 数据量，一条数据的长度，特征数\n",
    "data_.shape\n",
    "\n",
    "# data_ = data_.to_numpy()  只能是pandas\n",
    "# data_.shape"
   ],
   "cell_type": "code",
   "metadata": {},
   "execution_count": 20,
   "outputs": [
    {
     "output_type": "execute_result",
     "data": {
      "text/plain": [
       "(43656, 144, 11)"
      ]
     },
     "metadata": {},
     "execution_count": 20
    }
   ]
  },
  {
   "cell_type": "code",
   "execution_count": 21,
   "metadata": {},
   "outputs": [],
   "source": [
    "np.random.shuffle(data_)"
   ]
  },
  {
   "cell_type": "code",
   "execution_count": 25,
   "metadata": {},
   "outputs": [],
   "source": [
    "# 划分样本，所有行，每5天，所有列\n",
    "x = data_[:, :5*24, :]\n",
    "# 标签为一天后的一个值\n",
    "y = data_[:, -1, 0]"
   ]
  },
  {
   "cell_type": "code",
   "execution_count": 26,
   "metadata": {},
   "outputs": [
    {
     "output_type": "execute_result",
     "data": {
      "text/plain": [
       "((43656, 120, 11), (43656,))"
      ]
     },
     "metadata": {},
     "execution_count": 26
    }
   ],
   "source": [
    "x.shape, y.shape"
   ]
  },
  {
   "cell_type": "code",
   "execution_count": 27,
   "metadata": {},
   "outputs": [
    {
     "output_type": "execute_result",
     "data": {
      "text/plain": [
       "34924"
      ]
     },
     "metadata": {},
     "execution_count": 27
    }
   ],
   "source": [
    "split_b = int(data_.shape[0]*0.8)\n",
    "split_b"
   ]
  },
  {
   "cell_type": "code",
   "execution_count": 28,
   "metadata": {},
   "outputs": [],
   "source": [
    "train_x = x[:split_b]\n",
    "train_y = y[:split_b]\n",
    "test_x = x[split_b:]\n",
    "test_y = y[split_b:]"
   ]
  },
  {
   "cell_type": "code",
   "execution_count": 29,
   "metadata": {},
   "outputs": [
    {
     "output_type": "execute_result",
     "data": {
      "text/plain": [
       "((34924, 120, 11), (34924,), (8732, 120, 11), (8732,))"
      ]
     },
     "metadata": {},
     "execution_count": 29
    }
   ],
   "source": [
    "train_x.shape, train_y.shape, test_x.shape, test_y.shape"
   ]
  },
  {
   "cell_type": "code",
   "execution_count": 30,
   "metadata": {},
   "outputs": [],
   "source": [
    "# 神经网络喜欢统一的数据取值范围\n",
    "# 数据标准化：减均值，除方差"
   ]
  },
  {
   "cell_type": "code",
   "execution_count": 31,
   "metadata": {},
   "outputs": [],
   "source": [
    "# 对列求均值\n",
    "mean = train_x.mean(axis=0)\n",
    "std = train_x.std(axis=0)"
   ]
  },
  {
   "cell_type": "code",
   "execution_count": 32,
   "metadata": {},
   "outputs": [],
   "source": [
    "train_x = (train_x - mean)/std\n",
    "test_x = (test_x - mean)/std"
   ]
  },
  {
   "source": [
    "# 建立模型\n",
    "- 从简单的模型开始，慢慢来"
   ],
   "cell_type": "markdown",
   "metadata": {}
  },
  {
   "cell_type": "code",
   "execution_count": 33,
   "metadata": {},
   "outputs": [],
   "source": [
    "# 多层感知机开始\n",
    "BATCH_SIZE = 128"
   ]
  },
  {
   "cell_type": "code",
   "execution_count": null,
   "metadata": {},
   "outputs": [],
   "source": [
    "model = keras.Sequential()\n",
    "model.add(layers.Flatten(input_shape=(train_x.shape[1:])))\n",
    "model.add(layers.Dense(32, activation='relu'))\n",
    "model.add(layers.Dense(1))"
   ]
  },
  {
   "cell_type": "code",
   "execution_count": null,
   "metadata": {},
   "outputs": [],
   "source": [
    "model.compile(optimizer='adam',\n",
    "              loss='mse',\n",
    "              metrics=['mae'])"
   ]
  },
  {
   "cell_type": "code",
   "execution_count": null,
   "metadata": {},
   "outputs": [],
   "source": [
    "histoty = model.fit(train_x, train_y, batch_size=BATCH_SIZE, epochs=30, validation_data=(test_x, test_y))"
   ]
  },
  {
   "cell_type": "code",
   "execution_count": null,
   "metadata": {},
   "outputs": [],
   "source": [
    "plt.plot(histoty.epoch, histoty.history['mae'], c='r')\n",
    "plt.plot(histoty.epoch, histoty.history['val_mae'], c='b')"
   ]
  },
  {
   "source": [
    "# LSTM"
   ],
   "cell_type": "markdown",
   "metadata": {}
  },
  {
   "cell_type": "code",
   "execution_count": 34,
   "metadata": {},
   "outputs": [],
   "source": [
    "# LSTM 擅长根据时间变化的预测趋势问题\n",
    "model = keras.Sequential()\n",
    "model.add(layers.LSTM(32, input_shape=(120,11)))\n",
    "model.add(layers.Dense(1))"
   ]
  },
  {
   "cell_type": "code",
   "execution_count": 35,
   "metadata": {},
   "outputs": [],
   "source": [
    "model.compile(optimizer='adam',\n",
    "              loss='mse',\n",
    "              metrics=['mae'])"
   ]
  },
  {
   "cell_type": "code",
   "execution_count": 36,
   "metadata": {},
   "outputs": [
    {
     "output_type": "stream",
     "name": "stdout",
     "text": [
      "Epoch 1/30\n",
      "273/273 [==============================] - 13s 48ms/step - loss: 16166.7471 - mae: 88.7434 - val_loss: 14942.2012 - val_mae: 82.2261\n",
      "Epoch 2/30\n",
      "273/273 [==============================] - 12s 44ms/step - loss: 14331.7939 - mae: 80.1798 - val_loss: 13565.2900 - val_mae: 76.6007\n",
      "Epoch 3/30\n",
      "273/273 [==============================] - 12s 43ms/step - loss: 13078.0410 - mae: 75.3970 - val_loss: 12453.0908 - val_mae: 72.6307\n",
      "Epoch 4/30\n",
      "273/273 [==============================] - 12s 45ms/step - loss: 12050.0127 - mae: 71.8797 - val_loss: 11538.3018 - val_mae: 69.6760\n",
      "Epoch 5/30\n",
      "273/273 [==============================] - 12s 42ms/step - loss: 11201.9307 - mae: 69.3128 - val_loss: 10786.2041 - val_mae: 67.5892\n",
      "Epoch 6/30\n",
      "273/273 [==============================] - 12s 42ms/step - loss: 10509.2363 - mae: 67.5239 - val_loss: 10178.9561 - val_mae: 66.2041\n",
      "Epoch 7/30\n",
      "273/273 [==============================] - 12s 42ms/step - loss: 9948.6025 - mae: 66.2992 - val_loss: 9689.5576 - val_mae: 65.3083\n",
      "Epoch 8/30\n",
      "273/273 [==============================] - 12s 44ms/step - loss: 9482.4072 - mae: 65.2242 - val_loss: 9257.2217 - val_mae: 64.1058\n",
      "Epoch 9/30\n",
      "273/273 [==============================] - 13s 46ms/step - loss: 9083.3027 - mae: 64.3394 - val_loss: 8907.4219 - val_mae: 63.4392\n",
      "Epoch 10/30\n",
      "273/273 [==============================] - 13s 46ms/step - loss: 8753.9717 - mae: 63.7413 - val_loss: 8617.2500 - val_mae: 62.9857\n",
      "Epoch 11/30\n",
      "273/273 [==============================] - 12s 46ms/step - loss: 8467.4727 - mae: 63.1256 - val_loss: 8344.8389 - val_mae: 62.2238\n",
      "Epoch 12/30\n",
      "273/273 [==============================] - 13s 46ms/step - loss: 8193.5654 - mae: 62.1073 - val_loss: 8091.0708 - val_mae: 60.9645\n",
      "Epoch 13/30\n",
      "273/273 [==============================] - 13s 46ms/step - loss: 7954.4995 - mae: 61.3822 - val_loss: 7892.1401 - val_mae: 60.6777\n",
      "Epoch 14/30\n",
      "273/273 [==============================] - 12s 46ms/step - loss: 7761.5962 - mae: 60.9905 - val_loss: 7723.3999 - val_mae: 60.6098\n",
      "Epoch 15/30\n",
      "273/273 [==============================] - 12s 46ms/step - loss: 7595.8774 - mae: 60.6544 - val_loss: 7568.2573 - val_mae: 59.9061\n",
      "Epoch 16/30\n",
      "273/273 [==============================] - 12s 45ms/step - loss: 7461.2207 - mae: 60.4439 - val_loss: 7445.9854 - val_mae: 59.6008\n",
      "Epoch 17/30\n",
      "273/273 [==============================] - 13s 47ms/step - loss: 7337.9912 - mae: 60.2405 - val_loss: 7341.8516 - val_mae: 59.6345\n",
      "Epoch 18/30\n",
      "273/273 [==============================] - 12s 46ms/step - loss: 7239.9600 - mae: 60.0278 - val_loss: 7251.1060 - val_mae: 59.1322\n",
      "Epoch 19/30\n",
      "273/273 [==============================] - 12s 46ms/step - loss: 7140.3848 - mae: 59.7510 - val_loss: 7164.4600 - val_mae: 59.2477\n",
      "Epoch 20/30\n",
      "273/273 [==============================] - 12s 46ms/step - loss: 7059.8687 - mae: 59.6825 - val_loss: 7097.8994 - val_mae: 58.5925\n",
      "Epoch 21/30\n",
      "273/273 [==============================] - 12s 45ms/step - loss: 6993.2124 - mae: 59.5240 - val_loss: 7003.1411 - val_mae: 58.8855\n",
      "Epoch 22/30\n",
      "273/273 [==============================] - 13s 46ms/step - loss: 6902.1514 - mae: 59.2215 - val_loss: 6925.5342 - val_mae: 58.4415\n",
      "Epoch 23/30\n",
      "273/273 [==============================] - 12s 45ms/step - loss: 6906.4580 - mae: 59.1907 - val_loss: 7196.2437 - val_mae: 58.6914\n",
      "Epoch 24/30\n",
      "273/273 [==============================] - 12s 46ms/step - loss: 6861.7031 - mae: 59.3821 - val_loss: 6845.8999 - val_mae: 58.1557\n",
      "Epoch 25/30\n",
      "273/273 [==============================] - 12s 46ms/step - loss: 6840.1333 - mae: 59.0921 - val_loss: 7129.6382 - val_mae: 58.9203\n",
      "Epoch 26/30\n",
      "273/273 [==============================] - 12s 46ms/step - loss: 6823.1230 - mae: 59.1098 - val_loss: 6778.0547 - val_mae: 58.4196\n",
      "Epoch 27/30\n",
      "273/273 [==============================] - 13s 46ms/step - loss: 6674.5972 - mae: 58.7841 - val_loss: 6883.9409 - val_mae: 58.1875\n",
      "Epoch 28/30\n",
      "273/273 [==============================] - 12s 46ms/step - loss: 6846.7104 - mae: 59.5731 - val_loss: 6899.3105 - val_mae: 59.2385\n",
      "Epoch 29/30\n",
      "273/273 [==============================] - 13s 49ms/step - loss: 6976.6250 - mae: 60.3150 - val_loss: 7056.7852 - val_mae: 59.7127\n",
      "Epoch 30/30\n",
      "273/273 [==============================] - 13s 48ms/step - loss: 6908.9995 - mae: 59.8870 - val_loss: 6931.2432 - val_mae: 58.8057\n"
     ]
    }
   ],
   "source": [
    "histoty = model.fit(train_x, train_y, batch_size=BATCH_SIZE, epochs=30, validation_data=(test_x, test_y))"
   ]
  },
  {
   "cell_type": "code",
   "execution_count": 38,
   "metadata": {},
   "outputs": [
    {
     "output_type": "execute_result",
     "data": {
      "text/plain": [
       "[<matplotlib.lines.Line2D at 0x2a2312147c8>]"
      ]
     },
     "metadata": {},
     "execution_count": 38
    },
    {
     "output_type": "display_data",
     "data": {
      "text/plain": "<Figure size 432x288 with 1 Axes>",
      "image/svg+xml": "<?xml version=\"1.0\" encoding=\"utf-8\" standalone=\"no\"?>\r\n<!DOCTYPE svg PUBLIC \"-//W3C//DTD SVG 1.1//EN\"\r\n  \"http://www.w3.org/Graphics/SVG/1.1/DTD/svg11.dtd\">\r\n<!-- Created with matplotlib (https://matplotlib.org/) -->\r\n<svg height=\"250.554521pt\" version=\"1.1\" viewBox=\"0 0 370.564616 250.554521\" width=\"370.564616pt\" xmlns=\"http://www.w3.org/2000/svg\" xmlns:xlink=\"http://www.w3.org/1999/xlink\">\r\n <metadata>\r\n  <rdf:RDF xmlns:cc=\"http://creativecommons.org/ns#\" xmlns:dc=\"http://purl.org/dc/elements/1.1/\" xmlns:rdf=\"http://www.w3.org/1999/02/22-rdf-syntax-ns#\">\r\n   <cc:Work>\r\n    <dc:type rdf:resource=\"http://purl.org/dc/dcmitype/StillImage\"/>\r\n    <dc:date>2020-11-10T17:16:37.889749</dc:date>\r\n    <dc:format>image/svg+xml</dc:format>\r\n    <dc:creator>\r\n     <cc:Agent>\r\n      <dc:title>Matplotlib v3.3.2, https://matplotlib.org/</dc:title>\r\n     </cc:Agent>\r\n    </dc:creator>\r\n   </cc:Work>\r\n  </rdf:RDF>\r\n </metadata>\r\n <defs>\r\n  <style type=\"text/css\">*{stroke-linecap:butt;stroke-linejoin:round;}</style>\r\n </defs>\r\n <g id=\"figure_1\">\r\n  <g id=\"patch_1\">\r\n   <path d=\"M -0 250.554521 \r\nL 370.564616 250.554521 \r\nL 370.564616 0 \r\nL -0 0 \r\nz\r\n\" style=\"fill:none;\"/>\r\n  </g>\r\n  <g id=\"axes_1\">\r\n   <g id=\"patch_2\">\r\n    <path d=\"M 26.925 226.676396 \r\nL 361.725 226.676396 \r\nL 361.725 9.236396 \r\nL 26.925 9.236396 \r\nz\r\n\" style=\"fill:#ffffff;\"/>\r\n   </g>\r\n   <g id=\"matplotlib.axis_1\">\r\n    <g id=\"xtick_1\">\r\n     <g id=\"line2d_1\">\r\n      <defs>\r\n       <path d=\"M 0 0 \r\nL 0 3.5 \r\n\" id=\"m2f2b6299cf\" style=\"stroke:#000000;stroke-width:0.8;\"/>\r\n      </defs>\r\n      <g>\r\n       <use style=\"stroke:#000000;stroke-width:0.8;\" x=\"42.143182\" xlink:href=\"#m2f2b6299cf\" y=\"226.676396\"/>\r\n      </g>\r\n     </g>\r\n     <g id=\"text_1\">\r\n      <!-- 0 -->\r\n      <g transform=\"translate(38.961932 241.274833)scale(0.1 -0.1)\">\r\n       <defs>\r\n        <path d=\"M 31.78125 66.40625 \r\nQ 24.171875 66.40625 20.328125 58.90625 \r\nQ 16.5 51.421875 16.5 36.375 \r\nQ 16.5 21.390625 20.328125 13.890625 \r\nQ 24.171875 6.390625 31.78125 6.390625 \r\nQ 39.453125 6.390625 43.28125 13.890625 \r\nQ 47.125 21.390625 47.125 36.375 \r\nQ 47.125 51.421875 43.28125 58.90625 \r\nQ 39.453125 66.40625 31.78125 66.40625 \r\nz\r\nM 31.78125 74.21875 \r\nQ 44.046875 74.21875 50.515625 64.515625 \r\nQ 56.984375 54.828125 56.984375 36.375 \r\nQ 56.984375 17.96875 50.515625 8.265625 \r\nQ 44.046875 -1.421875 31.78125 -1.421875 \r\nQ 19.53125 -1.421875 13.0625 8.265625 \r\nQ 6.59375 17.96875 6.59375 36.375 \r\nQ 6.59375 54.828125 13.0625 64.515625 \r\nQ 19.53125 74.21875 31.78125 74.21875 \r\nz\r\n\" id=\"DejaVuSans-48\"/>\r\n       </defs>\r\n       <use xlink:href=\"#DejaVuSans-48\"/>\r\n      </g>\r\n     </g>\r\n    </g>\r\n    <g id=\"xtick_2\">\r\n     <g id=\"line2d_2\">\r\n      <g>\r\n       <use style=\"stroke:#000000;stroke-width:0.8;\" x=\"94.619671\" xlink:href=\"#m2f2b6299cf\" y=\"226.676396\"/>\r\n      </g>\r\n     </g>\r\n     <g id=\"text_2\">\r\n      <!-- 5 -->\r\n      <g transform=\"translate(91.438421 241.274833)scale(0.1 -0.1)\">\r\n       <defs>\r\n        <path d=\"M 10.796875 72.90625 \r\nL 49.515625 72.90625 \r\nL 49.515625 64.59375 \r\nL 19.828125 64.59375 \r\nL 19.828125 46.734375 \r\nQ 21.96875 47.46875 24.109375 47.828125 \r\nQ 26.265625 48.1875 28.421875 48.1875 \r\nQ 40.625 48.1875 47.75 41.5 \r\nQ 54.890625 34.8125 54.890625 23.390625 \r\nQ 54.890625 11.625 47.5625 5.09375 \r\nQ 40.234375 -1.421875 26.90625 -1.421875 \r\nQ 22.3125 -1.421875 17.546875 -0.640625 \r\nQ 12.796875 0.140625 7.71875 1.703125 \r\nL 7.71875 11.625 \r\nQ 12.109375 9.234375 16.796875 8.0625 \r\nQ 21.484375 6.890625 26.703125 6.890625 \r\nQ 35.15625 6.890625 40.078125 11.328125 \r\nQ 45.015625 15.765625 45.015625 23.390625 \r\nQ 45.015625 31 40.078125 35.4375 \r\nQ 35.15625 39.890625 26.703125 39.890625 \r\nQ 22.75 39.890625 18.8125 39.015625 \r\nQ 14.890625 38.140625 10.796875 36.28125 \r\nz\r\n\" id=\"DejaVuSans-53\"/>\r\n       </defs>\r\n       <use xlink:href=\"#DejaVuSans-53\"/>\r\n      </g>\r\n     </g>\r\n    </g>\r\n    <g id=\"xtick_3\">\r\n     <g id=\"line2d_3\">\r\n      <g>\r\n       <use style=\"stroke:#000000;stroke-width:0.8;\" x=\"147.09616\" xlink:href=\"#m2f2b6299cf\" y=\"226.676396\"/>\r\n      </g>\r\n     </g>\r\n     <g id=\"text_3\">\r\n      <!-- 10 -->\r\n      <g transform=\"translate(140.73366 241.274833)scale(0.1 -0.1)\">\r\n       <defs>\r\n        <path d=\"M 12.40625 8.296875 \r\nL 28.515625 8.296875 \r\nL 28.515625 63.921875 \r\nL 10.984375 60.40625 \r\nL 10.984375 69.390625 \r\nL 28.421875 72.90625 \r\nL 38.28125 72.90625 \r\nL 38.28125 8.296875 \r\nL 54.390625 8.296875 \r\nL 54.390625 0 \r\nL 12.40625 0 \r\nz\r\n\" id=\"DejaVuSans-49\"/>\r\n       </defs>\r\n       <use xlink:href=\"#DejaVuSans-49\"/>\r\n       <use x=\"63.623047\" xlink:href=\"#DejaVuSans-48\"/>\r\n      </g>\r\n     </g>\r\n    </g>\r\n    <g id=\"xtick_4\">\r\n     <g id=\"line2d_4\">\r\n      <g>\r\n       <use style=\"stroke:#000000;stroke-width:0.8;\" x=\"199.572649\" xlink:href=\"#m2f2b6299cf\" y=\"226.676396\"/>\r\n      </g>\r\n     </g>\r\n     <g id=\"text_4\">\r\n      <!-- 15 -->\r\n      <g transform=\"translate(193.210149 241.274833)scale(0.1 -0.1)\">\r\n       <use xlink:href=\"#DejaVuSans-49\"/>\r\n       <use x=\"63.623047\" xlink:href=\"#DejaVuSans-53\"/>\r\n      </g>\r\n     </g>\r\n    </g>\r\n    <g id=\"xtick_5\">\r\n     <g id=\"line2d_5\">\r\n      <g>\r\n       <use style=\"stroke:#000000;stroke-width:0.8;\" x=\"252.049138\" xlink:href=\"#m2f2b6299cf\" y=\"226.676396\"/>\r\n      </g>\r\n     </g>\r\n     <g id=\"text_5\">\r\n      <!-- 20 -->\r\n      <g transform=\"translate(245.686638 241.274833)scale(0.1 -0.1)\">\r\n       <defs>\r\n        <path d=\"M 19.1875 8.296875 \r\nL 53.609375 8.296875 \r\nL 53.609375 0 \r\nL 7.328125 0 \r\nL 7.328125 8.296875 \r\nQ 12.9375 14.109375 22.625 23.890625 \r\nQ 32.328125 33.6875 34.8125 36.53125 \r\nQ 39.546875 41.84375 41.421875 45.53125 \r\nQ 43.3125 49.21875 43.3125 52.78125 \r\nQ 43.3125 58.59375 39.234375 62.25 \r\nQ 35.15625 65.921875 28.609375 65.921875 \r\nQ 23.96875 65.921875 18.8125 64.3125 \r\nQ 13.671875 62.703125 7.8125 59.421875 \r\nL 7.8125 69.390625 \r\nQ 13.765625 71.78125 18.9375 73 \r\nQ 24.125 74.21875 28.421875 74.21875 \r\nQ 39.75 74.21875 46.484375 68.546875 \r\nQ 53.21875 62.890625 53.21875 53.421875 \r\nQ 53.21875 48.921875 51.53125 44.890625 \r\nQ 49.859375 40.875 45.40625 35.40625 \r\nQ 44.1875 33.984375 37.640625 27.21875 \r\nQ 31.109375 20.453125 19.1875 8.296875 \r\nz\r\n\" id=\"DejaVuSans-50\"/>\r\n       </defs>\r\n       <use xlink:href=\"#DejaVuSans-50\"/>\r\n       <use x=\"63.623047\" xlink:href=\"#DejaVuSans-48\"/>\r\n      </g>\r\n     </g>\r\n    </g>\r\n    <g id=\"xtick_6\">\r\n     <g id=\"line2d_6\">\r\n      <g>\r\n       <use style=\"stroke:#000000;stroke-width:0.8;\" x=\"304.525627\" xlink:href=\"#m2f2b6299cf\" y=\"226.676396\"/>\r\n      </g>\r\n     </g>\r\n     <g id=\"text_6\">\r\n      <!-- 25 -->\r\n      <g transform=\"translate(298.163127 241.274833)scale(0.1 -0.1)\">\r\n       <use xlink:href=\"#DejaVuSans-50\"/>\r\n       <use x=\"63.623047\" xlink:href=\"#DejaVuSans-53\"/>\r\n      </g>\r\n     </g>\r\n    </g>\r\n    <g id=\"xtick_7\">\r\n     <g id=\"line2d_7\">\r\n      <g>\r\n       <use style=\"stroke:#000000;stroke-width:0.8;\" x=\"357.002116\" xlink:href=\"#m2f2b6299cf\" y=\"226.676396\"/>\r\n      </g>\r\n     </g>\r\n     <g id=\"text_7\">\r\n      <!-- 30 -->\r\n      <g transform=\"translate(350.639616 241.274833)scale(0.1 -0.1)\">\r\n       <defs>\r\n        <path d=\"M 40.578125 39.3125 \r\nQ 47.65625 37.796875 51.625 33 \r\nQ 55.609375 28.21875 55.609375 21.1875 \r\nQ 55.609375 10.40625 48.1875 4.484375 \r\nQ 40.765625 -1.421875 27.09375 -1.421875 \r\nQ 22.515625 -1.421875 17.65625 -0.515625 \r\nQ 12.796875 0.390625 7.625 2.203125 \r\nL 7.625 11.71875 \r\nQ 11.71875 9.328125 16.59375 8.109375 \r\nQ 21.484375 6.890625 26.8125 6.890625 \r\nQ 36.078125 6.890625 40.9375 10.546875 \r\nQ 45.796875 14.203125 45.796875 21.1875 \r\nQ 45.796875 27.640625 41.28125 31.265625 \r\nQ 36.765625 34.90625 28.71875 34.90625 \r\nL 20.21875 34.90625 \r\nL 20.21875 43.015625 \r\nL 29.109375 43.015625 \r\nQ 36.375 43.015625 40.234375 45.921875 \r\nQ 44.09375 48.828125 44.09375 54.296875 \r\nQ 44.09375 59.90625 40.109375 62.90625 \r\nQ 36.140625 65.921875 28.71875 65.921875 \r\nQ 24.65625 65.921875 20.015625 65.03125 \r\nQ 15.375 64.15625 9.8125 62.3125 \r\nL 9.8125 71.09375 \r\nQ 15.4375 72.65625 20.34375 73.4375 \r\nQ 25.25 74.21875 29.59375 74.21875 \r\nQ 40.828125 74.21875 47.359375 69.109375 \r\nQ 53.90625 64.015625 53.90625 55.328125 \r\nQ 53.90625 49.265625 50.4375 45.09375 \r\nQ 46.96875 40.921875 40.578125 39.3125 \r\nz\r\n\" id=\"DejaVuSans-51\"/>\r\n       </defs>\r\n       <use xlink:href=\"#DejaVuSans-51\"/>\r\n       <use x=\"63.623047\" xlink:href=\"#DejaVuSans-48\"/>\r\n      </g>\r\n     </g>\r\n    </g>\r\n   </g>\r\n   <g id=\"matplotlib.axis_2\">\r\n    <g id=\"ytick_1\">\r\n     <g id=\"line2d_8\">\r\n      <defs>\r\n       <path d=\"M 0 0 \r\nL -3.5 0 \r\n\" id=\"m89f99a90e6\" style=\"stroke:#000000;stroke-width:0.8;\"/>\r\n      </defs>\r\n      <g>\r\n       <use style=\"stroke:#000000;stroke-width:0.8;\" x=\"26.925\" xlink:href=\"#m89f99a90e6\" y=\"204.873989\"/>\r\n      </g>\r\n     </g>\r\n     <g id=\"text_8\">\r\n      <!-- 60 -->\r\n      <g transform=\"translate(7.2 208.673208)scale(0.1 -0.1)\">\r\n       <defs>\r\n        <path d=\"M 33.015625 40.375 \r\nQ 26.375 40.375 22.484375 35.828125 \r\nQ 18.609375 31.296875 18.609375 23.390625 \r\nQ 18.609375 15.53125 22.484375 10.953125 \r\nQ 26.375 6.390625 33.015625 6.390625 \r\nQ 39.65625 6.390625 43.53125 10.953125 \r\nQ 47.40625 15.53125 47.40625 23.390625 \r\nQ 47.40625 31.296875 43.53125 35.828125 \r\nQ 39.65625 40.375 33.015625 40.375 \r\nz\r\nM 52.59375 71.296875 \r\nL 52.59375 62.3125 \r\nQ 48.875 64.0625 45.09375 64.984375 \r\nQ 41.3125 65.921875 37.59375 65.921875 \r\nQ 27.828125 65.921875 22.671875 59.328125 \r\nQ 17.53125 52.734375 16.796875 39.40625 \r\nQ 19.671875 43.65625 24.015625 45.921875 \r\nQ 28.375 48.1875 33.59375 48.1875 \r\nQ 44.578125 48.1875 50.953125 41.515625 \r\nQ 57.328125 34.859375 57.328125 23.390625 \r\nQ 57.328125 12.15625 50.6875 5.359375 \r\nQ 44.046875 -1.421875 33.015625 -1.421875 \r\nQ 20.359375 -1.421875 13.671875 8.265625 \r\nQ 6.984375 17.96875 6.984375 36.375 \r\nQ 6.984375 53.65625 15.1875 63.9375 \r\nQ 23.390625 74.21875 37.203125 74.21875 \r\nQ 40.921875 74.21875 44.703125 73.484375 \r\nQ 48.484375 72.75 52.59375 71.296875 \r\nz\r\n\" id=\"DejaVuSans-54\"/>\r\n       </defs>\r\n       <use xlink:href=\"#DejaVuSans-54\"/>\r\n       <use x=\"63.623047\" xlink:href=\"#DejaVuSans-48\"/>\r\n      </g>\r\n     </g>\r\n    </g>\r\n    <g id=\"ytick_2\">\r\n     <g id=\"line2d_9\">\r\n      <g>\r\n       <use style=\"stroke:#000000;stroke-width:0.8;\" x=\"26.925\" xlink:href=\"#m89f99a90e6\" y=\"172.561528\"/>\r\n      </g>\r\n     </g>\r\n     <g id=\"text_9\">\r\n      <!-- 65 -->\r\n      <g transform=\"translate(7.2 176.360746)scale(0.1 -0.1)\">\r\n       <use xlink:href=\"#DejaVuSans-54\"/>\r\n       <use x=\"63.623047\" xlink:href=\"#DejaVuSans-53\"/>\r\n      </g>\r\n     </g>\r\n    </g>\r\n    <g id=\"ytick_3\">\r\n     <g id=\"line2d_10\">\r\n      <g>\r\n       <use style=\"stroke:#000000;stroke-width:0.8;\" x=\"26.925\" xlink:href=\"#m89f99a90e6\" y=\"140.249066\"/>\r\n      </g>\r\n     </g>\r\n     <g id=\"text_10\">\r\n      <!-- 70 -->\r\n      <g transform=\"translate(7.2 144.048285)scale(0.1 -0.1)\">\r\n       <defs>\r\n        <path d=\"M 8.203125 72.90625 \r\nL 55.078125 72.90625 \r\nL 55.078125 68.703125 \r\nL 28.609375 0 \r\nL 18.3125 0 \r\nL 43.21875 64.59375 \r\nL 8.203125 64.59375 \r\nz\r\n\" id=\"DejaVuSans-55\"/>\r\n       </defs>\r\n       <use xlink:href=\"#DejaVuSans-55\"/>\r\n       <use x=\"63.623047\" xlink:href=\"#DejaVuSans-48\"/>\r\n      </g>\r\n     </g>\r\n    </g>\r\n    <g id=\"ytick_4\">\r\n     <g id=\"line2d_11\">\r\n      <g>\r\n       <use style=\"stroke:#000000;stroke-width:0.8;\" x=\"26.925\" xlink:href=\"#m89f99a90e6\" y=\"107.936604\"/>\r\n      </g>\r\n     </g>\r\n     <g id=\"text_11\">\r\n      <!-- 75 -->\r\n      <g transform=\"translate(7.2 111.735823)scale(0.1 -0.1)\">\r\n       <use xlink:href=\"#DejaVuSans-55\"/>\r\n       <use x=\"63.623047\" xlink:href=\"#DejaVuSans-53\"/>\r\n      </g>\r\n     </g>\r\n    </g>\r\n    <g id=\"ytick_5\">\r\n     <g id=\"line2d_12\">\r\n      <g>\r\n       <use style=\"stroke:#000000;stroke-width:0.8;\" x=\"26.925\" xlink:href=\"#m89f99a90e6\" y=\"75.624142\"/>\r\n      </g>\r\n     </g>\r\n     <g id=\"text_12\">\r\n      <!-- 80 -->\r\n      <g transform=\"translate(7.2 79.423361)scale(0.1 -0.1)\">\r\n       <defs>\r\n        <path d=\"M 31.78125 34.625 \r\nQ 24.75 34.625 20.71875 30.859375 \r\nQ 16.703125 27.09375 16.703125 20.515625 \r\nQ 16.703125 13.921875 20.71875 10.15625 \r\nQ 24.75 6.390625 31.78125 6.390625 \r\nQ 38.8125 6.390625 42.859375 10.171875 \r\nQ 46.921875 13.96875 46.921875 20.515625 \r\nQ 46.921875 27.09375 42.890625 30.859375 \r\nQ 38.875 34.625 31.78125 34.625 \r\nz\r\nM 21.921875 38.8125 \r\nQ 15.578125 40.375 12.03125 44.71875 \r\nQ 8.5 49.078125 8.5 55.328125 \r\nQ 8.5 64.0625 14.71875 69.140625 \r\nQ 20.953125 74.21875 31.78125 74.21875 \r\nQ 42.671875 74.21875 48.875 69.140625 \r\nQ 55.078125 64.0625 55.078125 55.328125 \r\nQ 55.078125 49.078125 51.53125 44.71875 \r\nQ 48 40.375 41.703125 38.8125 \r\nQ 48.828125 37.15625 52.796875 32.3125 \r\nQ 56.78125 27.484375 56.78125 20.515625 \r\nQ 56.78125 9.90625 50.3125 4.234375 \r\nQ 43.84375 -1.421875 31.78125 -1.421875 \r\nQ 19.734375 -1.421875 13.25 4.234375 \r\nQ 6.78125 9.90625 6.78125 20.515625 \r\nQ 6.78125 27.484375 10.78125 32.3125 \r\nQ 14.796875 37.15625 21.921875 38.8125 \r\nz\r\nM 18.3125 54.390625 \r\nQ 18.3125 48.734375 21.84375 45.5625 \r\nQ 25.390625 42.390625 31.78125 42.390625 \r\nQ 38.140625 42.390625 41.71875 45.5625 \r\nQ 45.3125 48.734375 45.3125 54.390625 \r\nQ 45.3125 60.0625 41.71875 63.234375 \r\nQ 38.140625 66.40625 31.78125 66.40625 \r\nQ 25.390625 66.40625 21.84375 63.234375 \r\nQ 18.3125 60.0625 18.3125 54.390625 \r\nz\r\n\" id=\"DejaVuSans-56\"/>\r\n       </defs>\r\n       <use xlink:href=\"#DejaVuSans-56\"/>\r\n       <use x=\"63.623047\" xlink:href=\"#DejaVuSans-48\"/>\r\n      </g>\r\n     </g>\r\n    </g>\r\n    <g id=\"ytick_6\">\r\n     <g id=\"line2d_13\">\r\n      <g>\r\n       <use style=\"stroke:#000000;stroke-width:0.8;\" x=\"26.925\" xlink:href=\"#m89f99a90e6\" y=\"43.311681\"/>\r\n      </g>\r\n     </g>\r\n     <g id=\"text_13\">\r\n      <!-- 85 -->\r\n      <g transform=\"translate(7.2 47.110899)scale(0.1 -0.1)\">\r\n       <use xlink:href=\"#DejaVuSans-56\"/>\r\n       <use x=\"63.623047\" xlink:href=\"#DejaVuSans-53\"/>\r\n      </g>\r\n     </g>\r\n    </g>\r\n    <g id=\"ytick_7\">\r\n     <g id=\"line2d_14\">\r\n      <g>\r\n       <use style=\"stroke:#000000;stroke-width:0.8;\" x=\"26.925\" xlink:href=\"#m89f99a90e6\" y=\"10.999219\"/>\r\n      </g>\r\n     </g>\r\n     <g id=\"text_14\">\r\n      <!-- 90 -->\r\n      <g transform=\"translate(7.2 14.798437)scale(0.1 -0.1)\">\r\n       <defs>\r\n        <path d=\"M 10.984375 1.515625 \r\nL 10.984375 10.5 \r\nQ 14.703125 8.734375 18.5 7.8125 \r\nQ 22.3125 6.890625 25.984375 6.890625 \r\nQ 35.75 6.890625 40.890625 13.453125 \r\nQ 46.046875 20.015625 46.78125 33.40625 \r\nQ 43.953125 29.203125 39.59375 26.953125 \r\nQ 35.25 24.703125 29.984375 24.703125 \r\nQ 19.046875 24.703125 12.671875 31.3125 \r\nQ 6.296875 37.9375 6.296875 49.421875 \r\nQ 6.296875 60.640625 12.9375 67.421875 \r\nQ 19.578125 74.21875 30.609375 74.21875 \r\nQ 43.265625 74.21875 49.921875 64.515625 \r\nQ 56.59375 54.828125 56.59375 36.375 \r\nQ 56.59375 19.140625 48.40625 8.859375 \r\nQ 40.234375 -1.421875 26.421875 -1.421875 \r\nQ 22.703125 -1.421875 18.890625 -0.6875 \r\nQ 15.09375 0.046875 10.984375 1.515625 \r\nz\r\nM 30.609375 32.421875 \r\nQ 37.25 32.421875 41.125 36.953125 \r\nQ 45.015625 41.5 45.015625 49.421875 \r\nQ 45.015625 57.28125 41.125 61.84375 \r\nQ 37.25 66.40625 30.609375 66.40625 \r\nQ 23.96875 66.40625 20.09375 61.84375 \r\nQ 16.21875 57.28125 16.21875 49.421875 \r\nQ 16.21875 41.5 20.09375 36.953125 \r\nQ 23.96875 32.421875 30.609375 32.421875 \r\nz\r\n\" id=\"DejaVuSans-57\"/>\r\n       </defs>\r\n       <use xlink:href=\"#DejaVuSans-57\"/>\r\n       <use x=\"63.623047\" xlink:href=\"#DejaVuSans-48\"/>\r\n      </g>\r\n     </g>\r\n    </g>\r\n   </g>\r\n   <g id=\"line2d_15\">\r\n    <path clip-path=\"url(#p393715e573)\" d=\"M 42.143182 19.120032 \r\nL 52.63848 74.462026 \r\nL 63.133777 105.371171 \r\nL 73.629075 128.101422 \r\nL 84.124373 144.690304 \r\nL 94.619671 156.250627 \r\nL 105.114969 164.165198 \r\nL 115.610266 171.1129 \r\nL 126.105564 176.83079 \r\nL 136.600862 180.695752 \r\nL 147.09616 184.675003 \r\nL 157.591458 191.255506 \r\nL 168.086755 195.941346 \r\nL 178.582053 198.472882 \r\nL 189.077351 200.644787 \r\nL 199.572649 202.00543 \r\nL 210.067947 203.319652 \r\nL 220.563245 204.694248 \r\nL 231.058542 206.483277 \r\nL 241.55384 206.925936 \r\nL 252.049138 207.950196 \r\nL 262.544436 209.904938 \r\nL 273.039734 210.104056 \r\nL 283.535031 208.867341 \r\nL 294.030329 210.741593 \r\nL 304.525627 210.627033 \r\nL 315.020925 212.731909 \r\nL 325.516223 207.632944 \r\nL 336.01152 202.838313 \r\nL 346.506818 205.604121 \r\n\" style=\"fill:none;stroke:#ff0000;stroke-linecap:square;stroke-width:1.5;\"/>\r\n   </g>\r\n   <g id=\"line2d_16\">\r\n    <path clip-path=\"url(#p393715e573)\" d=\"M 42.143182 61.238204 \r\nL 52.63848 97.591991 \r\nL 63.133777 123.248291 \r\nL 73.629075 142.343094 \r\nL 84.124373 155.828725 \r\nL 94.619671 164.780129 \r\nL 105.114969 170.569461 \r\nL 115.610266 178.340506 \r\nL 126.105564 182.648251 \r\nL 136.600862 185.578836 \r\nL 147.09616 190.502596 \r\nL 157.591458 198.641011 \r\nL 168.086755 200.494259 \r\nL 178.582053 200.933172 \r\nL 189.077351 205.480637 \r\nL 199.572649 207.45377 \r\nL 210.067947 207.236212 \r\nL 220.563245 210.482274 \r\nL 231.058542 209.735428 \r\nL 241.55384 213.969733 \r\nL 252.049138 212.076598 \r\nL 262.544436 214.945502 \r\nL 273.039734 213.330964 \r\nL 283.535031 216.79276 \r\nL 294.030329 211.851841 \r\nL 304.525627 215.087599 \r\nL 315.020925 216.58701 \r\nL 325.516223 209.794915 \r\nL 336.01152 206.730812 \r\nL 346.506818 212.591883 \r\n\" style=\"fill:none;stroke:#0000ff;stroke-linecap:square;stroke-width:1.5;\"/>\r\n   </g>\r\n   <g id=\"patch_3\">\r\n    <path d=\"M 26.925 226.676396 \r\nL 26.925 9.236396 \r\n\" style=\"fill:none;stroke:#000000;stroke-linecap:square;stroke-linejoin:miter;stroke-width:0.8;\"/>\r\n   </g>\r\n   <g id=\"patch_4\">\r\n    <path d=\"M 361.725 226.676396 \r\nL 361.725 9.236396 \r\n\" style=\"fill:none;stroke:#000000;stroke-linecap:square;stroke-linejoin:miter;stroke-width:0.8;\"/>\r\n   </g>\r\n   <g id=\"patch_5\">\r\n    <path d=\"M 26.925 226.676396 \r\nL 361.725 226.676396 \r\n\" style=\"fill:none;stroke:#000000;stroke-linecap:square;stroke-linejoin:miter;stroke-width:0.8;\"/>\r\n   </g>\r\n   <g id=\"patch_6\">\r\n    <path d=\"M 26.925 9.236396 \r\nL 361.725 9.236396 \r\n\" style=\"fill:none;stroke:#000000;stroke-linecap:square;stroke-linejoin:miter;stroke-width:0.8;\"/>\r\n   </g>\r\n  </g>\r\n </g>\r\n <defs>\r\n  <clipPath id=\"p393715e573\">\r\n   <rect height=\"217.44\" width=\"334.8\" x=\"26.925\" y=\"9.236396\"/>\r\n  </clipPath>\r\n </defs>\r\n</svg>\r\n",
      "image/png": "[encoded data removed]"
     },
     "metadata": {
      "needs_background": "light"
     }
    }
   ],
   "source": [
    "plt.plot(histoty.epoch, histoty.history['mae'], c='r')\n",
    "plt.plot(histoty.epoch, histoty.history['val_mae'], c='b')"
   ]
  },
  {
   "source": [
    "# 模型优化\n",
    "- 堆叠LSTM\n",
    "- 学习中降低学习速率"
   ],
   "cell_type": "markdown",
   "metadata": {}
  },
  {
   "cell_type": "code",
   "execution_count": null,
   "metadata": {},
   "outputs": [],
   "source": [
    "model = keras.Sequential()\n",
    "model.add(layers.LSTM(32, input_shape=(120,11), return_sequences=True))\n",
    "model.add(layers.LSTM(32, return_sequences=True))\n",
    "model.add(layers.LSTM(32))\n",
    "model.add(layers.Dense(1))"
   ]
  },
  {
   "cell_type": "code",
   "execution_count": null,
   "metadata": {},
   "outputs": [],
   "source": [
    "# 回调函数降低学习速率, 如果3个迭代过程monitor 监控的内容没有降低，则学习率*factor\n",
    "lr_reduce = keras.callbacks.ReduceLROnPlateau('val_loss', patience=3, factor=0.5, min_lr=0.00001)"
   ]
  },
  {
   "cell_type": "code",
   "execution_count": null,
   "metadata": {},
   "outputs": [],
   "source": [
    "model.compile(optimizer='adam',\n",
    "              loss='mse',\n",
    "              metrics=['mae'])"
   ]
  },
  {
   "cell_type": "code",
   "execution_count": null,
   "metadata": {},
   "outputs": [],
   "source": [
    "histoty = model.fit(train_x, train_y, batch_size=BATCH_SIZE, epochs=20, callbacks=[lr_reduce], validation_data=(test_x, test_y))"
   ]
  },
  {
   "cell_type": "code",
   "execution_count": null,
   "metadata": {},
   "outputs": [],
   "source": [
    "plt.plot(histoty.epoch, histoty.history['mae'], c='r')\n",
    "plt.plot(histoty.epoch, histoty.history['val_mae'], c='b')"
   ]
  },
  {
   "cell_type": "code",
   "execution_count": 39,
   "metadata": {},
   "outputs": [],
   "source": [
    "model.save('pm2.5.h5')"
   ]
  },
  {
   "source": [
    "# 模型评价"
   ],
   "cell_type": "markdown",
   "metadata": {}
  },
  {
   "cell_type": "code",
   "execution_count": null,
   "metadata": {},
   "outputs": [],
   "source": [
    "model.evaluate(test_x, test_y)"
   ]
  },
  {
   "source": [
    "# 模型预测"
   ],
   "cell_type": "markdown",
   "metadata": {}
  },
  {
   "cell_type": "code",
   "execution_count": null,
   "metadata": {},
   "outputs": [],
   "source": [
    "# 模型预测, 多条预测\n",
    "pre_test = model.predict(test_x)\n",
    "pre_test[:5]"
   ]
  },
  {
   "cell_type": "code",
   "execution_count": 37,
   "metadata": {},
   "outputs": [
    {
     "output_type": "execute_result",
     "data": {
      "text/plain": [
       "                     pm2.5  DEWP  TEMP    PRES   Iws  Is  Ir  NE  NW  SE  cv\n",
       "tm                                                                          \n",
       "2010-01-02 00:00:00  129.0   -16  -4.0  1020.0  1.79   0   0   0   0   1   0\n",
       "2010-01-02 01:00:00  148.0   -15  -4.0  1020.0  2.68   0   0   0   0   1   0\n",
       "2010-01-02 02:00:00  159.0   -11  -5.0  1021.0  3.57   0   0   0   0   1   0\n",
       "2010-01-02 03:00:00  181.0    -7  -5.0  1022.0  5.36   1   0   0   0   1   0\n",
       "2010-01-02 04:00:00  138.0    -7  -5.0  1022.0  6.25   2   0   0   0   1   0"
      ],
      "text/html": "<div>\n<style scoped>\n    .dataframe tbody tr th:only-of-type {\n        vertical-align: middle;\n    }\n\n    .dataframe tbody tr th {\n        vertical-align: top;\n    }\n\n    .dataframe thead th {\n        text-align: right;\n    }\n</style>\n<table border=\"1\" class=\"dataframe\">\n  <thead>\n    <tr style=\"text-align: right;\">\n      <th></th>\n      <th>pm2.5</th>\n      <th>DEWP</th>\n      <th>TEMP</th>\n      <th>PRES</th>\n      <th>Iws</th>\n      <th>Is</th>\n      <th>Ir</th>\n      <th>NE</th>\n      <th>NW</th>\n      <th>SE</th>\n      <th>cv</th>\n    </tr>\n    <tr>\n      <th>tm</th>\n      <th></th>\n      <th></th>\n      <th></th>\n      <th></th>\n      <th></th>\n      <th></th>\n      <th></th>\n      <th></th>\n      <th></th>\n      <th></th>\n      <th></th>\n    </tr>\n  </thead>\n  <tbody>\n    <tr>\n      <th>2010-01-02 00:00:00</th>\n      <td>129.0</td>\n      <td>-16</td>\n      <td>-4.0</td>\n      <td>1020.0</td>\n      <td>1.79</td>\n      <td>0</td>\n      <td>0</td>\n      <td>0</td>\n      <td>0</td>\n      <td>1</td>\n      <td>0</td>\n    </tr>\n    <tr>\n      <th>2010-01-02 01:00:00</th>\n      <td>148.0</td>\n      <td>-15</td>\n      <td>-4.0</td>\n      <td>1020.0</td>\n      <td>2.68</td>\n      <td>0</td>\n      <td>0</td>\n      <td>0</td>\n      <td>0</td>\n      <td>1</td>\n      <td>0</td>\n    </tr>\n    <tr>\n      <th>2010-01-02 02:00:00</th>\n      <td>159.0</td>\n      <td>-11</td>\n      <td>-5.0</td>\n      <td>1021.0</td>\n      <td>3.57</td>\n      <td>0</td>\n      <td>0</td>\n      <td>0</td>\n      <td>0</td>\n      <td>1</td>\n      <td>0</td>\n    </tr>\n    <tr>\n      <th>2010-01-02 03:00:00</th>\n      <td>181.0</td>\n      <td>-7</td>\n      <td>-5.0</td>\n      <td>1022.0</td>\n      <td>5.36</td>\n      <td>1</td>\n      <td>0</td>\n      <td>0</td>\n      <td>0</td>\n      <td>1</td>\n      <td>0</td>\n    </tr>\n    <tr>\n      <th>2010-01-02 04:00:00</th>\n      <td>138.0</td>\n      <td>-7</td>\n      <td>-5.0</td>\n      <td>1022.0</td>\n      <td>6.25</td>\n      <td>2</td>\n      <td>0</td>\n      <td>0</td>\n      <td>0</td>\n      <td>1</td>\n      <td>0</td>\n    </tr>\n  </tbody>\n</table>\n</div>"
     },
     "metadata": {},
     "execution_count": 37
    }
   ],
   "source": [
    "data.head()"
   ]
  },
  {
   "cell_type": "code",
   "execution_count": 41,
   "metadata": {},
   "outputs": [],
   "source": [
    "# 模型预测，单条预测\n",
    "# 预测全新的数据，这次观测最后一条样本数据的下一天\n",
    "# 重新做一天数据预处理\n",
    "data_test = data[-120:]\n",
    "# data_test = data_test.iloc[:, 5:]"
   ]
  },
  {
   "cell_type": "code",
   "execution_count": null,
   "metadata": {},
   "outputs": [],
   "source": [
    "# data_test = data_test.join(pd.get_dummies(data_test.cbwd))\n",
    "# data_test.drop('cbwd', axis=1, inplace=True)\n",
    "data_test = data_test(data_test- mean)/std"
   ]
  },
  {
   "cell_type": "code",
   "execution_count": 42,
   "metadata": {},
   "outputs": [
    {
     "output_type": "execute_result",
     "data": {
      "text/plain": [
       "(120, 11)"
      ]
     },
     "metadata": {},
     "execution_count": 42
    }
   ],
   "source": [
    "data_test = data_test.to_numpy()\n",
    "data_test.shape"
   ]
  },
  {
   "cell_type": "code",
   "execution_count": 43,
   "metadata": {},
   "outputs": [],
   "source": [
    "data_test = np.expand_dims(data_test, 0)"
   ]
  },
  {
   "cell_type": "code",
   "execution_count": 44,
   "metadata": {},
   "outputs": [
    {
     "output_type": "execute_result",
     "data": {
      "text/plain": [
       "(1, 120, 11)"
      ]
     },
     "metadata": {},
     "execution_count": 44
    }
   ],
   "source": [
    "data_test.shape"
   ]
  },
  {
   "cell_type": "code",
   "execution_count": 46,
   "metadata": {},
   "outputs": [
    {
     "output_type": "execute_result",
     "data": {
      "text/plain": [
       "array([[27.667368]], dtype=float32)"
      ]
     },
     "metadata": {},
     "execution_count": 46
    }
   ],
   "source": [
    "model.predict(data_test)"
   ]
  },
  {
   "cell_type": "code",
   "execution_count": null,
   "metadata": {},
   "outputs": [],
   "source": []
  }
 ]
}