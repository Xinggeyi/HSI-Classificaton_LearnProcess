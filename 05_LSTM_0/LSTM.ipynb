{
 "cells": [
  {
   "cell_type": "code",
   "execution_count": 1,
   "metadata": {},
   "outputs": [],
   "source": [
    "from sklearn.neighbors import KNeighborsClassifier\n",
    "from sklearn.svm import SVC\n",
    "import numpy as np\n",
    "import scipy.io as sio\n",
    "import random\n",
    "import matplotlib.pyplot as plt\n",
    "import os\n",
    "from tensorflow import keras\n",
    "from tensorflow.keras import layers\n",
    "import tensorflow as tf"
   ]
  },
  {
   "cell_type": "code",
   "execution_count": 2,
   "metadata": {},
   "outputs": [
    {
     "output_type": "stream",
     "name": "stdout",
     "text": [
      "[PhysicalDevice(name='/physical_device:GPU:0', device_type='GPU')]\n"
     ]
    }
   ],
   "source": [
    "#  https://blog.csdn.net/ljyljyok/article/details/107619881  这里是解决这个问题，貌似这个问题指挥出现在LSTM中\n",
    "# https://blog.csdn.net/weixin_44545603/article/details/103322446?utm_medium=distribute.pc_relevant.none-task-blog-OPENSEARCH-1.nonecase&depth_1-utm_source=distribute.pc_relevant.none-task-blog-OPENSEARCH-1.nonecase\n",
    "gpus = tf.config.experimental.list_physical_devices('GPU')\n",
    "print(gpus)\n",
    "for gpu in gpus:\n",
    "    tf.config.experimental.set_memory_growth(gpu, True)"
   ]
  },
  {
   "cell_type": "markdown",
   "metadata": {},
   "source": [
    "# 一、导入数据加数据处理阶段"
   ]
  },
  {
   "cell_type": "code",
   "execution_count": 3,
   "metadata": {},
   "outputs": [],
   "source": [
    "# 导入数据\n",
    "path = os.path.join(\"E:\\Eric_HSI\\hyperspectral_datasets\")\n",
    "PaviaU = os.path.join(path,'paviaU.mat')\n",
    "PaviaU_gt = os.path.join(path,'paviaU_gt.mat')\n",
    "method_path = 'SVM'"
   ]
  },
  {
   "cell_type": "code",
   "execution_count": 4,
   "metadata": {},
   "outputs": [],
   "source": [
    "# 加载数据，返回值为一个字典内嵌ndarray的数据结构\n",
    "data = sio.loadmat(PaviaU)\n",
    "data_gt = sio.loadmat(PaviaU_gt)\n",
    "data = data['data']  # im为样本点的光谱值的ndarray\n",
    "data_label = data_gt['groundT']  # imGIS样本点的标签值组成的ndarray"
   ]
  },
  {
   "cell_type": "code",
   "execution_count": 5,
   "metadata": {},
   "outputs": [],
   "source": [
    "# 归一化，这个归一化的方法有点不一样\n",
    "data = (data - float(np.min(data)))\n",
    "data = data/np.max(data)"
   ]
  },
  {
   "cell_type": "code",
   "execution_count": 6,
   "metadata": {},
   "outputs": [
    {
     "output_type": "execute_result",
     "data": {
      "text/plain": [
       "(610, 340)"
      ]
     },
     "metadata": {},
     "execution_count": 6
    }
   ],
   "source": [
    "data.shape  # (610, 340, 103)\n",
    "data_label.shape  # (610, 340)"
   ]
  },
  {
   "cell_type": "code",
   "execution_count": 7,
   "metadata": {},
   "outputs": [
    {
     "output_type": "execute_result",
     "data": {
      "text/plain": [
       "9"
      ]
     },
     "metadata": {},
     "execution_count": 7
    }
   ],
   "source": [
    "# 参数设置\n",
    "# 训练数据集的个数200, deepth为通道数103，class为类别数 paviaU 为 9\n",
    "sample_num = 200\n",
    "deepth = data.shape[2]\n",
    "classes = np.max(data_label)\n",
    "classes"
   ]
  },
  {
   "cell_type": "code",
   "execution_count": 8,
   "metadata": {},
   "outputs": [
    {
     "output_type": "execute_result",
     "data": {
      "text/plain": [
       "{1: [], 2: [], 3: [], 4: [], 5: [], 6: [], 7: [], 8: [], 9: []}"
      ]
     },
     "metadata": {},
     "execution_count": 8
    }
   ],
   "source": [
    "# 创建三个字典,用处留在下一步说明\n",
    "data_pos = {}\n",
    "train_pos = {}\n",
    "test_pos = {}\n",
    "\n",
    "for i in range(1,classes+1):\n",
    "    data_pos[i] = []\n",
    "    train_pos[i] = []\n",
    "    test_pos[i] = []\n",
    "data_pos"
   ]
  },
  {
   "cell_type": "code",
   "execution_count": 9,
   "metadata": {},
   "outputs": [
    {
     "output_type": "execute_result",
     "data": {
      "text/plain": [
       "164624"
      ]
     },
     "metadata": {},
     "execution_count": 9
    }
   ],
   "source": [
    "# 构造一个总的data_pos\n",
    "num = 0\n",
    "for i in range(data_label.shape[0]):\n",
    "    for j in range(data_label.shape[1]):\n",
    "        if data_label[i][j] == 0:\n",
    "           num += 1\n",
    "num  "
   ]
  },
  {
   "cell_type": "code",
   "execution_count": 10,
   "metadata": {},
   "outputs": [],
   "source": [
    "# 统计每一个类的集合\n",
    "# 得到{1类：对应点坐标位置列表，2类：对应的坐标位置列表；等等}\n",
    "# 这里的 Class + 1 是因为有背景 \n",
    "# pos  ->  position\n",
    "\n",
    "# 构造一个总的data_pos\n",
    "for i in range(data_label.shape[0]):\n",
    "    for j in range(data_label.shape[1]):\n",
    "        for k in range(1,classes+1):     # 这里类别从1开始，把背景像素直接删除了\n",
    "            # 统计每一个类的集合\n",
    "            if data_label[i,j]==k:\n",
    "                data_pos[k].append([i,j])\n",
    "                continue"
   ]
  },
  {
   "cell_type": "code",
   "execution_count": 11,
   "metadata": {},
   "outputs": [
    {
     "output_type": "execute_result",
     "data": {
      "text/plain": [
       "[[0, 91],\n",
       " [0, 92],\n",
       " [0, 93],\n",
       " [0, 94],\n",
       " [0, 95],\n",
       " [0, 96],\n",
       " [0, 97],\n",
       " [0, 98],\n",
       " [0, 112],\n",
       " [0, 113]]"
      ]
     },
     "metadata": {},
     "execution_count": 11
    }
   ],
   "source": [
    "# 查看每一个类的坐标值\n",
    "# 取出键为1的 ndarray 中的前10个数，也就是标签为1的前10个像素是位置坐标位置\n",
    "data_pos[1][:10]"
   ]
  },
  {
   "cell_type": "code",
   "execution_count": 12,
   "metadata": {},
   "outputs": [],
   "source": [
    "# for k,v in data_pos.items():\n",
    "#     print(len(v))"
   ]
  },
  {
   "cell_type": "code",
   "execution_count": 13,
   "metadata": {},
   "outputs": [],
   "source": [
    "# 取出测试集和训练集,此过程后训练集和测试集为字典，和上面构造data_pos类似\n",
    "# 返回值也是字典，字典的内容一个是包含200 * class 的训练集和剩余的测试集\n",
    "for i in range(1,classes+1):\n",
    "    # 随机生成 200 个不重复的index，用于生成训练集和测试集\n",
    "    indexies = random.sample(range(len(data_pos[i])),sample_num)\n",
    "    for k in range(len(data_pos[i])):\n",
    "        if k not in indexies:\n",
    "            test_pos[i].append(data_pos[i][k])\n",
    "        else:\n",
    "            train_pos[i].append(data_pos[i][k])"
   ]
  },
  {
   "cell_type": "code",
   "execution_count": 14,
   "metadata": {},
   "outputs": [],
   "source": [
    "# for k,v in test_pos.items():\n",
    "#     print(len(v))"
   ]
  },
  {
   "cell_type": "code",
   "execution_count": 15,
   "metadata": {},
   "outputs": [
    {
     "output_type": "execute_result",
     "data": {
      "text/plain": [
       "[[1, 98],\n",
       " [3, 112],\n",
       " [4, 109],\n",
       " [6, 112],\n",
       " [11, 101],\n",
       " [15, 103],\n",
       " [16, 104],\n",
       " [18, 111],\n",
       " [21, 91],\n",
       " [24, 84]]"
      ]
     },
     "metadata": {},
     "execution_count": 15
    }
   ],
   "source": [
    "train_pos[1][:10]"
   ]
  },
  {
   "cell_type": "code",
   "execution_count": 16,
   "metadata": {},
   "outputs": [
    {
     "output_type": "stream",
     "name": "stdout",
     "text": [
      "9\n200\n<class 'dict'>\n"
     ]
    },
    {
     "output_type": "execute_result",
     "data": {
      "text/plain": [
       "1"
      ]
     },
     "metadata": {},
     "execution_count": 16
    }
   ],
   "source": [
    "print(len(train_pos))  # 9\n",
    "print(len(train_pos[2]))  # 200\n",
    "type(train_pos[1][:10])  # list\n",
    "print(type(train_pos))\n",
    "# type(train_pos[1]) # list\n",
    "row, col = train_pos[1][0]  # list可以这样取值\n",
    "row"
   ]
  },
  {
   "cell_type": "code",
   "execution_count": 17,
   "metadata": {},
   "outputs": [],
   "source": [
    "# dict train_pos change to list train, but list include n ndarray\n",
    "# 将位置信息转化光谱值信息，即将坐标值转化为其对应的光谱值，此过程得到一个为列表\n",
    "# 准确的说是列表内嵌套ndarray的结构，ndarray有 1 维，个数103\n",
    "train = []   # 训练样本的总个数，每个类别分别有200个样本,每个样本103维，总共有1800个样本\n",
    "train_label = []\n",
    "test = []\n",
    "test_label = []\n",
    "\n",
    "# 训练集生成\n",
    "for i in range(1,len(train_pos)+1):   # 9 classes + bacground \n",
    "    for j in range(len(train_pos[i])):   # 200个样本\n",
    "        row,col = train_pos[i][j]\n",
    "        train.append(data[row,col])   #### 一下子传入103维 ####\n",
    "        train_label.append(i)\n",
    "\n",
    "# 测试集生成\n",
    "for i in range(1,len(test_pos)+1):\n",
    "    for j in range(len(test_pos[i])):\n",
    "        row,col = test_pos[i][j]\n",
    "        test.append(data[row,col])\n",
    "        test_label.append(i)"
   ]
  },
  {
   "cell_type": "code",
   "execution_count": 18,
   "metadata": {},
   "outputs": [
    {
     "output_type": "execute_result",
     "data": {
      "text/plain": [
       "numpy.ndarray"
      ]
     },
     "metadata": {},
     "execution_count": 18
    }
   ],
   "source": [
    "type(train)   # list 1800\n",
    "type(train[1])  # ndarray"
   ]
  },
  {
   "cell_type": "markdown",
   "metadata": {},
   "source": [
    "### np.array & np.asarray\n",
    "- array和asarray都可以将结构数据转化为ndarray，\n",
    "- 但是主要区别就是当数据源是ndarray时，array仍然会copy出一个副本，占用新的内存，但asarray不会。"
   ]
  },
  {
   "cell_type": "code",
   "execution_count": 19,
   "metadata": {},
   "outputs": [
    {
     "output_type": "stream",
     "name": "stdout",
     "text": [
      "(1800, 103)\n(1800,)\n(1800, 103, 1)\n(40976, 103, 1)\n(40976,)\n"
     ]
    }
   ],
   "source": [
    "train = np.asarray(train)\n",
    "train_label = np.asarray(train_label)\n",
    "print(train.shape)\n",
    "print(train_label.shape)\n",
    "train = train.reshape(train.shape[0], train.shape[1], 1) \n",
    "print(train.shape)\n",
    "test = np.asarray(test)\n",
    "test_label = np.asarray(test_label)\n",
    "test = test.reshape(test.shape[0], test.shape[1], 1) \n",
    "print(test.shape)\n",
    "print(test_label.shape)"
   ]
  },
  {
   "cell_type": "code",
   "execution_count": 20,
   "metadata": {},
   "outputs": [],
   "source": [
    "# 标签值-1\n",
    "test_label = test_label - 1\n",
    "train_label = train_label - 1"
   ]
  },
  {
   "cell_type": "code",
   "execution_count": 21,
   "metadata": {},
   "outputs": [],
   "source": [
    "if not os.path.exists('./np_data'):\n",
    "    os.makedirs('./np_data')"
   ]
  },
  {
   "cell_type": "code",
   "execution_count": 22,
   "metadata": {},
   "outputs": [],
   "source": [
    "# 保存数据\n",
    "path_train = r\"E:\\Eric_HSI\\excise4\\np_data\\train\" + \".npy\"\n",
    "path_train_label = r\"E:\\Eric_HSI\\excise4\\np_data\\train_label\" + \".npy\"\n",
    "path_test = r\"E:\\Eric_HSI\\excise4\\np_data\\test\" + \".npy\"\n",
    "path_test_label = r\"E:\\Eric_HSI\\excise4\\np_data\\test_label\" + \".npy\"\n",
    "\n",
    "\n",
    "np.save(path_train, train)\n",
    "np.save(path_train_label, train_label)\n",
    "np.save(path_test, test)\n",
    "np.save(path_test_label, test_label)"
   ]
  },
  {
   "cell_type": "code",
   "execution_count": 23,
   "metadata": {},
   "outputs": [],
   "source": [
    "train_label = tf.keras.utils.to_categorical(train_label)\n",
    "test_label = tf.keras.utils.to_categorical(test_label)"
   ]
  },
  {
   "cell_type": "code",
   "execution_count": 24,
   "metadata": {},
   "outputs": [
    {
     "output_type": "execute_result",
     "data": {
      "text/plain": [
       "(9,)"
      ]
     },
     "metadata": {},
     "execution_count": 24
    }
   ],
   "source": [
    "test_label[1].shape"
   ]
  },
  {
   "cell_type": "code",
   "execution_count": 25,
   "metadata": {},
   "outputs": [],
   "source": [
    "# LSTM 擅长根据时间变化的预测趋势问题\n",
    "# model = keras.Sequential()\n",
    "# model.add(layers.LSTM(32, input_shape=(train.shape[1:])))\n",
    "# model.add(layers.Dense(10))\n",
    "\n",
    "model = keras.Sequential()\n",
    "model.add(layers.LSTM(64, input_shape=(train.shape[1:]), return_sequences=True))\n",
    "model.add(layers.LSTM(64, return_sequences=True))\n",
    "# model.add(layers.LSTM(64))\n",
    "model.add(layers.Flatten())\n",
    "model.add(layers.Dense(9, activation='softmax'))"
   ]
  },
  {
   "cell_type": "code",
   "execution_count": 26,
   "metadata": {},
   "outputs": [],
   "source": [
    "model.compile(optimizer=tf.keras.optimizers.Adam(learning_rate=0.0001),\n",
    "              loss='categorical_crossentropy',\n",
    "              metrics=['acc'])"
   ]
  },
  {
   "cell_type": "code",
   "execution_count": 27,
   "metadata": {},
   "outputs": [
    {
     "output_type": "stream",
     "name": "stdout",
     "text": [
      "Model: \"sequential\"\n_________________________________________________________________\nLayer (type)                 Output Shape              Param #   \n=================================================================\nlstm (LSTM)                  (None, 103, 64)           16896     \n_________________________________________________________________\nlstm_1 (LSTM)                (None, 103, 64)           33024     \n_________________________________________________________________\nflatten (Flatten)            (None, 6592)              0         \n_________________________________________________________________\ndense (Dense)                (None, 9)                 59337     \n=================================================================\nTotal params: 109,257\nTrainable params: 109,257\nNon-trainable params: 0\n_________________________________________________________________\n"
     ]
    }
   ],
   "source": [
    "model.summary()"
   ]
  },
  {
   "cell_type": "code",
   "execution_count": 28,
   "metadata": {},
   "outputs": [],
   "source": [
    "# checkpoint_path = \"./weights/cp.ckpt\"\n",
    "# if not os.path.exists('./weights'):\n",
    "#     os.makedirs('./weights')\n",
    "# checkpoint_dir = os.path.dirname(checkpoint_path)          # 获取文件夹名称"
   ]
  },
  {
   "cell_type": "code",
   "execution_count": 29,
   "metadata": {},
   "outputs": [],
   "source": [
    "# 创建一个保存模型权重的回调\n",
    "# cp_callback = tf.keras.callbacks.ModelCheckpoint(filepath=checkpoint_path,\n",
    "#                                                  save_weights_only=True,\n",
    "#                                                  save_best_only=True,\n",
    "#                                                  period=3,  # 每5次保存一次\n",
    "#                                                  verbose=1)\n",
    "lr = tf.keras.callbacks.ReduceLROnPlateau(monitor='val_loss', factor=0.8, patience=5, min_lr=0.000001, verbose=1)"
   ]
  },
  {
   "cell_type": "code",
   "execution_count": 30,
   "metadata": {},
   "outputs": [],
   "source": [
    "BATCH_SIZE = 64"
   ]
  },
  {
   "cell_type": "code",
   "execution_count": 31,
   "metadata": {},
   "outputs": [
    {
     "output_type": "stream",
     "name": "stdout",
     "text": [
      "Epoch 1/100\n",
      "29/29 [==============================] - 3s 103ms/step - loss: 2.1585 - acc: 0.1461 - val_loss: 2.1543 - val_acc: 0.0297\n",
      "Epoch 2/100\n",
      "29/29 [==============================] - 2s 81ms/step - loss: 1.9808 - acc: 0.2444 - val_loss: 1.9349 - val_acc: 0.1629\n",
      "Epoch 3/100\n",
      "29/29 [==============================] - 2s 81ms/step - loss: 1.4696 - acc: 0.4333 - val_loss: 1.4559 - val_acc: 0.2907\n",
      "Epoch 4/100\n",
      "29/29 [==============================] - 2s 81ms/step - loss: 1.1364 - acc: 0.4894 - val_loss: 1.2305 - val_acc: 0.3898\n",
      "Epoch 5/100\n",
      "29/29 [==============================] - 2s 81ms/step - loss: 1.0118 - acc: 0.5528 - val_loss: 1.0718 - val_acc: 0.5881\n",
      "Epoch 6/100\n",
      "29/29 [==============================] - 2s 81ms/step - loss: 0.8989 - acc: 0.6328 - val_loss: 1.0634 - val_acc: 0.5159\n",
      "Epoch 7/100\n",
      "29/29 [==============================] - 2s 81ms/step - loss: 0.8127 - acc: 0.6578 - val_loss: 1.0007 - val_acc: 0.5591\n",
      "Epoch 8/100\n",
      "29/29 [==============================] - 2s 81ms/step - loss: 0.7621 - acc: 0.6906 - val_loss: 0.9770 - val_acc: 0.5446\n",
      "Epoch 9/100\n",
      "29/29 [==============================] - 2s 81ms/step - loss: 0.7243 - acc: 0.6872 - val_loss: 0.9420 - val_acc: 0.5822\n",
      "Epoch 10/100\n",
      "29/29 [==============================] - 2s 81ms/step - loss: 0.7034 - acc: 0.6961 - val_loss: 0.9278 - val_acc: 0.5887\n",
      "Epoch 11/100\n",
      "29/29 [==============================] - 2s 81ms/step - loss: 0.6837 - acc: 0.7089 - val_loss: 0.8555 - val_acc: 0.6509\n",
      "Epoch 12/100\n",
      "29/29 [==============================] - 2s 81ms/step - loss: 0.6585 - acc: 0.7194 - val_loss: 0.8738 - val_acc: 0.6560\n",
      "Epoch 13/100\n",
      "29/29 [==============================] - 2s 81ms/step - loss: 0.6447 - acc: 0.7289 - val_loss: 0.8923 - val_acc: 0.6133\n",
      "Epoch 14/100\n",
      "29/29 [==============================] - 2s 81ms/step - loss: 0.6392 - acc: 0.7261 - val_loss: 0.7651 - val_acc: 0.6866\n",
      "Epoch 15/100\n",
      "29/29 [==============================] - 2s 81ms/step - loss: 0.6297 - acc: 0.7383 - val_loss: 0.7819 - val_acc: 0.6771\n",
      "Epoch 16/100\n",
      "29/29 [==============================] - 2s 81ms/step - loss: 0.5945 - acc: 0.7478 - val_loss: 0.8170 - val_acc: 0.6503\n",
      "Epoch 17/100\n",
      "29/29 [==============================] - 2s 81ms/step - loss: 0.5831 - acc: 0.7528 - val_loss: 0.7400 - val_acc: 0.6790\n",
      "Epoch 18/100\n",
      "29/29 [==============================] - 2s 81ms/step - loss: 0.5767 - acc: 0.7556 - val_loss: 0.7763 - val_acc: 0.6785\n",
      "Epoch 19/100\n",
      "29/29 [==============================] - 2s 81ms/step - loss: 0.5675 - acc: 0.7661 - val_loss: 0.7556 - val_acc: 0.6860\n",
      "Epoch 20/100\n",
      "29/29 [==============================] - 2s 81ms/step - loss: 0.5570 - acc: 0.7789 - val_loss: 0.6993 - val_acc: 0.6911\n",
      "Epoch 21/100\n",
      "29/29 [==============================] - 2s 81ms/step - loss: 0.5547 - acc: 0.7672 - val_loss: 0.7834 - val_acc: 0.6212\n",
      "Epoch 22/100\n",
      "29/29 [==============================] - 2s 81ms/step - loss: 0.5431 - acc: 0.7694 - val_loss: 0.6960 - val_acc: 0.7033\n",
      "Epoch 23/100\n",
      "29/29 [==============================] - 2s 81ms/step - loss: 0.5391 - acc: 0.7761 - val_loss: 0.7263 - val_acc: 0.6946\n",
      "Epoch 24/100\n",
      "29/29 [==============================] - 2s 82ms/step - loss: 0.5424 - acc: 0.7700 - val_loss: 0.7198 - val_acc: 0.6797\n",
      "Epoch 25/100\n",
      "29/29 [==============================] - 2s 81ms/step - loss: 0.5310 - acc: 0.7800 - val_loss: 0.7606 - val_acc: 0.6555\n",
      "Epoch 26/100\n",
      "29/29 [==============================] - 2s 82ms/step - loss: 0.5301 - acc: 0.7944 - val_loss: 0.7514 - val_acc: 0.6609\n",
      "Epoch 27/100\n",
      "22/29 [=====================>........] - ETA: 0s - loss: 0.5383 - acc: 0.7805\n",
      "Epoch 00027: ReduceLROnPlateau reducing learning rate to 7.999999797903001e-05.\n",
      "29/29 [==============================] - 2s 84ms/step - loss: 0.5352 - acc: 0.7800 - val_loss: 0.7575 - val_acc: 0.6619\n",
      "Epoch 28/100\n",
      "29/29 [==============================] - 2s 81ms/step - loss: 0.5100 - acc: 0.7933 - val_loss: 0.6664 - val_acc: 0.7105\n",
      "Epoch 29/100\n",
      "29/29 [==============================] - 2s 82ms/step - loss: 0.4916 - acc: 0.8022 - val_loss: 0.6918 - val_acc: 0.6968\n",
      "Epoch 30/100\n",
      "29/29 [==============================] - 2s 82ms/step - loss: 0.4849 - acc: 0.8094 - val_loss: 0.6605 - val_acc: 0.7193\n",
      "Epoch 31/100\n",
      "29/29 [==============================] - 2s 81ms/step - loss: 0.4828 - acc: 0.8094 - val_loss: 0.7126 - val_acc: 0.6803\n",
      "Epoch 32/100\n",
      "29/29 [==============================] - 2s 82ms/step - loss: 0.4765 - acc: 0.8211 - val_loss: 0.6936 - val_acc: 0.6996\n",
      "Epoch 33/100\n",
      "29/29 [==============================] - 2s 81ms/step - loss: 0.4987 - acc: 0.7889 - val_loss: 0.7021 - val_acc: 0.6738\n",
      "Epoch 34/100\n",
      "29/29 [==============================] - 2s 81ms/step - loss: 0.4754 - acc: 0.8089 - val_loss: 0.6756 - val_acc: 0.7038\n",
      "Epoch 35/100\n",
      "23/29 [======================>.......] - ETA: 0s - loss: 0.4626 - acc: 0.8152\n",
      "Epoch 00035: ReduceLROnPlateau reducing learning rate to 6.399999838322402e-05.\n",
      "29/29 [==============================] - 2s 81ms/step - loss: 0.4665 - acc: 0.8167 - val_loss: 0.6958 - val_acc: 0.6851\n",
      "Epoch 36/100\n",
      "29/29 [==============================] - 2s 82ms/step - loss: 0.4667 - acc: 0.8033 - val_loss: 0.6315 - val_acc: 0.7297\n",
      "Epoch 37/100\n",
      "29/29 [==============================] - 2s 81ms/step - loss: 0.4548 - acc: 0.8211 - val_loss: 0.6697 - val_acc: 0.6999\n",
      "Epoch 38/100\n",
      "29/29 [==============================] - 2s 81ms/step - loss: 0.4451 - acc: 0.8206 - val_loss: 0.7023 - val_acc: 0.6867\n",
      "Epoch 39/100\n",
      "29/29 [==============================] - 2s 82ms/step - loss: 0.4496 - acc: 0.8239 - val_loss: 0.6568 - val_acc: 0.7098\n",
      "Epoch 40/100\n",
      "29/29 [==============================] - 2s 81ms/step - loss: 0.4779 - acc: 0.8156 - val_loss: 0.6735 - val_acc: 0.7059\n",
      "Epoch 41/100\n",
      "23/29 [======================>.......] - ETA: 0s - loss: 0.4469 - acc: 0.8207\n",
      "Epoch 00041: ReduceLROnPlateau reducing learning rate to 5.119999987073243e-05.\n",
      "29/29 [==============================] - 2s 81ms/step - loss: 0.4451 - acc: 0.8206 - val_loss: 0.6678 - val_acc: 0.7040\n",
      "Epoch 42/100\n",
      "29/29 [==============================] - 2s 82ms/step - loss: 0.4367 - acc: 0.8339 - val_loss: 0.6523 - val_acc: 0.7134\n",
      "Epoch 43/100\n",
      "29/29 [==============================] - 2s 81ms/step - loss: 0.4368 - acc: 0.8217 - val_loss: 0.6623 - val_acc: 0.7100\n",
      "Epoch 44/100\n",
      "29/29 [==============================] - 2s 81ms/step - loss: 0.4351 - acc: 0.8261 - val_loss: 0.6484 - val_acc: 0.7081\n",
      "Epoch 45/100\n",
      "29/29 [==============================] - 2s 82ms/step - loss: 0.4359 - acc: 0.8306 - val_loss: 0.6166 - val_acc: 0.7321\n",
      "Epoch 46/100\n",
      "29/29 [==============================] - 2s 81ms/step - loss: 0.4307 - acc: 0.8283 - val_loss: 0.6414 - val_acc: 0.7123\n",
      "Epoch 47/100\n",
      "29/29 [==============================] - 2s 81ms/step - loss: 0.4291 - acc: 0.8239 - val_loss: 0.6839 - val_acc: 0.6883\n",
      "Epoch 48/100\n",
      "29/29 [==============================] - 2s 82ms/step - loss: 0.4230 - acc: 0.8311 - val_loss: 0.6411 - val_acc: 0.7165\n",
      "Epoch 49/100\n",
      "29/29 [==============================] - 2s 81ms/step - loss: 0.4311 - acc: 0.8239 - val_loss: 0.6806 - val_acc: 0.6936\n",
      "Epoch 50/100\n",
      "23/29 [======================>.......] - ETA: 0s - loss: 0.4160 - acc: 0.8410\n",
      "Epoch 00050: ReduceLROnPlateau reducing learning rate to 4.0960000478662555e-05.\n",
      "29/29 [==============================] - 2s 82ms/step - loss: 0.4249 - acc: 0.8372 - val_loss: 0.6775 - val_acc: 0.6853\n",
      "Epoch 51/100\n",
      "29/29 [==============================] - 2s 82ms/step - loss: 0.4240 - acc: 0.8300 - val_loss: 0.6484 - val_acc: 0.7145\n",
      "Epoch 52/100\n",
      "29/29 [==============================] - 2s 81ms/step - loss: 0.4163 - acc: 0.8333 - val_loss: 0.6442 - val_acc: 0.7130\n",
      "Epoch 53/100\n",
      "29/29 [==============================] - 2s 81ms/step - loss: 0.4190 - acc: 0.8339 - val_loss: 0.6262 - val_acc: 0.7249\n",
      "Epoch 54/100\n",
      "29/29 [==============================] - 2s 83ms/step - loss: 0.4222 - acc: 0.8322 - val_loss: 0.6285 - val_acc: 0.7185\n",
      "Epoch 55/100\n",
      "23/29 [======================>.......] - ETA: 0s - loss: 0.4255 - acc: 0.8213\n",
      "Epoch 00055: ReduceLROnPlateau reducing learning rate to 3.2767999800853435e-05.\n",
      "29/29 [==============================] - 2s 83ms/step - loss: 0.4139 - acc: 0.8294 - val_loss: 0.6192 - val_acc: 0.7264\n",
      "Epoch 56/100\n",
      "29/29 [==============================] - 2s 83ms/step - loss: 0.4151 - acc: 0.8378 - val_loss: 0.6559 - val_acc: 0.6970\n",
      "Epoch 57/100\n",
      "29/29 [==============================] - 2s 83ms/step - loss: 0.4171 - acc: 0.8333 - val_loss: 0.6188 - val_acc: 0.7324\n",
      "Epoch 58/100\n",
      "29/29 [==============================] - 2s 82ms/step - loss: 0.4123 - acc: 0.8372 - val_loss: 0.6288 - val_acc: 0.7178\n",
      "Epoch 59/100\n",
      "29/29 [==============================] - 2s 82ms/step - loss: 0.4101 - acc: 0.8317 - val_loss: 0.6278 - val_acc: 0.7203\n",
      "Epoch 60/100\n",
      "23/29 [======================>.......] - ETA: 0s - loss: 0.3954 - acc: 0.8451\n",
      "Epoch 00060: ReduceLROnPlateau reducing learning rate to 2.6214399258606137e-05.\n",
      "29/29 [==============================] - 2s 82ms/step - loss: 0.4078 - acc: 0.8344 - val_loss: 0.6246 - val_acc: 0.7207\n",
      "Epoch 61/100\n",
      "29/29 [==============================] - 2s 81ms/step - loss: 0.4105 - acc: 0.8372 - val_loss: 0.6169 - val_acc: 0.7242\n",
      "Epoch 62/100\n",
      "29/29 [==============================] - 2s 83ms/step - loss: 0.4059 - acc: 0.8406 - val_loss: 0.6605 - val_acc: 0.6974\n",
      "Epoch 63/100\n",
      "29/29 [==============================] - 2s 83ms/step - loss: 0.4045 - acc: 0.8394 - val_loss: 0.6075 - val_acc: 0.7309\n",
      "Epoch 64/100\n",
      "29/29 [==============================] - 2s 82ms/step - loss: 0.4083 - acc: 0.8400 - val_loss: 0.6308 - val_acc: 0.7155\n",
      "Epoch 65/100\n",
      "29/29 [==============================] - 2s 84ms/step - loss: 0.4052 - acc: 0.8344 - val_loss: 0.6173 - val_acc: 0.7249\n",
      "Epoch 66/100\n",
      "29/29 [==============================] - 2s 84ms/step - loss: 0.4046 - acc: 0.8428 - val_loss: 0.6208 - val_acc: 0.7245\n",
      "Epoch 67/100\n",
      "29/29 [==============================] - 2s 83ms/step - loss: 0.4043 - acc: 0.8356 - val_loss: 0.6405 - val_acc: 0.7117\n",
      "Epoch 68/100\n",
      "22/29 [=====================>........] - ETA: 0s - loss: 0.3888 - acc: 0.8331\n",
      "Epoch 00068: ReduceLROnPlateau reducing learning rate to 2.09715188248083e-05.\n",
      "29/29 [==============================] - 2s 85ms/step - loss: 0.4039 - acc: 0.8333 - val_loss: 0.6171 - val_acc: 0.7257\n",
      "Epoch 69/100\n",
      "29/29 [==============================] - 2s 84ms/step - loss: 0.4004 - acc: 0.8417 - val_loss: 0.6218 - val_acc: 0.7220\n",
      "Epoch 70/100\n",
      "29/29 [==============================] - 2s 81ms/step - loss: 0.3991 - acc: 0.8383 - val_loss: 0.6260 - val_acc: 0.7194\n",
      "Epoch 71/100\n",
      "29/29 [==============================] - 2s 84ms/step - loss: 0.3997 - acc: 0.8411 - val_loss: 0.6280 - val_acc: 0.7163\n",
      "Epoch 72/100\n",
      "29/29 [==============================] - 2s 85ms/step - loss: 0.4001 - acc: 0.8283 - val_loss: 0.6393 - val_acc: 0.7091\n",
      "Epoch 73/100\n",
      "22/29 [=====================>........] - ETA: 0s - loss: 0.3987 - acc: 0.8381\n",
      "Epoch 00073: ReduceLROnPlateau reducing learning rate to 1.6777214477770033e-05.\n",
      "29/29 [==============================] - 2s 83ms/step - loss: 0.3983 - acc: 0.8422 - val_loss: 0.6215 - val_acc: 0.7222\n",
      "Epoch 74/100\n",
      "29/29 [==============================] - 2s 82ms/step - loss: 0.3980 - acc: 0.8417 - val_loss: 0.6165 - val_acc: 0.7262\n",
      "Epoch 75/100\n",
      "29/29 [==============================] - 2s 82ms/step - loss: 0.4017 - acc: 0.8383 - val_loss: 0.6180 - val_acc: 0.7231\n",
      "Epoch 76/100\n",
      "29/29 [==============================] - 2s 83ms/step - loss: 0.3985 - acc: 0.8417 - val_loss: 0.6276 - val_acc: 0.7168\n",
      "Epoch 77/100\n",
      "29/29 [==============================] - 2s 85ms/step - loss: 0.3977 - acc: 0.8356 - val_loss: 0.6208 - val_acc: 0.7231\n",
      "Epoch 78/100\n",
      "29/29 [==============================] - ETA: 0s - loss: 0.3972 - acc: 0.8372\n",
      "Epoch 00078: ReduceLROnPlateau reducing learning rate to 1.3421771291177721e-05.\n",
      "29/29 [==============================] - 3s 88ms/step - loss: 0.3972 - acc: 0.8372 - val_loss: 0.6192 - val_acc: 0.7212\n",
      "Epoch 79/100\n",
      "29/29 [==============================] - 2s 85ms/step - loss: 0.3966 - acc: 0.8433 - val_loss: 0.6197 - val_acc: 0.7251\n",
      "Epoch 80/100\n",
      "29/29 [==============================] - 2s 85ms/step - loss: 0.3978 - acc: 0.8389 - val_loss: 0.6400 - val_acc: 0.7058\n",
      "Epoch 81/100\n",
      "29/29 [==============================] - 2s 85ms/step - loss: 0.3950 - acc: 0.8367 - val_loss: 0.6170 - val_acc: 0.7209\n",
      "Epoch 82/100\n",
      "29/29 [==============================] - 2s 84ms/step - loss: 0.3947 - acc: 0.8356 - val_loss: 0.6237 - val_acc: 0.7182\n",
      "Epoch 83/100\n",
      "29/29 [==============================] - ETA: 0s - loss: 0.3962 - acc: 0.8350\n",
      "Epoch 00083: ReduceLROnPlateau reducing learning rate to 1.0737417323980481e-05.\n",
      "29/29 [==============================] - 2s 84ms/step - loss: 0.3962 - acc: 0.8350 - val_loss: 0.6247 - val_acc: 0.7176\n",
      "Epoch 84/100\n",
      "29/29 [==============================] - 2s 86ms/step - loss: 0.3951 - acc: 0.8344 - val_loss: 0.6274 - val_acc: 0.7154\n",
      "Epoch 85/100\n",
      "29/29 [==============================] - 2s 86ms/step - loss: 0.3942 - acc: 0.8344 - val_loss: 0.6179 - val_acc: 0.7212\n",
      "Epoch 86/100\n",
      "29/29 [==============================] - 3s 87ms/step - loss: 0.3932 - acc: 0.8422 - val_loss: 0.6259 - val_acc: 0.7183\n",
      "Epoch 87/100\n",
      "29/29 [==============================] - 3s 86ms/step - loss: 0.3926 - acc: 0.8406 - val_loss: 0.6210 - val_acc: 0.7218\n",
      "Epoch 88/100\n",
      "22/29 [=====================>........] - ETA: 0s - loss: 0.3903 - acc: 0.8438\n",
      "Epoch 00088: ReduceLROnPlateau reducing learning rate to 8.589933713665232e-06.\n",
      "29/29 [==============================] - 2s 84ms/step - loss: 0.3927 - acc: 0.8400 - val_loss: 0.6188 - val_acc: 0.7219\n",
      "Epoch 89/100\n",
      "29/29 [==============================] - 3s 87ms/step - loss: 0.3912 - acc: 0.8422 - val_loss: 0.6223 - val_acc: 0.7194\n",
      "Epoch 90/100\n",
      "29/29 [==============================] - 3s 87ms/step - loss: 0.3926 - acc: 0.8356 - val_loss: 0.6240 - val_acc: 0.7171\n",
      "Epoch 91/100\n",
      "29/29 [==============================] - 2s 85ms/step - loss: 0.3911 - acc: 0.8389 - val_loss: 0.6228 - val_acc: 0.7195\n",
      "Epoch 92/100\n",
      "29/29 [==============================] - 3s 87ms/step - loss: 0.3911 - acc: 0.8394 - val_loss: 0.6213 - val_acc: 0.7198\n",
      "Epoch 93/100\n",
      "22/29 [=====================>........] - ETA: 0s - loss: 0.3963 - acc: 0.8281\n",
      "Epoch 00093: ReduceLROnPlateau reducing learning rate to 6.871946970932186e-06.\n",
      "29/29 [==============================] - 2s 86ms/step - loss: 0.3939 - acc: 0.8378 - val_loss: 0.6185 - val_acc: 0.7212\n",
      "Epoch 94/100\n",
      "29/29 [==============================] - 2s 86ms/step - loss: 0.3907 - acc: 0.8428 - val_loss: 0.6175 - val_acc: 0.7238\n",
      "Epoch 95/100\n",
      "29/29 [==============================] - 2s 86ms/step - loss: 0.3919 - acc: 0.8417 - val_loss: 0.6273 - val_acc: 0.7145\n",
      "Epoch 96/100\n",
      "29/29 [==============================] - 2s 84ms/step - loss: 0.3907 - acc: 0.8428 - val_loss: 0.6105 - val_acc: 0.7242\n",
      "Epoch 97/100\n",
      "29/29 [==============================] - 2s 83ms/step - loss: 0.3907 - acc: 0.8417 - val_loss: 0.6158 - val_acc: 0.7223\n",
      "Epoch 98/100\n",
      "23/29 [======================>.......] - ETA: 0s - loss: 0.3914 - acc: 0.8390\n",
      "Epoch 00098: ReduceLROnPlateau reducing learning rate to 5.497557503986173e-06.\n",
      "29/29 [==============================] - 2s 82ms/step - loss: 0.3909 - acc: 0.8406 - val_loss: 0.6202 - val_acc: 0.7193\n",
      "Epoch 99/100\n",
      "29/29 [==============================] - 2s 83ms/step - loss: 0.3898 - acc: 0.8378 - val_loss: 0.6222 - val_acc: 0.7173\n",
      "Epoch 100/100\n",
      "29/29 [==============================] - 2s 83ms/step - loss: 0.3903 - acc: 0.8389 - val_loss: 0.6186 - val_acc: 0.7212\n"
     ]
    }
   ],
   "source": [
    "history = model.fit(train, \n",
    "                    train_label, \n",
    "                    batch_size=BATCH_SIZE, \n",
    "                    epochs=100, \n",
    "                    validation_data=(test, test_label),\n",
    "                    callbacks=[lr])"
   ]
  },
  {
   "cell_type": "code",
   "execution_count": 39,
   "metadata": {},
   "outputs": [],
   "source": [
    "if not os.path.exists('./weights'):\n",
    "    os.makedirs('./weights')"
   ]
  },
  {
   "cell_type": "code",
   "execution_count": 40,
   "metadata": {},
   "outputs": [],
   "source": [
    "# 保存权重\n",
    "model.save_weights('./weights/weight.ckpt')"
   ]
  },
  {
   "cell_type": "code",
   "execution_count": 41,
   "metadata": {},
   "outputs": [],
   "source": [
    "# if not os.path.exists('./model'):\n",
    "#     os.makedirs('./model')"
   ]
  },
  {
   "cell_type": "code",
   "execution_count": 42,
   "metadata": {},
   "outputs": [],
   "source": [
    "# 画出图片\n",
    "# from tensorflow.keras.utils import plot_model\n",
    "# plot_model(model, to_file='./model/model.png', show_shapes=True)"
   ]
  },
  {
   "cell_type": "code",
   "execution_count": 43,
   "metadata": {},
   "outputs": [],
   "source": [
    "# 读取画出的图片\n",
    "# show the model figure\n",
    "# model_img = plt.imread('./model/model.png')\n",
    "# plt.figure(dpi=180)\n",
    "# plt.imshow(model_img)\n",
    "# plt.show()"
   ]
  },
  {
   "cell_type": "code",
   "execution_count": 44,
   "metadata": {},
   "outputs": [
    {
     "output_type": "display_data",
     "data": {
      "text/plain": "<Figure size 432x288 with 1 Axes>",
      "image/svg+xml": "<?xml version=\"1.0\" encoding=\"utf-8\" standalone=\"no\"?>\r\n<!DOCTYPE svg PUBLIC \"-//W3C//DTD SVG 1.1//EN\"\r\n  \"http://www.w3.org/Graphics/SVG/1.1/DTD/svg11.dtd\">\r\n<!-- Created with matplotlib (https://matplotlib.org/) -->\r\n<svg height=\"277.314375pt\" version=\"1.1\" viewBox=\"0 0 385.78125 277.314375\" width=\"385.78125pt\" xmlns=\"http://www.w3.org/2000/svg\" xmlns:xlink=\"http://www.w3.org/1999/xlink\">\r\n <metadata>\r\n  <rdf:RDF xmlns:cc=\"http://creativecommons.org/ns#\" xmlns:dc=\"http://purl.org/dc/elements/1.1/\" xmlns:rdf=\"http://www.w3.org/1999/02/22-rdf-syntax-ns#\">\r\n   <cc:Work>\r\n    <dc:type rdf:resource=\"http://purl.org/dc/dcmitype/StillImage\"/>\r\n    <dc:date>2020-11-19T10:47:02.131782</dc:date>\r\n    <dc:format>image/svg+xml</dc:format>\r\n    <dc:creator>\r\n     <cc:Agent>\r\n      <dc:title>Matplotlib v3.3.3, https://matplotlib.org/</dc:title>\r\n     </cc:Agent>\r\n    </dc:creator>\r\n   </cc:Work>\r\n  </rdf:RDF>\r\n </metadata>\r\n <defs>\r\n  <style type=\"text/css\">*{stroke-linecap:butt;stroke-linejoin:round;}</style>\r\n </defs>\r\n <g id=\"figure_1\">\r\n  <g id=\"patch_1\">\r\n   <path d=\"M 0 277.314375 \r\nL 385.78125 277.314375 \r\nL 385.78125 0 \r\nL 0 0 \r\nz\r\n\" style=\"fill:none;\"/>\r\n  </g>\r\n  <g id=\"axes_1\">\r\n   <g id=\"patch_2\">\r\n    <path d=\"M 43.78125 239.758125 \r\nL 378.58125 239.758125 \r\nL 378.58125 22.318125 \r\nL 43.78125 22.318125 \r\nz\r\n\" style=\"fill:#ffffff;\"/>\r\n   </g>\r\n   <g id=\"matplotlib.axis_1\">\r\n    <g id=\"xtick_1\">\r\n     <g id=\"line2d_1\">\r\n      <path clip-path=\"url(#p69b7ac053c)\" d=\"M 58.999432 239.758125 \r\nL 58.999432 22.318125 \r\n\" style=\"fill:none;stroke:#b0b0b0;stroke-linecap:square;stroke-width:0.8;\"/>\r\n     </g>\r\n     <g id=\"line2d_2\">\r\n      <defs>\r\n       <path d=\"M 0 0 \r\nL 0 3.5 \r\n\" id=\"m6579c2a2ee\" style=\"stroke:#000000;stroke-width:0.8;\"/>\r\n      </defs>\r\n      <g>\r\n       <use style=\"stroke:#000000;stroke-width:0.8;\" x=\"58.999432\" xlink:href=\"#m6579c2a2ee\" y=\"239.758125\"/>\r\n      </g>\r\n     </g>\r\n     <g id=\"text_1\">\r\n      <!-- 0 -->\r\n      <g transform=\"translate(55.818182 254.356562)scale(0.1 -0.1)\">\r\n       <defs>\r\n        <path d=\"M 31.78125 66.40625 \r\nQ 24.171875 66.40625 20.328125 58.90625 \r\nQ 16.5 51.421875 16.5 36.375 \r\nQ 16.5 21.390625 20.328125 13.890625 \r\nQ 24.171875 6.390625 31.78125 6.390625 \r\nQ 39.453125 6.390625 43.28125 13.890625 \r\nQ 47.125 21.390625 47.125 36.375 \r\nQ 47.125 51.421875 43.28125 58.90625 \r\nQ 39.453125 66.40625 31.78125 66.40625 \r\nz\r\nM 31.78125 74.21875 \r\nQ 44.046875 74.21875 50.515625 64.515625 \r\nQ 56.984375 54.828125 56.984375 36.375 \r\nQ 56.984375 17.96875 50.515625 8.265625 \r\nQ 44.046875 -1.421875 31.78125 -1.421875 \r\nQ 19.53125 -1.421875 13.0625 8.265625 \r\nQ 6.59375 17.96875 6.59375 36.375 \r\nQ 6.59375 54.828125 13.0625 64.515625 \r\nQ 19.53125 74.21875 31.78125 74.21875 \r\nz\r\n\" id=\"DejaVuSans-48\"/>\r\n       </defs>\r\n       <use xlink:href=\"#DejaVuSans-48\"/>\r\n      </g>\r\n     </g>\r\n    </g>\r\n    <g id=\"xtick_2\">\r\n     <g id=\"line2d_3\">\r\n      <path clip-path=\"url(#p69b7ac053c)\" d=\"M 120.487035 239.758125 \r\nL 120.487035 22.318125 \r\n\" style=\"fill:none;stroke:#b0b0b0;stroke-linecap:square;stroke-width:0.8;\"/>\r\n     </g>\r\n     <g id=\"line2d_4\">\r\n      <g>\r\n       <use style=\"stroke:#000000;stroke-width:0.8;\" x=\"120.487035\" xlink:href=\"#m6579c2a2ee\" y=\"239.758125\"/>\r\n      </g>\r\n     </g>\r\n     <g id=\"text_2\">\r\n      <!-- 20 -->\r\n      <g transform=\"translate(114.124535 254.356562)scale(0.1 -0.1)\">\r\n       <defs>\r\n        <path d=\"M 19.1875 8.296875 \r\nL 53.609375 8.296875 \r\nL 53.609375 0 \r\nL 7.328125 0 \r\nL 7.328125 8.296875 \r\nQ 12.9375 14.109375 22.625 23.890625 \r\nQ 32.328125 33.6875 34.8125 36.53125 \r\nQ 39.546875 41.84375 41.421875 45.53125 \r\nQ 43.3125 49.21875 43.3125 52.78125 \r\nQ 43.3125 58.59375 39.234375 62.25 \r\nQ 35.15625 65.921875 28.609375 65.921875 \r\nQ 23.96875 65.921875 18.8125 64.3125 \r\nQ 13.671875 62.703125 7.8125 59.421875 \r\nL 7.8125 69.390625 \r\nQ 13.765625 71.78125 18.9375 73 \r\nQ 24.125 74.21875 28.421875 74.21875 \r\nQ 39.75 74.21875 46.484375 68.546875 \r\nQ 53.21875 62.890625 53.21875 53.421875 \r\nQ 53.21875 48.921875 51.53125 44.890625 \r\nQ 49.859375 40.875 45.40625 35.40625 \r\nQ 44.1875 33.984375 37.640625 27.21875 \r\nQ 31.109375 20.453125 19.1875 8.296875 \r\nz\r\n\" id=\"DejaVuSans-50\"/>\r\n       </defs>\r\n       <use xlink:href=\"#DejaVuSans-50\"/>\r\n       <use x=\"63.623047\" xlink:href=\"#DejaVuSans-48\"/>\r\n      </g>\r\n     </g>\r\n    </g>\r\n    <g id=\"xtick_3\">\r\n     <g id=\"line2d_5\">\r\n      <path clip-path=\"url(#p69b7ac053c)\" d=\"M 181.974638 239.758125 \r\nL 181.974638 22.318125 \r\n\" style=\"fill:none;stroke:#b0b0b0;stroke-linecap:square;stroke-width:0.8;\"/>\r\n     </g>\r\n     <g id=\"line2d_6\">\r\n      <g>\r\n       <use style=\"stroke:#000000;stroke-width:0.8;\" x=\"181.974638\" xlink:href=\"#m6579c2a2ee\" y=\"239.758125\"/>\r\n      </g>\r\n     </g>\r\n     <g id=\"text_3\">\r\n      <!-- 40 -->\r\n      <g transform=\"translate(175.612138 254.356562)scale(0.1 -0.1)\">\r\n       <defs>\r\n        <path d=\"M 37.796875 64.3125 \r\nL 12.890625 25.390625 \r\nL 37.796875 25.390625 \r\nz\r\nM 35.203125 72.90625 \r\nL 47.609375 72.90625 \r\nL 47.609375 25.390625 \r\nL 58.015625 25.390625 \r\nL 58.015625 17.1875 \r\nL 47.609375 17.1875 \r\nL 47.609375 0 \r\nL 37.796875 0 \r\nL 37.796875 17.1875 \r\nL 4.890625 17.1875 \r\nL 4.890625 26.703125 \r\nz\r\n\" id=\"DejaVuSans-52\"/>\r\n       </defs>\r\n       <use xlink:href=\"#DejaVuSans-52\"/>\r\n       <use x=\"63.623047\" xlink:href=\"#DejaVuSans-48\"/>\r\n      </g>\r\n     </g>\r\n    </g>\r\n    <g id=\"xtick_4\">\r\n     <g id=\"line2d_7\">\r\n      <path clip-path=\"url(#p69b7ac053c)\" d=\"M 243.462242 239.758125 \r\nL 243.462242 22.318125 \r\n\" style=\"fill:none;stroke:#b0b0b0;stroke-linecap:square;stroke-width:0.8;\"/>\r\n     </g>\r\n     <g id=\"line2d_8\">\r\n      <g>\r\n       <use style=\"stroke:#000000;stroke-width:0.8;\" x=\"243.462242\" xlink:href=\"#m6579c2a2ee\" y=\"239.758125\"/>\r\n      </g>\r\n     </g>\r\n     <g id=\"text_4\">\r\n      <!-- 60 -->\r\n      <g transform=\"translate(237.099742 254.356562)scale(0.1 -0.1)\">\r\n       <defs>\r\n        <path d=\"M 33.015625 40.375 \r\nQ 26.375 40.375 22.484375 35.828125 \r\nQ 18.609375 31.296875 18.609375 23.390625 \r\nQ 18.609375 15.53125 22.484375 10.953125 \r\nQ 26.375 6.390625 33.015625 6.390625 \r\nQ 39.65625 6.390625 43.53125 10.953125 \r\nQ 47.40625 15.53125 47.40625 23.390625 \r\nQ 47.40625 31.296875 43.53125 35.828125 \r\nQ 39.65625 40.375 33.015625 40.375 \r\nz\r\nM 52.59375 71.296875 \r\nL 52.59375 62.3125 \r\nQ 48.875 64.0625 45.09375 64.984375 \r\nQ 41.3125 65.921875 37.59375 65.921875 \r\nQ 27.828125 65.921875 22.671875 59.328125 \r\nQ 17.53125 52.734375 16.796875 39.40625 \r\nQ 19.671875 43.65625 24.015625 45.921875 \r\nQ 28.375 48.1875 33.59375 48.1875 \r\nQ 44.578125 48.1875 50.953125 41.515625 \r\nQ 57.328125 34.859375 57.328125 23.390625 \r\nQ 57.328125 12.15625 50.6875 5.359375 \r\nQ 44.046875 -1.421875 33.015625 -1.421875 \r\nQ 20.359375 -1.421875 13.671875 8.265625 \r\nQ 6.984375 17.96875 6.984375 36.375 \r\nQ 6.984375 53.65625 15.1875 63.9375 \r\nQ 23.390625 74.21875 37.203125 74.21875 \r\nQ 40.921875 74.21875 44.703125 73.484375 \r\nQ 48.484375 72.75 52.59375 71.296875 \r\nz\r\n\" id=\"DejaVuSans-54\"/>\r\n       </defs>\r\n       <use xlink:href=\"#DejaVuSans-54\"/>\r\n       <use x=\"63.623047\" xlink:href=\"#DejaVuSans-48\"/>\r\n      </g>\r\n     </g>\r\n    </g>\r\n    <g id=\"xtick_5\">\r\n     <g id=\"line2d_9\">\r\n      <path clip-path=\"url(#p69b7ac053c)\" d=\"M 304.949845 239.758125 \r\nL 304.949845 22.318125 \r\n\" style=\"fill:none;stroke:#b0b0b0;stroke-linecap:square;stroke-width:0.8;\"/>\r\n     </g>\r\n     <g id=\"line2d_10\">\r\n      <g>\r\n       <use style=\"stroke:#000000;stroke-width:0.8;\" x=\"304.949845\" xlink:href=\"#m6579c2a2ee\" y=\"239.758125\"/>\r\n      </g>\r\n     </g>\r\n     <g id=\"text_5\">\r\n      <!-- 80 -->\r\n      <g transform=\"translate(298.587345 254.356562)scale(0.1 -0.1)\">\r\n       <defs>\r\n        <path d=\"M 31.78125 34.625 \r\nQ 24.75 34.625 20.71875 30.859375 \r\nQ 16.703125 27.09375 16.703125 20.515625 \r\nQ 16.703125 13.921875 20.71875 10.15625 \r\nQ 24.75 6.390625 31.78125 6.390625 \r\nQ 38.8125 6.390625 42.859375 10.171875 \r\nQ 46.921875 13.96875 46.921875 20.515625 \r\nQ 46.921875 27.09375 42.890625 30.859375 \r\nQ 38.875 34.625 31.78125 34.625 \r\nz\r\nM 21.921875 38.8125 \r\nQ 15.578125 40.375 12.03125 44.71875 \r\nQ 8.5 49.078125 8.5 55.328125 \r\nQ 8.5 64.0625 14.71875 69.140625 \r\nQ 20.953125 74.21875 31.78125 74.21875 \r\nQ 42.671875 74.21875 48.875 69.140625 \r\nQ 55.078125 64.0625 55.078125 55.328125 \r\nQ 55.078125 49.078125 51.53125 44.71875 \r\nQ 48 40.375 41.703125 38.8125 \r\nQ 48.828125 37.15625 52.796875 32.3125 \r\nQ 56.78125 27.484375 56.78125 20.515625 \r\nQ 56.78125 9.90625 50.3125 4.234375 \r\nQ 43.84375 -1.421875 31.78125 -1.421875 \r\nQ 19.734375 -1.421875 13.25 4.234375 \r\nQ 6.78125 9.90625 6.78125 20.515625 \r\nQ 6.78125 27.484375 10.78125 32.3125 \r\nQ 14.796875 37.15625 21.921875 38.8125 \r\nz\r\nM 18.3125 54.390625 \r\nQ 18.3125 48.734375 21.84375 45.5625 \r\nQ 25.390625 42.390625 31.78125 42.390625 \r\nQ 38.140625 42.390625 41.71875 45.5625 \r\nQ 45.3125 48.734375 45.3125 54.390625 \r\nQ 45.3125 60.0625 41.71875 63.234375 \r\nQ 38.140625 66.40625 31.78125 66.40625 \r\nQ 25.390625 66.40625 21.84375 63.234375 \r\nQ 18.3125 60.0625 18.3125 54.390625 \r\nz\r\n\" id=\"DejaVuSans-56\"/>\r\n       </defs>\r\n       <use xlink:href=\"#DejaVuSans-56\"/>\r\n       <use x=\"63.623047\" xlink:href=\"#DejaVuSans-48\"/>\r\n      </g>\r\n     </g>\r\n    </g>\r\n    <g id=\"xtick_6\">\r\n     <g id=\"line2d_11\">\r\n      <path clip-path=\"url(#p69b7ac053c)\" d=\"M 366.437448 239.758125 \r\nL 366.437448 22.318125 \r\n\" style=\"fill:none;stroke:#b0b0b0;stroke-linecap:square;stroke-width:0.8;\"/>\r\n     </g>\r\n     <g id=\"line2d_12\">\r\n      <g>\r\n       <use style=\"stroke:#000000;stroke-width:0.8;\" x=\"366.437448\" xlink:href=\"#m6579c2a2ee\" y=\"239.758125\"/>\r\n      </g>\r\n     </g>\r\n     <g id=\"text_6\">\r\n      <!-- 100 -->\r\n      <g transform=\"translate(356.893698 254.356562)scale(0.1 -0.1)\">\r\n       <defs>\r\n        <path d=\"M 12.40625 8.296875 \r\nL 28.515625 8.296875 \r\nL 28.515625 63.921875 \r\nL 10.984375 60.40625 \r\nL 10.984375 69.390625 \r\nL 28.421875 72.90625 \r\nL 38.28125 72.90625 \r\nL 38.28125 8.296875 \r\nL 54.390625 8.296875 \r\nL 54.390625 0 \r\nL 12.40625 0 \r\nz\r\n\" id=\"DejaVuSans-49\"/>\r\n       </defs>\r\n       <use xlink:href=\"#DejaVuSans-49\"/>\r\n       <use x=\"63.623047\" xlink:href=\"#DejaVuSans-48\"/>\r\n       <use x=\"127.246094\" xlink:href=\"#DejaVuSans-48\"/>\r\n      </g>\r\n     </g>\r\n    </g>\r\n    <g id=\"text_7\">\r\n     <!-- epoch -->\r\n     <g transform=\"translate(195.953125 268.034687)scale(0.1 -0.1)\">\r\n      <defs>\r\n       <path d=\"M 56.203125 29.59375 \r\nL 56.203125 25.203125 \r\nL 14.890625 25.203125 \r\nQ 15.484375 15.921875 20.484375 11.0625 \r\nQ 25.484375 6.203125 34.421875 6.203125 \r\nQ 39.59375 6.203125 44.453125 7.46875 \r\nQ 49.3125 8.734375 54.109375 11.28125 \r\nL 54.109375 2.78125 \r\nQ 49.265625 0.734375 44.1875 -0.34375 \r\nQ 39.109375 -1.421875 33.890625 -1.421875 \r\nQ 20.796875 -1.421875 13.15625 6.1875 \r\nQ 5.515625 13.8125 5.515625 26.8125 \r\nQ 5.515625 40.234375 12.765625 48.109375 \r\nQ 20.015625 56 32.328125 56 \r\nQ 43.359375 56 49.78125 48.890625 \r\nQ 56.203125 41.796875 56.203125 29.59375 \r\nz\r\nM 47.21875 32.234375 \r\nQ 47.125 39.59375 43.09375 43.984375 \r\nQ 39.0625 48.390625 32.421875 48.390625 \r\nQ 24.90625 48.390625 20.390625 44.140625 \r\nQ 15.875 39.890625 15.1875 32.171875 \r\nz\r\n\" id=\"DejaVuSans-101\"/>\r\n       <path d=\"M 18.109375 8.203125 \r\nL 18.109375 -20.796875 \r\nL 9.078125 -20.796875 \r\nL 9.078125 54.6875 \r\nL 18.109375 54.6875 \r\nL 18.109375 46.390625 \r\nQ 20.953125 51.265625 25.265625 53.625 \r\nQ 29.59375 56 35.59375 56 \r\nQ 45.5625 56 51.78125 48.09375 \r\nQ 58.015625 40.1875 58.015625 27.296875 \r\nQ 58.015625 14.40625 51.78125 6.484375 \r\nQ 45.5625 -1.421875 35.59375 -1.421875 \r\nQ 29.59375 -1.421875 25.265625 0.953125 \r\nQ 20.953125 3.328125 18.109375 8.203125 \r\nz\r\nM 48.6875 27.296875 \r\nQ 48.6875 37.203125 44.609375 42.84375 \r\nQ 40.53125 48.484375 33.40625 48.484375 \r\nQ 26.265625 48.484375 22.1875 42.84375 \r\nQ 18.109375 37.203125 18.109375 27.296875 \r\nQ 18.109375 17.390625 22.1875 11.75 \r\nQ 26.265625 6.109375 33.40625 6.109375 \r\nQ 40.53125 6.109375 44.609375 11.75 \r\nQ 48.6875 17.390625 48.6875 27.296875 \r\nz\r\n\" id=\"DejaVuSans-112\"/>\r\n       <path d=\"M 30.609375 48.390625 \r\nQ 23.390625 48.390625 19.1875 42.75 \r\nQ 14.984375 37.109375 14.984375 27.296875 \r\nQ 14.984375 17.484375 19.15625 11.84375 \r\nQ 23.34375 6.203125 30.609375 6.203125 \r\nQ 37.796875 6.203125 41.984375 11.859375 \r\nQ 46.1875 17.53125 46.1875 27.296875 \r\nQ 46.1875 37.015625 41.984375 42.703125 \r\nQ 37.796875 48.390625 30.609375 48.390625 \r\nz\r\nM 30.609375 56 \r\nQ 42.328125 56 49.015625 48.375 \r\nQ 55.71875 40.765625 55.71875 27.296875 \r\nQ 55.71875 13.875 49.015625 6.21875 \r\nQ 42.328125 -1.421875 30.609375 -1.421875 \r\nQ 18.84375 -1.421875 12.171875 6.21875 \r\nQ 5.515625 13.875 5.515625 27.296875 \r\nQ 5.515625 40.765625 12.171875 48.375 \r\nQ 18.84375 56 30.609375 56 \r\nz\r\n\" id=\"DejaVuSans-111\"/>\r\n       <path d=\"M 48.78125 52.59375 \r\nL 48.78125 44.1875 \r\nQ 44.96875 46.296875 41.140625 47.34375 \r\nQ 37.3125 48.390625 33.40625 48.390625 \r\nQ 24.65625 48.390625 19.8125 42.84375 \r\nQ 14.984375 37.3125 14.984375 27.296875 \r\nQ 14.984375 17.28125 19.8125 11.734375 \r\nQ 24.65625 6.203125 33.40625 6.203125 \r\nQ 37.3125 6.203125 41.140625 7.25 \r\nQ 44.96875 8.296875 48.78125 10.40625 \r\nL 48.78125 2.09375 \r\nQ 45.015625 0.34375 40.984375 -0.53125 \r\nQ 36.96875 -1.421875 32.421875 -1.421875 \r\nQ 20.0625 -1.421875 12.78125 6.34375 \r\nQ 5.515625 14.109375 5.515625 27.296875 \r\nQ 5.515625 40.671875 12.859375 48.328125 \r\nQ 20.21875 56 33.015625 56 \r\nQ 37.15625 56 41.109375 55.140625 \r\nQ 45.0625 54.296875 48.78125 52.59375 \r\nz\r\n\" id=\"DejaVuSans-99\"/>\r\n       <path d=\"M 54.890625 33.015625 \r\nL 54.890625 0 \r\nL 45.90625 0 \r\nL 45.90625 32.71875 \r\nQ 45.90625 40.484375 42.875 44.328125 \r\nQ 39.84375 48.1875 33.796875 48.1875 \r\nQ 26.515625 48.1875 22.3125 43.546875 \r\nQ 18.109375 38.921875 18.109375 30.90625 \r\nL 18.109375 0 \r\nL 9.078125 0 \r\nL 9.078125 75.984375 \r\nL 18.109375 75.984375 \r\nL 18.109375 46.1875 \r\nQ 21.34375 51.125 25.703125 53.5625 \r\nQ 30.078125 56 35.796875 56 \r\nQ 45.21875 56 50.046875 50.171875 \r\nQ 54.890625 44.34375 54.890625 33.015625 \r\nz\r\n\" id=\"DejaVuSans-104\"/>\r\n      </defs>\r\n      <use xlink:href=\"#DejaVuSans-101\"/>\r\n      <use x=\"61.523438\" xlink:href=\"#DejaVuSans-112\"/>\r\n      <use x=\"125\" xlink:href=\"#DejaVuSans-111\"/>\r\n      <use x=\"186.181641\" xlink:href=\"#DejaVuSans-99\"/>\r\n      <use x=\"241.162109\" xlink:href=\"#DejaVuSans-104\"/>\r\n     </g>\r\n    </g>\r\n   </g>\r\n   <g id=\"matplotlib.axis_2\">\r\n    <g id=\"ytick_1\">\r\n     <g id=\"line2d_13\">\r\n      <path clip-path=\"url(#p69b7ac053c)\" d=\"M 43.78125 237.077911 \r\nL 378.58125 237.077911 \r\n\" style=\"fill:none;stroke:#b0b0b0;stroke-linecap:square;stroke-width:0.8;\"/>\r\n     </g>\r\n     <g id=\"line2d_14\">\r\n      <defs>\r\n       <path d=\"M 0 0 \r\nL -3.5 0 \r\n\" id=\"m232e6069c1\" style=\"stroke:#000000;stroke-width:0.8;\"/>\r\n      </defs>\r\n      <g>\r\n       <use style=\"stroke:#000000;stroke-width:0.8;\" x=\"43.78125\" xlink:href=\"#m232e6069c1\" y=\"237.077911\"/>\r\n      </g>\r\n     </g>\r\n     <g id=\"text_8\">\r\n      <!-- 0.0 -->\r\n      <g transform=\"translate(20.878125 240.87713)scale(0.1 -0.1)\">\r\n       <defs>\r\n        <path d=\"M 10.6875 12.40625 \r\nL 21 12.40625 \r\nL 21 0 \r\nL 10.6875 0 \r\nz\r\n\" id=\"DejaVuSans-46\"/>\r\n       </defs>\r\n       <use xlink:href=\"#DejaVuSans-48\"/>\r\n       <use x=\"63.623047\" xlink:href=\"#DejaVuSans-46\"/>\r\n       <use x=\"95.410156\" xlink:href=\"#DejaVuSans-48\"/>\r\n      </g>\r\n     </g>\r\n    </g>\r\n    <g id=\"ytick_2\">\r\n     <g id=\"line2d_15\">\r\n      <path clip-path=\"url(#p69b7ac053c)\" d=\"M 43.78125 212.784296 \r\nL 378.58125 212.784296 \r\n\" style=\"fill:none;stroke:#b0b0b0;stroke-linecap:square;stroke-width:0.8;\"/>\r\n     </g>\r\n     <g id=\"line2d_16\">\r\n      <g>\r\n       <use style=\"stroke:#000000;stroke-width:0.8;\" x=\"43.78125\" xlink:href=\"#m232e6069c1\" y=\"212.784296\"/>\r\n      </g>\r\n     </g>\r\n     <g id=\"text_9\">\r\n      <!-- 0.1 -->\r\n      <g transform=\"translate(20.878125 216.583514)scale(0.1 -0.1)\">\r\n       <use xlink:href=\"#DejaVuSans-48\"/>\r\n       <use x=\"63.623047\" xlink:href=\"#DejaVuSans-46\"/>\r\n       <use x=\"95.410156\" xlink:href=\"#DejaVuSans-49\"/>\r\n      </g>\r\n     </g>\r\n    </g>\r\n    <g id=\"ytick_3\">\r\n     <g id=\"line2d_17\">\r\n      <path clip-path=\"url(#p69b7ac053c)\" d=\"M 43.78125 188.49068 \r\nL 378.58125 188.49068 \r\n\" style=\"fill:none;stroke:#b0b0b0;stroke-linecap:square;stroke-width:0.8;\"/>\r\n     </g>\r\n     <g id=\"line2d_18\">\r\n      <g>\r\n       <use style=\"stroke:#000000;stroke-width:0.8;\" x=\"43.78125\" xlink:href=\"#m232e6069c1\" y=\"188.49068\"/>\r\n      </g>\r\n     </g>\r\n     <g id=\"text_10\">\r\n      <!-- 0.2 -->\r\n      <g transform=\"translate(20.878125 192.289899)scale(0.1 -0.1)\">\r\n       <use xlink:href=\"#DejaVuSans-48\"/>\r\n       <use x=\"63.623047\" xlink:href=\"#DejaVuSans-46\"/>\r\n       <use x=\"95.410156\" xlink:href=\"#DejaVuSans-50\"/>\r\n      </g>\r\n     </g>\r\n    </g>\r\n    <g id=\"ytick_4\">\r\n     <g id=\"line2d_19\">\r\n      <path clip-path=\"url(#p69b7ac053c)\" d=\"M 43.78125 164.197065 \r\nL 378.58125 164.197065 \r\n\" style=\"fill:none;stroke:#b0b0b0;stroke-linecap:square;stroke-width:0.8;\"/>\r\n     </g>\r\n     <g id=\"line2d_20\">\r\n      <g>\r\n       <use style=\"stroke:#000000;stroke-width:0.8;\" x=\"43.78125\" xlink:href=\"#m232e6069c1\" y=\"164.197065\"/>\r\n      </g>\r\n     </g>\r\n     <g id=\"text_11\">\r\n      <!-- 0.3 -->\r\n      <g transform=\"translate(20.878125 167.996283)scale(0.1 -0.1)\">\r\n       <defs>\r\n        <path d=\"M 40.578125 39.3125 \r\nQ 47.65625 37.796875 51.625 33 \r\nQ 55.609375 28.21875 55.609375 21.1875 \r\nQ 55.609375 10.40625 48.1875 4.484375 \r\nQ 40.765625 -1.421875 27.09375 -1.421875 \r\nQ 22.515625 -1.421875 17.65625 -0.515625 \r\nQ 12.796875 0.390625 7.625 2.203125 \r\nL 7.625 11.71875 \r\nQ 11.71875 9.328125 16.59375 8.109375 \r\nQ 21.484375 6.890625 26.8125 6.890625 \r\nQ 36.078125 6.890625 40.9375 10.546875 \r\nQ 45.796875 14.203125 45.796875 21.1875 \r\nQ 45.796875 27.640625 41.28125 31.265625 \r\nQ 36.765625 34.90625 28.71875 34.90625 \r\nL 20.21875 34.90625 \r\nL 20.21875 43.015625 \r\nL 29.109375 43.015625 \r\nQ 36.375 43.015625 40.234375 45.921875 \r\nQ 44.09375 48.828125 44.09375 54.296875 \r\nQ 44.09375 59.90625 40.109375 62.90625 \r\nQ 36.140625 65.921875 28.71875 65.921875 \r\nQ 24.65625 65.921875 20.015625 65.03125 \r\nQ 15.375 64.15625 9.8125 62.3125 \r\nL 9.8125 71.09375 \r\nQ 15.4375 72.65625 20.34375 73.4375 \r\nQ 25.25 74.21875 29.59375 74.21875 \r\nQ 40.828125 74.21875 47.359375 69.109375 \r\nQ 53.90625 64.015625 53.90625 55.328125 \r\nQ 53.90625 49.265625 50.4375 45.09375 \r\nQ 46.96875 40.921875 40.578125 39.3125 \r\nz\r\n\" id=\"DejaVuSans-51\"/>\r\n       </defs>\r\n       <use xlink:href=\"#DejaVuSans-48\"/>\r\n       <use x=\"63.623047\" xlink:href=\"#DejaVuSans-46\"/>\r\n       <use x=\"95.410156\" xlink:href=\"#DejaVuSans-51\"/>\r\n      </g>\r\n     </g>\r\n    </g>\r\n    <g id=\"ytick_5\">\r\n     <g id=\"line2d_21\">\r\n      <path clip-path=\"url(#p69b7ac053c)\" d=\"M 43.78125 139.903449 \r\nL 378.58125 139.903449 \r\n\" style=\"fill:none;stroke:#b0b0b0;stroke-linecap:square;stroke-width:0.8;\"/>\r\n     </g>\r\n     <g id=\"line2d_22\">\r\n      <g>\r\n       <use style=\"stroke:#000000;stroke-width:0.8;\" x=\"43.78125\" xlink:href=\"#m232e6069c1\" y=\"139.903449\"/>\r\n      </g>\r\n     </g>\r\n     <g id=\"text_12\">\r\n      <!-- 0.4 -->\r\n      <g transform=\"translate(20.878125 143.702668)scale(0.1 -0.1)\">\r\n       <use xlink:href=\"#DejaVuSans-48\"/>\r\n       <use x=\"63.623047\" xlink:href=\"#DejaVuSans-46\"/>\r\n       <use x=\"95.410156\" xlink:href=\"#DejaVuSans-52\"/>\r\n      </g>\r\n     </g>\r\n    </g>\r\n    <g id=\"ytick_6\">\r\n     <g id=\"line2d_23\">\r\n      <path clip-path=\"url(#p69b7ac053c)\" d=\"M 43.78125 115.609834 \r\nL 378.58125 115.609834 \r\n\" style=\"fill:none;stroke:#b0b0b0;stroke-linecap:square;stroke-width:0.8;\"/>\r\n     </g>\r\n     <g id=\"line2d_24\">\r\n      <g>\r\n       <use style=\"stroke:#000000;stroke-width:0.8;\" x=\"43.78125\" xlink:href=\"#m232e6069c1\" y=\"115.609834\"/>\r\n      </g>\r\n     </g>\r\n     <g id=\"text_13\">\r\n      <!-- 0.5 -->\r\n      <g transform=\"translate(20.878125 119.409053)scale(0.1 -0.1)\">\r\n       <defs>\r\n        <path d=\"M 10.796875 72.90625 \r\nL 49.515625 72.90625 \r\nL 49.515625 64.59375 \r\nL 19.828125 64.59375 \r\nL 19.828125 46.734375 \r\nQ 21.96875 47.46875 24.109375 47.828125 \r\nQ 26.265625 48.1875 28.421875 48.1875 \r\nQ 40.625 48.1875 47.75 41.5 \r\nQ 54.890625 34.8125 54.890625 23.390625 \r\nQ 54.890625 11.625 47.5625 5.09375 \r\nQ 40.234375 -1.421875 26.90625 -1.421875 \r\nQ 22.3125 -1.421875 17.546875 -0.640625 \r\nQ 12.796875 0.140625 7.71875 1.703125 \r\nL 7.71875 11.625 \r\nQ 12.109375 9.234375 16.796875 8.0625 \r\nQ 21.484375 6.890625 26.703125 6.890625 \r\nQ 35.15625 6.890625 40.078125 11.328125 \r\nQ 45.015625 15.765625 45.015625 23.390625 \r\nQ 45.015625 31 40.078125 35.4375 \r\nQ 35.15625 39.890625 26.703125 39.890625 \r\nQ 22.75 39.890625 18.8125 39.015625 \r\nQ 14.890625 38.140625 10.796875 36.28125 \r\nz\r\n\" id=\"DejaVuSans-53\"/>\r\n       </defs>\r\n       <use xlink:href=\"#DejaVuSans-48\"/>\r\n       <use x=\"63.623047\" xlink:href=\"#DejaVuSans-46\"/>\r\n       <use x=\"95.410156\" xlink:href=\"#DejaVuSans-53\"/>\r\n      </g>\r\n     </g>\r\n    </g>\r\n    <g id=\"ytick_7\">\r\n     <g id=\"line2d_25\">\r\n      <path clip-path=\"url(#p69b7ac053c)\" d=\"M 43.78125 91.316218 \r\nL 378.58125 91.316218 \r\n\" style=\"fill:none;stroke:#b0b0b0;stroke-linecap:square;stroke-width:0.8;\"/>\r\n     </g>\r\n     <g id=\"line2d_26\">\r\n      <g>\r\n       <use style=\"stroke:#000000;stroke-width:0.8;\" x=\"43.78125\" xlink:href=\"#m232e6069c1\" y=\"91.316218\"/>\r\n      </g>\r\n     </g>\r\n     <g id=\"text_14\">\r\n      <!-- 0.6 -->\r\n      <g transform=\"translate(20.878125 95.115437)scale(0.1 -0.1)\">\r\n       <use xlink:href=\"#DejaVuSans-48\"/>\r\n       <use x=\"63.623047\" xlink:href=\"#DejaVuSans-46\"/>\r\n       <use x=\"95.410156\" xlink:href=\"#DejaVuSans-54\"/>\r\n      </g>\r\n     </g>\r\n    </g>\r\n    <g id=\"ytick_8\">\r\n     <g id=\"line2d_27\">\r\n      <path clip-path=\"url(#p69b7ac053c)\" d=\"M 43.78125 67.022603 \r\nL 378.58125 67.022603 \r\n\" style=\"fill:none;stroke:#b0b0b0;stroke-linecap:square;stroke-width:0.8;\"/>\r\n     </g>\r\n     <g id=\"line2d_28\">\r\n      <g>\r\n       <use style=\"stroke:#000000;stroke-width:0.8;\" x=\"43.78125\" xlink:href=\"#m232e6069c1\" y=\"67.022603\"/>\r\n      </g>\r\n     </g>\r\n     <g id=\"text_15\">\r\n      <!-- 0.7 -->\r\n      <g transform=\"translate(20.878125 70.821822)scale(0.1 -0.1)\">\r\n       <defs>\r\n        <path d=\"M 8.203125 72.90625 \r\nL 55.078125 72.90625 \r\nL 55.078125 68.703125 \r\nL 28.609375 0 \r\nL 18.3125 0 \r\nL 43.21875 64.59375 \r\nL 8.203125 64.59375 \r\nz\r\n\" id=\"DejaVuSans-55\"/>\r\n       </defs>\r\n       <use xlink:href=\"#DejaVuSans-48\"/>\r\n       <use x=\"63.623047\" xlink:href=\"#DejaVuSans-46\"/>\r\n       <use x=\"95.410156\" xlink:href=\"#DejaVuSans-55\"/>\r\n      </g>\r\n     </g>\r\n    </g>\r\n    <g id=\"ytick_9\">\r\n     <g id=\"line2d_29\">\r\n      <path clip-path=\"url(#p69b7ac053c)\" d=\"M 43.78125 42.728988 \r\nL 378.58125 42.728988 \r\n\" style=\"fill:none;stroke:#b0b0b0;stroke-linecap:square;stroke-width:0.8;\"/>\r\n     </g>\r\n     <g id=\"line2d_30\">\r\n      <g>\r\n       <use style=\"stroke:#000000;stroke-width:0.8;\" x=\"43.78125\" xlink:href=\"#m232e6069c1\" y=\"42.728988\"/>\r\n      </g>\r\n     </g>\r\n     <g id=\"text_16\">\r\n      <!-- 0.8 -->\r\n      <g transform=\"translate(20.878125 46.528206)scale(0.1 -0.1)\">\r\n       <use xlink:href=\"#DejaVuSans-48\"/>\r\n       <use x=\"63.623047\" xlink:href=\"#DejaVuSans-46\"/>\r\n       <use x=\"95.410156\" xlink:href=\"#DejaVuSans-56\"/>\r\n      </g>\r\n     </g>\r\n    </g>\r\n    <g id=\"text_17\">\r\n     <!-- accuracy -->\r\n     <g transform=\"translate(14.798438 153.5975)rotate(-90)scale(0.1 -0.1)\">\r\n      <defs>\r\n       <path d=\"M 34.28125 27.484375 \r\nQ 23.390625 27.484375 19.1875 25 \r\nQ 14.984375 22.515625 14.984375 16.5 \r\nQ 14.984375 11.71875 18.140625 8.90625 \r\nQ 21.296875 6.109375 26.703125 6.109375 \r\nQ 34.1875 6.109375 38.703125 11.40625 \r\nQ 43.21875 16.703125 43.21875 25.484375 \r\nL 43.21875 27.484375 \r\nz\r\nM 52.203125 31.203125 \r\nL 52.203125 0 \r\nL 43.21875 0 \r\nL 43.21875 8.296875 \r\nQ 40.140625 3.328125 35.546875 0.953125 \r\nQ 30.953125 -1.421875 24.3125 -1.421875 \r\nQ 15.921875 -1.421875 10.953125 3.296875 \r\nQ 6 8.015625 6 15.921875 \r\nQ 6 25.140625 12.171875 29.828125 \r\nQ 18.359375 34.515625 30.609375 34.515625 \r\nL 43.21875 34.515625 \r\nL 43.21875 35.40625 \r\nQ 43.21875 41.609375 39.140625 45 \r\nQ 35.0625 48.390625 27.6875 48.390625 \r\nQ 23 48.390625 18.546875 47.265625 \r\nQ 14.109375 46.140625 10.015625 43.890625 \r\nL 10.015625 52.203125 \r\nQ 14.9375 54.109375 19.578125 55.046875 \r\nQ 24.21875 56 28.609375 56 \r\nQ 40.484375 56 46.34375 49.84375 \r\nQ 52.203125 43.703125 52.203125 31.203125 \r\nz\r\n\" id=\"DejaVuSans-97\"/>\r\n       <path d=\"M 8.5 21.578125 \r\nL 8.5 54.6875 \r\nL 17.484375 54.6875 \r\nL 17.484375 21.921875 \r\nQ 17.484375 14.15625 20.5 10.265625 \r\nQ 23.53125 6.390625 29.59375 6.390625 \r\nQ 36.859375 6.390625 41.078125 11.03125 \r\nQ 45.3125 15.671875 45.3125 23.6875 \r\nL 45.3125 54.6875 \r\nL 54.296875 54.6875 \r\nL 54.296875 0 \r\nL 45.3125 0 \r\nL 45.3125 8.40625 \r\nQ 42.046875 3.421875 37.71875 1 \r\nQ 33.40625 -1.421875 27.6875 -1.421875 \r\nQ 18.265625 -1.421875 13.375 4.4375 \r\nQ 8.5 10.296875 8.5 21.578125 \r\nz\r\nM 31.109375 56 \r\nz\r\n\" id=\"DejaVuSans-117\"/>\r\n       <path d=\"M 41.109375 46.296875 \r\nQ 39.59375 47.171875 37.8125 47.578125 \r\nQ 36.03125 48 33.890625 48 \r\nQ 26.265625 48 22.1875 43.046875 \r\nQ 18.109375 38.09375 18.109375 28.8125 \r\nL 18.109375 0 \r\nL 9.078125 0 \r\nL 9.078125 54.6875 \r\nL 18.109375 54.6875 \r\nL 18.109375 46.1875 \r\nQ 20.953125 51.171875 25.484375 53.578125 \r\nQ 30.03125 56 36.53125 56 \r\nQ 37.453125 56 38.578125 55.875 \r\nQ 39.703125 55.765625 41.0625 55.515625 \r\nz\r\n\" id=\"DejaVuSans-114\"/>\r\n       <path d=\"M 32.171875 -5.078125 \r\nQ 28.375 -14.84375 24.75 -17.8125 \r\nQ 21.140625 -20.796875 15.09375 -20.796875 \r\nL 7.90625 -20.796875 \r\nL 7.90625 -13.28125 \r\nL 13.1875 -13.28125 \r\nQ 16.890625 -13.28125 18.9375 -11.515625 \r\nQ 21 -9.765625 23.484375 -3.21875 \r\nL 25.09375 0.875 \r\nL 2.984375 54.6875 \r\nL 12.5 54.6875 \r\nL 29.59375 11.921875 \r\nL 46.6875 54.6875 \r\nL 56.203125 54.6875 \r\nz\r\n\" id=\"DejaVuSans-121\"/>\r\n      </defs>\r\n      <use xlink:href=\"#DejaVuSans-97\"/>\r\n      <use x=\"61.279297\" xlink:href=\"#DejaVuSans-99\"/>\r\n      <use x=\"116.259766\" xlink:href=\"#DejaVuSans-99\"/>\r\n      <use x=\"171.240234\" xlink:href=\"#DejaVuSans-117\"/>\r\n      <use x=\"234.619141\" xlink:href=\"#DejaVuSans-114\"/>\r\n      <use x=\"275.732422\" xlink:href=\"#DejaVuSans-97\"/>\r\n      <use x=\"337.011719\" xlink:href=\"#DejaVuSans-99\"/>\r\n      <use x=\"391.992188\" xlink:href=\"#DejaVuSans-121\"/>\r\n     </g>\r\n    </g>\r\n   </g>\r\n   <g id=\"line2d_31\">\r\n    <path clip-path=\"url(#p69b7ac053c)\" d=\"M 58.999432 201.582238 \r\nL 62.073812 177.693518 \r\nL 65.148192 131.805577 \r\nL 68.222572 118.174162 \r\nL 71.296952 102.788206 \r\nL 74.371333 83.353318 \r\nL 77.445713 77.279905 \r\nL 80.520093 69.316996 \r\nL 83.594473 70.126782 \r\nL 86.668853 67.967362 \r\nL 89.743233 64.863171 \r\nL 92.817614 62.298842 \r\nL 95.891994 60.004452 \r\nL 98.966374 60.679269 \r\nL 102.040754 57.710048 \r\nL 105.115134 55.415658 \r\nL 108.189514 54.200978 \r\nL 111.263895 53.526146 \r\nL 114.338275 50.961818 \r\nL 117.412655 47.857642 \r\nL 120.487035 50.691894 \r\nL 123.561415 50.152032 \r\nL 126.635795 48.532459 \r\nL 129.710176 50.017077 \r\nL 132.784556 47.587718 \r\nL 135.858936 44.078634 \r\nL 138.933316 47.587718 \r\nL 142.007696 44.348557 \r\nL 145.082076 42.189122 \r\nL 148.156457 40.434595 \r\nL 151.230837 40.434595 \r\nL 154.305217 37.600342 \r\nL 157.379597 45.428282 \r\nL 160.453977 40.569549 \r\nL 163.528357 38.680053 \r\nL 166.602738 41.919198 \r\nL 169.677118 37.600342 \r\nL 172.751498 37.735297 \r\nL 175.825878 36.925511 \r\nL 178.900258 38.949977 \r\nL 181.974638 37.735297 \r\nL 185.049019 34.496151 \r\nL 188.123399 37.465373 \r\nL 191.197779 36.385648 \r\nL 194.272159 35.305938 \r\nL 197.346539 35.8458 \r\nL 200.420919 36.925511 \r\nL 203.4953 35.170969 \r\nL 206.56968 36.925511 \r\nL 209.64406 33.686365 \r\nL 212.71844 35.440907 \r\nL 215.79282 34.631121 \r\nL 218.8672 34.496151 \r\nL 221.941581 34.901045 \r\nL 225.015961 35.575862 \r\nL 228.090341 33.551396 \r\nL 231.164721 34.631121 \r\nL 234.239101 33.686365 \r\nL 237.313481 35.036014 \r\nL 240.387862 34.361182 \r\nL 243.462242 33.686365 \r\nL 246.536622 32.876579 \r\nL 249.611002 33.146503 \r\nL 252.685382 33.011548 \r\nL 255.759762 34.361182 \r\nL 258.834143 32.336716 \r\nL 261.908523 34.091258 \r\nL 264.982903 34.631121 \r\nL 268.057283 32.606655 \r\nL 271.131663 33.416441 \r\nL 274.206043 32.741609 \r\nL 277.280424 35.8458 \r\nL 280.354804 32.471685 \r\nL 283.429184 32.606655 \r\nL 286.503564 33.416441 \r\nL 289.577944 32.606655 \r\nL 292.652324 34.091258 \r\nL 295.726705 33.686365 \r\nL 298.801085 32.201761 \r\nL 301.875465 33.281472 \r\nL 304.949845 33.821334 \r\nL 308.024225 34.091258 \r\nL 311.098605 34.226227 \r\nL 314.172986 34.361182 \r\nL 317.247366 34.361182 \r\nL 320.321746 32.471685 \r\nL 323.396126 32.876579 \r\nL 326.470506 33.011548 \r\nL 329.544886 32.471685 \r\nL 332.619267 34.091258 \r\nL 335.693647 33.281472 \r\nL 338.768027 33.146503 \r\nL 341.842407 33.551396 \r\nL 344.916787 32.336716 \r\nL 347.991167 32.606655 \r\nL 351.065548 32.336716 \r\nL 354.139928 32.606655 \r\nL 357.214308 32.876579 \r\nL 360.288688 33.551396 \r\nL 363.363068 33.281472 \r\n\" style=\"fill:none;stroke:#1f77b4;stroke-linecap:square;stroke-width:1.5;\"/>\r\n   </g>\r\n   <g id=\"line2d_32\">\r\n    <path clip-path=\"url(#p69b7ac053c)\" d=\"M 58.999432 229.874489 \r\nL 62.073812 197.509483 \r\nL 65.148192 166.45473 \r\nL 68.222572 142.372179 \r\nL 71.296952 94.201145 \r\nL 74.371333 111.744293 \r\nL 77.445713 101.256354 \r\nL 80.520093 104.783944 \r\nL 83.594473 95.629972 \r\nL 86.668853 94.052927 \r\nL 89.743233 78.958354 \r\nL 92.817614 77.701451 \r\nL 95.891994 88.076748 \r\nL 98.966374 70.272742 \r\nL 102.040754 72.584942 \r\nL 105.115134 79.100636 \r\nL 108.189514 72.134364 \r\nL 111.263895 72.241083 \r\nL 114.338275 70.42096 \r\nL 117.412655 69.181853 \r\nL 120.487035 86.173626 \r\nL 123.561415 66.211545 \r\nL 126.635795 68.345901 \r\nL 129.710176 71.944646 \r\nL 132.784556 77.843747 \r\nL 135.858936 76.533498 \r\nL 138.933316 76.278561 \r\nL 142.007696 64.474423 \r\nL 145.082076 67.800449 \r\nL 148.156457 62.328222 \r\nL 151.230837 71.80235 \r\nL 154.305217 67.118653 \r\nL 157.379597 73.385331 \r\nL 160.453977 66.110764 \r\nL 163.528357 70.64032 \r\nL 166.602738 59.808507 \r\nL 169.677118 67.035652 \r\nL 172.751498 70.243101 \r\nL 175.825878 64.640437 \r\nL 178.900258 65.594967 \r\nL 181.974638 66.051482 \r\nL 185.049019 63.762985 \r\nL 188.123399 64.60486 \r\nL 191.197779 65.055452 \r\nL 194.272159 59.233415 \r\nL 197.346539 64.041626 \r\nL 200.420919 69.875509 \r\nL 203.4953 63.010033 \r\nL 206.56968 68.56526 \r\nL 209.64406 70.592897 \r\nL 212.71844 63.508048 \r\nL 215.79282 63.863767 \r\nL 218.8672 60.964615 \r\nL 221.941581 62.517941 \r\nL 225.015961 60.608896 \r\nL 228.090341 67.741168 \r\nL 231.164721 59.162274 \r\nL 234.239101 62.701737 \r\nL 237.313481 62.079222 \r\nL 240.387862 62.002144 \r\nL 243.462242 61.154333 \r\nL 246.536622 67.652231 \r\nL 249.611002 59.506148 \r\nL 252.685382 63.259034 \r\nL 255.759762 60.982396 \r\nL 258.834143 61.077256 \r\nL 261.908523 64.172063 \r\nL 264.982903 60.780818 \r\nL 268.057283 61.681989 \r\nL 271.131663 62.298582 \r\nL 274.206043 63.051533 \r\nL 277.280424 64.800515 \r\nL 280.354804 61.640489 \r\nL 283.429184 60.668178 \r\nL 286.503564 61.42113 \r\nL 289.577944 62.944815 \r\nL 292.652324 61.42113 \r\nL 295.726705 61.883567 \r\nL 298.801085 60.923115 \r\nL 301.875465 65.618671 \r\nL 304.949845 61.948785 \r\nL 308.024225 62.600941 \r\nL 311.098605 62.755096 \r\nL 314.172986 63.27683 \r\nL 317.247366 61.877644 \r\nL 320.321746 62.577237 \r\nL 323.396126 61.729426 \r\nL 326.470506 61.71163 \r\nL 329.544886 62.304504 \r\nL 332.619267 62.861815 \r\nL 335.693647 62.286722 \r\nL 338.768027 62.215581 \r\nL 341.842407 61.883567 \r\nL 344.916787 61.237333 \r\nL 347.991167 63.490252 \r\nL 351.065548 61.148411 \r\nL 354.139928 61.593067 \r\nL 357.214308 62.3223 \r\nL 360.288688 62.814378 \r\nL 363.363068 61.871708 \r\n\" style=\"fill:none;stroke:#ff7f0e;stroke-linecap:square;stroke-width:1.5;\"/>\r\n   </g>\r\n   <g id=\"patch_3\">\r\n    <path d=\"M 43.78125 239.758125 \r\nL 43.78125 22.318125 \r\n\" style=\"fill:none;stroke:#000000;stroke-linecap:square;stroke-linejoin:miter;stroke-width:0.8;\"/>\r\n   </g>\r\n   <g id=\"patch_4\">\r\n    <path d=\"M 378.58125 239.758125 \r\nL 378.58125 22.318125 \r\n\" style=\"fill:none;stroke:#000000;stroke-linecap:square;stroke-linejoin:miter;stroke-width:0.8;\"/>\r\n   </g>\r\n   <g id=\"patch_5\">\r\n    <path d=\"M 43.78125 239.758125 \r\nL 378.58125 239.758125 \r\n\" style=\"fill:none;stroke:#000000;stroke-linecap:square;stroke-linejoin:miter;stroke-width:0.8;\"/>\r\n   </g>\r\n   <g id=\"patch_6\">\r\n    <path d=\"M 43.78125 22.318125 \r\nL 378.58125 22.318125 \r\n\" style=\"fill:none;stroke:#000000;stroke-linecap:square;stroke-linejoin:miter;stroke-width:0.8;\"/>\r\n   </g>\r\n   <g id=\"text_18\">\r\n    <!-- model accuracy -->\r\n    <g transform=\"translate(163.519688 16.318125)scale(0.12 -0.12)\">\r\n     <defs>\r\n      <path d=\"M 52 44.1875 \r\nQ 55.375 50.25 60.0625 53.125 \r\nQ 64.75 56 71.09375 56 \r\nQ 79.640625 56 84.28125 50.015625 \r\nQ 88.921875 44.046875 88.921875 33.015625 \r\nL 88.921875 0 \r\nL 79.890625 0 \r\nL 79.890625 32.71875 \r\nQ 79.890625 40.578125 77.09375 44.375 \r\nQ 74.3125 48.1875 68.609375 48.1875 \r\nQ 61.625 48.1875 57.5625 43.546875 \r\nQ 53.515625 38.921875 53.515625 30.90625 \r\nL 53.515625 0 \r\nL 44.484375 0 \r\nL 44.484375 32.71875 \r\nQ 44.484375 40.625 41.703125 44.40625 \r\nQ 38.921875 48.1875 33.109375 48.1875 \r\nQ 26.21875 48.1875 22.15625 43.53125 \r\nQ 18.109375 38.875 18.109375 30.90625 \r\nL 18.109375 0 \r\nL 9.078125 0 \r\nL 9.078125 54.6875 \r\nL 18.109375 54.6875 \r\nL 18.109375 46.1875 \r\nQ 21.1875 51.21875 25.484375 53.609375 \r\nQ 29.78125 56 35.6875 56 \r\nQ 41.65625 56 45.828125 52.96875 \r\nQ 50 49.953125 52 44.1875 \r\nz\r\n\" id=\"DejaVuSans-109\"/>\r\n      <path d=\"M 45.40625 46.390625 \r\nL 45.40625 75.984375 \r\nL 54.390625 75.984375 \r\nL 54.390625 0 \r\nL 45.40625 0 \r\nL 45.40625 8.203125 \r\nQ 42.578125 3.328125 38.25 0.953125 \r\nQ 33.9375 -1.421875 27.875 -1.421875 \r\nQ 17.96875 -1.421875 11.734375 6.484375 \r\nQ 5.515625 14.40625 5.515625 27.296875 \r\nQ 5.515625 40.1875 11.734375 48.09375 \r\nQ 17.96875 56 27.875 56 \r\nQ 33.9375 56 38.25 53.625 \r\nQ 42.578125 51.265625 45.40625 46.390625 \r\nz\r\nM 14.796875 27.296875 \r\nQ 14.796875 17.390625 18.875 11.75 \r\nQ 22.953125 6.109375 30.078125 6.109375 \r\nQ 37.203125 6.109375 41.296875 11.75 \r\nQ 45.40625 17.390625 45.40625 27.296875 \r\nQ 45.40625 37.203125 41.296875 42.84375 \r\nQ 37.203125 48.484375 30.078125 48.484375 \r\nQ 22.953125 48.484375 18.875 42.84375 \r\nQ 14.796875 37.203125 14.796875 27.296875 \r\nz\r\n\" id=\"DejaVuSans-100\"/>\r\n      <path d=\"M 9.421875 75.984375 \r\nL 18.40625 75.984375 \r\nL 18.40625 0 \r\nL 9.421875 0 \r\nz\r\n\" id=\"DejaVuSans-108\"/>\r\n      <path id=\"DejaVuSans-32\"/>\r\n     </defs>\r\n     <use xlink:href=\"#DejaVuSans-109\"/>\r\n     <use x=\"97.412109\" xlink:href=\"#DejaVuSans-111\"/>\r\n     <use x=\"158.59375\" xlink:href=\"#DejaVuSans-100\"/>\r\n     <use x=\"222.070312\" xlink:href=\"#DejaVuSans-101\"/>\r\n     <use x=\"283.59375\" xlink:href=\"#DejaVuSans-108\"/>\r\n     <use x=\"311.376953\" xlink:href=\"#DejaVuSans-32\"/>\r\n     <use x=\"343.164062\" xlink:href=\"#DejaVuSans-97\"/>\r\n     <use x=\"404.443359\" xlink:href=\"#DejaVuSans-99\"/>\r\n     <use x=\"459.423828\" xlink:href=\"#DejaVuSans-99\"/>\r\n     <use x=\"514.404297\" xlink:href=\"#DejaVuSans-117\"/>\r\n     <use x=\"577.783203\" xlink:href=\"#DejaVuSans-114\"/>\r\n     <use x=\"618.896484\" xlink:href=\"#DejaVuSans-97\"/>\r\n     <use x=\"680.175781\" xlink:href=\"#DejaVuSans-99\"/>\r\n     <use x=\"735.15625\" xlink:href=\"#DejaVuSans-121\"/>\r\n    </g>\r\n   </g>\r\n   <g id=\"legend_1\">\r\n    <g id=\"patch_7\">\r\n     <path d=\"M 50.78125 59.674375 \r\nL 106.05625 59.674375 \r\nQ 108.05625 59.674375 108.05625 57.674375 \r\nL 108.05625 29.318125 \r\nQ 108.05625 27.318125 106.05625 27.318125 \r\nL 50.78125 27.318125 \r\nQ 48.78125 27.318125 48.78125 29.318125 \r\nL 48.78125 57.674375 \r\nQ 48.78125 59.674375 50.78125 59.674375 \r\nz\r\n\" style=\"fill:#ffffff;opacity:0.8;stroke:#cccccc;stroke-linejoin:miter;\"/>\r\n    </g>\r\n    <g id=\"line2d_33\">\r\n     <path d=\"M 52.78125 35.416562 \r\nL 72.78125 35.416562 \r\n\" style=\"fill:none;stroke:#1f77b4;stroke-linecap:square;stroke-width:1.5;\"/>\r\n    </g>\r\n    <g id=\"line2d_34\"/>\r\n    <g id=\"text_19\">\r\n     <!-- train -->\r\n     <g transform=\"translate(80.78125 38.916562)scale(0.1 -0.1)\">\r\n      <defs>\r\n       <path d=\"M 18.3125 70.21875 \r\nL 18.3125 54.6875 \r\nL 36.8125 54.6875 \r\nL 36.8125 47.703125 \r\nL 18.3125 47.703125 \r\nL 18.3125 18.015625 \r\nQ 18.3125 11.328125 20.140625 9.421875 \r\nQ 21.96875 7.515625 27.59375 7.515625 \r\nL 36.8125 7.515625 \r\nL 36.8125 0 \r\nL 27.59375 0 \r\nQ 17.1875 0 13.234375 3.875 \r\nQ 9.28125 7.765625 9.28125 18.015625 \r\nL 9.28125 47.703125 \r\nL 2.6875 47.703125 \r\nL 2.6875 54.6875 \r\nL 9.28125 54.6875 \r\nL 9.28125 70.21875 \r\nz\r\n\" id=\"DejaVuSans-116\"/>\r\n       <path d=\"M 9.421875 54.6875 \r\nL 18.40625 54.6875 \r\nL 18.40625 0 \r\nL 9.421875 0 \r\nz\r\nM 9.421875 75.984375 \r\nL 18.40625 75.984375 \r\nL 18.40625 64.59375 \r\nL 9.421875 64.59375 \r\nz\r\n\" id=\"DejaVuSans-105\"/>\r\n       <path d=\"M 54.890625 33.015625 \r\nL 54.890625 0 \r\nL 45.90625 0 \r\nL 45.90625 32.71875 \r\nQ 45.90625 40.484375 42.875 44.328125 \r\nQ 39.84375 48.1875 33.796875 48.1875 \r\nQ 26.515625 48.1875 22.3125 43.546875 \r\nQ 18.109375 38.921875 18.109375 30.90625 \r\nL 18.109375 0 \r\nL 9.078125 0 \r\nL 9.078125 54.6875 \r\nL 18.109375 54.6875 \r\nL 18.109375 46.1875 \r\nQ 21.34375 51.125 25.703125 53.5625 \r\nQ 30.078125 56 35.796875 56 \r\nQ 45.21875 56 50.046875 50.171875 \r\nQ 54.890625 44.34375 54.890625 33.015625 \r\nz\r\n\" id=\"DejaVuSans-110\"/>\r\n      </defs>\r\n      <use xlink:href=\"#DejaVuSans-116\"/>\r\n      <use x=\"39.208984\" xlink:href=\"#DejaVuSans-114\"/>\r\n      <use x=\"80.322266\" xlink:href=\"#DejaVuSans-97\"/>\r\n      <use x=\"141.601562\" xlink:href=\"#DejaVuSans-105\"/>\r\n      <use x=\"169.384766\" xlink:href=\"#DejaVuSans-110\"/>\r\n     </g>\r\n    </g>\r\n    <g id=\"line2d_35\">\r\n     <path d=\"M 52.78125 50.094687 \r\nL 72.78125 50.094687 \r\n\" style=\"fill:none;stroke:#ff7f0e;stroke-linecap:square;stroke-width:1.5;\"/>\r\n    </g>\r\n    <g id=\"line2d_36\"/>\r\n    <g id=\"text_20\">\r\n     <!-- test -->\r\n     <g transform=\"translate(80.78125 53.594687)scale(0.1 -0.1)\">\r\n      <defs>\r\n       <path d=\"M 44.28125 53.078125 \r\nL 44.28125 44.578125 \r\nQ 40.484375 46.53125 36.375 47.5 \r\nQ 32.28125 48.484375 27.875 48.484375 \r\nQ 21.1875 48.484375 17.84375 46.4375 \r\nQ 14.5 44.390625 14.5 40.28125 \r\nQ 14.5 37.15625 16.890625 35.375 \r\nQ 19.28125 33.59375 26.515625 31.984375 \r\nL 29.59375 31.296875 \r\nQ 39.15625 29.25 43.1875 25.515625 \r\nQ 47.21875 21.78125 47.21875 15.09375 \r\nQ 47.21875 7.46875 41.1875 3.015625 \r\nQ 35.15625 -1.421875 24.609375 -1.421875 \r\nQ 20.21875 -1.421875 15.453125 -0.5625 \r\nQ 10.6875 0.296875 5.421875 2 \r\nL 5.421875 11.28125 \r\nQ 10.40625 8.6875 15.234375 7.390625 \r\nQ 20.0625 6.109375 24.8125 6.109375 \r\nQ 31.15625 6.109375 34.5625 8.28125 \r\nQ 37.984375 10.453125 37.984375 14.40625 \r\nQ 37.984375 18.0625 35.515625 20.015625 \r\nQ 33.0625 21.96875 24.703125 23.78125 \r\nL 21.578125 24.515625 \r\nQ 13.234375 26.265625 9.515625 29.90625 \r\nQ 5.8125 33.546875 5.8125 39.890625 \r\nQ 5.8125 47.609375 11.28125 51.796875 \r\nQ 16.75 56 26.8125 56 \r\nQ 31.78125 56 36.171875 55.265625 \r\nQ 40.578125 54.546875 44.28125 53.078125 \r\nz\r\n\" id=\"DejaVuSans-115\"/>\r\n      </defs>\r\n      <use xlink:href=\"#DejaVuSans-116\"/>\r\n      <use x=\"39.208984\" xlink:href=\"#DejaVuSans-101\"/>\r\n      <use x=\"100.732422\" xlink:href=\"#DejaVuSans-115\"/>\r\n      <use x=\"152.832031\" xlink:href=\"#DejaVuSans-116\"/>\r\n     </g>\r\n    </g>\r\n   </g>\r\n  </g>\r\n </g>\r\n <defs>\r\n  <clipPath id=\"p69b7ac053c\">\r\n   <rect height=\"217.44\" width=\"334.8\" x=\"43.78125\" y=\"22.318125\"/>\r\n  </clipPath>\r\n </defs>\r\n</svg>\r\n",
      "image/png": "[encoded data removed]"
     },
     "metadata": {
      "needs_background": "light"
     }
    }
   ],
   "source": [
    "# summarize history for accuracy\n",
    "plt.plot(history.epoch, history.history['acc'])\n",
    "plt.plot(history.epoch, history.history['val_acc'])\n",
    "plt.title('model accuracy')\n",
    "plt.ylabel('accuracy')\n",
    "plt.xlabel('epoch')\n",
    "plt.grid(True)\n",
    "plt.legend(['train', 'test'], loc='upper left') \n",
    "# plt.savefig(\"./result/model_accuracy_100.svg\")\n",
    "plt.show()"
   ]
  },
  {
   "cell_type": "code",
   "execution_count": 45,
   "metadata": {},
   "outputs": [
    {
     "output_type": "display_data",
     "data": {
      "text/plain": "<Figure size 432x288 with 1 Axes>",
      "image/svg+xml": "<?xml version=\"1.0\" encoding=\"utf-8\" standalone=\"no\"?>\r\n<!DOCTYPE svg PUBLIC \"-//W3C//DTD SVG 1.1//EN\"\r\n  \"http://www.w3.org/Graphics/SVG/1.1/DTD/svg11.dtd\">\r\n<!-- Created with matplotlib (https://matplotlib.org/) -->\r\n<svg height=\"277.314375pt\" version=\"1.1\" viewBox=\"0 0 392.14375 277.314375\" width=\"392.14375pt\" xmlns=\"http://www.w3.org/2000/svg\" xmlns:xlink=\"http://www.w3.org/1999/xlink\">\r\n <metadata>\r\n  <rdf:RDF xmlns:cc=\"http://creativecommons.org/ns#\" xmlns:dc=\"http://purl.org/dc/elements/1.1/\" xmlns:rdf=\"http://www.w3.org/1999/02/22-rdf-syntax-ns#\">\r\n   <cc:Work>\r\n    <dc:type rdf:resource=\"http://purl.org/dc/dcmitype/StillImage\"/>\r\n    <dc:date>2020-11-19T10:47:02.351236</dc:date>\r\n    <dc:format>image/svg+xml</dc:format>\r\n    <dc:creator>\r\n     <cc:Agent>\r\n      <dc:title>Matplotlib v3.3.3, https://matplotlib.org/</dc:title>\r\n     </cc:Agent>\r\n    </dc:creator>\r\n   </cc:Work>\r\n  </rdf:RDF>\r\n </metadata>\r\n <defs>\r\n  <style type=\"text/css\">*{stroke-linecap:butt;stroke-linejoin:round;}</style>\r\n </defs>\r\n <g id=\"figure_1\">\r\n  <g id=\"patch_1\">\r\n   <path d=\"M 0 277.314375 \r\nL 392.14375 277.314375 \r\nL 392.14375 0 \r\nL 0 0 \r\nz\r\n\" style=\"fill:none;\"/>\r\n  </g>\r\n  <g id=\"axes_1\">\r\n   <g id=\"patch_2\">\r\n    <path d=\"M 50.14375 239.758125 \r\nL 384.94375 239.758125 \r\nL 384.94375 22.318125 \r\nL 50.14375 22.318125 \r\nz\r\n\" style=\"fill:#ffffff;\"/>\r\n   </g>\r\n   <g id=\"matplotlib.axis_1\">\r\n    <g id=\"xtick_1\">\r\n     <g id=\"line2d_1\">\r\n      <path clip-path=\"url(#p295685b15a)\" d=\"M 65.361932 239.758125 \r\nL 65.361932 22.318125 \r\n\" style=\"fill:none;stroke:#b0b0b0;stroke-linecap:square;stroke-width:0.8;\"/>\r\n     </g>\r\n     <g id=\"line2d_2\">\r\n      <defs>\r\n       <path d=\"M 0 0 \r\nL 0 3.5 \r\n\" id=\"m2adf32d05f\" style=\"stroke:#000000;stroke-width:0.8;\"/>\r\n      </defs>\r\n      <g>\r\n       <use style=\"stroke:#000000;stroke-width:0.8;\" x=\"65.361932\" xlink:href=\"#m2adf32d05f\" y=\"239.758125\"/>\r\n      </g>\r\n     </g>\r\n     <g id=\"text_1\">\r\n      <!-- 0 -->\r\n      <g transform=\"translate(62.180682 254.356562)scale(0.1 -0.1)\">\r\n       <defs>\r\n        <path d=\"M 31.78125 66.40625 \r\nQ 24.171875 66.40625 20.328125 58.90625 \r\nQ 16.5 51.421875 16.5 36.375 \r\nQ 16.5 21.390625 20.328125 13.890625 \r\nQ 24.171875 6.390625 31.78125 6.390625 \r\nQ 39.453125 6.390625 43.28125 13.890625 \r\nQ 47.125 21.390625 47.125 36.375 \r\nQ 47.125 51.421875 43.28125 58.90625 \r\nQ 39.453125 66.40625 31.78125 66.40625 \r\nz\r\nM 31.78125 74.21875 \r\nQ 44.046875 74.21875 50.515625 64.515625 \r\nQ 56.984375 54.828125 56.984375 36.375 \r\nQ 56.984375 17.96875 50.515625 8.265625 \r\nQ 44.046875 -1.421875 31.78125 -1.421875 \r\nQ 19.53125 -1.421875 13.0625 8.265625 \r\nQ 6.59375 17.96875 6.59375 36.375 \r\nQ 6.59375 54.828125 13.0625 64.515625 \r\nQ 19.53125 74.21875 31.78125 74.21875 \r\nz\r\n\" id=\"DejaVuSans-48\"/>\r\n       </defs>\r\n       <use xlink:href=\"#DejaVuSans-48\"/>\r\n      </g>\r\n     </g>\r\n    </g>\r\n    <g id=\"xtick_2\">\r\n     <g id=\"line2d_3\">\r\n      <path clip-path=\"url(#p295685b15a)\" d=\"M 126.849535 239.758125 \r\nL 126.849535 22.318125 \r\n\" style=\"fill:none;stroke:#b0b0b0;stroke-linecap:square;stroke-width:0.8;\"/>\r\n     </g>\r\n     <g id=\"line2d_4\">\r\n      <g>\r\n       <use style=\"stroke:#000000;stroke-width:0.8;\" x=\"126.849535\" xlink:href=\"#m2adf32d05f\" y=\"239.758125\"/>\r\n      </g>\r\n     </g>\r\n     <g id=\"text_2\">\r\n      <!-- 20 -->\r\n      <g transform=\"translate(120.487035 254.356562)scale(0.1 -0.1)\">\r\n       <defs>\r\n        <path d=\"M 19.1875 8.296875 \r\nL 53.609375 8.296875 \r\nL 53.609375 0 \r\nL 7.328125 0 \r\nL 7.328125 8.296875 \r\nQ 12.9375 14.109375 22.625 23.890625 \r\nQ 32.328125 33.6875 34.8125 36.53125 \r\nQ 39.546875 41.84375 41.421875 45.53125 \r\nQ 43.3125 49.21875 43.3125 52.78125 \r\nQ 43.3125 58.59375 39.234375 62.25 \r\nQ 35.15625 65.921875 28.609375 65.921875 \r\nQ 23.96875 65.921875 18.8125 64.3125 \r\nQ 13.671875 62.703125 7.8125 59.421875 \r\nL 7.8125 69.390625 \r\nQ 13.765625 71.78125 18.9375 73 \r\nQ 24.125 74.21875 28.421875 74.21875 \r\nQ 39.75 74.21875 46.484375 68.546875 \r\nQ 53.21875 62.890625 53.21875 53.421875 \r\nQ 53.21875 48.921875 51.53125 44.890625 \r\nQ 49.859375 40.875 45.40625 35.40625 \r\nQ 44.1875 33.984375 37.640625 27.21875 \r\nQ 31.109375 20.453125 19.1875 8.296875 \r\nz\r\n\" id=\"DejaVuSans-50\"/>\r\n       </defs>\r\n       <use xlink:href=\"#DejaVuSans-50\"/>\r\n       <use x=\"63.623047\" xlink:href=\"#DejaVuSans-48\"/>\r\n      </g>\r\n     </g>\r\n    </g>\r\n    <g id=\"xtick_3\">\r\n     <g id=\"line2d_5\">\r\n      <path clip-path=\"url(#p295685b15a)\" d=\"M 188.337138 239.758125 \r\nL 188.337138 22.318125 \r\n\" style=\"fill:none;stroke:#b0b0b0;stroke-linecap:square;stroke-width:0.8;\"/>\r\n     </g>\r\n     <g id=\"line2d_6\">\r\n      <g>\r\n       <use style=\"stroke:#000000;stroke-width:0.8;\" x=\"188.337138\" xlink:href=\"#m2adf32d05f\" y=\"239.758125\"/>\r\n      </g>\r\n     </g>\r\n     <g id=\"text_3\">\r\n      <!-- 40 -->\r\n      <g transform=\"translate(181.974638 254.356562)scale(0.1 -0.1)\">\r\n       <defs>\r\n        <path d=\"M 37.796875 64.3125 \r\nL 12.890625 25.390625 \r\nL 37.796875 25.390625 \r\nz\r\nM 35.203125 72.90625 \r\nL 47.609375 72.90625 \r\nL 47.609375 25.390625 \r\nL 58.015625 25.390625 \r\nL 58.015625 17.1875 \r\nL 47.609375 17.1875 \r\nL 47.609375 0 \r\nL 37.796875 0 \r\nL 37.796875 17.1875 \r\nL 4.890625 17.1875 \r\nL 4.890625 26.703125 \r\nz\r\n\" id=\"DejaVuSans-52\"/>\r\n       </defs>\r\n       <use xlink:href=\"#DejaVuSans-52\"/>\r\n       <use x=\"63.623047\" xlink:href=\"#DejaVuSans-48\"/>\r\n      </g>\r\n     </g>\r\n    </g>\r\n    <g id=\"xtick_4\">\r\n     <g id=\"line2d_7\">\r\n      <path clip-path=\"url(#p295685b15a)\" d=\"M 249.824742 239.758125 \r\nL 249.824742 22.318125 \r\n\" style=\"fill:none;stroke:#b0b0b0;stroke-linecap:square;stroke-width:0.8;\"/>\r\n     </g>\r\n     <g id=\"line2d_8\">\r\n      <g>\r\n       <use style=\"stroke:#000000;stroke-width:0.8;\" x=\"249.824742\" xlink:href=\"#m2adf32d05f\" y=\"239.758125\"/>\r\n      </g>\r\n     </g>\r\n     <g id=\"text_4\">\r\n      <!-- 60 -->\r\n      <g transform=\"translate(243.462242 254.356562)scale(0.1 -0.1)\">\r\n       <defs>\r\n        <path d=\"M 33.015625 40.375 \r\nQ 26.375 40.375 22.484375 35.828125 \r\nQ 18.609375 31.296875 18.609375 23.390625 \r\nQ 18.609375 15.53125 22.484375 10.953125 \r\nQ 26.375 6.390625 33.015625 6.390625 \r\nQ 39.65625 6.390625 43.53125 10.953125 \r\nQ 47.40625 15.53125 47.40625 23.390625 \r\nQ 47.40625 31.296875 43.53125 35.828125 \r\nQ 39.65625 40.375 33.015625 40.375 \r\nz\r\nM 52.59375 71.296875 \r\nL 52.59375 62.3125 \r\nQ 48.875 64.0625 45.09375 64.984375 \r\nQ 41.3125 65.921875 37.59375 65.921875 \r\nQ 27.828125 65.921875 22.671875 59.328125 \r\nQ 17.53125 52.734375 16.796875 39.40625 \r\nQ 19.671875 43.65625 24.015625 45.921875 \r\nQ 28.375 48.1875 33.59375 48.1875 \r\nQ 44.578125 48.1875 50.953125 41.515625 \r\nQ 57.328125 34.859375 57.328125 23.390625 \r\nQ 57.328125 12.15625 50.6875 5.359375 \r\nQ 44.046875 -1.421875 33.015625 -1.421875 \r\nQ 20.359375 -1.421875 13.671875 8.265625 \r\nQ 6.984375 17.96875 6.984375 36.375 \r\nQ 6.984375 53.65625 15.1875 63.9375 \r\nQ 23.390625 74.21875 37.203125 74.21875 \r\nQ 40.921875 74.21875 44.703125 73.484375 \r\nQ 48.484375 72.75 52.59375 71.296875 \r\nz\r\n\" id=\"DejaVuSans-54\"/>\r\n       </defs>\r\n       <use xlink:href=\"#DejaVuSans-54\"/>\r\n       <use x=\"63.623047\" xlink:href=\"#DejaVuSans-48\"/>\r\n      </g>\r\n     </g>\r\n    </g>\r\n    <g id=\"xtick_5\">\r\n     <g id=\"line2d_9\">\r\n      <path clip-path=\"url(#p295685b15a)\" d=\"M 311.312345 239.758125 \r\nL 311.312345 22.318125 \r\n\" style=\"fill:none;stroke:#b0b0b0;stroke-linecap:square;stroke-width:0.8;\"/>\r\n     </g>\r\n     <g id=\"line2d_10\">\r\n      <g>\r\n       <use style=\"stroke:#000000;stroke-width:0.8;\" x=\"311.312345\" xlink:href=\"#m2adf32d05f\" y=\"239.758125\"/>\r\n      </g>\r\n     </g>\r\n     <g id=\"text_5\">\r\n      <!-- 80 -->\r\n      <g transform=\"translate(304.949845 254.356562)scale(0.1 -0.1)\">\r\n       <defs>\r\n        <path d=\"M 31.78125 34.625 \r\nQ 24.75 34.625 20.71875 30.859375 \r\nQ 16.703125 27.09375 16.703125 20.515625 \r\nQ 16.703125 13.921875 20.71875 10.15625 \r\nQ 24.75 6.390625 31.78125 6.390625 \r\nQ 38.8125 6.390625 42.859375 10.171875 \r\nQ 46.921875 13.96875 46.921875 20.515625 \r\nQ 46.921875 27.09375 42.890625 30.859375 \r\nQ 38.875 34.625 31.78125 34.625 \r\nz\r\nM 21.921875 38.8125 \r\nQ 15.578125 40.375 12.03125 44.71875 \r\nQ 8.5 49.078125 8.5 55.328125 \r\nQ 8.5 64.0625 14.71875 69.140625 \r\nQ 20.953125 74.21875 31.78125 74.21875 \r\nQ 42.671875 74.21875 48.875 69.140625 \r\nQ 55.078125 64.0625 55.078125 55.328125 \r\nQ 55.078125 49.078125 51.53125 44.71875 \r\nQ 48 40.375 41.703125 38.8125 \r\nQ 48.828125 37.15625 52.796875 32.3125 \r\nQ 56.78125 27.484375 56.78125 20.515625 \r\nQ 56.78125 9.90625 50.3125 4.234375 \r\nQ 43.84375 -1.421875 31.78125 -1.421875 \r\nQ 19.734375 -1.421875 13.25 4.234375 \r\nQ 6.78125 9.90625 6.78125 20.515625 \r\nQ 6.78125 27.484375 10.78125 32.3125 \r\nQ 14.796875 37.15625 21.921875 38.8125 \r\nz\r\nM 18.3125 54.390625 \r\nQ 18.3125 48.734375 21.84375 45.5625 \r\nQ 25.390625 42.390625 31.78125 42.390625 \r\nQ 38.140625 42.390625 41.71875 45.5625 \r\nQ 45.3125 48.734375 45.3125 54.390625 \r\nQ 45.3125 60.0625 41.71875 63.234375 \r\nQ 38.140625 66.40625 31.78125 66.40625 \r\nQ 25.390625 66.40625 21.84375 63.234375 \r\nQ 18.3125 60.0625 18.3125 54.390625 \r\nz\r\n\" id=\"DejaVuSans-56\"/>\r\n       </defs>\r\n       <use xlink:href=\"#DejaVuSans-56\"/>\r\n       <use x=\"63.623047\" xlink:href=\"#DejaVuSans-48\"/>\r\n      </g>\r\n     </g>\r\n    </g>\r\n    <g id=\"xtick_6\">\r\n     <g id=\"line2d_11\">\r\n      <path clip-path=\"url(#p295685b15a)\" d=\"M 372.799948 239.758125 \r\nL 372.799948 22.318125 \r\n\" style=\"fill:none;stroke:#b0b0b0;stroke-linecap:square;stroke-width:0.8;\"/>\r\n     </g>\r\n     <g id=\"line2d_12\">\r\n      <g>\r\n       <use style=\"stroke:#000000;stroke-width:0.8;\" x=\"372.799948\" xlink:href=\"#m2adf32d05f\" y=\"239.758125\"/>\r\n      </g>\r\n     </g>\r\n     <g id=\"text_6\">\r\n      <!-- 100 -->\r\n      <g transform=\"translate(363.256198 254.356562)scale(0.1 -0.1)\">\r\n       <defs>\r\n        <path d=\"M 12.40625 8.296875 \r\nL 28.515625 8.296875 \r\nL 28.515625 63.921875 \r\nL 10.984375 60.40625 \r\nL 10.984375 69.390625 \r\nL 28.421875 72.90625 \r\nL 38.28125 72.90625 \r\nL 38.28125 8.296875 \r\nL 54.390625 8.296875 \r\nL 54.390625 0 \r\nL 12.40625 0 \r\nz\r\n\" id=\"DejaVuSans-49\"/>\r\n       </defs>\r\n       <use xlink:href=\"#DejaVuSans-49\"/>\r\n       <use x=\"63.623047\" xlink:href=\"#DejaVuSans-48\"/>\r\n       <use x=\"127.246094\" xlink:href=\"#DejaVuSans-48\"/>\r\n      </g>\r\n     </g>\r\n    </g>\r\n    <g id=\"text_7\">\r\n     <!-- epoch -->\r\n     <g transform=\"translate(202.315625 268.034687)scale(0.1 -0.1)\">\r\n      <defs>\r\n       <path d=\"M 56.203125 29.59375 \r\nL 56.203125 25.203125 \r\nL 14.890625 25.203125 \r\nQ 15.484375 15.921875 20.484375 11.0625 \r\nQ 25.484375 6.203125 34.421875 6.203125 \r\nQ 39.59375 6.203125 44.453125 7.46875 \r\nQ 49.3125 8.734375 54.109375 11.28125 \r\nL 54.109375 2.78125 \r\nQ 49.265625 0.734375 44.1875 -0.34375 \r\nQ 39.109375 -1.421875 33.890625 -1.421875 \r\nQ 20.796875 -1.421875 13.15625 6.1875 \r\nQ 5.515625 13.8125 5.515625 26.8125 \r\nQ 5.515625 40.234375 12.765625 48.109375 \r\nQ 20.015625 56 32.328125 56 \r\nQ 43.359375 56 49.78125 48.890625 \r\nQ 56.203125 41.796875 56.203125 29.59375 \r\nz\r\nM 47.21875 32.234375 \r\nQ 47.125 39.59375 43.09375 43.984375 \r\nQ 39.0625 48.390625 32.421875 48.390625 \r\nQ 24.90625 48.390625 20.390625 44.140625 \r\nQ 15.875 39.890625 15.1875 32.171875 \r\nz\r\n\" id=\"DejaVuSans-101\"/>\r\n       <path d=\"M 18.109375 8.203125 \r\nL 18.109375 -20.796875 \r\nL 9.078125 -20.796875 \r\nL 9.078125 54.6875 \r\nL 18.109375 54.6875 \r\nL 18.109375 46.390625 \r\nQ 20.953125 51.265625 25.265625 53.625 \r\nQ 29.59375 56 35.59375 56 \r\nQ 45.5625 56 51.78125 48.09375 \r\nQ 58.015625 40.1875 58.015625 27.296875 \r\nQ 58.015625 14.40625 51.78125 6.484375 \r\nQ 45.5625 -1.421875 35.59375 -1.421875 \r\nQ 29.59375 -1.421875 25.265625 0.953125 \r\nQ 20.953125 3.328125 18.109375 8.203125 \r\nz\r\nM 48.6875 27.296875 \r\nQ 48.6875 37.203125 44.609375 42.84375 \r\nQ 40.53125 48.484375 33.40625 48.484375 \r\nQ 26.265625 48.484375 22.1875 42.84375 \r\nQ 18.109375 37.203125 18.109375 27.296875 \r\nQ 18.109375 17.390625 22.1875 11.75 \r\nQ 26.265625 6.109375 33.40625 6.109375 \r\nQ 40.53125 6.109375 44.609375 11.75 \r\nQ 48.6875 17.390625 48.6875 27.296875 \r\nz\r\n\" id=\"DejaVuSans-112\"/>\r\n       <path d=\"M 30.609375 48.390625 \r\nQ 23.390625 48.390625 19.1875 42.75 \r\nQ 14.984375 37.109375 14.984375 27.296875 \r\nQ 14.984375 17.484375 19.15625 11.84375 \r\nQ 23.34375 6.203125 30.609375 6.203125 \r\nQ 37.796875 6.203125 41.984375 11.859375 \r\nQ 46.1875 17.53125 46.1875 27.296875 \r\nQ 46.1875 37.015625 41.984375 42.703125 \r\nQ 37.796875 48.390625 30.609375 48.390625 \r\nz\r\nM 30.609375 56 \r\nQ 42.328125 56 49.015625 48.375 \r\nQ 55.71875 40.765625 55.71875 27.296875 \r\nQ 55.71875 13.875 49.015625 6.21875 \r\nQ 42.328125 -1.421875 30.609375 -1.421875 \r\nQ 18.84375 -1.421875 12.171875 6.21875 \r\nQ 5.515625 13.875 5.515625 27.296875 \r\nQ 5.515625 40.765625 12.171875 48.375 \r\nQ 18.84375 56 30.609375 56 \r\nz\r\n\" id=\"DejaVuSans-111\"/>\r\n       <path d=\"M 48.78125 52.59375 \r\nL 48.78125 44.1875 \r\nQ 44.96875 46.296875 41.140625 47.34375 \r\nQ 37.3125 48.390625 33.40625 48.390625 \r\nQ 24.65625 48.390625 19.8125 42.84375 \r\nQ 14.984375 37.3125 14.984375 27.296875 \r\nQ 14.984375 17.28125 19.8125 11.734375 \r\nQ 24.65625 6.203125 33.40625 6.203125 \r\nQ 37.3125 6.203125 41.140625 7.25 \r\nQ 44.96875 8.296875 48.78125 10.40625 \r\nL 48.78125 2.09375 \r\nQ 45.015625 0.34375 40.984375 -0.53125 \r\nQ 36.96875 -1.421875 32.421875 -1.421875 \r\nQ 20.0625 -1.421875 12.78125 6.34375 \r\nQ 5.515625 14.109375 5.515625 27.296875 \r\nQ 5.515625 40.671875 12.859375 48.328125 \r\nQ 20.21875 56 33.015625 56 \r\nQ 37.15625 56 41.109375 55.140625 \r\nQ 45.0625 54.296875 48.78125 52.59375 \r\nz\r\n\" id=\"DejaVuSans-99\"/>\r\n       <path d=\"M 54.890625 33.015625 \r\nL 54.890625 0 \r\nL 45.90625 0 \r\nL 45.90625 32.71875 \r\nQ 45.90625 40.484375 42.875 44.328125 \r\nQ 39.84375 48.1875 33.796875 48.1875 \r\nQ 26.515625 48.1875 22.3125 43.546875 \r\nQ 18.109375 38.921875 18.109375 30.90625 \r\nL 18.109375 0 \r\nL 9.078125 0 \r\nL 9.078125 75.984375 \r\nL 18.109375 75.984375 \r\nL 18.109375 46.1875 \r\nQ 21.34375 51.125 25.703125 53.5625 \r\nQ 30.078125 56 35.796875 56 \r\nQ 45.21875 56 50.046875 50.171875 \r\nQ 54.890625 44.34375 54.890625 33.015625 \r\nz\r\n\" id=\"DejaVuSans-104\"/>\r\n      </defs>\r\n      <use xlink:href=\"#DejaVuSans-101\"/>\r\n      <use x=\"61.523438\" xlink:href=\"#DejaVuSans-112\"/>\r\n      <use x=\"125\" xlink:href=\"#DejaVuSans-111\"/>\r\n      <use x=\"186.181641\" xlink:href=\"#DejaVuSans-99\"/>\r\n      <use x=\"241.162109\" xlink:href=\"#DejaVuSans-104\"/>\r\n     </g>\r\n    </g>\r\n   </g>\r\n   <g id=\"matplotlib.axis_2\">\r\n    <g id=\"ytick_1\">\r\n     <g id=\"line2d_13\">\r\n      <path clip-path=\"url(#p295685b15a)\" d=\"M 50.14375 217.560599 \r\nL 384.94375 217.560599 \r\n\" style=\"fill:none;stroke:#b0b0b0;stroke-linecap:square;stroke-width:0.8;\"/>\r\n     </g>\r\n     <g id=\"line2d_14\">\r\n      <defs>\r\n       <path d=\"M 0 0 \r\nL -3.5 0 \r\n\" id=\"m0ab152a605\" style=\"stroke:#000000;stroke-width:0.8;\"/>\r\n      </defs>\r\n      <g>\r\n       <use style=\"stroke:#000000;stroke-width:0.8;\" x=\"50.14375\" xlink:href=\"#m0ab152a605\" y=\"217.560599\"/>\r\n      </g>\r\n     </g>\r\n     <g id=\"text_8\">\r\n      <!-- 0.50 -->\r\n      <g transform=\"translate(20.878125 221.359818)scale(0.1 -0.1)\">\r\n       <defs>\r\n        <path d=\"M 10.6875 12.40625 \r\nL 21 12.40625 \r\nL 21 0 \r\nL 10.6875 0 \r\nz\r\n\" id=\"DejaVuSans-46\"/>\r\n        <path d=\"M 10.796875 72.90625 \r\nL 49.515625 72.90625 \r\nL 49.515625 64.59375 \r\nL 19.828125 64.59375 \r\nL 19.828125 46.734375 \r\nQ 21.96875 47.46875 24.109375 47.828125 \r\nQ 26.265625 48.1875 28.421875 48.1875 \r\nQ 40.625 48.1875 47.75 41.5 \r\nQ 54.890625 34.8125 54.890625 23.390625 \r\nQ 54.890625 11.625 47.5625 5.09375 \r\nQ 40.234375 -1.421875 26.90625 -1.421875 \r\nQ 22.3125 -1.421875 17.546875 -0.640625 \r\nQ 12.796875 0.140625 7.71875 1.703125 \r\nL 7.71875 11.625 \r\nQ 12.109375 9.234375 16.796875 8.0625 \r\nQ 21.484375 6.890625 26.703125 6.890625 \r\nQ 35.15625 6.890625 40.078125 11.328125 \r\nQ 45.015625 15.765625 45.015625 23.390625 \r\nQ 45.015625 31 40.078125 35.4375 \r\nQ 35.15625 39.890625 26.703125 39.890625 \r\nQ 22.75 39.890625 18.8125 39.015625 \r\nQ 14.890625 38.140625 10.796875 36.28125 \r\nz\r\n\" id=\"DejaVuSans-53\"/>\r\n       </defs>\r\n       <use xlink:href=\"#DejaVuSans-48\"/>\r\n       <use x=\"63.623047\" xlink:href=\"#DejaVuSans-46\"/>\r\n       <use x=\"95.410156\" xlink:href=\"#DejaVuSans-53\"/>\r\n       <use x=\"159.033203\" xlink:href=\"#DejaVuSans-48\"/>\r\n      </g>\r\n     </g>\r\n    </g>\r\n    <g id=\"ytick_2\">\r\n     <g id=\"line2d_15\">\r\n      <path clip-path=\"url(#p295685b15a)\" d=\"M 50.14375 189.619518 \r\nL 384.94375 189.619518 \r\n\" style=\"fill:none;stroke:#b0b0b0;stroke-linecap:square;stroke-width:0.8;\"/>\r\n     </g>\r\n     <g id=\"line2d_16\">\r\n      <g>\r\n       <use style=\"stroke:#000000;stroke-width:0.8;\" x=\"50.14375\" xlink:href=\"#m0ab152a605\" y=\"189.619518\"/>\r\n      </g>\r\n     </g>\r\n     <g id=\"text_9\">\r\n      <!-- 0.75 -->\r\n      <g transform=\"translate(20.878125 193.418737)scale(0.1 -0.1)\">\r\n       <defs>\r\n        <path d=\"M 8.203125 72.90625 \r\nL 55.078125 72.90625 \r\nL 55.078125 68.703125 \r\nL 28.609375 0 \r\nL 18.3125 0 \r\nL 43.21875 64.59375 \r\nL 8.203125 64.59375 \r\nz\r\n\" id=\"DejaVuSans-55\"/>\r\n       </defs>\r\n       <use xlink:href=\"#DejaVuSans-48\"/>\r\n       <use x=\"63.623047\" xlink:href=\"#DejaVuSans-46\"/>\r\n       <use x=\"95.410156\" xlink:href=\"#DejaVuSans-55\"/>\r\n       <use x=\"159.033203\" xlink:href=\"#DejaVuSans-53\"/>\r\n      </g>\r\n     </g>\r\n    </g>\r\n    <g id=\"ytick_3\">\r\n     <g id=\"line2d_17\">\r\n      <path clip-path=\"url(#p295685b15a)\" d=\"M 50.14375 161.678436 \r\nL 384.94375 161.678436 \r\n\" style=\"fill:none;stroke:#b0b0b0;stroke-linecap:square;stroke-width:0.8;\"/>\r\n     </g>\r\n     <g id=\"line2d_18\">\r\n      <g>\r\n       <use style=\"stroke:#000000;stroke-width:0.8;\" x=\"50.14375\" xlink:href=\"#m0ab152a605\" y=\"161.678436\"/>\r\n      </g>\r\n     </g>\r\n     <g id=\"text_10\">\r\n      <!-- 1.00 -->\r\n      <g transform=\"translate(20.878125 165.477655)scale(0.1 -0.1)\">\r\n       <use xlink:href=\"#DejaVuSans-49\"/>\r\n       <use x=\"63.623047\" xlink:href=\"#DejaVuSans-46\"/>\r\n       <use x=\"95.410156\" xlink:href=\"#DejaVuSans-48\"/>\r\n       <use x=\"159.033203\" xlink:href=\"#DejaVuSans-48\"/>\r\n      </g>\r\n     </g>\r\n    </g>\r\n    <g id=\"ytick_4\">\r\n     <g id=\"line2d_19\">\r\n      <path clip-path=\"url(#p295685b15a)\" d=\"M 50.14375 133.737355 \r\nL 384.94375 133.737355 \r\n\" style=\"fill:none;stroke:#b0b0b0;stroke-linecap:square;stroke-width:0.8;\"/>\r\n     </g>\r\n     <g id=\"line2d_20\">\r\n      <g>\r\n       <use style=\"stroke:#000000;stroke-width:0.8;\" x=\"50.14375\" xlink:href=\"#m0ab152a605\" y=\"133.737355\"/>\r\n      </g>\r\n     </g>\r\n     <g id=\"text_11\">\r\n      <!-- 1.25 -->\r\n      <g transform=\"translate(20.878125 137.536574)scale(0.1 -0.1)\">\r\n       <use xlink:href=\"#DejaVuSans-49\"/>\r\n       <use x=\"63.623047\" xlink:href=\"#DejaVuSans-46\"/>\r\n       <use x=\"95.410156\" xlink:href=\"#DejaVuSans-50\"/>\r\n       <use x=\"159.033203\" xlink:href=\"#DejaVuSans-53\"/>\r\n      </g>\r\n     </g>\r\n    </g>\r\n    <g id=\"ytick_5\">\r\n     <g id=\"line2d_21\">\r\n      <path clip-path=\"url(#p295685b15a)\" d=\"M 50.14375 105.796273 \r\nL 384.94375 105.796273 \r\n\" style=\"fill:none;stroke:#b0b0b0;stroke-linecap:square;stroke-width:0.8;\"/>\r\n     </g>\r\n     <g id=\"line2d_22\">\r\n      <g>\r\n       <use style=\"stroke:#000000;stroke-width:0.8;\" x=\"50.14375\" xlink:href=\"#m0ab152a605\" y=\"105.796273\"/>\r\n      </g>\r\n     </g>\r\n     <g id=\"text_12\">\r\n      <!-- 1.50 -->\r\n      <g transform=\"translate(20.878125 109.595492)scale(0.1 -0.1)\">\r\n       <use xlink:href=\"#DejaVuSans-49\"/>\r\n       <use x=\"63.623047\" xlink:href=\"#DejaVuSans-46\"/>\r\n       <use x=\"95.410156\" xlink:href=\"#DejaVuSans-53\"/>\r\n       <use x=\"159.033203\" xlink:href=\"#DejaVuSans-48\"/>\r\n      </g>\r\n     </g>\r\n    </g>\r\n    <g id=\"ytick_6\">\r\n     <g id=\"line2d_23\">\r\n      <path clip-path=\"url(#p295685b15a)\" d=\"M 50.14375 77.855192 \r\nL 384.94375 77.855192 \r\n\" style=\"fill:none;stroke:#b0b0b0;stroke-linecap:square;stroke-width:0.8;\"/>\r\n     </g>\r\n     <g id=\"line2d_24\">\r\n      <g>\r\n       <use style=\"stroke:#000000;stroke-width:0.8;\" x=\"50.14375\" xlink:href=\"#m0ab152a605\" y=\"77.855192\"/>\r\n      </g>\r\n     </g>\r\n     <g id=\"text_13\">\r\n      <!-- 1.75 -->\r\n      <g transform=\"translate(20.878125 81.654411)scale(0.1 -0.1)\">\r\n       <use xlink:href=\"#DejaVuSans-49\"/>\r\n       <use x=\"63.623047\" xlink:href=\"#DejaVuSans-46\"/>\r\n       <use x=\"95.410156\" xlink:href=\"#DejaVuSans-55\"/>\r\n       <use x=\"159.033203\" xlink:href=\"#DejaVuSans-53\"/>\r\n      </g>\r\n     </g>\r\n    </g>\r\n    <g id=\"ytick_7\">\r\n     <g id=\"line2d_25\">\r\n      <path clip-path=\"url(#p295685b15a)\" d=\"M 50.14375 49.914111 \r\nL 384.94375 49.914111 \r\n\" style=\"fill:none;stroke:#b0b0b0;stroke-linecap:square;stroke-width:0.8;\"/>\r\n     </g>\r\n     <g id=\"line2d_26\">\r\n      <g>\r\n       <use style=\"stroke:#000000;stroke-width:0.8;\" x=\"50.14375\" xlink:href=\"#m0ab152a605\" y=\"49.914111\"/>\r\n      </g>\r\n     </g>\r\n     <g id=\"text_14\">\r\n      <!-- 2.00 -->\r\n      <g transform=\"translate(20.878125 53.713329)scale(0.1 -0.1)\">\r\n       <use xlink:href=\"#DejaVuSans-50\"/>\r\n       <use x=\"63.623047\" xlink:href=\"#DejaVuSans-46\"/>\r\n       <use x=\"95.410156\" xlink:href=\"#DejaVuSans-48\"/>\r\n       <use x=\"159.033203\" xlink:href=\"#DejaVuSans-48\"/>\r\n      </g>\r\n     </g>\r\n    </g>\r\n    <g id=\"text_15\">\r\n     <!-- loss -->\r\n     <g transform=\"translate(14.798438 140.695937)rotate(-90)scale(0.1 -0.1)\">\r\n      <defs>\r\n       <path d=\"M 9.421875 75.984375 \r\nL 18.40625 75.984375 \r\nL 18.40625 0 \r\nL 9.421875 0 \r\nz\r\n\" id=\"DejaVuSans-108\"/>\r\n       <path d=\"M 44.28125 53.078125 \r\nL 44.28125 44.578125 \r\nQ 40.484375 46.53125 36.375 47.5 \r\nQ 32.28125 48.484375 27.875 48.484375 \r\nQ 21.1875 48.484375 17.84375 46.4375 \r\nQ 14.5 44.390625 14.5 40.28125 \r\nQ 14.5 37.15625 16.890625 35.375 \r\nQ 19.28125 33.59375 26.515625 31.984375 \r\nL 29.59375 31.296875 \r\nQ 39.15625 29.25 43.1875 25.515625 \r\nQ 47.21875 21.78125 47.21875 15.09375 \r\nQ 47.21875 7.46875 41.1875 3.015625 \r\nQ 35.15625 -1.421875 24.609375 -1.421875 \r\nQ 20.21875 -1.421875 15.453125 -0.5625 \r\nQ 10.6875 0.296875 5.421875 2 \r\nL 5.421875 11.28125 \r\nQ 10.40625 8.6875 15.234375 7.390625 \r\nQ 20.0625 6.109375 24.8125 6.109375 \r\nQ 31.15625 6.109375 34.5625 8.28125 \r\nQ 37.984375 10.453125 37.984375 14.40625 \r\nQ 37.984375 18.0625 35.515625 20.015625 \r\nQ 33.0625 21.96875 24.703125 23.78125 \r\nL 21.578125 24.515625 \r\nQ 13.234375 26.265625 9.515625 29.90625 \r\nQ 5.8125 33.546875 5.8125 39.890625 \r\nQ 5.8125 47.609375 11.28125 51.796875 \r\nQ 16.75 56 26.8125 56 \r\nQ 31.78125 56 36.171875 55.265625 \r\nQ 40.578125 54.546875 44.28125 53.078125 \r\nz\r\n\" id=\"DejaVuSans-115\"/>\r\n      </defs>\r\n      <use xlink:href=\"#DejaVuSans-108\"/>\r\n      <use x=\"27.783203\" xlink:href=\"#DejaVuSans-111\"/>\r\n      <use x=\"88.964844\" xlink:href=\"#DejaVuSans-115\"/>\r\n      <use x=\"141.064453\" xlink:href=\"#DejaVuSans-115\"/>\r\n     </g>\r\n    </g>\r\n   </g>\r\n   <g id=\"line2d_27\">\r\n    <path clip-path=\"url(#p295685b15a)\" d=\"M 65.361932 32.201761 \r\nL 68.436312 52.061514 \r\nL 71.510692 109.199136 \r\nL 74.585072 146.43926 \r\nL 77.659452 160.359252 \r\nL 80.733833 172.982516 \r\nL 83.808213 182.615648 \r\nL 86.882593 188.267571 \r\nL 89.956973 192.496341 \r\nL 93.031353 194.823377 \r\nL 96.105733 197.030569 \r\nL 99.180114 199.841875 \r\nL 102.254494 201.390601 \r\nL 105.328874 202.007365 \r\nL 108.403254 203.069316 \r\nL 111.477634 206.998777 \r\nL 114.552014 208.275646 \r\nL 117.626395 208.989118 \r\nL 120.700775 210.018666 \r\nL 123.775155 211.190634 \r\nL 126.849535 211.452045 \r\nL 129.923915 212.740852 \r\nL 132.998295 213.191135 \r\nL 136.072676 212.82419 \r\nL 139.147056 214.098628 \r\nL 142.221436 214.192631 \r\nL 145.295816 213.629286 \r\nL 148.370196 216.44768 \r\nL 151.444576 218.504911 \r\nL 154.518957 219.246552 \r\nL 157.593337 219.48123 \r\nL 160.667717 220.191391 \r\nL 163.742097 217.7016 \r\nL 166.816477 220.309828 \r\nL 169.890857 221.307121 \r\nL 172.965238 221.285467 \r\nL 176.039618 222.607363 \r\nL 179.113998 223.698092 \r\nL 182.188378 223.192674 \r\nL 185.262758 220.030308 \r\nL 188.337138 223.695564 \r\nL 191.411519 224.633944 \r\nL 194.485899 224.629171 \r\nL 197.560279 224.816817 \r\nL 200.634659 224.723087 \r\nL 203.709039 225.307802 \r\nL 206.783419 225.486035 \r\nL 209.8578 226.164127 \r\nL 212.93218 225.259142 \r\nL 216.00656 225.95572 \r\nL 219.08094 226.055668 \r\nL 222.15532 226.919184 \r\nL 225.2297 226.607971 \r\nL 228.304081 226.250848 \r\nL 231.378461 227.186064 \r\nL 234.452841 227.05393 \r\nL 237.527221 226.827233 \r\nL 240.601601 227.359434 \r\nL 243.675981 227.605719 \r\nL 246.750362 227.861538 \r\nL 249.824742 227.562102 \r\nL 252.899122 228.072869 \r\nL 255.973502 228.232986 \r\nL 259.047882 227.81396 \r\nL 262.122262 228.159088 \r\nL 265.196643 228.22776 \r\nL 268.271023 228.25819 \r\nL 271.345403 228.301085 \r\nL 274.419783 228.687362 \r\nL 277.494163 228.839904 \r\nL 280.568543 228.77474 \r\nL 283.642924 228.723631 \r\nL 286.717304 228.924031 \r\nL 289.791684 228.961536 \r\nL 292.866064 228.548702 \r\nL 295.940444 228.908689 \r\nL 299.014824 228.998485 \r\nL 302.089205 229.044924 \r\nL 305.163585 229.116897 \r\nL 308.237965 228.982128 \r\nL 311.312345 229.300819 \r\nL 314.386725 229.328055 \r\nL 317.461105 229.158995 \r\nL 320.535486 229.286123 \r\nL 323.609866 229.389862 \r\nL 326.684246 229.493534 \r\nL 329.758626 229.562856 \r\nL 332.833006 229.557383 \r\nL 335.907386 229.724125 \r\nL 338.981767 229.566779 \r\nL 342.056147 229.729347 \r\nL 345.130527 229.728658 \r\nL 348.204907 229.413814 \r\nL 351.279287 229.775166 \r\nL 354.353667 229.644731 \r\nL 357.428048 229.774597 \r\nL 360.502428 229.772075 \r\nL 363.576808 229.751764 \r\nL 366.651188 229.874489 \r\nL 369.725568 229.825379 \r\n\" style=\"fill:none;stroke:#1f77b4;stroke-linecap:square;stroke-width:1.5;\"/>\r\n   </g>\r\n   <g id=\"line2d_28\">\r\n    <path clip-path=\"url(#p295685b15a)\" d=\"M 65.361932 32.671996 \r\nL 68.436312 57.189803 \r\nL 71.510692 110.725179 \r\nL 74.585072 135.91443 \r\nL 77.659452 153.649242 \r\nL 80.733833 154.592881 \r\nL 83.808213 161.600162 \r\nL 86.882593 164.246411 \r\nL 89.956973 168.16582 \r\nL 93.031353 169.744956 \r\nL 96.105733 177.832867 \r\nL 99.180114 175.786774 \r\nL 102.254494 173.717558 \r\nL 105.328874 187.93087 \r\nL 108.403254 186.057801 \r\nL 111.477634 182.12872 \r\nL 114.552014 190.735501 \r\nL 117.626395 186.679482 \r\nL 120.700775 188.99384 \r\nL 123.775155 195.280508 \r\nL 126.849535 185.88575 \r\nL 129.923915 195.659244 \r\nL 132.998295 192.268852 \r\nL 136.072676 192.995507 \r\nL 139.147056 188.432981 \r\nL 142.221436 189.457912 \r\nL 145.295816 188.783605 \r\nL 148.370196 198.960389 \r\nL 151.444576 196.128292 \r\nL 154.518957 199.62685 \r\nL 157.593337 193.799098 \r\nL 160.667717 195.927356 \r\nL 163.742097 194.972885 \r\nL 166.816477 197.931414 \r\nL 169.890857 195.67779 \r\nL 172.965238 202.861405 \r\nL 176.039618 198.597774 \r\nL 179.113998 194.948503 \r\nL 182.188378 200.035643 \r\nL 185.262758 198.174791 \r\nL 188.337138 198.804792 \r\nL 191.411519 200.5376 \r\nL 194.485899 199.424948 \r\nL 197.560279 200.969496 \r\nL 200.634659 204.527329 \r\nL 203.709039 201.757213 \r\nL 206.783419 197.011117 \r\nL 209.8578 201.795271 \r\nL 212.93218 197.377589 \r\nL 216.00656 197.719892 \r\nL 219.08094 200.97402 \r\nL 222.15532 201.443168 \r\nL 225.2297 203.457285 \r\nL 228.304081 203.198092 \r\nL 231.378461 204.242923 \r\nL 234.452841 200.135582 \r\nL 237.527221 204.288582 \r\nL 240.601601 203.169327 \r\nL 243.675981 203.276534 \r\nL 246.750362 203.629449 \r\nL 249.824742 204.49941 \r\nL 252.899122 199.617004 \r\nL 255.973502 205.551202 \r\nL 259.047882 202.941718 \r\nL 262.122262 204.449861 \r\nL 265.196643 204.058874 \r\nL 268.271023 201.86254 \r\nL 271.345403 204.467488 \r\nL 274.419783 203.95226 \r\nL 277.494163 203.47665 \r\nL 280.568543 203.255663 \r\nL 283.642924 201.988839 \r\nL 286.717304 203.983277 \r\nL 289.791684 204.543784 \r\nL 292.866064 204.375576 \r\nL 295.940444 203.296565 \r\nL 299.014824 204.05523 \r\nL 302.089205 204.24217 \r\nL 305.163585 204.1837 \r\nL 308.237965 201.913749 \r\nL 311.312345 204.483949 \r\nL 314.386725 203.73968 \r\nL 317.461105 203.62316 \r\nL 320.535486 203.31673 \r\nL 323.609866 204.388227 \r\nL 326.684246 203.487955 \r\nL 329.758626 204.037963 \r\nL 332.833006 204.27749 \r\nL 335.907386 203.89447 \r\nL 338.981767 203.703181 \r\nL 342.056147 203.834955 \r\nL 345.130527 204.000271 \r\nL 348.204907 204.311425 \r\nL 351.279287 204.42476 \r\nL 354.353667 203.336382 \r\nL 357.428048 205.214248 \r\nL 360.502428 204.623724 \r\nL 363.576808 204.12577 \r\nL 366.651188 203.908067 \r\nL 369.725568 204.302431 \r\n\" style=\"fill:none;stroke:#ff7f0e;stroke-linecap:square;stroke-width:1.5;\"/>\r\n   </g>\r\n   <g id=\"patch_3\">\r\n    <path d=\"M 50.14375 239.758125 \r\nL 50.14375 22.318125 \r\n\" style=\"fill:none;stroke:#000000;stroke-linecap:square;stroke-linejoin:miter;stroke-width:0.8;\"/>\r\n   </g>\r\n   <g id=\"patch_4\">\r\n    <path d=\"M 384.94375 239.758125 \r\nL 384.94375 22.318125 \r\n\" style=\"fill:none;stroke:#000000;stroke-linecap:square;stroke-linejoin:miter;stroke-width:0.8;\"/>\r\n   </g>\r\n   <g id=\"patch_5\">\r\n    <path d=\"M 50.14375 239.758125 \r\nL 384.94375 239.758125 \r\n\" style=\"fill:none;stroke:#000000;stroke-linecap:square;stroke-linejoin:miter;stroke-width:0.8;\"/>\r\n   </g>\r\n   <g id=\"patch_6\">\r\n    <path d=\"M 50.14375 22.318125 \r\nL 384.94375 22.318125 \r\n\" style=\"fill:none;stroke:#000000;stroke-linecap:square;stroke-linejoin:miter;stroke-width:0.8;\"/>\r\n   </g>\r\n   <g id=\"text_16\">\r\n    <!-- model loss -->\r\n    <g transform=\"translate(185.364063 16.318125)scale(0.12 -0.12)\">\r\n     <defs>\r\n      <path d=\"M 52 44.1875 \r\nQ 55.375 50.25 60.0625 53.125 \r\nQ 64.75 56 71.09375 56 \r\nQ 79.640625 56 84.28125 50.015625 \r\nQ 88.921875 44.046875 88.921875 33.015625 \r\nL 88.921875 0 \r\nL 79.890625 0 \r\nL 79.890625 32.71875 \r\nQ 79.890625 40.578125 77.09375 44.375 \r\nQ 74.3125 48.1875 68.609375 48.1875 \r\nQ 61.625 48.1875 57.5625 43.546875 \r\nQ 53.515625 38.921875 53.515625 30.90625 \r\nL 53.515625 0 \r\nL 44.484375 0 \r\nL 44.484375 32.71875 \r\nQ 44.484375 40.625 41.703125 44.40625 \r\nQ 38.921875 48.1875 33.109375 48.1875 \r\nQ 26.21875 48.1875 22.15625 43.53125 \r\nQ 18.109375 38.875 18.109375 30.90625 \r\nL 18.109375 0 \r\nL 9.078125 0 \r\nL 9.078125 54.6875 \r\nL 18.109375 54.6875 \r\nL 18.109375 46.1875 \r\nQ 21.1875 51.21875 25.484375 53.609375 \r\nQ 29.78125 56 35.6875 56 \r\nQ 41.65625 56 45.828125 52.96875 \r\nQ 50 49.953125 52 44.1875 \r\nz\r\n\" id=\"DejaVuSans-109\"/>\r\n      <path d=\"M 45.40625 46.390625 \r\nL 45.40625 75.984375 \r\nL 54.390625 75.984375 \r\nL 54.390625 0 \r\nL 45.40625 0 \r\nL 45.40625 8.203125 \r\nQ 42.578125 3.328125 38.25 0.953125 \r\nQ 33.9375 -1.421875 27.875 -1.421875 \r\nQ 17.96875 -1.421875 11.734375 6.484375 \r\nQ 5.515625 14.40625 5.515625 27.296875 \r\nQ 5.515625 40.1875 11.734375 48.09375 \r\nQ 17.96875 56 27.875 56 \r\nQ 33.9375 56 38.25 53.625 \r\nQ 42.578125 51.265625 45.40625 46.390625 \r\nz\r\nM 14.796875 27.296875 \r\nQ 14.796875 17.390625 18.875 11.75 \r\nQ 22.953125 6.109375 30.078125 6.109375 \r\nQ 37.203125 6.109375 41.296875 11.75 \r\nQ 45.40625 17.390625 45.40625 27.296875 \r\nQ 45.40625 37.203125 41.296875 42.84375 \r\nQ 37.203125 48.484375 30.078125 48.484375 \r\nQ 22.953125 48.484375 18.875 42.84375 \r\nQ 14.796875 37.203125 14.796875 27.296875 \r\nz\r\n\" id=\"DejaVuSans-100\"/>\r\n      <path id=\"DejaVuSans-32\"/>\r\n     </defs>\r\n     <use xlink:href=\"#DejaVuSans-109\"/>\r\n     <use x=\"97.412109\" xlink:href=\"#DejaVuSans-111\"/>\r\n     <use x=\"158.59375\" xlink:href=\"#DejaVuSans-100\"/>\r\n     <use x=\"222.070312\" xlink:href=\"#DejaVuSans-101\"/>\r\n     <use x=\"283.59375\" xlink:href=\"#DejaVuSans-108\"/>\r\n     <use x=\"311.376953\" xlink:href=\"#DejaVuSans-32\"/>\r\n     <use x=\"343.164062\" xlink:href=\"#DejaVuSans-108\"/>\r\n     <use x=\"370.947266\" xlink:href=\"#DejaVuSans-111\"/>\r\n     <use x=\"432.128906\" xlink:href=\"#DejaVuSans-115\"/>\r\n     <use x=\"484.228516\" xlink:href=\"#DejaVuSans-115\"/>\r\n    </g>\r\n   </g>\r\n   <g id=\"legend_1\">\r\n    <g id=\"patch_7\">\r\n     <path d=\"M 322.66875 59.674375 \r\nL 377.94375 59.674375 \r\nQ 379.94375 59.674375 379.94375 57.674375 \r\nL 379.94375 29.318125 \r\nQ 379.94375 27.318125 377.94375 27.318125 \r\nL 322.66875 27.318125 \r\nQ 320.66875 27.318125 320.66875 29.318125 \r\nL 320.66875 57.674375 \r\nQ 320.66875 59.674375 322.66875 59.674375 \r\nz\r\n\" style=\"fill:#ffffff;opacity:0.8;stroke:#cccccc;stroke-linejoin:miter;\"/>\r\n    </g>\r\n    <g id=\"line2d_29\">\r\n     <path d=\"M 324.66875 35.416562 \r\nL 344.66875 35.416562 \r\n\" style=\"fill:none;stroke:#1f77b4;stroke-linecap:square;stroke-width:1.5;\"/>\r\n    </g>\r\n    <g id=\"line2d_30\"/>\r\n    <g id=\"text_17\">\r\n     <!-- train -->\r\n     <g transform=\"translate(352.66875 38.916562)scale(0.1 -0.1)\">\r\n      <defs>\r\n       <path d=\"M 18.3125 70.21875 \r\nL 18.3125 54.6875 \r\nL 36.8125 54.6875 \r\nL 36.8125 47.703125 \r\nL 18.3125 47.703125 \r\nL 18.3125 18.015625 \r\nQ 18.3125 11.328125 20.140625 9.421875 \r\nQ 21.96875 7.515625 27.59375 7.515625 \r\nL 36.8125 7.515625 \r\nL 36.8125 0 \r\nL 27.59375 0 \r\nQ 17.1875 0 13.234375 3.875 \r\nQ 9.28125 7.765625 9.28125 18.015625 \r\nL 9.28125 47.703125 \r\nL 2.6875 47.703125 \r\nL 2.6875 54.6875 \r\nL 9.28125 54.6875 \r\nL 9.28125 70.21875 \r\nz\r\n\" id=\"DejaVuSans-116\"/>\r\n       <path d=\"M 41.109375 46.296875 \r\nQ 39.59375 47.171875 37.8125 47.578125 \r\nQ 36.03125 48 33.890625 48 \r\nQ 26.265625 48 22.1875 43.046875 \r\nQ 18.109375 38.09375 18.109375 28.8125 \r\nL 18.109375 0 \r\nL 9.078125 0 \r\nL 9.078125 54.6875 \r\nL 18.109375 54.6875 \r\nL 18.109375 46.1875 \r\nQ 20.953125 51.171875 25.484375 53.578125 \r\nQ 30.03125 56 36.53125 56 \r\nQ 37.453125 56 38.578125 55.875 \r\nQ 39.703125 55.765625 41.0625 55.515625 \r\nz\r\n\" id=\"DejaVuSans-114\"/>\r\n       <path d=\"M 34.28125 27.484375 \r\nQ 23.390625 27.484375 19.1875 25 \r\nQ 14.984375 22.515625 14.984375 16.5 \r\nQ 14.984375 11.71875 18.140625 8.90625 \r\nQ 21.296875 6.109375 26.703125 6.109375 \r\nQ 34.1875 6.109375 38.703125 11.40625 \r\nQ 43.21875 16.703125 43.21875 25.484375 \r\nL 43.21875 27.484375 \r\nz\r\nM 52.203125 31.203125 \r\nL 52.203125 0 \r\nL 43.21875 0 \r\nL 43.21875 8.296875 \r\nQ 40.140625 3.328125 35.546875 0.953125 \r\nQ 30.953125 -1.421875 24.3125 -1.421875 \r\nQ 15.921875 -1.421875 10.953125 3.296875 \r\nQ 6 8.015625 6 15.921875 \r\nQ 6 25.140625 12.171875 29.828125 \r\nQ 18.359375 34.515625 30.609375 34.515625 \r\nL 43.21875 34.515625 \r\nL 43.21875 35.40625 \r\nQ 43.21875 41.609375 39.140625 45 \r\nQ 35.0625 48.390625 27.6875 48.390625 \r\nQ 23 48.390625 18.546875 47.265625 \r\nQ 14.109375 46.140625 10.015625 43.890625 \r\nL 10.015625 52.203125 \r\nQ 14.9375 54.109375 19.578125 55.046875 \r\nQ 24.21875 56 28.609375 56 \r\nQ 40.484375 56 46.34375 49.84375 \r\nQ 52.203125 43.703125 52.203125 31.203125 \r\nz\r\n\" id=\"DejaVuSans-97\"/>\r\n       <path d=\"M 9.421875 54.6875 \r\nL 18.40625 54.6875 \r\nL 18.40625 0 \r\nL 9.421875 0 \r\nz\r\nM 9.421875 75.984375 \r\nL 18.40625 75.984375 \r\nL 18.40625 64.59375 \r\nL 9.421875 64.59375 \r\nz\r\n\" id=\"DejaVuSans-105\"/>\r\n       <path d=\"M 54.890625 33.015625 \r\nL 54.890625 0 \r\nL 45.90625 0 \r\nL 45.90625 32.71875 \r\nQ 45.90625 40.484375 42.875 44.328125 \r\nQ 39.84375 48.1875 33.796875 48.1875 \r\nQ 26.515625 48.1875 22.3125 43.546875 \r\nQ 18.109375 38.921875 18.109375 30.90625 \r\nL 18.109375 0 \r\nL 9.078125 0 \r\nL 9.078125 54.6875 \r\nL 18.109375 54.6875 \r\nL 18.109375 46.1875 \r\nQ 21.34375 51.125 25.703125 53.5625 \r\nQ 30.078125 56 35.796875 56 \r\nQ 45.21875 56 50.046875 50.171875 \r\nQ 54.890625 44.34375 54.890625 33.015625 \r\nz\r\n\" id=\"DejaVuSans-110\"/>\r\n      </defs>\r\n      <use xlink:href=\"#DejaVuSans-116\"/>\r\n      <use x=\"39.208984\" xlink:href=\"#DejaVuSans-114\"/>\r\n      <use x=\"80.322266\" xlink:href=\"#DejaVuSans-97\"/>\r\n      <use x=\"141.601562\" xlink:href=\"#DejaVuSans-105\"/>\r\n      <use x=\"169.384766\" xlink:href=\"#DejaVuSans-110\"/>\r\n     </g>\r\n    </g>\r\n    <g id=\"line2d_31\">\r\n     <path d=\"M 324.66875 50.094687 \r\nL 344.66875 50.094687 \r\n\" style=\"fill:none;stroke:#ff7f0e;stroke-linecap:square;stroke-width:1.5;\"/>\r\n    </g>\r\n    <g id=\"line2d_32\"/>\r\n    <g id=\"text_18\">\r\n     <!-- test -->\r\n     <g transform=\"translate(352.66875 53.594687)scale(0.1 -0.1)\">\r\n      <use xlink:href=\"#DejaVuSans-116\"/>\r\n      <use x=\"39.208984\" xlink:href=\"#DejaVuSans-101\"/>\r\n      <use x=\"100.732422\" xlink:href=\"#DejaVuSans-115\"/>\r\n      <use x=\"152.832031\" xlink:href=\"#DejaVuSans-116\"/>\r\n     </g>\r\n    </g>\r\n   </g>\r\n  </g>\r\n </g>\r\n <defs>\r\n  <clipPath id=\"p295685b15a\">\r\n   <rect height=\"217.44\" width=\"334.8\" x=\"50.14375\" y=\"22.318125\"/>\r\n  </clipPath>\r\n </defs>\r\n</svg>\r\n",
      "image/png": "[encoded data removed]"
     },
     "metadata": {
      "needs_background": "light"
     }
    }
   ],
   "source": [
    "# summarize history for loss \n",
    "plt.plot(history.epoch, history.history['loss'])\n",
    "plt.plot(history.epoch, history.history['val_loss'])\n",
    "plt.title('model loss')\n",
    "plt.ylabel('loss')\n",
    "plt.xlabel('epoch')\n",
    "plt.grid(True)\n",
    "plt.legend(['train', 'test'], loc='upper right') \n",
    "# plt.savefig(\"./result/model_loss_100.svg\")\n",
    "plt.show()"
   ]
  },
  {
   "cell_type": "code",
   "execution_count": null,
   "metadata": {},
   "outputs": [],
   "source": []
  },
  {
   "cell_type": "code",
   "execution_count": null,
   "metadata": {},
   "outputs": [],
   "source": []
  },
  {
   "cell_type": "code",
   "execution_count": null,
   "metadata": {},
   "outputs": [],
   "source": []
  }
 ],
 "metadata": {
  "kernelspec": {
   "name": "python3",
   "display_name": "Python 3.8.6 64-bit ('tensorflow2': conda)",
   "metadata": {
    "interpreter": {
     "hash": "9ecbc95d31df1b277e5ec566a835865c3a9a253da4266404bdbc6ee7e31406f4"
    }
   }
  },
  "language_info": {
   "codemirror_mode": {
    "name": "ipython",
    "version": 3
   },
   "file_extension": ".py",
   "mimetype": "text/x-python",
   "name": "python",
   "nbconvert_exporter": "python",
   "pygments_lexer": "ipython3",
   "version": "3.8.6-final"
  }
 },
 "nbformat": 4,
 "nbformat_minor": 4
}